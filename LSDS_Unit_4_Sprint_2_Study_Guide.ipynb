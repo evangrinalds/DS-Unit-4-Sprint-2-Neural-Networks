{
  "nbformat": 4,
  "nbformat_minor": 0,
  "metadata": {
    "colab": {
      "name": "LSDS-Unit-4-Sprint-2-Study-Guide.ipynb",
      "provenance": []
    },
    "kernelspec": {
      "name": "python3",
      "display_name": "Python 3"
    }
  },
  "cells": [
    {
      "cell_type": "markdown",
      "metadata": {
        "id": "2mLZuEFWgrY6",
        "colab_type": "text"
      },
      "source": [
        "<!-- \n",
        "Author: Brian Thomas Ross <ml@brianthomasross.com>\n",
        "License: BSD-3-Clause\n",
        "-->\n",
        "\n",
        "# Neural Network Foundations\n",
        "\n",
        "----\n",
        "\n",
        "This study guide should reinforce and provide practice for all the concepts you have seen in the past week. There are a mix of written question and coding exercises, both are equally important to prepare you for the sprint challenge, as well as being able to comfortably speak on these topics in interviews and on the job.\n",
        "\n",
        "If you get stuck or unsure of something remember the 20 minute rule. If that doesn't help then research a solution with [Google](https://www.google.com/) or [StackOverflow](https://wwww.stackoverflow.com/). Only once you have truly exhausted these methods should you turn to your Team Lead. They wont be there during the sprint challenge or during an interview. That being said, don't hesitate to ask for help if you truly are stuck.\n",
        "\n",
        "Have fun!\n",
        "\n",
        "----"
      ]
    },
    {
      "cell_type": "markdown",
      "metadata": {
        "id": "cXdNncKph7PS",
        "colab_type": "text"
      },
      "source": [
        "## Definitions\n",
        "\n",
        "Use your own words to define the following terms"
      ]
    },
    {
      "cell_type": "markdown",
      "metadata": {
        "id": "gYfMsaXMiMfm",
        "colab_type": "text"
      },
      "source": [
        "### Input Layer"
      ]
    },
    {
      "cell_type": "markdown",
      "metadata": {
        "id": "45ZGRAiwiMdO",
        "colab_type": "text"
      },
      "source": [
        ""
      ]
    },
    {
      "cell_type": "markdown",
      "metadata": {
        "id": "xnkeavm3iMY5",
        "colab_type": "text"
      },
      "source": [
        "### Hidden Layer"
      ]
    },
    {
      "cell_type": "markdown",
      "metadata": {
        "id": "3XI9_Z4liMWu",
        "colab_type": "text"
      },
      "source": [
        ""
      ]
    },
    {
      "cell_type": "markdown",
      "metadata": {
        "id": "eaQz5joTiMUb",
        "colab_type": "text"
      },
      "source": [
        "### Output Layer"
      ]
    },
    {
      "cell_type": "markdown",
      "metadata": {
        "id": "831G2buuiMSA",
        "colab_type": "text"
      },
      "source": [
        ""
      ]
    },
    {
      "cell_type": "markdown",
      "metadata": {
        "id": "O4C2zwuxiMD_",
        "colab_type": "text"
      },
      "source": [
        "### Neuron"
      ]
    },
    {
      "cell_type": "markdown",
      "metadata": {
        "id": "_2rY9EE9iMBo",
        "colab_type": "text"
      },
      "source": [
        ""
      ]
    },
    {
      "cell_type": "markdown",
      "metadata": {
        "id": "L1BpTrJWiL_N",
        "colab_type": "text"
      },
      "source": [
        "### Weight"
      ]
    },
    {
      "cell_type": "markdown",
      "metadata": {
        "id": "fRuN64XDiL87",
        "colab_type": "text"
      },
      "source": [
        ""
      ]
    },
    {
      "cell_type": "markdown",
      "metadata": {
        "id": "KIzxvqcliaBa",
        "colab_type": "text"
      },
      "source": [
        "### Bias"
      ]
    },
    {
      "cell_type": "markdown",
      "metadata": {
        "id": "k71r029FiZ_N",
        "colab_type": "text"
      },
      "source": [
        ""
      ]
    },
    {
      "cell_type": "markdown",
      "metadata": {
        "id": "FpW0FPFkiZ-D",
        "colab_type": "text"
      },
      "source": [
        "### Acitivation Function"
      ]
    },
    {
      "cell_type": "markdown",
      "metadata": {
        "id": "BlpU1Qa8iZ7r",
        "colab_type": "text"
      },
      "source": [
        ""
      ]
    },
    {
      "cell_type": "markdown",
      "metadata": {
        "id": "YQ4H7hu7iZ5N",
        "colab_type": "text"
      },
      "source": [
        "### Node Map"
      ]
    },
    {
      "cell_type": "markdown",
      "metadata": {
        "id": "E1UXX7q0iZ26",
        "colab_type": "text"
      },
      "source": [
        ""
      ]
    },
    {
      "cell_type": "markdown",
      "metadata": {
        "id": "X_oK9gvviZ1C",
        "colab_type": "text"
      },
      "source": [
        "### Perceptron"
      ]
    },
    {
      "cell_type": "markdown",
      "metadata": {
        "id": "XrpGD0GOiZyx",
        "colab_type": "text"
      },
      "source": [
        ""
      ]
    },
    {
      "cell_type": "markdown",
      "metadata": {
        "id": "OWyEK7PziZv5",
        "colab_type": "text"
      },
      "source": [
        "### Epoch"
      ]
    },
    {
      "cell_type": "markdown",
      "metadata": {
        "id": "sGelGaRLiZs8",
        "colab_type": "text"
      },
      "source": [
        ""
      ]
    },
    {
      "cell_type": "markdown",
      "metadata": {
        "id": "IZcPz7fliZp0",
        "colab_type": "text"
      },
      "source": [
        "### Feed Forward Neural Network"
      ]
    },
    {
      "cell_type": "markdown",
      "metadata": {
        "id": "lFmCxRVvglrP",
        "colab_type": "text"
      },
      "source": [
        ""
      ]
    },
    {
      "cell_type": "markdown",
      "metadata": {
        "id": "8tuJhVJ7ityO",
        "colab_type": "text"
      },
      "source": [
        "### Back Propogation"
      ]
    },
    {
      "cell_type": "markdown",
      "metadata": {
        "id": "78pvOoJPiuLp",
        "colab_type": "text"
      },
      "source": [
        ""
      ]
    },
    {
      "cell_type": "markdown",
      "metadata": {
        "id": "KLErlhhoi3kl",
        "colab_type": "text"
      },
      "source": [
        "----"
      ]
    },
    {
      "cell_type": "markdown",
      "metadata": {
        "id": "XwiPqcW_itvZ",
        "colab_type": "text"
      },
      "source": [
        "## Concepts\n",
        "\n",
        "Answer the following questions using your own words"
      ]
    },
    {
      "cell_type": "markdown",
      "metadata": {
        "id": "AhtieWU0i6yQ",
        "colab_type": "text"
      },
      "source": [
        "### Casually explain the steps involved to go from input to output in a simple neural network. How are predictions generated?"
      ]
    },
    {
      "cell_type": "markdown",
      "metadata": {
        "id": "JbIyfH1Hj-aG",
        "colab_type": "text"
      },
      "source": [
        ""
      ]
    },
    {
      "cell_type": "markdown",
      "metadata": {
        "id": "hh17Eck3j-cV",
        "colab_type": "text"
      },
      "source": [
        "### What kind of use cases exist for Neural Networks?"
      ]
    },
    {
      "cell_type": "markdown",
      "metadata": {
        "id": "ml3oHS9okKQz",
        "colab_type": "text"
      },
      "source": [
        ""
      ]
    },
    {
      "cell_type": "markdown",
      "metadata": {
        "id": "1Fe_q81EkK49",
        "colab_type": "text"
      },
      "source": [
        "### How does a neural network address the curse of dimensionality"
      ]
    },
    {
      "cell_type": "markdown",
      "metadata": {
        "id": "qK6k8RHokLUD",
        "colab_type": "text"
      },
      "source": [
        ""
      ]
    },
    {
      "cell_type": "markdown",
      "metadata": {
        "id": "BbSi489UkLj9",
        "colab_type": "text"
      },
      "source": [
        "### What are some potential pro / cons of using neural netowrks versus more traditional statistical models such as logistic regression or a decision tree."
      ]
    },
    {
      "cell_type": "markdown",
      "metadata": {
        "id": "MKi9p-AQkLha",
        "colab_type": "text"
      },
      "source": [
        ""
      ]
    },
    {
      "cell_type": "markdown",
      "metadata": {
        "id": "BJRR0afFkLRF",
        "colab_type": "text"
      },
      "source": [
        "### How would you determine the size of the input layer?"
      ]
    },
    {
      "cell_type": "markdown",
      "metadata": {
        "id": "gErA43eekK2j",
        "colab_type": "text"
      },
      "source": [
        ""
      ]
    },
    {
      "cell_type": "markdown",
      "metadata": {
        "id": "ryPkPZFhpIWL",
        "colab_type": "text"
      },
      "source": [
        "----"
      ]
    },
    {
      "cell_type": "markdown",
      "metadata": {
        "id": "rCqU2sEqpKwl",
        "colab_type": "text"
      },
      "source": [
        "## Code"
      ]
    },
    {
      "cell_type": "markdown",
      "metadata": {
        "id": "WProsWxgrOgp",
        "colab_type": "text"
      },
      "source": [
        "This is an open ended challenge using the titanic dataset."
      ]
    },
    {
      "cell_type": "code",
      "metadata": {
        "id": "hCS6M0syrPPC",
        "colab_type": "code",
        "colab": {}
      },
      "source": [
        "import numpy as np\n",
        "import pandas as pd\n",
        "\n",
        "from keras.models import Sequential\n",
        "from keras.layers import Dense\n",
        "from keras.wrappers.scikit_learn import KerasClassifier\n",
        "from keras.wrappers.scikit_learn import KerasRegressor\n",
        "from sklearn.model_selection import GridSearchCV\n",
        "from sklearn.preprocessing import StandardScaler\n",
        "from sklearn.pipeline import Pipeline\n",
        "from sklearn.model_selection import cross_val_score\n",
        "from sklearn.model_selection import KFold\n",
        "\n",
        "import time\n",
        "from datetime import timedelta"
      ],
      "execution_count": 1,
      "outputs": []
    },
    {
      "cell_type": "code",
      "metadata": {
        "id": "MYdRpDA-XvO3",
        "colab_type": "code",
        "colab": {}
      },
      "source": [
        "# Load data\n",
        "\n",
        "train_csv = '/content/train.csv'\n",
        "test_csv = '/content/test.csv'\n",
        "\n",
        "train_df = pd.read_csv(train_csv, index_col='PassengerId')\n",
        "test_df = pd.read_csv(test_csv, index_col='PassengerId')"
      ],
      "execution_count": 2,
      "outputs": []
    },
    {
      "cell_type": "code",
      "metadata": {
        "id": "OMYbm2LXYqYk",
        "colab_type": "code",
        "colab": {}
      },
      "source": [
        "# You'll probably need to do some wrangling\n",
        "\n",
        "def wrangle(df: pd.Dataframe) -> pd.DataFrame:\n",
        "    \"\"\"Your code here\"\"\"\n",
        "\n",
        "    return df "
      ],
      "execution_count": null,
      "outputs": []
    },
    {
      "cell_type": "code",
      "metadata": {
        "id": "xZ-rthmsY_lh",
        "colab_type": "code",
        "colab": {}
      },
      "source": [
        "# Split and scale the data\n",
        "\n",
        "X = train_df.drop(['Survived'], axis=1).values.astype(float)\n",
        "\n",
        "\n",
        "ss = StandardScaler()\n",
        "X =  # hint fit_transform\n",
        "Y =  # hint just the Y 'values'"
      ],
      "execution_count": null,
      "outputs": []
    },
    {
      "cell_type": "code",
      "metadata": {
        "id": "_rcRvHW3ZZdl",
        "colab_type": "code",
        "colab": {}
      },
      "source": [
        "# define a create_model function\n",
        "\n",
        "def create_model(#  hint: think about hyperparameter tuning \n",
        "                 )"
      ],
      "execution_count": null,
      "outputs": []
    },
    {
      "cell_type": "code",
      "metadata": {
        "id": "h_GHCzYkaHpr",
        "colab_type": "code",
        "colab": {}
      },
      "source": [
        "#  Tune at least 2 hyperparameters"
      ],
      "execution_count": null,
      "outputs": []
    },
    {
      "cell_type": "code",
      "metadata": {
        "id": "tx-NNh9SaP-K",
        "colab_type": "code",
        "colab": {}
      },
      "source": [
        "# Show your results - you probably didn't do well and that's okay."
      ],
      "execution_count": null,
      "outputs": []
    }
  ]
}