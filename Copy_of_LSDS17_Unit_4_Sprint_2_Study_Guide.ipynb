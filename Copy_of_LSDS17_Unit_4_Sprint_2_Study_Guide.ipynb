{
  "nbformat": 4,
  "nbformat_minor": 0,
  "metadata": {
    "colab": {
      "name": "Copy of LSDS17-Unit-4-Sprint-2-Study-Guide.ipynb",
      "provenance": [],
      "include_colab_link": true
    },
    "kernelspec": {
      "name": "python3",
      "display_name": "Python 3"
    }
  },
  "cells": [
    {
      "cell_type": "markdown",
      "metadata": {
        "id": "view-in-github",
        "colab_type": "text"
      },
      "source": [
        "<a href=\"https://colab.research.google.com/github/evangrinalds/DS-Unit-4-Sprint-2-Neural-Networks/blob/main/Copy_of_LSDS17_Unit_4_Sprint_2_Study_Guide.ipynb\" target=\"_parent\"><img src=\"https://colab.research.google.com/assets/colab-badge.svg\" alt=\"Open In Colab\"/></a>"
      ]
    },
    {
      "cell_type": "markdown",
      "metadata": {
        "id": "2mLZuEFWgrY6",
        "colab_type": "text"
      },
      "source": [
        "<!-- \n",
        "Author: Brian Thomas Ross <ml@brianthomasross.com>\n",
        "License: BSD-3-Clause\n",
        "-->\n",
        "\n",
        "# Neural Network Foundations\n",
        "\n",
        "----\n",
        "\n",
        "This study guide should reinforce and provide practice for all the concepts you have seen in the past week. There are a mix of written question and coding exercises, both are equally important to prepare you for the sprint challenge, as well as being able to comfortably speak on these topics in interviews and on the job.\n",
        "\n",
        "If you get stuck or unsure of something remember the 20 minute rule. If that doesn't help then research a solution with [Google](https://www.google.com/) or [StackOverflow](https://wwww.stackoverflow.com/). Only once you have truly exhausted these methods should you turn to your Team Lead. They wont be there during the sprint challenge or during an interview. That being said, don't hesitate to ask for help if you truly are stuck.\n",
        "\n",
        "Have fun!\n",
        "\n",
        "----"
      ]
    },
    {
      "cell_type": "markdown",
      "metadata": {
        "id": "cXdNncKph7PS",
        "colab_type": "text"
      },
      "source": [
        "## Definitions\n",
        "\n",
        "Use your own words to define the following terms"
      ]
    },
    {
      "cell_type": "markdown",
      "metadata": {
        "id": "gYfMsaXMiMfm",
        "colab_type": "text"
      },
      "source": [
        "### Input Layer"
      ]
    },
    {
      "cell_type": "markdown",
      "metadata": {
        "id": "45ZGRAiwiMdO",
        "colab_type": "text"
      },
      "source": [
        "Composed of neurons at the very beginning of the workflow for the artificial neural network. "
      ]
    },
    {
      "cell_type": "markdown",
      "metadata": {
        "id": "xnkeavm3iMY5",
        "colab_type": "text"
      },
      "source": [
        "### Hidden Layer"
      ]
    },
    {
      "cell_type": "markdown",
      "metadata": {
        "id": "3XI9_Z4liMWu",
        "colab_type": "text"
      },
      "source": [
        "Placed in between the input and output layers. "
      ]
    },
    {
      "cell_type": "markdown",
      "metadata": {
        "id": "eaQz5joTiMUb",
        "colab_type": "text"
      },
      "source": [
        "### Output Layer"
      ]
    },
    {
      "cell_type": "markdown",
      "metadata": {
        "id": "831G2buuiMSA",
        "colab_type": "text"
      },
      "source": [
        "Takes in the inputs which are passed in from the layers before it to produce the final output results."
      ]
    },
    {
      "cell_type": "markdown",
      "metadata": {
        "id": "O4C2zwuxiMD_",
        "colab_type": "text"
      },
      "source": [
        "### Neuron"
      ]
    },
    {
      "cell_type": "markdown",
      "metadata": {
        "id": "_2rY9EE9iMBo",
        "colab_type": "text"
      },
      "source": [
        "The neuron receives one or more inputs and sums them to produce an output."
      ]
    },
    {
      "cell_type": "markdown",
      "metadata": {
        "id": "L1BpTrJWiL_N",
        "colab_type": "text"
      },
      "source": [
        "### Weight"
      ]
    },
    {
      "cell_type": "markdown",
      "metadata": {
        "id": "fRuN64XDiL87",
        "colab_type": "text"
      },
      "source": [
        "Usually each input is separately weighted."
      ]
    },
    {
      "cell_type": "markdown",
      "metadata": {
        "id": "KIzxvqcliaBa",
        "colab_type": "text"
      },
      "source": [
        "### Bias"
      ]
    },
    {
      "cell_type": "markdown",
      "metadata": {
        "id": "k71r029FiZ_N",
        "colab_type": "text"
      },
      "source": [
        "In absence of bias, the neuron may not be activated by considering only the weighted sum from input layer."
      ]
    },
    {
      "cell_type": "markdown",
      "metadata": {
        "id": "FpW0FPFkiZ-D",
        "colab_type": "text"
      },
      "source": [
        "### Acitivation Function"
      ]
    },
    {
      "cell_type": "markdown",
      "metadata": {
        "id": "BlpU1Qa8iZ7r",
        "colab_type": "text"
      },
      "source": [
        "Defines the output of that node given an input. \n",
        "(activation='sigmoid')"
      ]
    },
    {
      "cell_type": "markdown",
      "metadata": {
        "id": "YQ4H7hu7iZ5N",
        "colab_type": "text"
      },
      "source": [
        "### Node Map"
      ]
    },
    {
      "cell_type": "markdown",
      "metadata": {
        "id": "E1UXX7q0iZ26",
        "colab_type": "text"
      },
      "source": [
        "Trained to produce a low-dimensional representation of the input space called a map. \n"
      ]
    },
    {
      "cell_type": "markdown",
      "metadata": {
        "id": "X_oK9gvviZ1C",
        "colab_type": "text"
      },
      "source": [
        "### Perceptron"
      ]
    },
    {
      "cell_type": "markdown",
      "metadata": {
        "id": "XrpGD0GOiZyx",
        "colab_type": "text"
      },
      "source": [
        "Perceptron is a single layer neural network and a multi-layer perceptron is called Neural Networks.\n",
        "\n"
      ]
    },
    {
      "cell_type": "markdown",
      "metadata": {
        "id": "OWyEK7PziZv5",
        "colab_type": "text"
      },
      "source": [
        "### Epoch"
      ]
    },
    {
      "cell_type": "markdown",
      "metadata": {
        "id": "sGelGaRLiZs8",
        "colab_type": "text"
      },
      "source": [
        "An epoch describes the number of times the algorithm sees the entire data set. Each time the algorithm has seen all samples in the dataset, an epoch has completed. "
      ]
    },
    {
      "cell_type": "markdown",
      "metadata": {
        "id": "IZcPz7fliZp0",
        "colab_type": "text"
      },
      "source": [
        "### Feed Forward Neural Network"
      ]
    },
    {
      "cell_type": "markdown",
      "metadata": {
        "id": "lFmCxRVvglrP",
        "colab_type": "text"
      },
      "source": [
        "The first and simplest type of artificial neural network devised. The connections between the nodes do not form a cycle. "
      ]
    },
    {
      "cell_type": "markdown",
      "metadata": {
        "id": "8tuJhVJ7ityO",
        "colab_type": "text"
      },
      "source": [
        "### Back Propogation"
      ]
    },
    {
      "cell_type": "markdown",
      "metadata": {
        "id": "78pvOoJPiuLp",
        "colab_type": "text"
      },
      "source": [
        "The process of updating the weights and bias of a Neural Network in order to get a better accuracy rating."
      ]
    },
    {
      "cell_type": "markdown",
      "metadata": {
        "id": "KLErlhhoi3kl",
        "colab_type": "text"
      },
      "source": [
        "----"
      ]
    },
    {
      "cell_type": "markdown",
      "metadata": {
        "id": "XwiPqcW_itvZ",
        "colab_type": "text"
      },
      "source": [
        "## Concepts\n",
        "\n",
        "Answer the following questions using your own words"
      ]
    },
    {
      "cell_type": "markdown",
      "metadata": {
        "id": "AhtieWU0i6yQ",
        "colab_type": "text"
      },
      "source": [
        "### Casually explain the steps involved to go from input to output in a simple neural network. How are predictions generated?"
      ]
    },
    {
      "cell_type": "markdown",
      "metadata": {
        "id": "JbIyfH1Hj-aG",
        "colab_type": "text"
      },
      "source": [
        ""
      ]
    },
    {
      "cell_type": "markdown",
      "metadata": {
        "id": "hh17Eck3j-cV",
        "colab_type": "text"
      },
      "source": [
        "### What kind of use cases exist for Neural Networks?"
      ]
    },
    {
      "cell_type": "markdown",
      "metadata": {
        "id": "ml3oHS9okKQz",
        "colab_type": "text"
      },
      "source": [
        "Artifical neural networks are used to power the machine learning for self-driving vehicles. Computer vision helps understand all the details about the surrounding environment and make smart, human-like decisions."
      ]
    },
    {
      "cell_type": "markdown",
      "metadata": {
        "id": "1Fe_q81EkK49",
        "colab_type": "text"
      },
      "source": [
        "### How does a neural network address the curse of dimensionality"
      ]
    },
    {
      "cell_type": "markdown",
      "metadata": {
        "id": "qK6k8RHokLUD",
        "colab_type": "text"
      },
      "source": [
        ""
      ]
    },
    {
      "cell_type": "markdown",
      "metadata": {
        "id": "BbSi489UkLj9",
        "colab_type": "text"
      },
      "source": [
        "### What are some potential pro / cons of using neural netowrks versus more traditional statistical models such as logistic regression or a decision tree."
      ]
    },
    {
      "cell_type": "markdown",
      "metadata": {
        "id": "MKi9p-AQkLha",
        "colab_type": "text"
      },
      "source": [
        ""
      ]
    },
    {
      "cell_type": "markdown",
      "metadata": {
        "id": "BJRR0afFkLRF",
        "colab_type": "text"
      },
      "source": [
        "### How would you determine the size of the input layer?"
      ]
    },
    {
      "cell_type": "markdown",
      "metadata": {
        "id": "gErA43eekK2j",
        "colab_type": "text"
      },
      "source": [
        ""
      ]
    },
    {
      "cell_type": "markdown",
      "metadata": {
        "id": "ryPkPZFhpIWL",
        "colab_type": "text"
      },
      "source": [
        "----"
      ]
    },
    {
      "cell_type": "markdown",
      "metadata": {
        "id": "rCqU2sEqpKwl",
        "colab_type": "text"
      },
      "source": [
        "## Code"
      ]
    },
    {
      "cell_type": "markdown",
      "metadata": {
        "id": "WProsWxgrOgp",
        "colab_type": "text"
      },
      "source": [
        "This is an open ended challenge using the titanic dataset."
      ]
    },
    {
      "cell_type": "code",
      "metadata": {
        "id": "hCS6M0syrPPC",
        "colab_type": "code",
        "colab": {}
      },
      "source": [
        "import numpy as np\n",
        "import pandas as pd\n",
        "\n",
        "from keras.models import Sequential\n",
        "from keras.layers import Dense\n",
        "from keras.wrappers.scikit_learn import KerasClassifier\n",
        "from keras.wrappers.scikit_learn import KerasRegressor\n",
        "from sklearn.model_selection import GridSearchCV\n",
        "from sklearn.preprocessing import StandardScaler\n",
        "from sklearn.pipeline import Pipeline\n",
        "from sklearn.model_selection import cross_val_score\n",
        "from sklearn.model_selection import KFold\n",
        "\n",
        "import time\n",
        "from datetime import timedelta"
      ],
      "execution_count": 1,
      "outputs": []
    },
    {
      "cell_type": "code",
      "metadata": {
        "id": "MYdRpDA-XvO3",
        "colab_type": "code",
        "colab": {
          "base_uri": "https://localhost:8080/",
          "height": 426
        },
        "outputId": "87b24b99-4305-48bb-f0b8-09794b442a09"
      },
      "source": [
        "# Load data\n",
        "\n",
        "train_csv = '/train.csv'\n",
        "test_csv = 'content/test.csv'\n",
        "\n",
        "train_df = pd.read_csv(train_csv, index_col='PassengerId')\n",
        "test_df = pd.read_csv(test_csv, index_col='PassengerId')"
      ],
      "execution_count": 4,
      "outputs": [
        {
          "output_type": "error",
          "ename": "FileNotFoundError",
          "evalue": "ignored",
          "traceback": [
            "\u001b[0;31m---------------------------------------------------------------------------\u001b[0m",
            "\u001b[0;31mFileNotFoundError\u001b[0m                         Traceback (most recent call last)",
            "\u001b[0;32m<ipython-input-4-b0f5069ff3a0>\u001b[0m in \u001b[0;36m<module>\u001b[0;34m()\u001b[0m\n\u001b[1;32m      4\u001b[0m \u001b[0mtest_csv\u001b[0m \u001b[0;34m=\u001b[0m \u001b[0;34m'content/test.csv'\u001b[0m\u001b[0;34m\u001b[0m\u001b[0;34m\u001b[0m\u001b[0m\n\u001b[1;32m      5\u001b[0m \u001b[0;34m\u001b[0m\u001b[0m\n\u001b[0;32m----> 6\u001b[0;31m \u001b[0mtrain_df\u001b[0m \u001b[0;34m=\u001b[0m \u001b[0mpd\u001b[0m\u001b[0;34m.\u001b[0m\u001b[0mread_csv\u001b[0m\u001b[0;34m(\u001b[0m\u001b[0mtrain_csv\u001b[0m\u001b[0;34m,\u001b[0m \u001b[0mindex_col\u001b[0m\u001b[0;34m=\u001b[0m\u001b[0;34m'PassengerId'\u001b[0m\u001b[0;34m)\u001b[0m\u001b[0;34m\u001b[0m\u001b[0;34m\u001b[0m\u001b[0m\n\u001b[0m\u001b[1;32m      7\u001b[0m \u001b[0mtest_df\u001b[0m \u001b[0;34m=\u001b[0m \u001b[0mpd\u001b[0m\u001b[0;34m.\u001b[0m\u001b[0mread_csv\u001b[0m\u001b[0;34m(\u001b[0m\u001b[0mtest_csv\u001b[0m\u001b[0;34m,\u001b[0m \u001b[0mindex_col\u001b[0m\u001b[0;34m=\u001b[0m\u001b[0;34m'PassengerId'\u001b[0m\u001b[0;34m)\u001b[0m\u001b[0;34m\u001b[0m\u001b[0;34m\u001b[0m\u001b[0m\n",
            "\u001b[0;32m/usr/local/lib/python3.6/dist-packages/pandas/io/parsers.py\u001b[0m in \u001b[0;36mparser_f\u001b[0;34m(filepath_or_buffer, sep, delimiter, header, names, index_col, usecols, squeeze, prefix, mangle_dupe_cols, dtype, engine, converters, true_values, false_values, skipinitialspace, skiprows, skipfooter, nrows, na_values, keep_default_na, na_filter, verbose, skip_blank_lines, parse_dates, infer_datetime_format, keep_date_col, date_parser, dayfirst, cache_dates, iterator, chunksize, compression, thousands, decimal, lineterminator, quotechar, quoting, doublequote, escapechar, comment, encoding, dialect, error_bad_lines, warn_bad_lines, delim_whitespace, low_memory, memory_map, float_precision)\u001b[0m\n\u001b[1;32m    674\u001b[0m         )\n\u001b[1;32m    675\u001b[0m \u001b[0;34m\u001b[0m\u001b[0m\n\u001b[0;32m--> 676\u001b[0;31m         \u001b[0;32mreturn\u001b[0m \u001b[0m_read\u001b[0m\u001b[0;34m(\u001b[0m\u001b[0mfilepath_or_buffer\u001b[0m\u001b[0;34m,\u001b[0m \u001b[0mkwds\u001b[0m\u001b[0;34m)\u001b[0m\u001b[0;34m\u001b[0m\u001b[0;34m\u001b[0m\u001b[0m\n\u001b[0m\u001b[1;32m    677\u001b[0m \u001b[0;34m\u001b[0m\u001b[0m\n\u001b[1;32m    678\u001b[0m     \u001b[0mparser_f\u001b[0m\u001b[0;34m.\u001b[0m\u001b[0m__name__\u001b[0m \u001b[0;34m=\u001b[0m \u001b[0mname\u001b[0m\u001b[0;34m\u001b[0m\u001b[0;34m\u001b[0m\u001b[0m\n",
            "\u001b[0;32m/usr/local/lib/python3.6/dist-packages/pandas/io/parsers.py\u001b[0m in \u001b[0;36m_read\u001b[0;34m(filepath_or_buffer, kwds)\u001b[0m\n\u001b[1;32m    446\u001b[0m \u001b[0;34m\u001b[0m\u001b[0m\n\u001b[1;32m    447\u001b[0m     \u001b[0;31m# Create the parser.\u001b[0m\u001b[0;34m\u001b[0m\u001b[0;34m\u001b[0m\u001b[0;34m\u001b[0m\u001b[0m\n\u001b[0;32m--> 448\u001b[0;31m     \u001b[0mparser\u001b[0m \u001b[0;34m=\u001b[0m \u001b[0mTextFileReader\u001b[0m\u001b[0;34m(\u001b[0m\u001b[0mfp_or_buf\u001b[0m\u001b[0;34m,\u001b[0m \u001b[0;34m**\u001b[0m\u001b[0mkwds\u001b[0m\u001b[0;34m)\u001b[0m\u001b[0;34m\u001b[0m\u001b[0;34m\u001b[0m\u001b[0m\n\u001b[0m\u001b[1;32m    449\u001b[0m \u001b[0;34m\u001b[0m\u001b[0m\n\u001b[1;32m    450\u001b[0m     \u001b[0;32mif\u001b[0m \u001b[0mchunksize\u001b[0m \u001b[0;32mor\u001b[0m \u001b[0miterator\u001b[0m\u001b[0;34m:\u001b[0m\u001b[0;34m\u001b[0m\u001b[0;34m\u001b[0m\u001b[0m\n",
            "\u001b[0;32m/usr/local/lib/python3.6/dist-packages/pandas/io/parsers.py\u001b[0m in \u001b[0;36m__init__\u001b[0;34m(self, f, engine, **kwds)\u001b[0m\n\u001b[1;32m    878\u001b[0m             \u001b[0mself\u001b[0m\u001b[0;34m.\u001b[0m\u001b[0moptions\u001b[0m\u001b[0;34m[\u001b[0m\u001b[0;34m\"has_index_names\"\u001b[0m\u001b[0;34m]\u001b[0m \u001b[0;34m=\u001b[0m \u001b[0mkwds\u001b[0m\u001b[0;34m[\u001b[0m\u001b[0;34m\"has_index_names\"\u001b[0m\u001b[0;34m]\u001b[0m\u001b[0;34m\u001b[0m\u001b[0;34m\u001b[0m\u001b[0m\n\u001b[1;32m    879\u001b[0m \u001b[0;34m\u001b[0m\u001b[0m\n\u001b[0;32m--> 880\u001b[0;31m         \u001b[0mself\u001b[0m\u001b[0;34m.\u001b[0m\u001b[0m_make_engine\u001b[0m\u001b[0;34m(\u001b[0m\u001b[0mself\u001b[0m\u001b[0;34m.\u001b[0m\u001b[0mengine\u001b[0m\u001b[0;34m)\u001b[0m\u001b[0;34m\u001b[0m\u001b[0;34m\u001b[0m\u001b[0m\n\u001b[0m\u001b[1;32m    881\u001b[0m \u001b[0;34m\u001b[0m\u001b[0m\n\u001b[1;32m    882\u001b[0m     \u001b[0;32mdef\u001b[0m \u001b[0mclose\u001b[0m\u001b[0;34m(\u001b[0m\u001b[0mself\u001b[0m\u001b[0;34m)\u001b[0m\u001b[0;34m:\u001b[0m\u001b[0;34m\u001b[0m\u001b[0;34m\u001b[0m\u001b[0m\n",
            "\u001b[0;32m/usr/local/lib/python3.6/dist-packages/pandas/io/parsers.py\u001b[0m in \u001b[0;36m_make_engine\u001b[0;34m(self, engine)\u001b[0m\n\u001b[1;32m   1112\u001b[0m     \u001b[0;32mdef\u001b[0m \u001b[0m_make_engine\u001b[0m\u001b[0;34m(\u001b[0m\u001b[0mself\u001b[0m\u001b[0;34m,\u001b[0m \u001b[0mengine\u001b[0m\u001b[0;34m=\u001b[0m\u001b[0;34m\"c\"\u001b[0m\u001b[0;34m)\u001b[0m\u001b[0;34m:\u001b[0m\u001b[0;34m\u001b[0m\u001b[0;34m\u001b[0m\u001b[0m\n\u001b[1;32m   1113\u001b[0m         \u001b[0;32mif\u001b[0m \u001b[0mengine\u001b[0m \u001b[0;34m==\u001b[0m \u001b[0;34m\"c\"\u001b[0m\u001b[0;34m:\u001b[0m\u001b[0;34m\u001b[0m\u001b[0;34m\u001b[0m\u001b[0m\n\u001b[0;32m-> 1114\u001b[0;31m             \u001b[0mself\u001b[0m\u001b[0;34m.\u001b[0m\u001b[0m_engine\u001b[0m \u001b[0;34m=\u001b[0m \u001b[0mCParserWrapper\u001b[0m\u001b[0;34m(\u001b[0m\u001b[0mself\u001b[0m\u001b[0;34m.\u001b[0m\u001b[0mf\u001b[0m\u001b[0;34m,\u001b[0m \u001b[0;34m**\u001b[0m\u001b[0mself\u001b[0m\u001b[0;34m.\u001b[0m\u001b[0moptions\u001b[0m\u001b[0;34m)\u001b[0m\u001b[0;34m\u001b[0m\u001b[0;34m\u001b[0m\u001b[0m\n\u001b[0m\u001b[1;32m   1115\u001b[0m         \u001b[0;32melse\u001b[0m\u001b[0;34m:\u001b[0m\u001b[0;34m\u001b[0m\u001b[0;34m\u001b[0m\u001b[0m\n\u001b[1;32m   1116\u001b[0m             \u001b[0;32mif\u001b[0m \u001b[0mengine\u001b[0m \u001b[0;34m==\u001b[0m \u001b[0;34m\"python\"\u001b[0m\u001b[0;34m:\u001b[0m\u001b[0;34m\u001b[0m\u001b[0;34m\u001b[0m\u001b[0m\n",
            "\u001b[0;32m/usr/local/lib/python3.6/dist-packages/pandas/io/parsers.py\u001b[0m in \u001b[0;36m__init__\u001b[0;34m(self, src, **kwds)\u001b[0m\n\u001b[1;32m   1889\u001b[0m         \u001b[0mkwds\u001b[0m\u001b[0;34m[\u001b[0m\u001b[0;34m\"usecols\"\u001b[0m\u001b[0;34m]\u001b[0m \u001b[0;34m=\u001b[0m \u001b[0mself\u001b[0m\u001b[0;34m.\u001b[0m\u001b[0musecols\u001b[0m\u001b[0;34m\u001b[0m\u001b[0;34m\u001b[0m\u001b[0m\n\u001b[1;32m   1890\u001b[0m \u001b[0;34m\u001b[0m\u001b[0m\n\u001b[0;32m-> 1891\u001b[0;31m         \u001b[0mself\u001b[0m\u001b[0;34m.\u001b[0m\u001b[0m_reader\u001b[0m \u001b[0;34m=\u001b[0m \u001b[0mparsers\u001b[0m\u001b[0;34m.\u001b[0m\u001b[0mTextReader\u001b[0m\u001b[0;34m(\u001b[0m\u001b[0msrc\u001b[0m\u001b[0;34m,\u001b[0m \u001b[0;34m**\u001b[0m\u001b[0mkwds\u001b[0m\u001b[0;34m)\u001b[0m\u001b[0;34m\u001b[0m\u001b[0;34m\u001b[0m\u001b[0m\n\u001b[0m\u001b[1;32m   1892\u001b[0m         \u001b[0mself\u001b[0m\u001b[0;34m.\u001b[0m\u001b[0munnamed_cols\u001b[0m \u001b[0;34m=\u001b[0m \u001b[0mself\u001b[0m\u001b[0;34m.\u001b[0m\u001b[0m_reader\u001b[0m\u001b[0;34m.\u001b[0m\u001b[0munnamed_cols\u001b[0m\u001b[0;34m\u001b[0m\u001b[0;34m\u001b[0m\u001b[0m\n\u001b[1;32m   1893\u001b[0m \u001b[0;34m\u001b[0m\u001b[0m\n",
            "\u001b[0;32mpandas/_libs/parsers.pyx\u001b[0m in \u001b[0;36mpandas._libs.parsers.TextReader.__cinit__\u001b[0;34m()\u001b[0m\n",
            "\u001b[0;32mpandas/_libs/parsers.pyx\u001b[0m in \u001b[0;36mpandas._libs.parsers.TextReader._setup_parser_source\u001b[0;34m()\u001b[0m\n",
            "\u001b[0;31mFileNotFoundError\u001b[0m: [Errno 2] File content/train.csv does not exist: 'content/train.csv'"
          ]
        }
      ]
    },
    {
      "cell_type": "code",
      "metadata": {
        "id": "OMYbm2LXYqYk",
        "colab_type": "code",
        "colab": {}
      },
      "source": [
        "# You'll probably need to do some wrangling\n",
        "\n",
        "def wrangle(df: pd.Dataframe) -> pd.DataFrame:\n",
        "    \"\"\"Your code here\"\"\"\n",
        "\n",
        "    return df "
      ],
      "execution_count": null,
      "outputs": []
    },
    {
      "cell_type": "code",
      "metadata": {
        "id": "xZ-rthmsY_lh",
        "colab_type": "code",
        "colab": {}
      },
      "source": [
        "# Split and scale the data\n",
        "\n",
        "X = train_df.drop(['Survived'], axis=1).values.astype(float)\n",
        "\n",
        "\n",
        "ss = StandardScaler()\n",
        "X =  # hint fit_transform\n",
        "Y =  # hint just the Y 'values'"
      ],
      "execution_count": null,
      "outputs": []
    },
    {
      "cell_type": "code",
      "metadata": {
        "id": "_rcRvHW3ZZdl",
        "colab_type": "code",
        "colab": {}
      },
      "source": [
        "# define a create_model function\n",
        "\n",
        "def create_model(#  hint: think about hyperparameter tuning \n",
        "                 )"
      ],
      "execution_count": null,
      "outputs": []
    },
    {
      "cell_type": "code",
      "metadata": {
        "id": "h_GHCzYkaHpr",
        "colab_type": "code",
        "colab": {}
      },
      "source": [
        "#  Tune at least 2 hyperparameters"
      ],
      "execution_count": null,
      "outputs": []
    },
    {
      "cell_type": "code",
      "metadata": {
        "id": "tx-NNh9SaP-K",
        "colab_type": "code",
        "colab": {}
      },
      "source": [
        "# Show your results - you probably didn't do well and that's okay."
      ],
      "execution_count": null,
      "outputs": []
    }
  ]
}