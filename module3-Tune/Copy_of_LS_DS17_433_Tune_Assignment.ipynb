{
  "nbformat": 4,
  "nbformat_minor": 0,
  "metadata": {
    "colab": {
      "name": "Copy of LS_DS17_433_Tune_Assignment.ipynb",
      "provenance": [],
      "collapsed_sections": [],
      "include_colab_link": true
    },
    "kernelspec": {
      "display_name": "Python 3",
      "language": "python",
      "name": "python3"
    },
    "language_info": {
      "codemirror_mode": {
        "name": "ipython",
        "version": 3
      },
      "file_extension": ".py",
      "mimetype": "text/x-python",
      "name": "python",
      "nbconvert_exporter": "python",
      "pygments_lexer": "ipython3",
      "version": "3.7.3"
    },
    "nteract": {
      "version": "0.22.4"
    }
  },
  "cells": [
    {
      "cell_type": "markdown",
      "metadata": {
        "id": "view-in-github",
        "colab_type": "text"
      },
      "source": [
        "<a href=\"https://colab.research.google.com/github/evangrinalds/DS-Unit-4-Sprint-2-Neural-Networks/blob/main/module3-Tune/Copy_of_LS_DS17_433_Tune_Assignment.ipynb\" target=\"_parent\"><img src=\"https://colab.research.google.com/assets/colab-badge.svg\" alt=\"Open In Colab\"/></a>"
      ]
    },
    {
      "cell_type": "markdown",
      "metadata": {
        "colab_type": "text",
        "id": "NGGrt9EYlCqY"
      },
      "source": [
        "<img align=\"left\" src=\"https://lever-client-logos.s3.amazonaws.com/864372b1-534c-480e-acd5-9711f850815c-1524247202159.png\" width=200>\n",
        "<br></br>\n",
        "<br></br>\n",
        "\n",
        "# Train Practice\n",
        "\n",
        "## *Data Science Unit 4 Sprint 2 Assignment 3*\n",
        "\n",
        "Continue to use TensorFlow Keras & a sample of the [Quickdraw dataset](https://github.com/googlecreativelab/quickdraw-dataset) to build a sketch classification model. The dataset has been sampled to only 10 classes and 10000 observations per class. Using your baseline model from yesterday, hyperparameter tune it and report on your highest validation accuracy. Your singular goal today is to achieve the highest accuracy possible.\n",
        "\n",
        "*Don't forgot to switch to GPU on Colab!*"
      ]
    },
    {
      "cell_type": "markdown",
      "metadata": {
        "id": "ptJ2b3wk62Ud",
        "colab_type": "text"
      },
      "source": [
        "### Hyperparameters to Tune\n",
        "\n",
        "At a minimum, tune each of these hyperparameters using any strategy we discussed during lecture today: \n",
        "- Optimizer\n",
        "- Learning Rate\n",
        "- Activation Function\n",
        "  - At least 1 subparameter within the Relu activation function\n",
        "- Number of Neurons in Hidden Layers\n",
        "- Number of Hidden Layers\n",
        "- Weight Initialization"
      ]
    },
    {
      "cell_type": "markdown",
      "metadata": {
        "id": "7NNgB_56UsIJ",
        "colab_type": "text"
      },
      "source": [
        "#### Write a function to load your data"
      ]
    },
    {
      "cell_type": "code",
      "metadata": {
        "id": "USXjs7Hk71Hy",
        "colab_type": "code",
        "colab": {}
      },
      "source": [
        "from sklearn.model_selection import train_test_split \n",
        "import numpy as np\n",
        "def load_quickdraw10(path):\n",
        "\n",
        "  data = np.load(path)\n",
        "  X = data['arr_0']\n",
        "  y = data['arr_1']\n",
        "\n",
        "  X_train, X_test, y_train, y_test = train_test_split(X, y, test_size=.3,\n",
        "                                                      random_state=42)\n",
        "\n",
        "  return X_train, X_test, y_train, y_test"
      ],
      "execution_count": 1,
      "outputs": []
    },
    {
      "cell_type": "code",
      "metadata": {
        "id": "4u0y3q0DUyJc",
        "colab_type": "code",
        "colab": {}
      },
      "source": [
        "X_train, X_test, y_train, y_test = load_quickdraw10('quickdraw10.npz')"
      ],
      "execution_count": 4,
      "outputs": []
    },
    {
      "cell_type": "code",
      "metadata": {
        "id": "E6LacyQmVBWo",
        "colab_type": "code",
        "colab": {
          "base_uri": "https://localhost:8080/",
          "height": 34
        },
        "outputId": "47f1c89f-9e5a-4aed-e094-2fce96215d1b"
      },
      "source": [
        "X_train.shape\n",
        "y_train.shape"
      ],
      "execution_count": 5,
      "outputs": [
        {
          "output_type": "execute_result",
          "data": {
            "text/plain": [
              "(70000,)"
            ]
          },
          "metadata": {
            "tags": []
          },
          "execution_count": 5
        }
      ]
    },
    {
      "cell_type": "markdown",
      "metadata": {
        "id": "Jb-BqEyWVD94",
        "colab_type": "text"
      },
      "source": [
        "#### Write a Model Function"
      ]
    },
    {
      "cell_type": "code",
      "metadata": {
        "id": "cvAvfZ8tVKQs",
        "colab_type": "code",
        "colab": {}
      },
      "source": [
        "# Imports\n",
        "from tensorflow.keras import Sequential\n",
        "from tensorflow.keras.layers import Dense\n",
        "from tensorflow.keras.optimizers import SGD, Adam\n",
        "\n",
        "def create_model(lr=.01, optimizer=SGD):\n",
        "  \n",
        "  opt = optimizer(learning_rate=lr)\n",
        "\n",
        "  model = Sequential(\n",
        "      [\n",
        "      Dense(32, activation='sigmoid', input_dim=784),\n",
        "      Dense(32, activation='sigmoid'), \n",
        "      Dense(10, activation='softmax')\n",
        "      ]\n",
        "  )\n",
        "\n",
        "  model.compile(optimizer=opt, loss='sparse_categorical_crossentropy', metrics=['accuracy'])\n",
        "  \n",
        "  return model"
      ],
      "execution_count": 6,
      "outputs": []
    },
    {
      "cell_type": "markdown",
      "metadata": {
        "id": "5JRwvUpcVhDt",
        "colab_type": "text"
      },
      "source": [
        "#### Batch Size"
      ]
    },
    {
      "cell_type": "code",
      "metadata": {
        "id": "62Bf5cDuVloj",
        "colab_type": "code",
        "colab": {
          "base_uri": "https://localhost:8080/",
          "height": 527
        },
        "outputId": "5d54a31d-ae8c-4f35-ec19-6c3747e0902d"
      },
      "source": [
        "batch_40 = create_model().fit(X_train, y_train,\n",
        "                              epochs=15,\n",
        "                              batch_size=40,\n",
        "                              validation_data=(X_test, y_test))"
      ],
      "execution_count": 7,
      "outputs": [
        {
          "output_type": "stream",
          "text": [
            "Epoch 1/15\n",
            "1750/1750 [==============================] - 3s 2ms/step - loss: 1.9825 - accuracy: 0.3928 - val_loss: 1.6937 - val_accuracy: 0.5054\n",
            "Epoch 2/15\n",
            "1750/1750 [==============================] - 3s 2ms/step - loss: 1.5041 - accuracy: 0.5619 - val_loss: 1.3622 - val_accuracy: 0.6027\n",
            "Epoch 3/15\n",
            "1750/1750 [==============================] - 3s 2ms/step - loss: 1.2680 - accuracy: 0.6324 - val_loss: 1.1931 - val_accuracy: 0.6575\n",
            "Epoch 4/15\n",
            "1750/1750 [==============================] - 3s 2ms/step - loss: 1.1436 - accuracy: 0.6599 - val_loss: 1.0942 - val_accuracy: 0.6696\n",
            "Epoch 5/15\n",
            "1750/1750 [==============================] - 3s 2ms/step - loss: 1.0645 - accuracy: 0.6788 - val_loss: 1.0494 - val_accuracy: 0.6745\n",
            "Epoch 6/15\n",
            "1750/1750 [==============================] - 3s 2ms/step - loss: 1.0217 - accuracy: 0.6836 - val_loss: 1.0029 - val_accuracy: 0.6950\n",
            "Epoch 7/15\n",
            "1750/1750 [==============================] - 3s 2ms/step - loss: 0.9820 - accuracy: 0.6986 - val_loss: 0.9736 - val_accuracy: 0.7028\n",
            "Epoch 8/15\n",
            "1750/1750 [==============================] - 3s 2ms/step - loss: 0.9534 - accuracy: 0.7055 - val_loss: 0.9412 - val_accuracy: 0.7119\n",
            "Epoch 9/15\n",
            "1750/1750 [==============================] - 3s 2ms/step - loss: 0.9263 - accuracy: 0.7160 - val_loss: 0.9276 - val_accuracy: 0.7131\n",
            "Epoch 10/15\n",
            "1750/1750 [==============================] - 4s 2ms/step - loss: 0.9084 - accuracy: 0.7232 - val_loss: 0.9120 - val_accuracy: 0.7219\n",
            "Epoch 11/15\n",
            "1750/1750 [==============================] - 4s 2ms/step - loss: 0.8952 - accuracy: 0.7256 - val_loss: 0.8980 - val_accuracy: 0.7259\n",
            "Epoch 12/15\n",
            "1750/1750 [==============================] - 3s 2ms/step - loss: 0.8761 - accuracy: 0.7326 - val_loss: 0.8837 - val_accuracy: 0.7327\n",
            "Epoch 13/15\n",
            "1750/1750 [==============================] - 4s 2ms/step - loss: 0.8660 - accuracy: 0.7345 - val_loss: 0.8766 - val_accuracy: 0.7332\n",
            "Epoch 14/15\n",
            "1750/1750 [==============================] - 4s 2ms/step - loss: 0.8600 - accuracy: 0.7386 - val_loss: 0.8530 - val_accuracy: 0.7386\n",
            "Epoch 15/15\n",
            "1750/1750 [==============================] - 3s 2ms/step - loss: 0.8411 - accuracy: 0.7450 - val_loss: 0.8473 - val_accuracy: 0.7375\n"
          ],
          "name": "stdout"
        }
      ]
    },
    {
      "cell_type": "markdown",
      "metadata": {
        "id": "CZ_Rx7jHWXKr",
        "colab_type": "text"
      },
      "source": [
        "#### Optimizer"
      ]
    },
    {
      "cell_type": "code",
      "metadata": {
        "id": "x0AaiGRAWZE3",
        "colab_type": "code",
        "colab": {
          "base_uri": "https://localhost:8080/",
          "height": 527
        },
        "outputId": "925cb418-b16e-481b-bdc5-b0020283c5be"
      },
      "source": [
        "from tensorflow.keras.optimizers import RMSprop\n",
        "\n",
        "rmsprop = create_model(optimizer=RMSprop).fit(X_train, y_train, \n",
        "                                          epochs=15, \n",
        "                                          batch_size=75, \n",
        "                                          validation_data=(X_test, y_test))"
      ],
      "execution_count": 9,
      "outputs": [
        {
          "output_type": "stream",
          "text": [
            "Epoch 1/15\n",
            "934/934 [==============================] - 2s 2ms/step - loss: 1.2899 - accuracy: 0.5544 - val_loss: 1.1025 - val_accuracy: 0.6267\n",
            "Epoch 2/15\n",
            "934/934 [==============================] - 2s 2ms/step - loss: 1.0672 - accuracy: 0.6459 - val_loss: 1.0249 - val_accuracy: 0.6643\n",
            "Epoch 3/15\n",
            "934/934 [==============================] - 2s 2ms/step - loss: 0.9965 - accuracy: 0.6778 - val_loss: 0.9914 - val_accuracy: 0.6842\n",
            "Epoch 4/15\n",
            "934/934 [==============================] - 2s 2ms/step - loss: 0.9563 - accuracy: 0.6914 - val_loss: 0.9387 - val_accuracy: 0.6998\n",
            "Epoch 5/15\n",
            "934/934 [==============================] - 2s 3ms/step - loss: 0.9120 - accuracy: 0.7102 - val_loss: 0.9387 - val_accuracy: 0.7029\n",
            "Epoch 6/15\n",
            "934/934 [==============================] - 2s 2ms/step - loss: 0.8918 - accuracy: 0.7169 - val_loss: 0.8788 - val_accuracy: 0.7249\n",
            "Epoch 7/15\n",
            "934/934 [==============================] - 2s 2ms/step - loss: 0.8852 - accuracy: 0.7218 - val_loss: 0.8766 - val_accuracy: 0.7243\n",
            "Epoch 8/15\n",
            "934/934 [==============================] - 2s 2ms/step - loss: 0.8835 - accuracy: 0.7200 - val_loss: 0.8971 - val_accuracy: 0.7170\n",
            "Epoch 9/15\n",
            "934/934 [==============================] - 2s 2ms/step - loss: 0.8676 - accuracy: 0.7264 - val_loss: 0.8534 - val_accuracy: 0.7245\n",
            "Epoch 10/15\n",
            "934/934 [==============================] - 2s 2ms/step - loss: 0.8676 - accuracy: 0.7264 - val_loss: 0.8744 - val_accuracy: 0.7228\n",
            "Epoch 11/15\n",
            "934/934 [==============================] - 2s 2ms/step - loss: 0.8628 - accuracy: 0.7305 - val_loss: 0.8613 - val_accuracy: 0.7332\n",
            "Epoch 12/15\n",
            "934/934 [==============================] - 2s 2ms/step - loss: 0.8543 - accuracy: 0.7326 - val_loss: 0.8338 - val_accuracy: 0.7379\n",
            "Epoch 13/15\n",
            "934/934 [==============================] - 2s 2ms/step - loss: 0.8497 - accuracy: 0.7342 - val_loss: 0.8469 - val_accuracy: 0.7343\n",
            "Epoch 14/15\n",
            "934/934 [==============================] - 2s 2ms/step - loss: 0.8340 - accuracy: 0.7392 - val_loss: 0.8326 - val_accuracy: 0.7358\n",
            "Epoch 15/15\n",
            "934/934 [==============================] - 2s 2ms/step - loss: 0.8266 - accuracy: 0.7404 - val_loss: 0.8346 - val_accuracy: 0.7435\n"
          ],
          "name": "stdout"
        }
      ]
    },
    {
      "cell_type": "markdown",
      "metadata": {
        "id": "36q2xTaqVrv7",
        "colab_type": "text"
      },
      "source": [
        "#### Learning Rate"
      ]
    },
    {
      "cell_type": "code",
      "metadata": {
        "id": "JZM9IlxgVto0",
        "colab_type": "code",
        "colab": {
          "base_uri": "https://localhost:8080/",
          "height": 527
        },
        "outputId": "85c6e3a1-5de7-49fb-b2e4-2c0edabd1528"
      },
      "source": [
        "lr_onethousandth = create_model(lr=.001).fit(X_train, y_train, \n",
        "                                             epochs=15, \n",
        "                                             batch_size=75, \n",
        "                                             validation_data=(X_test, y_test))"
      ],
      "execution_count": 8,
      "outputs": [
        {
          "output_type": "stream",
          "text": [
            "Epoch 1/15\n",
            "934/934 [==============================] - 2s 2ms/step - loss: 2.3053 - accuracy: 0.1150 - val_loss: 2.2455 - val_accuracy: 0.1580\n",
            "Epoch 2/15\n",
            "934/934 [==============================] - 2s 2ms/step - loss: 2.2091 - accuracy: 0.2238 - val_loss: 2.1780 - val_accuracy: 0.2911\n",
            "Epoch 3/15\n",
            "934/934 [==============================] - 2s 2ms/step - loss: 2.1511 - accuracy: 0.3368 - val_loss: 2.1282 - val_accuracy: 0.3640\n",
            "Epoch 4/15\n",
            "934/934 [==============================] - 2s 2ms/step - loss: 2.1060 - accuracy: 0.3884 - val_loss: 2.0862 - val_accuracy: 0.4032\n",
            "Epoch 5/15\n",
            "934/934 [==============================] - 2s 2ms/step - loss: 2.0651 - accuracy: 0.4178 - val_loss: 2.0462 - val_accuracy: 0.4245\n",
            "Epoch 6/15\n",
            "934/934 [==============================] - 2s 2ms/step - loss: 2.0244 - accuracy: 0.4357 - val_loss: 2.0063 - val_accuracy: 0.4415\n",
            "Epoch 7/15\n",
            "934/934 [==============================] - 2s 2ms/step - loss: 1.9847 - accuracy: 0.4552 - val_loss: 1.9670 - val_accuracy: 0.4626\n",
            "Epoch 8/15\n",
            "934/934 [==============================] - 2s 2ms/step - loss: 1.9467 - accuracy: 0.4711 - val_loss: 1.9304 - val_accuracy: 0.4767\n",
            "Epoch 9/15\n",
            "934/934 [==============================] - 2s 2ms/step - loss: 1.9099 - accuracy: 0.4861 - val_loss: 1.8947 - val_accuracy: 0.4863\n",
            "Epoch 10/15\n",
            "934/934 [==============================] - 2s 2ms/step - loss: 1.8744 - accuracy: 0.4968 - val_loss: 1.8604 - val_accuracy: 0.4960\n",
            "Epoch 11/15\n",
            "934/934 [==============================] - 2s 2ms/step - loss: 1.8403 - accuracy: 0.5071 - val_loss: 1.8262 - val_accuracy: 0.5048\n",
            "Epoch 12/15\n",
            "934/934 [==============================] - 2s 2ms/step - loss: 1.8068 - accuracy: 0.5144 - val_loss: 1.7938 - val_accuracy: 0.5124\n",
            "Epoch 13/15\n",
            "934/934 [==============================] - 2s 2ms/step - loss: 1.7742 - accuracy: 0.5231 - val_loss: 1.7621 - val_accuracy: 0.5211\n",
            "Epoch 14/15\n",
            "934/934 [==============================] - 2s 2ms/step - loss: 1.7425 - accuracy: 0.5322 - val_loss: 1.7317 - val_accuracy: 0.5300\n",
            "Epoch 15/15\n",
            "934/934 [==============================] - 2s 2ms/step - loss: 1.7122 - accuracy: 0.5375 - val_loss: 1.7024 - val_accuracy: 0.5353\n"
          ],
          "name": "stdout"
        }
      ]
    },
    {
      "cell_type": "markdown",
      "metadata": {
        "id": "AvSX2SCOWwtO",
        "colab_type": "text"
      },
      "source": [
        "#### Activation Function"
      ]
    },
    {
      "cell_type": "code",
      "metadata": {
        "id": "9hP3RqGTWzO5",
        "colab_type": "code",
        "colab": {}
      },
      "source": [
        "activation='sigmoid'"
      ],
      "execution_count": null,
      "outputs": []
    },
    {
      "cell_type": "markdown",
      "metadata": {
        "id": "3G7lfecOW9gj",
        "colab_type": "text"
      },
      "source": [
        "#### Number of Neurons in Hidden Layers"
      ]
    },
    {
      "cell_type": "code",
      "metadata": {
        "id": "FxN1ZLh5XBYD",
        "colab_type": "code",
        "colab": {}
      },
      "source": [
        "Dense(32,"
      ],
      "execution_count": null,
      "outputs": []
    },
    {
      "cell_type": "markdown",
      "metadata": {
        "id": "jyID1UE0XB9v",
        "colab_type": "text"
      },
      "source": [
        "#### Number of Hidden Layers"
      ]
    },
    {
      "cell_type": "code",
      "metadata": {
        "id": "mEw7VwClXE0d",
        "colab_type": "code",
        "colab": {}
      },
      "source": [
        "3"
      ],
      "execution_count": null,
      "outputs": []
    },
    {
      "cell_type": "markdown",
      "metadata": {
        "id": "WQVkw5POXFIy",
        "colab_type": "text"
      },
      "source": [
        "#### Weight Initialization"
      ]
    },
    {
      "cell_type": "code",
      "metadata": {
        "id": "kfG1OQVWXJDU",
        "colab_type": "code",
        "colab": {}
      },
      "source": [
        "# Backpropagation: The process of updating the weights and bias of a Neural Network in order to get a batter accuracy rating"
      ],
      "execution_count": null,
      "outputs": []
    },
    {
      "cell_type": "markdown",
      "metadata": {
        "id": "LKbr1gRg9BXs",
        "colab_type": "text"
      },
      "source": [
        "### Stretch Goals\n",
        "- Implement Bayesian Hyper-parameter Optimization\n",
        "- Select a new dataset and apply a neural network to it.\n",
        "- Use a cloud base experiment tracking framework such as weights and biases\n",
        "- Research potential architecture ideas for this problem. Try Lenet-10 for example. "
      ]
    }
  ]
}