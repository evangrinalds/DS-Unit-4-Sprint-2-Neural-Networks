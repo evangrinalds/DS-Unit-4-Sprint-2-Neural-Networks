{
  "nbformat": 4,
  "nbformat_minor": 0,
  "metadata": {
    "colab": {
      "name": "LS_DSPT8_423_Tune_Assignment.ipynb",
      "provenance": [],
      "collapsed_sections": []
    },
    "kernelspec": {
      "display_name": "Python 3",
      "language": "python",
      "name": "python3"
    },
    "language_info": {
      "codemirror_mode": {
        "name": "ipython",
        "version": 3
      },
      "file_extension": ".py",
      "mimetype": "text/x-python",
      "name": "python",
      "nbconvert_exporter": "python",
      "pygments_lexer": "ipython3",
      "version": "3.7.3"
    },
    "nteract": {
      "version": "0.22.4"
    }
  },
  "cells": [
    {
      "cell_type": "markdown",
      "metadata": {
        "id": "NGGrt9EYlCqY"
      },
      "source": [
        "<img align=\"left\" src=\"https://lever-client-logos.s3.amazonaws.com/864372b1-534c-480e-acd5-9711f850815c-1524247202159.png\" width=200>\n",
        "<br></br>\n",
        "<br></br>\n",
        "\n",
        "# Train Practice\n",
        "\n",
        "## *Data Science Unit 4 Sprint 2 Assignment 3*\n",
        "\n",
        "Continue to use TensorFlow Keras & a sample of the [Quickdraw dataset](https://github.com/googlecreativelab/quickdraw-dataset) to build a sketch classification model. The dataset has been sampled to only 10 classes and 10000 observations per class. Using your baseline model from yesterday, hyperparameter tune it and report on your highest validation accuracy. Your singular goal today is to achieve the highest accuracy possible.\n",
        "\n",
        "*Don't forgot to switch to GPU on Colab!*"
      ]
    },
    {
      "cell_type": "markdown",
      "metadata": {
        "id": "ptJ2b3wk62Ud"
      },
      "source": [
        "### Hyperparameters to Tune\n",
        "\n",
        "At a minimum, tune each of these hyperparameters using any strategy we discussed during lecture today: \n",
        "- Optimizer\n",
        "- Learning Rate\n",
        "- Activation Function\n",
        "  - At least 1 subparameter within the Relu activation function\n",
        "- Number of Neurons in Hidden Layers\n",
        "- Number of Hidden Layers\n",
        "- Weight Initialization"
      ]
    },
    {
      "cell_type": "markdown",
      "metadata": {
        "id": "7NNgB_56UsIJ"
      },
      "source": [
        "#### Write a function to load your data"
      ]
    },
    {
      "cell_type": "code",
      "metadata": {
        "id": "1PmatNLFwxoZ",
        "colab": {
          "base_uri": "https://localhost:8080/"
        },
        "outputId": "33aee416-23cc-42f6-b0e9-3de1809ddf51"
      },
      "source": [
        "!wget https://github.com/LambdaSchool/DS-Unit-4-Sprint-2-Neural-Networks/raw/main/quickdraw10.npz"
      ],
      "execution_count": 1,
      "outputs": [
        {
          "output_type": "stream",
          "text": [
            "--2021-02-03 00:22:59--  https://github.com/LambdaSchool/DS-Unit-4-Sprint-2-Neural-Networks/raw/main/quickdraw10.npz\n",
            "Resolving github.com (github.com)... 192.30.255.112\n",
            "Connecting to github.com (github.com)|192.30.255.112|:443... connected.\n",
            "HTTP request sent, awaiting response... 302 Found\n",
            "Location: https://raw.githubusercontent.com/LambdaSchool/DS-Unit-4-Sprint-2-Neural-Networks/main/quickdraw10.npz [following]\n",
            "--2021-02-03 00:23:00--  https://raw.githubusercontent.com/LambdaSchool/DS-Unit-4-Sprint-2-Neural-Networks/main/quickdraw10.npz\n",
            "Resolving raw.githubusercontent.com (raw.githubusercontent.com)... 151.101.0.133, 151.101.64.133, 151.101.128.133, ...\n",
            "Connecting to raw.githubusercontent.com (raw.githubusercontent.com)|151.101.0.133|:443... connected.\n",
            "HTTP request sent, awaiting response... 200 OK\n",
            "Length: 25421363 (24M) [application/octet-stream]\n",
            "Saving to: ‘quickdraw10.npz’\n",
            "\n",
            "quickdraw10.npz     100%[===================>]  24.24M   128MB/s    in 0.2s    \n",
            "\n",
            "2021-02-03 00:23:01 (128 MB/s) - ‘quickdraw10.npz’ saved [25421363/25421363]\n",
            "\n"
          ],
          "name": "stdout"
        }
      ]
    },
    {
      "cell_type": "code",
      "metadata": {
        "id": "USXjs7Hk71Hy"
      },
      "source": [
        "from sklearn.model_selection import train_test_split \n",
        "import numpy as np\n",
        "def load_quickdraw10(path):\n",
        "\n",
        "  data = np.load(path)\n",
        "  X = data['arr_0']\n",
        "  y = data['arr_1']\n",
        "\n",
        "  X_train, X_test, y_train, y_test = train_test_split(X, y, test_size=.3,\n",
        "                                                      random_state=42)\n",
        "\n",
        "  return X_train, X_test, y_train, y_test"
      ],
      "execution_count": 2,
      "outputs": []
    },
    {
      "cell_type": "code",
      "metadata": {
        "id": "2owScw9LvdLn"
      },
      "source": [
        "data = np.load('/content/quickdraw10.npz')"
      ],
      "execution_count": 4,
      "outputs": []
    },
    {
      "cell_type": "code",
      "metadata": {
        "id": "4u0y3q0DUyJc"
      },
      "source": [
        "X_train, X_test, y_train, y_test = load_quickdraw10('/content/quickdraw10.npz')"
      ],
      "execution_count": 6,
      "outputs": []
    },
    {
      "cell_type": "code",
      "metadata": {
        "id": "E6LacyQmVBWo",
        "colab": {
          "base_uri": "https://localhost:8080/"
        },
        "outputId": "32529021-9d47-4732-dc49-0f0ad0472abe"
      },
      "source": [
        "X_train.shape\n",
        "y_train.shape"
      ],
      "execution_count": 7,
      "outputs": [
        {
          "output_type": "execute_result",
          "data": {
            "text/plain": [
              "(70000,)"
            ]
          },
          "metadata": {
            "tags": []
          },
          "execution_count": 7
        }
      ]
    },
    {
      "cell_type": "markdown",
      "metadata": {
        "id": "Jb-BqEyWVD94"
      },
      "source": [
        "#### Write a Model Function"
      ]
    },
    {
      "cell_type": "code",
      "metadata": {
        "id": "cvAvfZ8tVKQs"
      },
      "source": [
        "# Imports\n",
        "from tensorflow.keras import Sequential\n",
        "from tensorflow.keras.layers import Dense\n",
        "from tensorflow.keras.optimizers import SGD, Adam\n",
        "\n",
        "def create_model(lr=.01, optimizer=SGD):\n",
        "  \n",
        "  opt = optimizer(learning_rate=lr)\n",
        "\n",
        "  model = Sequential(\n",
        "      [\n",
        "      Dense(32, activation='sigmoid', input_dim=784),\n",
        "      Dense(32, activation='sigmoid'), \n",
        "      Dense(10, activation='softmax')\n",
        "      ]\n",
        "  )\n",
        "\n",
        "  model.compile(optimizer=opt, loss='sparse_categorical_crossentropy', metrics=['accuracy'])\n",
        "  \n",
        "  return model"
      ],
      "execution_count": 8,
      "outputs": []
    },
    {
      "cell_type": "markdown",
      "metadata": {
        "id": "5JRwvUpcVhDt"
      },
      "source": [
        "#### Batch Size"
      ]
    },
    {
      "cell_type": "code",
      "metadata": {
        "id": "62Bf5cDuVloj",
        "colab": {
          "base_uri": "https://localhost:8080/"
        },
        "outputId": "1c41cecd-7b69-4319-b702-7709c66d7144"
      },
      "source": [
        "batch_40 = create_model().fit(X_train, y_train,\n",
        "                              epochs=15,\n",
        "                              batch_size=40,\n",
        "                              validation_data=(X_test, y_test))"
      ],
      "execution_count": null,
      "outputs": [
        {
          "output_type": "stream",
          "text": [
            "Epoch 1/15\n",
            "1750/1750 [==============================] - 3s 2ms/step - loss: 1.9960 - accuracy: 0.3994 - val_loss: 1.7184 - val_accuracy: 0.5116\n",
            "Epoch 2/15\n",
            "1750/1750 [==============================] - 3s 1ms/step - loss: 1.5230 - accuracy: 0.5667 - val_loss: 1.3745 - val_accuracy: 0.5980\n",
            "Epoch 3/15\n",
            "1750/1750 [==============================] - 3s 1ms/step - loss: 1.2766 - accuracy: 0.6262 - val_loss: 1.2120 - val_accuracy: 0.6335\n",
            "Epoch 4/15\n",
            "1750/1750 [==============================] - 3s 1ms/step - loss: 1.1453 - accuracy: 0.6538 - val_loss: 1.0997 - val_accuracy: 0.6673\n",
            "Epoch 5/15\n",
            "1750/1750 [==============================] - 3s 1ms/step - loss: 1.0616 - accuracy: 0.6765 - val_loss: 1.0411 - val_accuracy: 0.6819\n",
            "Epoch 6/15\n",
            "1750/1750 [==============================] - 3s 1ms/step - loss: 1.0080 - accuracy: 0.6908 - val_loss: 0.9908 - val_accuracy: 0.6948\n",
            "Epoch 7/15\n",
            "1750/1750 [==============================] - 3s 1ms/step - loss: 0.9764 - accuracy: 0.6989 - val_loss: 0.9739 - val_accuracy: 0.7001\n",
            "Epoch 8/15\n",
            "1750/1750 [==============================] - 3s 1ms/step - loss: 0.9468 - accuracy: 0.7107 - val_loss: 0.9372 - val_accuracy: 0.7125\n",
            "Epoch 9/15\n",
            "1750/1750 [==============================] - 3s 1ms/step - loss: 0.9133 - accuracy: 0.7185 - val_loss: 0.9046 - val_accuracy: 0.7209\n",
            "Epoch 10/15\n",
            "1750/1750 [==============================] - 3s 1ms/step - loss: 0.8954 - accuracy: 0.7244 - val_loss: 0.8859 - val_accuracy: 0.7230\n",
            "Epoch 11/15\n",
            "1750/1750 [==============================] - 3s 1ms/step - loss: 0.8844 - accuracy: 0.7286 - val_loss: 0.9036 - val_accuracy: 0.7198\n",
            "Epoch 12/15\n",
            "1750/1750 [==============================] - 3s 1ms/step - loss: 0.8828 - accuracy: 0.7282 - val_loss: 0.8771 - val_accuracy: 0.7301\n",
            "Epoch 13/15\n",
            "1750/1750 [==============================] - 3s 1ms/step - loss: 0.8714 - accuracy: 0.7316 - val_loss: 0.9034 - val_accuracy: 0.7156\n",
            "Epoch 14/15\n",
            "1750/1750 [==============================] - 3s 1ms/step - loss: 0.8568 - accuracy: 0.7348 - val_loss: 0.8621 - val_accuracy: 0.7305\n",
            "Epoch 15/15\n",
            "1750/1750 [==============================] - 3s 1ms/step - loss: 0.8498 - accuracy: 0.7385 - val_loss: 0.8721 - val_accuracy: 0.7297\n"
          ],
          "name": "stdout"
        }
      ]
    },
    {
      "cell_type": "markdown",
      "metadata": {
        "id": "CZ_Rx7jHWXKr"
      },
      "source": [
        "#### Optimizer"
      ]
    },
    {
      "cell_type": "code",
      "metadata": {
        "id": "x0AaiGRAWZE3",
        "colab": {
          "base_uri": "https://localhost:8080/"
        },
        "outputId": "e44cd095-7fce-4ea4-d711-5da28dfb8820"
      },
      "source": [
        "from tensorflow.keras.optimizers import RMSprop\n",
        "\n",
        "rmsprop = create_model(optimizer=RMSprop).fit(X_train, y_train, \n",
        "                                          epochs=15, \n",
        "                                          batch_size=75, \n",
        "                                          validation_data=(X_test, y_test))"
      ],
      "execution_count": null,
      "outputs": [
        {
          "output_type": "stream",
          "text": [
            "Epoch 1/15\n",
            "934/934 [==============================] - 2s 2ms/step - loss: 1.2957 - accuracy: 0.5584 - val_loss: 1.0963 - val_accuracy: 0.6263\n",
            "Epoch 2/15\n",
            "934/934 [==============================] - 2s 2ms/step - loss: 1.0194 - accuracy: 0.6701 - val_loss: 0.9323 - val_accuracy: 0.7023\n",
            "Epoch 3/15\n",
            "934/934 [==============================] - 2s 2ms/step - loss: 0.9530 - accuracy: 0.6951 - val_loss: 0.9246 - val_accuracy: 0.6934\n",
            "Epoch 4/15\n",
            "934/934 [==============================] - 2s 2ms/step - loss: 0.9262 - accuracy: 0.7038 - val_loss: 0.9165 - val_accuracy: 0.7069\n",
            "Epoch 5/15\n",
            "934/934 [==============================] - 2s 2ms/step - loss: 0.8857 - accuracy: 0.7183 - val_loss: 0.8979 - val_accuracy: 0.7136\n",
            "Epoch 6/15\n",
            "934/934 [==============================] - 2s 2ms/step - loss: 0.8903 - accuracy: 0.7173 - val_loss: 0.9160 - val_accuracy: 0.7083\n",
            "Epoch 7/15\n",
            "934/934 [==============================] - 2s 2ms/step - loss: 0.8791 - accuracy: 0.7222 - val_loss: 0.9022 - val_accuracy: 0.7158\n",
            "Epoch 8/15\n",
            "934/934 [==============================] - 2s 2ms/step - loss: 0.8691 - accuracy: 0.7271 - val_loss: 0.8713 - val_accuracy: 0.7234\n",
            "Epoch 9/15\n",
            "934/934 [==============================] - 2s 2ms/step - loss: 0.8598 - accuracy: 0.7280 - val_loss: 0.8653 - val_accuracy: 0.7231\n",
            "Epoch 10/15\n",
            "934/934 [==============================] - 2s 2ms/step - loss: 0.8588 - accuracy: 0.7301 - val_loss: 0.8686 - val_accuracy: 0.7336\n",
            "Epoch 11/15\n",
            "934/934 [==============================] - 2s 2ms/step - loss: 0.8607 - accuracy: 0.7311 - val_loss: 0.8939 - val_accuracy: 0.7232\n",
            "Epoch 12/15\n",
            "934/934 [==============================] - 2s 2ms/step - loss: 0.8485 - accuracy: 0.7336 - val_loss: 0.8623 - val_accuracy: 0.7167\n",
            "Epoch 13/15\n",
            "934/934 [==============================] - 2s 2ms/step - loss: 0.8495 - accuracy: 0.7326 - val_loss: 0.8424 - val_accuracy: 0.7344\n",
            "Epoch 14/15\n",
            "934/934 [==============================] - 2s 2ms/step - loss: 0.8480 - accuracy: 0.7334 - val_loss: 0.8743 - val_accuracy: 0.7273\n",
            "Epoch 15/15\n",
            "934/934 [==============================] - 2s 2ms/step - loss: 0.8551 - accuracy: 0.7306 - val_loss: 0.8371 - val_accuracy: 0.7352\n"
          ],
          "name": "stdout"
        }
      ]
    },
    {
      "cell_type": "markdown",
      "metadata": {
        "id": "36q2xTaqVrv7"
      },
      "source": [
        "#### Learning Rate"
      ]
    },
    {
      "cell_type": "code",
      "metadata": {
        "id": "JZM9IlxgVto0",
        "colab": {
          "base_uri": "https://localhost:8080/"
        },
        "outputId": "75f7c4ce-c85f-4a1a-cb4b-08565243fa63"
      },
      "source": [
        "lr_onethousandth = create_model(lr=.001).fit(X_train, y_train, \n",
        "                                             epochs=15, \n",
        "                                             batch_size=75, \n",
        "                                             validation_data=(X_test, y_test))"
      ],
      "execution_count": null,
      "outputs": [
        {
          "output_type": "stream",
          "text": [
            "Epoch 1/15\n",
            "934/934 [==============================] - 3s 3ms/step - loss: 2.3895 - accuracy: 0.1250 - val_loss: 2.3050 - val_accuracy: 0.1653\n",
            "Epoch 2/15\n",
            "934/934 [==============================] - 3s 3ms/step - loss: 2.2686 - accuracy: 0.1912 - val_loss: 2.2392 - val_accuracy: 0.2144\n",
            "Epoch 3/15\n",
            "934/934 [==============================] - 3s 3ms/step - loss: 2.2179 - accuracy: 0.2332 - val_loss: 2.1970 - val_accuracy: 0.2625\n",
            "Epoch 4/15\n",
            "934/934 [==============================] - 2s 2ms/step - loss: 2.1803 - accuracy: 0.2987 - val_loss: 2.1630 - val_accuracy: 0.3316\n",
            "Epoch 5/15\n",
            "934/934 [==============================] - 2s 2ms/step - loss: 2.1471 - accuracy: 0.3576 - val_loss: 2.1307 - val_accuracy: 0.3804\n",
            "Epoch 6/15\n",
            "934/934 [==============================] - 2s 2ms/step - loss: 2.1137 - accuracy: 0.3971 - val_loss: 2.0980 - val_accuracy: 0.4093\n",
            "Epoch 7/15\n",
            "934/934 [==============================] - 2s 2ms/step - loss: 2.0810 - accuracy: 0.4207 - val_loss: 2.0666 - val_accuracy: 0.4246\n",
            "Epoch 8/15\n",
            "934/934 [==============================] - 2s 2ms/step - loss: 2.0493 - accuracy: 0.4365 - val_loss: 2.0354 - val_accuracy: 0.4374\n",
            "Epoch 9/15\n",
            "934/934 [==============================] - 2s 2ms/step - loss: 2.0167 - accuracy: 0.4458 - val_loss: 2.0032 - val_accuracy: 0.4466\n",
            "Epoch 10/15\n",
            "934/934 [==============================] - 2s 2ms/step - loss: 1.9842 - accuracy: 0.4558 - val_loss: 1.9711 - val_accuracy: 0.4567\n",
            "Epoch 11/15\n",
            "934/934 [==============================] - 2s 2ms/step - loss: 1.9518 - accuracy: 0.4638 - val_loss: 1.9390 - val_accuracy: 0.4649\n",
            "Epoch 12/15\n",
            "934/934 [==============================] - 2s 2ms/step - loss: 1.9196 - accuracy: 0.4706 - val_loss: 1.9078 - val_accuracy: 0.4704\n",
            "Epoch 13/15\n",
            "934/934 [==============================] - 2s 2ms/step - loss: 1.8884 - accuracy: 0.4759 - val_loss: 1.8777 - val_accuracy: 0.4782\n",
            "Epoch 14/15\n",
            "934/934 [==============================] - 2s 2ms/step - loss: 1.8575 - accuracy: 0.4828 - val_loss: 1.8470 - val_accuracy: 0.4882\n",
            "Epoch 15/15\n",
            "934/934 [==============================] - 2s 2ms/step - loss: 1.8274 - accuracy: 0.4926 - val_loss: 1.8177 - val_accuracy: 0.4954\n"
          ],
          "name": "stdout"
        }
      ]
    },
    {
      "cell_type": "markdown",
      "metadata": {
        "id": "AvSX2SCOWwtO"
      },
      "source": [
        "#### Activation Function"
      ]
    },
    {
      "cell_type": "code",
      "metadata": {
        "id": "9hP3RqGTWzO5"
      },
      "source": [
        "activation='sigmoid'"
      ],
      "execution_count": null,
      "outputs": []
    },
    {
      "cell_type": "markdown",
      "metadata": {
        "id": "3G7lfecOW9gj"
      },
      "source": [
        "#### Number of Neurons in Hidden Layers"
      ]
    },
    {
      "cell_type": "code",
      "metadata": {
        "id": "FxN1ZLh5XBYD"
      },
      "source": [
        "Dense(32,"
      ],
      "execution_count": null,
      "outputs": []
    },
    {
      "cell_type": "markdown",
      "metadata": {
        "id": "jyID1UE0XB9v"
      },
      "source": [
        "#### Number of Hidden Layers"
      ]
    },
    {
      "cell_type": "code",
      "metadata": {
        "id": "mEw7VwClXE0d"
      },
      "source": [
        "3"
      ],
      "execution_count": null,
      "outputs": []
    },
    {
      "cell_type": "markdown",
      "metadata": {
        "id": "WQVkw5POXFIy"
      },
      "source": [
        "#### Weight Initialization"
      ]
    },
    {
      "cell_type": "code",
      "metadata": {
        "id": "kfG1OQVWXJDU"
      },
      "source": [
        "# Backpropagation: The process of updating the weights and bias of a Neural Network in order to get a batter accuracy rating"
      ],
      "execution_count": null,
      "outputs": []
    },
    {
      "cell_type": "markdown",
      "metadata": {
        "id": "LKbr1gRg9BXs"
      },
      "source": [
        "### Stretch Goals\n",
        "- Implement Bayesian Hyper-parameter Optimization\n",
        "- Select a new dataset and apply a neural network to it.\n",
        "- Use a cloud base experiment tracking framework such as weights and biases\n",
        "- Research potential architecture ideas for this problem. Try Lenet-10 for example. "
      ]
    }
  ]
}