{
  "nbformat": 4,
  "nbformat_minor": 0,
  "metadata": {
    "colab": {
      "name": "Copy of LS_DS18_422_Train_Assignment.ipynb",
      "provenance": [],
      "collapsed_sections": [],
      "include_colab_link": true
    },
    "kernelspec": {
      "display_name": "Python 3",
      "language": "python",
      "name": "python3"
    },
    "language_info": {
      "codemirror_mode": {
        "name": "ipython",
        "version": 3
      },
      "file_extension": ".py",
      "mimetype": "text/x-python",
      "name": "python",
      "nbconvert_exporter": "python",
      "pygments_lexer": "ipython3",
      "version": "3.7.3"
    },
    "nteract": {
      "version": "0.22.4"
    }
  },
  "cells": [
    {
      "cell_type": "markdown",
      "metadata": {
        "id": "view-in-github",
        "colab_type": "text"
      },
      "source": [
        "<a href=\"https://colab.research.google.com/github/evangrinalds/DS-Unit-4-Sprint-2-Neural-Networks/blob/main/module2-Train/Copy_of_LS_DS18_422_Train_Assignment.ipynb\" target=\"_parent\"><img src=\"https://colab.research.google.com/assets/colab-badge.svg\" alt=\"Open In Colab\"/></a>"
      ]
    },
    {
      "cell_type": "markdown",
      "metadata": {
        "id": "NGGrt9EYlCqY"
      },
      "source": [
        "<img align=\"left\" src=\"https://lever-client-logos.s3.amazonaws.com/864372b1-534c-480e-acd5-9711f850815c-1524247202159.png\" width=200>\n",
        "<br></br>\n",
        "<br></br>\n",
        "\n",
        "# Train Practice\n",
        "\n",
        "## *Data Science Unit 4 Sprint 2 Assignment 2*\n",
        "\n",
        "Continue to use TensorFlow Keras & a sample of the [Quickdraw dataset](https://github.com/googlecreativelab/quickdraw-dataset) to build a sketch classification model. The dataset has been sampled to only 10 classes and 10000 observations per class. Please build a baseline classification model then run a few experiments with different optimizers and learning rates. \n",
        "\n",
        "*Don't forgot to switch to GPU on Colab!*"
      ]
    },
    {
      "cell_type": "markdown",
      "metadata": {
        "id": "ptJ2b3wk62Ud"
      },
      "source": [
        "### Write a function to load your data\n",
        "\n",
        "Wrap yesterday's preprocessing steps into a function that returns four items:\n",
        "* X_train\n",
        "* y_train\n",
        "* X_test\n",
        "* y_test\n",
        "\n",
        "Your function should accept a `path` to the data as a argument."
      ]
    },
    {
      "cell_type": "code",
      "metadata": {
        "id": "nJsIsrvp7O3e"
      },
      "source": [
        "from sklearn.model_selection import train_test_split \n",
        "import numpy as np\n",
        "def load_quickdraw10(path):\n",
        "\n",
        "  data = np.load(path)\n",
        "  X = data['arr_0']\n",
        "  y = data['arr_1']\n",
        "\n",
        "  X_train, X_test, y_train, y_test = train_test_split(X, y, test_size=.3,\n",
        "                                                      random_state=42)\n",
        "\n",
        "  return X_train, X_test, y_train, y_test"
      ],
      "execution_count": 2,
      "outputs": []
    },
    {
      "cell_type": "code",
      "metadata": {
        "id": "djF7BCOWv758"
      },
      "source": [
        "X_train, X_test, y_train, y_test = load_quickdraw10('sample_data/quickdraw10.npz')"
      ],
      "execution_count": 3,
      "outputs": []
    },
    {
      "cell_type": "code",
      "metadata": {
        "id": "iIxmcLe4weTo",
        "outputId": "ed4631a1-0e8e-424f-cb77-a676965b8de8",
        "colab": {
          "base_uri": "https://localhost:8080/",
          "height": 34
        }
      },
      "source": [
        "X_train.shape\n",
        "y_train.shape"
      ],
      "execution_count": 4,
      "outputs": [
        {
          "output_type": "execute_result",
          "data": {
            "text/plain": [
              "(70000,)"
            ]
          },
          "metadata": {
            "tags": []
          },
          "execution_count": 4
        }
      ]
    },
    {
      "cell_type": "markdown",
      "metadata": {
        "id": "l-6PxI6H5__2"
      },
      "source": [
        "### Write a Model Function\n",
        "Using your model from yesterday, write a function called `create_model` which returns a compiled TensorFlow Keras Sequential Model suitable for classifying the QuickDraw-10 dataset. Include parameters for the following: \n",
        "* Learning Rate\n",
        "* Optimizer"
      ]
    },
    {
      "cell_type": "code",
      "metadata": {
        "id": "nEREYT-3wI1f"
      },
      "source": [
        "# Imports\n",
        "from tensorflow.keras import Sequential\n",
        "from tensorflow.keras.layers import Dense\n",
        "from tensorflow.keras.optimizers import SGD, Adam\n",
        "\n",
        "def create_model(lr=.01, optimizer=SGD):\n",
        "  \n",
        "  opt = optimizer(learning_rate=lr)\n",
        "\n",
        "  model = Sequential(\n",
        "      [\n",
        "      Dense(32, activation='sigmoid', input_dim=784),\n",
        "      Dense(32, activation='sigmoid'), \n",
        "      Dense(10, activation='softmax')\n",
        "      ]\n",
        "  )\n",
        "\n",
        "  model.compile(optimizer=opt, loss='sparse_categorical_crossentropy', metrics=['accuracy'])\n",
        "  \n",
        "  return model"
      ],
      "execution_count": 5,
      "outputs": []
    },
    {
      "cell_type": "markdown",
      "metadata": {
        "id": "f0pCkh8C7eGL"
      },
      "source": [
        "### Experiment with Batch Size\n",
        "* Run 5 experiments with various batch sizes of your choice. \n",
        "* Visualize the results\n",
        "* Write up an analysis of the experiments and select the \"best\" performing model among your experiments. Make sure to compare against your model's performance yesterday. \n",
        "\n",
        "Analysis: Higher batch size had better accuracy than lower batch size"
      ]
    },
    {
      "cell_type": "code",
      "metadata": {
        "id": "USXjs7Hk71Hy",
        "outputId": "25955e86-e37c-4495-ecc3-eb5a0f4bd978",
        "colab": {
          "base_uri": "https://localhost:8080/",
          "height": 527
        }
      },
      "source": [
        "batch_32 = create_model()\n",
        "\n",
        "batch_default = batch_32.fit(X_train, y_train, \n",
        "                             epochs=15, \n",
        "                             batch_size=32, \n",
        "                             validation_data=(X_test, y_test))"
      ],
      "execution_count": 6,
      "outputs": [
        {
          "output_type": "stream",
          "text": [
            "Epoch 1/15\n",
            "2188/2188 [==============================] - 4s 2ms/step - loss: 1.9022 - accuracy: 0.4487 - val_loss: 1.5861 - val_accuracy: 0.5525\n",
            "Epoch 2/15\n",
            "2188/2188 [==============================] - 4s 2ms/step - loss: 1.4005 - accuracy: 0.6056 - val_loss: 1.2542 - val_accuracy: 0.6453\n",
            "Epoch 3/15\n",
            "2188/2188 [==============================] - 4s 2ms/step - loss: 1.1811 - accuracy: 0.6568 - val_loss: 1.1116 - val_accuracy: 0.6690\n",
            "Epoch 4/15\n",
            "2188/2188 [==============================] - 4s 2ms/step - loss: 1.0726 - accuracy: 0.6820 - val_loss: 1.0241 - val_accuracy: 0.6997\n",
            "Epoch 5/15\n",
            "2188/2188 [==============================] - 4s 2ms/step - loss: 1.0082 - accuracy: 0.6962 - val_loss: 0.9729 - val_accuracy: 0.7072\n",
            "Epoch 6/15\n",
            "2188/2188 [==============================] - 4s 2ms/step - loss: 0.9614 - accuracy: 0.7069 - val_loss: 0.9462 - val_accuracy: 0.7117\n",
            "Epoch 7/15\n",
            "2188/2188 [==============================] - 4s 2ms/step - loss: 0.9320 - accuracy: 0.7142 - val_loss: 0.9099 - val_accuracy: 0.7192\n",
            "Epoch 8/15\n",
            "2188/2188 [==============================] - 4s 2ms/step - loss: 0.9058 - accuracy: 0.7215 - val_loss: 0.9125 - val_accuracy: 0.7172\n",
            "Epoch 9/15\n",
            "2188/2188 [==============================] - 4s 2ms/step - loss: 0.9005 - accuracy: 0.7238 - val_loss: 0.8988 - val_accuracy: 0.7189\n",
            "Epoch 10/15\n",
            "2188/2188 [==============================] - 4s 2ms/step - loss: 0.8933 - accuracy: 0.7249 - val_loss: 0.8760 - val_accuracy: 0.7335\n",
            "Epoch 11/15\n",
            "2188/2188 [==============================] - 4s 2ms/step - loss: 0.8703 - accuracy: 0.7321 - val_loss: 0.8880 - val_accuracy: 0.7223\n",
            "Epoch 12/15\n",
            "2188/2188 [==============================] - 4s 2ms/step - loss: 0.8628 - accuracy: 0.7350 - val_loss: 0.8626 - val_accuracy: 0.7379\n",
            "Epoch 13/15\n",
            "2188/2188 [==============================] - 4s 2ms/step - loss: 0.8570 - accuracy: 0.7331 - val_loss: 0.8707 - val_accuracy: 0.7280\n",
            "Epoch 14/15\n",
            "2188/2188 [==============================] - 4s 2ms/step - loss: 0.8453 - accuracy: 0.7354 - val_loss: 0.8530 - val_accuracy: 0.7333\n",
            "Epoch 15/15\n",
            "2188/2188 [==============================] - 4s 2ms/step - loss: 0.8322 - accuracy: 0.7436 - val_loss: 0.8394 - val_accuracy: 0.7401\n"
          ],
          "name": "stdout"
        }
      ]
    },
    {
      "cell_type": "code",
      "metadata": {
        "id": "zvbRbFlM1jNV",
        "outputId": "9d275dbc-cada-44b9-a3e0-0eba9df5d139",
        "colab": {
          "base_uri": "https://localhost:8080/",
          "height": 527
        }
      },
      "source": [
        "batch_10 = create_model()\n",
        "\n",
        "batch_10 = batch_10.fit(X_train, y_train,\n",
        "                              epochs=15,\n",
        "                              batch_size=10,\n",
        "                              validation_data=(X_test, y_test))"
      ],
      "execution_count": 7,
      "outputs": [
        {
          "output_type": "stream",
          "text": [
            "Epoch 1/15\n",
            "7000/7000 [==============================] - 10s 1ms/step - loss: 1.5590 - accuracy: 0.5209 - val_loss: 1.2281 - val_accuracy: 0.6046\n",
            "Epoch 2/15\n",
            "7000/7000 [==============================] - 10s 1ms/step - loss: 1.1600 - accuracy: 0.6386 - val_loss: 1.0800 - val_accuracy: 0.6706\n",
            "Epoch 3/15\n",
            "7000/7000 [==============================] - 10s 1ms/step - loss: 1.0783 - accuracy: 0.6618 - val_loss: 1.0823 - val_accuracy: 0.6604\n",
            "Epoch 4/15\n",
            "7000/7000 [==============================] - 10s 1ms/step - loss: 1.0497 - accuracy: 0.6690 - val_loss: 1.0311 - val_accuracy: 0.6723\n",
            "Epoch 5/15\n",
            "7000/7000 [==============================] - 10s 1ms/step - loss: 1.0167 - accuracy: 0.6782 - val_loss: 1.0368 - val_accuracy: 0.6646\n",
            "Epoch 6/15\n",
            "7000/7000 [==============================] - 10s 1ms/step - loss: 1.0173 - accuracy: 0.6714 - val_loss: 1.0470 - val_accuracy: 0.6644\n",
            "Epoch 7/15\n",
            "7000/7000 [==============================] - 10s 1ms/step - loss: 1.0141 - accuracy: 0.6727 - val_loss: 0.9755 - val_accuracy: 0.6872\n",
            "Epoch 8/15\n",
            "7000/7000 [==============================] - 11s 2ms/step - loss: 0.9800 - accuracy: 0.6898 - val_loss: 0.9517 - val_accuracy: 0.6996\n",
            "Epoch 9/15\n",
            "7000/7000 [==============================] - 10s 1ms/step - loss: 0.9719 - accuracy: 0.6909 - val_loss: 0.9569 - val_accuracy: 0.7045\n",
            "Epoch 10/15\n",
            "7000/7000 [==============================] - 10s 1ms/step - loss: 0.9721 - accuracy: 0.6849 - val_loss: 0.9866 - val_accuracy: 0.6789\n",
            "Epoch 11/15\n",
            "7000/7000 [==============================] - 10s 1ms/step - loss: 0.9430 - accuracy: 0.6982 - val_loss: 0.9423 - val_accuracy: 0.7003\n",
            "Epoch 12/15\n",
            "7000/7000 [==============================] - 10s 1ms/step - loss: 0.9507 - accuracy: 0.7009 - val_loss: 0.9301 - val_accuracy: 0.7094\n",
            "Epoch 13/15\n",
            "7000/7000 [==============================] - 10s 1ms/step - loss: 0.9614 - accuracy: 0.6930 - val_loss: 0.9331 - val_accuracy: 0.6998\n",
            "Epoch 14/15\n",
            "7000/7000 [==============================] - 10s 1ms/step - loss: 0.9338 - accuracy: 0.6989 - val_loss: 0.9217 - val_accuracy: 0.7032\n",
            "Epoch 15/15\n",
            "7000/7000 [==============================] - 10s 1ms/step - loss: 0.9128 - accuracy: 0.7055 - val_loss: 0.9114 - val_accuracy: 0.7050\n"
          ],
          "name": "stdout"
        }
      ]
    },
    {
      "cell_type": "code",
      "metadata": {
        "id": "hAP-7H4K11CJ",
        "outputId": "fa367715-c3c0-4209-cdc5-d42f7c7862ed",
        "colab": {
          "base_uri": "https://localhost:8080/",
          "height": 527
        }
      },
      "source": [
        "batch_6 = create_model().fit(X_train, y_train,\n",
        "                             epochs=15,\n",
        "                             batch_size=6,\n",
        "                             validation_data=(X_test, y_test))"
      ],
      "execution_count": 8,
      "outputs": [
        {
          "output_type": "stream",
          "text": [
            "Epoch 1/15\n",
            "11667/11667 [==============================] - 17s 1ms/step - loss: 1.4871 - accuracy: 0.5430 - val_loss: 1.1787 - val_accuracy: 0.6203\n",
            "Epoch 2/15\n",
            "11667/11667 [==============================] - 16s 1ms/step - loss: 1.1827 - accuracy: 0.6215 - val_loss: 1.1751 - val_accuracy: 0.6273\n",
            "Epoch 3/15\n",
            "11667/11667 [==============================] - 17s 1ms/step - loss: 1.1674 - accuracy: 0.6227 - val_loss: 1.2014 - val_accuracy: 0.6155\n",
            "Epoch 4/15\n",
            "11667/11667 [==============================] - 16s 1ms/step - loss: 1.1410 - accuracy: 0.6308 - val_loss: 1.1355 - val_accuracy: 0.6327\n",
            "Epoch 5/15\n",
            "11667/11667 [==============================] - 16s 1ms/step - loss: 1.1471 - accuracy: 0.6282 - val_loss: 1.1101 - val_accuracy: 0.6357\n",
            "Epoch 6/15\n",
            "11667/11667 [==============================] - 17s 1ms/step - loss: 1.1174 - accuracy: 0.6410 - val_loss: 1.0720 - val_accuracy: 0.6587\n",
            "Epoch 7/15\n",
            "11667/11667 [==============================] - 18s 2ms/step - loss: 1.0792 - accuracy: 0.6551 - val_loss: 1.0851 - val_accuracy: 0.6498\n",
            "Epoch 8/15\n",
            "11667/11667 [==============================] - 17s 1ms/step - loss: 1.0721 - accuracy: 0.6545 - val_loss: 1.0356 - val_accuracy: 0.6726\n",
            "Epoch 9/15\n",
            "11667/11667 [==============================] - 17s 1ms/step - loss: 1.0680 - accuracy: 0.6547 - val_loss: 1.0550 - val_accuracy: 0.6577\n",
            "Epoch 10/15\n",
            "11667/11667 [==============================] - 17s 1ms/step - loss: 1.0608 - accuracy: 0.6548 - val_loss: 1.0620 - val_accuracy: 0.6519\n",
            "Epoch 11/15\n",
            "11667/11667 [==============================] - 16s 1ms/step - loss: 1.0466 - accuracy: 0.6599 - val_loss: 1.0683 - val_accuracy: 0.6506\n",
            "Epoch 12/15\n",
            "11667/11667 [==============================] - 16s 1ms/step - loss: 1.0395 - accuracy: 0.6658 - val_loss: 1.0324 - val_accuracy: 0.6685\n",
            "Epoch 13/15\n",
            "11667/11667 [==============================] - 17s 1ms/step - loss: 1.0301 - accuracy: 0.6677 - val_loss: 1.0113 - val_accuracy: 0.6772\n",
            "Epoch 14/15\n",
            "11667/11667 [==============================] - 18s 2ms/step - loss: 1.0011 - accuracy: 0.6773 - val_loss: 0.9946 - val_accuracy: 0.6853\n",
            "Epoch 15/15\n",
            "11667/11667 [==============================] - 17s 1ms/step - loss: 0.9954 - accuracy: 0.6822 - val_loss: 0.9667 - val_accuracy: 0.6933\n"
          ],
          "name": "stdout"
        }
      ]
    },
    {
      "cell_type": "code",
      "metadata": {
        "id": "1ujEtwXa2ILI",
        "outputId": "088e2515-78f0-45ad-849e-3a1b292c8a89",
        "colab": {
          "base_uri": "https://localhost:8080/",
          "height": 527
        }
      },
      "source": [
        "batch_40 = create_model().fit(X_train, y_train,\n",
        "                              epochs=15,\n",
        "                              batch_size=40,\n",
        "                              validation_data=(X_test, y_test))"
      ],
      "execution_count": 9,
      "outputs": [
        {
          "output_type": "stream",
          "text": [
            "Epoch 1/15\n",
            "1750/1750 [==============================] - 3s 2ms/step - loss: 1.9861 - accuracy: 0.3940 - val_loss: 1.6886 - val_accuracy: 0.5558\n",
            "Epoch 2/15\n",
            "1750/1750 [==============================] - 3s 2ms/step - loss: 1.5047 - accuracy: 0.5917 - val_loss: 1.3542 - val_accuracy: 0.6233\n",
            "Epoch 3/15\n",
            "1750/1750 [==============================] - 3s 2ms/step - loss: 1.2551 - accuracy: 0.6457 - val_loss: 1.1712 - val_accuracy: 0.6619\n",
            "Epoch 4/15\n",
            "1750/1750 [==============================] - 3s 2ms/step - loss: 1.1204 - accuracy: 0.6724 - val_loss: 1.0762 - val_accuracy: 0.6846\n",
            "Epoch 5/15\n",
            "1750/1750 [==============================] - 3s 2ms/step - loss: 1.0345 - accuracy: 0.6941 - val_loss: 0.9960 - val_accuracy: 0.7038\n",
            "Epoch 6/15\n",
            "1750/1750 [==============================] - 3s 2ms/step - loss: 0.9826 - accuracy: 0.7079 - val_loss: 0.9580 - val_accuracy: 0.7072\n",
            "Epoch 7/15\n",
            "1750/1750 [==============================] - 3s 2ms/step - loss: 0.9461 - accuracy: 0.7146 - val_loss: 0.9339 - val_accuracy: 0.7191\n",
            "Epoch 8/15\n",
            "1750/1750 [==============================] - 3s 2ms/step - loss: 0.9332 - accuracy: 0.7196 - val_loss: 0.9248 - val_accuracy: 0.7243\n",
            "Epoch 9/15\n",
            "1750/1750 [==============================] - 3s 2ms/step - loss: 0.9093 - accuracy: 0.7230 - val_loss: 0.8973 - val_accuracy: 0.7274\n",
            "Epoch 10/15\n",
            "1750/1750 [==============================] - 3s 2ms/step - loss: 0.8911 - accuracy: 0.7275 - val_loss: 0.8859 - val_accuracy: 0.7280\n",
            "Epoch 11/15\n",
            "1750/1750 [==============================] - 3s 2ms/step - loss: 0.8707 - accuracy: 0.7349 - val_loss: 0.8687 - val_accuracy: 0.7345\n",
            "Epoch 12/15\n",
            "1750/1750 [==============================] - 3s 2ms/step - loss: 0.8701 - accuracy: 0.7352 - val_loss: 0.8828 - val_accuracy: 0.7277\n",
            "Epoch 13/15\n",
            "1750/1750 [==============================] - 3s 2ms/step - loss: 0.8641 - accuracy: 0.7353 - val_loss: 0.8651 - val_accuracy: 0.7335\n",
            "Epoch 14/15\n",
            "1750/1750 [==============================] - 3s 2ms/step - loss: 0.8460 - accuracy: 0.7404 - val_loss: 0.8570 - val_accuracy: 0.7406\n",
            "Epoch 15/15\n",
            "1750/1750 [==============================] - 3s 2ms/step - loss: 0.8494 - accuracy: 0.7388 - val_loss: 0.8712 - val_accuracy: 0.7351\n"
          ],
          "name": "stdout"
        }
      ]
    },
    {
      "cell_type": "code",
      "metadata": {
        "id": "DfzMvtZS2VII",
        "outputId": "b3b9c3b4-f9e1-4c29-d19d-27a116c3a759",
        "colab": {
          "base_uri": "https://localhost:8080/",
          "height": 527
        }
      },
      "source": [
        "batch_70 = create_model().fit(X_train, y_train,\n",
        "                              epochs=15,\n",
        "                              batch_size=70,\n",
        "                              validation_data=(X_test, y_test))"
      ],
      "execution_count": 10,
      "outputs": [
        {
          "output_type": "stream",
          "text": [
            "Epoch 1/15\n",
            "1000/1000 [==============================] - 2s 2ms/step - loss: 2.0821 - accuracy: 0.3751 - val_loss: 1.8869 - val_accuracy: 0.5018\n",
            "Epoch 2/15\n",
            "1000/1000 [==============================] - 2s 2ms/step - loss: 1.7295 - accuracy: 0.5537 - val_loss: 1.5960 - val_accuracy: 0.5697\n",
            "Epoch 3/15\n",
            "1000/1000 [==============================] - 2s 2ms/step - loss: 1.4846 - accuracy: 0.6124 - val_loss: 1.3928 - val_accuracy: 0.6253\n",
            "Epoch 4/15\n",
            "1000/1000 [==============================] - 2s 2ms/step - loss: 1.3194 - accuracy: 0.6378 - val_loss: 1.2619 - val_accuracy: 0.6509\n",
            "Epoch 5/15\n",
            "1000/1000 [==============================] - 2s 2ms/step - loss: 1.2123 - accuracy: 0.6600 - val_loss: 1.1749 - val_accuracy: 0.6645\n",
            "Epoch 6/15\n",
            "1000/1000 [==============================] - 2s 2ms/step - loss: 1.1319 - accuracy: 0.6754 - val_loss: 1.1006 - val_accuracy: 0.6840\n",
            "Epoch 7/15\n",
            "1000/1000 [==============================] - 2s 2ms/step - loss: 1.0738 - accuracy: 0.6900 - val_loss: 1.0538 - val_accuracy: 0.6837\n",
            "Epoch 8/15\n",
            "1000/1000 [==============================] - 2s 2ms/step - loss: 1.0299 - accuracy: 0.6985 - val_loss: 1.0106 - val_accuracy: 0.7002\n",
            "Epoch 9/15\n",
            "1000/1000 [==============================] - 2s 2ms/step - loss: 0.9925 - accuracy: 0.7068 - val_loss: 0.9989 - val_accuracy: 0.7027\n",
            "Epoch 10/15\n",
            "1000/1000 [==============================] - 2s 2ms/step - loss: 0.9773 - accuracy: 0.7090 - val_loss: 0.9753 - val_accuracy: 0.7107\n",
            "Epoch 11/15\n",
            "1000/1000 [==============================] - 2s 2ms/step - loss: 0.9480 - accuracy: 0.7151 - val_loss: 0.9492 - val_accuracy: 0.7154\n",
            "Epoch 12/15\n",
            "1000/1000 [==============================] - 2s 2ms/step - loss: 0.9271 - accuracy: 0.7199 - val_loss: 0.9268 - val_accuracy: 0.7185\n",
            "Epoch 13/15\n",
            "1000/1000 [==============================] - 2s 2ms/step - loss: 0.9021 - accuracy: 0.7285 - val_loss: 0.9001 - val_accuracy: 0.7299\n",
            "Epoch 14/15\n",
            "1000/1000 [==============================] - 2s 2ms/step - loss: 0.8842 - accuracy: 0.7327 - val_loss: 0.8919 - val_accuracy: 0.7306\n",
            "Epoch 15/15\n",
            "1000/1000 [==============================] - 2s 2ms/step - loss: 0.8728 - accuracy: 0.7365 - val_loss: 0.8908 - val_accuracy: 0.7294\n"
          ],
          "name": "stdout"
        }
      ]
    },
    {
      "cell_type": "code",
      "metadata": {
        "id": "TxCu2Srh3-pd",
        "outputId": "348ab717-bafc-4c18-f9a6-177dc25d6f12",
        "colab": {
          "base_uri": "https://localhost:8080/",
          "height": 204
        }
      },
      "source": [
        "import seaborn as sns\n",
        "import pandas as pd\n",
        "\n",
        "batch_sizes = []\n",
        "\n",
        "for exp, result in zip([batch_default, batch_10, batch_6, batch_40, batch_70], [\"32_\", \"10_\", \"6_\", \"40_\", \"70_\"]):\n",
        "\n",
        "  df = pd.DataFrame.from_dict(exp.history)\n",
        "  df['epoch'] = df.index.values\n",
        "  df['Batch Size'] = result\n",
        "\n",
        "  batch_sizes.append(df)\n",
        "\n",
        "df = pd.concat(batch_sizes)\n",
        "df['Batch Size'] = df['Batch Size'].astype('str')\n",
        "df.head()"
      ],
      "execution_count": 11,
      "outputs": [
        {
          "output_type": "execute_result",
          "data": {
            "text/html": [
              "<div>\n",
              "<style scoped>\n",
              "    .dataframe tbody tr th:only-of-type {\n",
              "        vertical-align: middle;\n",
              "    }\n",
              "\n",
              "    .dataframe tbody tr th {\n",
              "        vertical-align: top;\n",
              "    }\n",
              "\n",
              "    .dataframe thead th {\n",
              "        text-align: right;\n",
              "    }\n",
              "</style>\n",
              "<table border=\"1\" class=\"dataframe\">\n",
              "  <thead>\n",
              "    <tr style=\"text-align: right;\">\n",
              "      <th></th>\n",
              "      <th>loss</th>\n",
              "      <th>accuracy</th>\n",
              "      <th>val_loss</th>\n",
              "      <th>val_accuracy</th>\n",
              "      <th>epoch</th>\n",
              "      <th>Batch Size</th>\n",
              "    </tr>\n",
              "  </thead>\n",
              "  <tbody>\n",
              "    <tr>\n",
              "      <th>0</th>\n",
              "      <td>1.902209</td>\n",
              "      <td>0.448714</td>\n",
              "      <td>1.586123</td>\n",
              "      <td>0.552533</td>\n",
              "      <td>0</td>\n",
              "      <td>32_</td>\n",
              "    </tr>\n",
              "    <tr>\n",
              "      <th>1</th>\n",
              "      <td>1.400486</td>\n",
              "      <td>0.605586</td>\n",
              "      <td>1.254228</td>\n",
              "      <td>0.645267</td>\n",
              "      <td>1</td>\n",
              "      <td>32_</td>\n",
              "    </tr>\n",
              "    <tr>\n",
              "      <th>2</th>\n",
              "      <td>1.181142</td>\n",
              "      <td>0.656829</td>\n",
              "      <td>1.111590</td>\n",
              "      <td>0.669000</td>\n",
              "      <td>2</td>\n",
              "      <td>32_</td>\n",
              "    </tr>\n",
              "    <tr>\n",
              "      <th>3</th>\n",
              "      <td>1.072570</td>\n",
              "      <td>0.681957</td>\n",
              "      <td>1.024063</td>\n",
              "      <td>0.699733</td>\n",
              "      <td>3</td>\n",
              "      <td>32_</td>\n",
              "    </tr>\n",
              "    <tr>\n",
              "      <th>4</th>\n",
              "      <td>1.008164</td>\n",
              "      <td>0.696243</td>\n",
              "      <td>0.972880</td>\n",
              "      <td>0.707167</td>\n",
              "      <td>4</td>\n",
              "      <td>32_</td>\n",
              "    </tr>\n",
              "  </tbody>\n",
              "</table>\n",
              "</div>"
            ],
            "text/plain": [
              "       loss  accuracy  val_loss  val_accuracy  epoch Batch Size\n",
              "0  1.902209  0.448714  1.586123      0.552533      0        32_\n",
              "1  1.400486  0.605586  1.254228      0.645267      1        32_\n",
              "2  1.181142  0.656829  1.111590      0.669000      2        32_\n",
              "3  1.072570  0.681957  1.024063      0.699733      3        32_\n",
              "4  1.008164  0.696243  0.972880      0.707167      4        32_"
            ]
          },
          "metadata": {
            "tags": []
          },
          "execution_count": 11
        }
      ]
    },
    {
      "cell_type": "code",
      "metadata": {
        "id": "2chZ7eh24_eb",
        "outputId": "f99dc354-c18d-4920-dc9b-98ca8e195206",
        "colab": {
          "base_uri": "https://localhost:8080/",
          "height": 298
        }
      },
      "source": [
        "sns.lineplot(x='epoch', y='val_accuracy', hue='Batch Size', data=df)"
      ],
      "execution_count": 12,
      "outputs": [
        {
          "output_type": "execute_result",
          "data": {
            "text/plain": [
              "<matplotlib.axes._subplots.AxesSubplot at 0x7ff1b2712668>"
            ]
          },
          "metadata": {
            "tags": []
          },
          "execution_count": 12
        },
        {
          "output_type": "display_data",
          "data": {
            "image/png": "[encoded data removed]",
            "text/plain": [
              "<Figure size 432x288 with 1 Axes>"
            ]
          },
          "metadata": {
            "tags": [],
            "needs_background": "light"
          }
        }
      ]
    },
    {
      "cell_type": "code",
      "metadata": {
        "id": "_XSjMiAt6b2x",
        "outputId": "ef105b31-5627-4d81-f0ec-fde9c75f1a67",
        "colab": {
          "base_uri": "https://localhost:8080/",
          "height": 296
        }
      },
      "source": [
        "sns.lineplot(x='epoch', y='val_loss', hue='Batch Size', data=df)"
      ],
      "execution_count": 13,
      "outputs": [
        {
          "output_type": "execute_result",
          "data": {
            "text/plain": [
              "<matplotlib.axes._subplots.AxesSubplot at 0x7ff1ec97c438>"
            ]
          },
          "metadata": {
            "tags": []
          },
          "execution_count": 13
        },
        {
          "output_type": "display_data",
          "data": {
            "image/png": "[encoded data removed]",
            "text/plain": [
              "<Figure size 432x288 with 1 Axes>"
            ]
          },
          "metadata": {
            "tags": [],
            "needs_background": "light"
          }
        }
      ]
    },
    {
      "cell_type": "markdown",
      "metadata": {
        "id": "8b-r70o8p2Dm"
      },
      "source": [
        "### Experiment with Learning Rate\n",
        "* Run 5 experiments with various learning rate magnitudes: 1, .1, .01, .001, .0001.\n",
        "* Use the \"best\" batch size from the previous experiment\n",
        "* Visualize the results\n",
        "* Write up an analysis of the experiments and select the \"best\" performing model among your experiments. Make sure to compare against the previous experiments and your model's performance yesterday. \n",
        "\n",
        "\n",
        "*   Analysis = Learning rates seems to have a sweet spot\n",
        "\n"
      ]
    },
    {
      "cell_type": "code",
      "metadata": {
        "id": "_SA144xx8Luf",
        "outputId": "e116b339-8d78-4aed-e506-5241f26e7c0f",
        "colab": {
          "base_uri": "https://localhost:8080/",
          "height": 527
        }
      },
      "source": [
        "lr_1 = create_model(lr=1).fit(X_train, y_train, \n",
        "                             epochs=15, \n",
        "                             batch_size=75, \n",
        "                             validation_data=(X_test, y_test))"
      ],
      "execution_count": 14,
      "outputs": [
        {
          "output_type": "stream",
          "text": [
            "Epoch 1/15\n",
            "934/934 [==============================] - 2s 2ms/step - loss: 1.8981 - accuracy: 0.2875 - val_loss: 1.7004 - val_accuracy: 0.3124\n",
            "Epoch 2/15\n",
            "934/934 [==============================] - 2s 2ms/step - loss: 1.7886 - accuracy: 0.3130 - val_loss: 1.7309 - val_accuracy: 0.3136\n",
            "Epoch 3/15\n",
            "934/934 [==============================] - 2s 2ms/step - loss: 1.6217 - accuracy: 0.3883 - val_loss: 1.5770 - val_accuracy: 0.4314\n",
            "Epoch 4/15\n",
            "934/934 [==============================] - 2s 2ms/step - loss: 1.6084 - accuracy: 0.3973 - val_loss: 1.6448 - val_accuracy: 0.3948\n",
            "Epoch 5/15\n",
            "934/934 [==============================] - 2s 2ms/step - loss: 1.5636 - accuracy: 0.4224 - val_loss: 1.5668 - val_accuracy: 0.4234\n",
            "Epoch 6/15\n",
            "934/934 [==============================] - 2s 2ms/step - loss: 1.5451 - accuracy: 0.4375 - val_loss: 1.5329 - val_accuracy: 0.4259\n",
            "Epoch 7/15\n",
            "934/934 [==============================] - 2s 2ms/step - loss: 1.5280 - accuracy: 0.4431 - val_loss: 1.5258 - val_accuracy: 0.4624\n",
            "Epoch 8/15\n",
            "934/934 [==============================] - 2s 2ms/step - loss: 1.4756 - accuracy: 0.4846 - val_loss: 1.5395 - val_accuracy: 0.4371\n",
            "Epoch 9/15\n",
            "934/934 [==============================] - 2s 2ms/step - loss: 1.5095 - accuracy: 0.4585 - val_loss: 1.5284 - val_accuracy: 0.4650\n",
            "Epoch 10/15\n",
            "934/934 [==============================] - 2s 2ms/step - loss: 1.4337 - accuracy: 0.4819 - val_loss: 1.4074 - val_accuracy: 0.4743\n",
            "Epoch 11/15\n",
            "934/934 [==============================] - 2s 2ms/step - loss: 1.3956 - accuracy: 0.5026 - val_loss: 1.5292 - val_accuracy: 0.4353\n",
            "Epoch 12/15\n",
            "934/934 [==============================] - 2s 2ms/step - loss: 1.5263 - accuracy: 0.4322 - val_loss: 1.5514 - val_accuracy: 0.4276\n",
            "Epoch 13/15\n",
            "934/934 [==============================] - 2s 2ms/step - loss: 1.5095 - accuracy: 0.4353 - val_loss: 1.5451 - val_accuracy: 0.4216\n",
            "Epoch 14/15\n",
            "934/934 [==============================] - 2s 2ms/step - loss: 1.4765 - accuracy: 0.4643 - val_loss: 1.5614 - val_accuracy: 0.4208\n",
            "Epoch 15/15\n",
            "934/934 [==============================] - 2s 2ms/step - loss: 1.5308 - accuracy: 0.4413 - val_loss: 1.5102 - val_accuracy: 0.4527\n"
          ],
          "name": "stdout"
        }
      ]
    },
    {
      "cell_type": "code",
      "metadata": {
        "id": "TjkxluD461q4",
        "outputId": "c6ae155c-bb56-4b36-de95-a9183e80d9d5",
        "colab": {
          "base_uri": "https://localhost:8080/",
          "height": 527
        }
      },
      "source": [
        "lr_onetenth = create_model(lr=.1).fit(X_train, y_train, \n",
        "                             epochs=15, \n",
        "                             batch_size=75, \n",
        "                             validation_data=(X_test, y_test))"
      ],
      "execution_count": 15,
      "outputs": [
        {
          "output_type": "stream",
          "text": [
            "Epoch 1/15\n",
            "934/934 [==============================] - 2s 2ms/step - loss: 1.5222 - accuracy: 0.5312 - val_loss: 1.2542 - val_accuracy: 0.6063\n",
            "Epoch 2/15\n",
            "934/934 [==============================] - 2s 2ms/step - loss: 1.1829 - accuracy: 0.6220 - val_loss: 1.1260 - val_accuracy: 0.6372\n",
            "Epoch 3/15\n",
            "934/934 [==============================] - 2s 2ms/step - loss: 1.1297 - accuracy: 0.6366 - val_loss: 1.1211 - val_accuracy: 0.6285\n",
            "Epoch 4/15\n",
            "934/934 [==============================] - 2s 2ms/step - loss: 1.1157 - accuracy: 0.6349 - val_loss: 1.1121 - val_accuracy: 0.6314\n",
            "Epoch 5/15\n",
            "934/934 [==============================] - 2s 2ms/step - loss: 1.1409 - accuracy: 0.6104 - val_loss: 1.1140 - val_accuracy: 0.6183\n",
            "Epoch 6/15\n",
            "934/934 [==============================] - 2s 2ms/step - loss: 1.1104 - accuracy: 0.6349 - val_loss: 1.1170 - val_accuracy: 0.6368\n",
            "Epoch 7/15\n",
            "934/934 [==============================] - 2s 2ms/step - loss: 1.0707 - accuracy: 0.6479 - val_loss: 1.0560 - val_accuracy: 0.6589\n",
            "Epoch 8/15\n",
            "934/934 [==============================] - 2s 2ms/step - loss: 1.0460 - accuracy: 0.6578 - val_loss: 1.0249 - val_accuracy: 0.6703\n",
            "Epoch 9/15\n",
            "934/934 [==============================] - 2s 2ms/step - loss: 1.0287 - accuracy: 0.6626 - val_loss: 1.0748 - val_accuracy: 0.6442\n",
            "Epoch 10/15\n",
            "934/934 [==============================] - 2s 2ms/step - loss: 1.0504 - accuracy: 0.6500 - val_loss: 1.0384 - val_accuracy: 0.6597\n",
            "Epoch 11/15\n",
            "934/934 [==============================] - 2s 2ms/step - loss: 1.0473 - accuracy: 0.6591 - val_loss: 1.0464 - val_accuracy: 0.6563\n",
            "Epoch 12/15\n",
            "934/934 [==============================] - 2s 2ms/step - loss: 1.0132 - accuracy: 0.6710 - val_loss: 0.9949 - val_accuracy: 0.6789\n",
            "Epoch 13/15\n",
            "934/934 [==============================] - 2s 2ms/step - loss: 0.9931 - accuracy: 0.6820 - val_loss: 0.9826 - val_accuracy: 0.6794\n",
            "Epoch 14/15\n",
            "934/934 [==============================] - 2s 2ms/step - loss: 0.9570 - accuracy: 0.6899 - val_loss: 0.9565 - val_accuracy: 0.6914\n",
            "Epoch 15/15\n",
            "934/934 [==============================] - 2s 2ms/step - loss: 0.9708 - accuracy: 0.6897 - val_loss: 0.9501 - val_accuracy: 0.6919\n"
          ],
          "name": "stdout"
        }
      ]
    },
    {
      "cell_type": "code",
      "metadata": {
        "id": "IHyXnY2L63O2",
        "outputId": "b6ecff51-0131-4ffa-e5c4-c92e50e6cc5b",
        "colab": {
          "base_uri": "https://localhost:8080/",
          "height": 527
        }
      },
      "source": [
        "lr_oneonehundreth = create_model(lr=.01).fit(X_train, y_train, \n",
        "                                             epochs=15, \n",
        "                                             batch_size=75, \n",
        "                                             validation_data=(X_test, y_test))"
      ],
      "execution_count": 16,
      "outputs": [
        {
          "output_type": "stream",
          "text": [
            "Epoch 1/15\n",
            "934/934 [==============================] - 2s 2ms/step - loss: 2.1326 - accuracy: 0.3626 - val_loss: 1.9740 - val_accuracy: 0.4943\n",
            "Epoch 2/15\n",
            "934/934 [==============================] - 2s 2ms/step - loss: 1.8158 - accuracy: 0.5482 - val_loss: 1.6615 - val_accuracy: 0.5978\n",
            "Epoch 3/15\n",
            "934/934 [==============================] - 2s 2ms/step - loss: 1.5329 - accuracy: 0.6062 - val_loss: 1.4263 - val_accuracy: 0.6161\n",
            "Epoch 4/15\n",
            "934/934 [==============================] - 2s 2ms/step - loss: 1.3415 - accuracy: 0.6382 - val_loss: 1.2720 - val_accuracy: 0.6533\n",
            "Epoch 5/15\n",
            "934/934 [==============================] - 2s 2ms/step - loss: 1.2147 - accuracy: 0.6660 - val_loss: 1.1723 - val_accuracy: 0.6784\n",
            "Epoch 6/15\n",
            "934/934 [==============================] - 2s 2ms/step - loss: 1.1297 - accuracy: 0.6854 - val_loss: 1.0976 - val_accuracy: 0.6943\n",
            "Epoch 7/15\n",
            "934/934 [==============================] - 2s 2ms/step - loss: 1.0657 - accuracy: 0.6978 - val_loss: 1.0470 - val_accuracy: 0.6988\n",
            "Epoch 8/15\n",
            "934/934 [==============================] - 2s 2ms/step - loss: 1.0189 - accuracy: 0.7065 - val_loss: 1.0129 - val_accuracy: 0.7029\n",
            "Epoch 9/15\n",
            "934/934 [==============================] - 2s 2ms/step - loss: 0.9825 - accuracy: 0.7109 - val_loss: 0.9754 - val_accuracy: 0.7161\n",
            "Epoch 10/15\n",
            "934/934 [==============================] - 2s 2ms/step - loss: 0.9535 - accuracy: 0.7204 - val_loss: 0.9515 - val_accuracy: 0.7180\n",
            "Epoch 11/15\n",
            "934/934 [==============================] - 2s 2ms/step - loss: 0.9329 - accuracy: 0.7266 - val_loss: 0.9348 - val_accuracy: 0.7267\n",
            "Epoch 12/15\n",
            "934/934 [==============================] - 2s 3ms/step - loss: 0.9161 - accuracy: 0.7291 - val_loss: 0.9131 - val_accuracy: 0.7319\n",
            "Epoch 13/15\n",
            "934/934 [==============================] - 2s 3ms/step - loss: 0.8967 - accuracy: 0.7348 - val_loss: 0.8982 - val_accuracy: 0.7318\n",
            "Epoch 14/15\n",
            "934/934 [==============================] - 2s 2ms/step - loss: 0.8857 - accuracy: 0.7340 - val_loss: 0.8831 - val_accuracy: 0.7385\n",
            "Epoch 15/15\n",
            "934/934 [==============================] - 2s 2ms/step - loss: 0.8646 - accuracy: 0.7440 - val_loss: 0.8683 - val_accuracy: 0.7419\n"
          ],
          "name": "stdout"
        }
      ]
    },
    {
      "cell_type": "code",
      "metadata": {
        "id": "z3A6-zq966GO",
        "outputId": "ec95b0a5-c6c6-49c9-c349-8deba3a1be8a",
        "colab": {
          "base_uri": "https://localhost:8080/",
          "height": 527
        }
      },
      "source": [
        "lr_onethousandth = create_model(lr=.001).fit(X_train, y_train, \n",
        "                                             epochs=15, \n",
        "                                             batch_size=75, \n",
        "                                             validation_data=(X_test, y_test))"
      ],
      "execution_count": 17,
      "outputs": [
        {
          "output_type": "stream",
          "text": [
            "Epoch 1/15\n",
            "934/934 [==============================] - 2s 2ms/step - loss: 2.3133 - accuracy: 0.1171 - val_loss: 2.2713 - val_accuracy: 0.1510\n",
            "Epoch 2/15\n",
            "934/934 [==============================] - 2s 2ms/step - loss: 2.2502 - accuracy: 0.2003 - val_loss: 2.2285 - val_accuracy: 0.2570\n",
            "Epoch 3/15\n",
            "934/934 [==============================] - 2s 2ms/step - loss: 2.2116 - accuracy: 0.2912 - val_loss: 2.1929 - val_accuracy: 0.3368\n",
            "Epoch 4/15\n",
            "934/934 [==============================] - 2s 2ms/step - loss: 2.1773 - accuracy: 0.3574 - val_loss: 2.1595 - val_accuracy: 0.3861\n",
            "Epoch 5/15\n",
            "934/934 [==============================] - 2s 2ms/step - loss: 2.1444 - accuracy: 0.3973 - val_loss: 2.1276 - val_accuracy: 0.4213\n",
            "Epoch 6/15\n",
            "934/934 [==============================] - 2s 2ms/step - loss: 2.1140 - accuracy: 0.4280 - val_loss: 2.0977 - val_accuracy: 0.4430\n",
            "Epoch 7/15\n",
            "934/934 [==============================] - 2s 2ms/step - loss: 2.0835 - accuracy: 0.4502 - val_loss: 2.0673 - val_accuracy: 0.4577\n",
            "Epoch 8/15\n",
            "934/934 [==============================] - 2s 2ms/step - loss: 2.0525 - accuracy: 0.4684 - val_loss: 2.0368 - val_accuracy: 0.4731\n",
            "Epoch 9/15\n",
            "934/934 [==============================] - 2s 2ms/step - loss: 2.0212 - accuracy: 0.4784 - val_loss: 2.0051 - val_accuracy: 0.4846\n",
            "Epoch 10/15\n",
            "934/934 [==============================] - 2s 2ms/step - loss: 1.9892 - accuracy: 0.4923 - val_loss: 1.9738 - val_accuracy: 0.4973\n",
            "Epoch 11/15\n",
            "934/934 [==============================] - 2s 2ms/step - loss: 1.9575 - accuracy: 0.5033 - val_loss: 1.9424 - val_accuracy: 0.5073\n",
            "Epoch 12/15\n",
            "934/934 [==============================] - 2s 2ms/step - loss: 1.9257 - accuracy: 0.5135 - val_loss: 1.9108 - val_accuracy: 0.5156\n",
            "Epoch 13/15\n",
            "934/934 [==============================] - 2s 2ms/step - loss: 1.8937 - accuracy: 0.5222 - val_loss: 1.8790 - val_accuracy: 0.5254\n",
            "Epoch 14/15\n",
            "934/934 [==============================] - 2s 2ms/step - loss: 1.8621 - accuracy: 0.5312 - val_loss: 1.8482 - val_accuracy: 0.5311\n",
            "Epoch 15/15\n",
            "934/934 [==============================] - 2s 2ms/step - loss: 1.8309 - accuracy: 0.5373 - val_loss: 1.8178 - val_accuracy: 0.5400\n"
          ],
          "name": "stdout"
        }
      ]
    },
    {
      "cell_type": "code",
      "metadata": {
        "id": "dYBH0KqG6-w2",
        "outputId": "c2d95070-0b6a-4ac3-ad76-95ee9de12102",
        "colab": {
          "base_uri": "https://localhost:8080/",
          "height": 527
        }
      },
      "source": [
        "lr_onetenthousandth = create_model(lr=.0001).fit(X_train, y_train, \n",
        "                                             epochs=15, \n",
        "                                             batch_size=75, \n",
        "                                             validation_data=(X_test, y_test))"
      ],
      "execution_count": 18,
      "outputs": [
        {
          "output_type": "stream",
          "text": [
            "Epoch 1/15\n",
            "934/934 [==============================] - 2s 2ms/step - loss: 2.4954 - accuracy: 0.1002 - val_loss: 2.4721 - val_accuracy: 0.0992\n",
            "Epoch 2/15\n",
            "934/934 [==============================] - 2s 2ms/step - loss: 2.4471 - accuracy: 0.0999 - val_loss: 2.4300 - val_accuracy: 0.0993\n",
            "Epoch 3/15\n",
            "934/934 [==============================] - 2s 2ms/step - loss: 2.4101 - accuracy: 0.0995 - val_loss: 2.3970 - val_accuracy: 0.0980\n",
            "Epoch 4/15\n",
            "934/934 [==============================] - 2s 2ms/step - loss: 2.3812 - accuracy: 0.0998 - val_loss: 2.3707 - val_accuracy: 0.0992\n",
            "Epoch 5/15\n",
            "934/934 [==============================] - 2s 2ms/step - loss: 2.3578 - accuracy: 0.1017 - val_loss: 2.3490 - val_accuracy: 0.1019\n",
            "Epoch 6/15\n",
            "934/934 [==============================] - 2s 2ms/step - loss: 2.3382 - accuracy: 0.1048 - val_loss: 2.3307 - val_accuracy: 0.1057\n",
            "Epoch 7/15\n",
            "934/934 [==============================] - 2s 2ms/step - loss: 2.3218 - accuracy: 0.1092 - val_loss: 2.3153 - val_accuracy: 0.1114\n",
            "Epoch 8/15\n",
            "934/934 [==============================] - 2s 2ms/step - loss: 2.3076 - accuracy: 0.1147 - val_loss: 2.3020 - val_accuracy: 0.1174\n",
            "Epoch 9/15\n",
            "934/934 [==============================] - 2s 2ms/step - loss: 2.2956 - accuracy: 0.1197 - val_loss: 2.2907 - val_accuracy: 0.1246\n",
            "Epoch 10/15\n",
            "934/934 [==============================] - 2s 2ms/step - loss: 2.2851 - accuracy: 0.1254 - val_loss: 2.2807 - val_accuracy: 0.1302\n",
            "Epoch 11/15\n",
            "934/934 [==============================] - 2s 2ms/step - loss: 2.2757 - accuracy: 0.1321 - val_loss: 2.2719 - val_accuracy: 0.1366\n",
            "Epoch 12/15\n",
            "934/934 [==============================] - 2s 2ms/step - loss: 2.2673 - accuracy: 0.1392 - val_loss: 2.2639 - val_accuracy: 0.1449\n",
            "Epoch 13/15\n",
            "934/934 [==============================] - 2s 2ms/step - loss: 2.2597 - accuracy: 0.1478 - val_loss: 2.2567 - val_accuracy: 0.1530\n",
            "Epoch 14/15\n",
            "934/934 [==============================] - 2s 2ms/step - loss: 2.2527 - accuracy: 0.1593 - val_loss: 2.2500 - val_accuracy: 0.1654\n",
            "Epoch 15/15\n",
            "934/934 [==============================] - 2s 2ms/step - loss: 2.2463 - accuracy: 0.1706 - val_loss: 2.2436 - val_accuracy: 0.1790\n"
          ],
          "name": "stdout"
        }
      ]
    },
    {
      "cell_type": "code",
      "metadata": {
        "id": "hMT6N4NK7ZeM",
        "outputId": "97963ecf-6fe2-45df-c5f3-9ae66b5eb3ff",
        "colab": {
          "base_uri": "https://localhost:8080/",
          "height": 204
        }
      },
      "source": [
        "import seaborn as sns\n",
        "import pandas as pd\n",
        "\n",
        "learning_rates = []\n",
        "\n",
        "for exp, result in zip([lr_1, lr_onetenth, lr_oneonehundreth, lr_onethousandth, lr_onetenthousandth], [\"1.0_\", \"0.1\", \"0.01_\", \"0.001_\", \"0.0001_\"]):\n",
        "\n",
        "  df = pd.DataFrame.from_dict(exp.history)\n",
        "  df['epoch'] = df.index.values\n",
        "  df['Learning Rate'] = result\n",
        "\n",
        "  learning_rates.append(df)\n",
        "\n",
        "df = pd.concat(learning_rates)\n",
        "df['Learning Rate'] = df['Learning Rate'].astype('str')\n",
        "df.head()"
      ],
      "execution_count": 19,
      "outputs": [
        {
          "output_type": "execute_result",
          "data": {
            "text/html": [
              "<div>\n",
              "<style scoped>\n",
              "    .dataframe tbody tr th:only-of-type {\n",
              "        vertical-align: middle;\n",
              "    }\n",
              "\n",
              "    .dataframe tbody tr th {\n",
              "        vertical-align: top;\n",
              "    }\n",
              "\n",
              "    .dataframe thead th {\n",
              "        text-align: right;\n",
              "    }\n",
              "</style>\n",
              "<table border=\"1\" class=\"dataframe\">\n",
              "  <thead>\n",
              "    <tr style=\"text-align: right;\">\n",
              "      <th></th>\n",
              "      <th>loss</th>\n",
              "      <th>accuracy</th>\n",
              "      <th>val_loss</th>\n",
              "      <th>val_accuracy</th>\n",
              "      <th>epoch</th>\n",
              "      <th>Learning Rate</th>\n",
              "    </tr>\n",
              "  </thead>\n",
              "  <tbody>\n",
              "    <tr>\n",
              "      <th>0</th>\n",
              "      <td>1.898101</td>\n",
              "      <td>0.287471</td>\n",
              "      <td>1.700418</td>\n",
              "      <td>0.312433</td>\n",
              "      <td>0</td>\n",
              "      <td>1.0_</td>\n",
              "    </tr>\n",
              "    <tr>\n",
              "      <th>1</th>\n",
              "      <td>1.788587</td>\n",
              "      <td>0.312957</td>\n",
              "      <td>1.730872</td>\n",
              "      <td>0.313567</td>\n",
              "      <td>1</td>\n",
              "      <td>1.0_</td>\n",
              "    </tr>\n",
              "    <tr>\n",
              "      <th>2</th>\n",
              "      <td>1.621658</td>\n",
              "      <td>0.388286</td>\n",
              "      <td>1.576983</td>\n",
              "      <td>0.431433</td>\n",
              "      <td>2</td>\n",
              "      <td>1.0_</td>\n",
              "    </tr>\n",
              "    <tr>\n",
              "      <th>3</th>\n",
              "      <td>1.608395</td>\n",
              "      <td>0.397271</td>\n",
              "      <td>1.644824</td>\n",
              "      <td>0.394800</td>\n",
              "      <td>3</td>\n",
              "      <td>1.0_</td>\n",
              "    </tr>\n",
              "    <tr>\n",
              "      <th>4</th>\n",
              "      <td>1.563629</td>\n",
              "      <td>0.422414</td>\n",
              "      <td>1.566847</td>\n",
              "      <td>0.423433</td>\n",
              "      <td>4</td>\n",
              "      <td>1.0_</td>\n",
              "    </tr>\n",
              "  </tbody>\n",
              "</table>\n",
              "</div>"
            ],
            "text/plain": [
              "       loss  accuracy  val_loss  val_accuracy  epoch Learning Rate\n",
              "0  1.898101  0.287471  1.700418      0.312433      0          1.0_\n",
              "1  1.788587  0.312957  1.730872      0.313567      1          1.0_\n",
              "2  1.621658  0.388286  1.576983      0.431433      2          1.0_\n",
              "3  1.608395  0.397271  1.644824      0.394800      3          1.0_\n",
              "4  1.563629  0.422414  1.566847      0.423433      4          1.0_"
            ]
          },
          "metadata": {
            "tags": []
          },
          "execution_count": 19
        }
      ]
    },
    {
      "cell_type": "code",
      "metadata": {
        "id": "H5iUjs488TRJ",
        "outputId": "4332d232-3b18-4268-d1fe-9a102637d220",
        "colab": {
          "base_uri": "https://localhost:8080/",
          "height": 279
        }
      },
      "source": [
        "sns.lineplot(x='epoch', y='val_accuracy', hue='Learning Rate', data=df);"
      ],
      "execution_count": 20,
      "outputs": [
        {
          "output_type": "display_data",
          "data": {
            "image/png": "[encoded data removed]",
            "text/plain": [
              "<Figure size 432x288 with 1 Axes>"
            ]
          },
          "metadata": {
            "tags": [],
            "needs_background": "light"
          }
        }
      ]
    },
    {
      "cell_type": "code",
      "metadata": {
        "id": "V89Vz2Tv8edS",
        "outputId": "4df21bca-006a-4684-b806-d77ced8059a5",
        "colab": {
          "base_uri": "https://localhost:8080/",
          "height": 296
        }
      },
      "source": [
        "sns.lineplot(x='epoch', y='val_loss', hue='Learning Rate', data=df)"
      ],
      "execution_count": 21,
      "outputs": [
        {
          "output_type": "execute_result",
          "data": {
            "text/plain": [
              "<matplotlib.axes._subplots.AxesSubplot at 0x7ff1a926c128>"
            ]
          },
          "metadata": {
            "tags": []
          },
          "execution_count": 21
        },
        {
          "output_type": "display_data",
          "data": {
            "image/png": "[encoded data removed]",
            "text/plain": [
              "<Figure size 432x288 with 1 Axes>"
            ]
          },
          "metadata": {
            "tags": [],
            "needs_background": "light"
          }
        }
      ]
    },
    {
      "cell_type": "markdown",
      "metadata": {
        "id": "gxMtSRhV9Q7I"
      },
      "source": [
        "### Experiment with different Optimizers\n",
        "* Run 5 experiments with various optimizers available in TensorFlow. See list [here](https://www.tensorflow.org/api_docs/python/tf/keras/optimizers)\n",
        "* Visualize the results\n",
        "* Write up an analysis of the experiments and select the \"best\" performing model among your experiments. Make sure to compare against the previous experiments and your model's performance yesterday.\n",
        "* Repeat the experiment combining Learning Rate and different optimizers. Does the best performing model change? "
      ]
    },
    {
      "cell_type": "code",
      "metadata": {
        "id": "ujLuzdNA91ip",
        "outputId": "10cce6f6-292a-4e40-e9f0-083da6ac0404",
        "colab": {
          "base_uri": "https://localhost:8080/",
          "height": 527
        }
      },
      "source": [
        "sgd = create_model().fit(X_train, y_train, \n",
        "                        epochs=15, \n",
        "                        batch_size=75, \n",
        "                        validation_data=(X_test, y_test))"
      ],
      "execution_count": 22,
      "outputs": [
        {
          "output_type": "stream",
          "text": [
            "Epoch 1/15\n",
            "934/934 [==============================] - 2s 2ms/step - loss: 2.1085 - accuracy: 0.3623 - val_loss: 1.9229 - val_accuracy: 0.4734\n",
            "Epoch 2/15\n",
            "934/934 [==============================] - 2s 2ms/step - loss: 1.7688 - accuracy: 0.5133 - val_loss: 1.6263 - val_accuracy: 0.5480\n",
            "Epoch 3/15\n",
            "934/934 [==============================] - 2s 2ms/step - loss: 1.5153 - accuracy: 0.5637 - val_loss: 1.4200 - val_accuracy: 0.5817\n",
            "Epoch 4/15\n",
            "934/934 [==============================] - 2s 2ms/step - loss: 1.3506 - accuracy: 0.5956 - val_loss: 1.2954 - val_accuracy: 0.5951\n",
            "Epoch 5/15\n",
            "934/934 [==============================] - 2s 2ms/step - loss: 1.2534 - accuracy: 0.6161 - val_loss: 1.2167 - val_accuracy: 0.6273\n",
            "Epoch 6/15\n",
            "934/934 [==============================] - 2s 2ms/step - loss: 1.1870 - accuracy: 0.6413 - val_loss: 1.1598 - val_accuracy: 0.6590\n",
            "Epoch 7/15\n",
            "934/934 [==============================] - 2s 2ms/step - loss: 1.1321 - accuracy: 0.6587 - val_loss: 1.1148 - val_accuracy: 0.6698\n",
            "Epoch 8/15\n",
            "934/934 [==============================] - 2s 2ms/step - loss: 1.0911 - accuracy: 0.6719 - val_loss: 1.0748 - val_accuracy: 0.6735\n",
            "Epoch 9/15\n",
            "934/934 [==============================] - 2s 2ms/step - loss: 1.0558 - accuracy: 0.6823 - val_loss: 1.0515 - val_accuracy: 0.6887\n",
            "Epoch 10/15\n",
            "934/934 [==============================] - 2s 2ms/step - loss: 1.0191 - accuracy: 0.6945 - val_loss: 1.0279 - val_accuracy: 0.6959\n",
            "Epoch 11/15\n",
            "934/934 [==============================] - 2s 2ms/step - loss: 0.9927 - accuracy: 0.7023 - val_loss: 0.9832 - val_accuracy: 0.7057\n",
            "Epoch 12/15\n",
            "934/934 [==============================] - 2s 2ms/step - loss: 0.9712 - accuracy: 0.7082 - val_loss: 0.9587 - val_accuracy: 0.7167\n",
            "Epoch 13/15\n",
            "934/934 [==============================] - 2s 2ms/step - loss: 0.9386 - accuracy: 0.7188 - val_loss: 0.9393 - val_accuracy: 0.7171\n",
            "Epoch 14/15\n",
            "934/934 [==============================] - 2s 2ms/step - loss: 0.9182 - accuracy: 0.7242 - val_loss: 0.9211 - val_accuracy: 0.7238\n",
            "Epoch 15/15\n",
            "934/934 [==============================] - 2s 2ms/step - loss: 0.9072 - accuracy: 0.7281 - val_loss: 0.9049 - val_accuracy: 0.7273\n"
          ],
          "name": "stdout"
        }
      ]
    },
    {
      "cell_type": "code",
      "metadata": {
        "id": "nlfgN-3P_UJv",
        "outputId": "dc4e531b-b8d8-4225-c159-249d5a674999",
        "colab": {
          "base_uri": "https://localhost:8080/",
          "height": 527
        }
      },
      "source": [
        "adam = create_model(optimizer=Adam).fit(X_train, y_train, \n",
        "                                        epochs=15, \n",
        "                                        batch_size=75, \n",
        "                                        validation_data=(X_test, y_test))"
      ],
      "execution_count": 23,
      "outputs": [
        {
          "output_type": "stream",
          "text": [
            "Epoch 1/15\n",
            "934/934 [==============================] - 2s 2ms/step - loss: 1.5952 - accuracy: 0.4113 - val_loss: 1.3231 - val_accuracy: 0.5551\n",
            "Epoch 2/15\n",
            "934/934 [==============================] - 2s 2ms/step - loss: 1.2858 - accuracy: 0.5527 - val_loss: 1.2769 - val_accuracy: 0.5579\n",
            "Epoch 3/15\n",
            "934/934 [==============================] - 2s 2ms/step - loss: 1.3000 - accuracy: 0.5442 - val_loss: 1.3206 - val_accuracy: 0.5567\n",
            "Epoch 4/15\n",
            "934/934 [==============================] - 2s 2ms/step - loss: 1.2934 - accuracy: 0.5501 - val_loss: 1.2914 - val_accuracy: 0.5490\n",
            "Epoch 5/15\n",
            "934/934 [==============================] - 2s 2ms/step - loss: 1.3006 - accuracy: 0.5400 - val_loss: 1.2770 - val_accuracy: 0.5576\n",
            "Epoch 6/15\n",
            "934/934 [==============================] - 2s 2ms/step - loss: 1.2909 - accuracy: 0.5569 - val_loss: 1.1935 - val_accuracy: 0.5987\n",
            "Epoch 7/15\n",
            "934/934 [==============================] - 2s 2ms/step - loss: 1.1896 - accuracy: 0.5987 - val_loss: 1.1553 - val_accuracy: 0.6182\n",
            "Epoch 8/15\n",
            "934/934 [==============================] - 2s 2ms/step - loss: 1.1669 - accuracy: 0.6079 - val_loss: 1.1878 - val_accuracy: 0.5881\n",
            "Epoch 9/15\n",
            "934/934 [==============================] - 2s 2ms/step - loss: 1.1927 - accuracy: 0.5860 - val_loss: 1.1978 - val_accuracy: 0.5921\n",
            "Epoch 10/15\n",
            "934/934 [==============================] - 2s 2ms/step - loss: 1.1995 - accuracy: 0.5879 - val_loss: 1.2323 - val_accuracy: 0.5588\n",
            "Epoch 11/15\n",
            "934/934 [==============================] - 3s 3ms/step - loss: 1.2386 - accuracy: 0.5621 - val_loss: 1.1566 - val_accuracy: 0.6066\n",
            "Epoch 12/15\n",
            "934/934 [==============================] - 3s 3ms/step - loss: 1.2159 - accuracy: 0.5778 - val_loss: 1.2520 - val_accuracy: 0.5724\n",
            "Epoch 13/15\n",
            "934/934 [==============================] - 3s 3ms/step - loss: 1.2403 - accuracy: 0.5728 - val_loss: 1.2649 - val_accuracy: 0.5480\n",
            "Epoch 14/15\n",
            "934/934 [==============================] - 2s 3ms/step - loss: 1.2151 - accuracy: 0.5851 - val_loss: 1.2300 - val_accuracy: 0.5753\n",
            "Epoch 15/15\n",
            "934/934 [==============================] - 2s 2ms/step - loss: 1.1829 - accuracy: 0.6018 - val_loss: 1.1291 - val_accuracy: 0.6259\n"
          ],
          "name": "stdout"
        }
      ]
    },
    {
      "cell_type": "code",
      "metadata": {
        "id": "nLQQ9A_c_Zym",
        "outputId": "f6068ffc-a2a4-445f-ad13-c7adc25d7b61",
        "colab": {
          "base_uri": "https://localhost:8080/",
          "height": 527
        }
      },
      "source": [
        "from tensorflow.keras.optimizers import Adadelta\n",
        "\n",
        "adadelta = create_model(optimizer=Adadelta).fit(X_train, y_train, \n",
        "                                                epochs=15, \n",
        "                                                batch_size=75, \n",
        "                                                validation_data=(X_test, y_test))"
      ],
      "execution_count": 24,
      "outputs": [
        {
          "output_type": "stream",
          "text": [
            "Epoch 1/15\n",
            "934/934 [==============================] - 2s 2ms/step - loss: 2.3842 - accuracy: 0.1105 - val_loss: 2.3277 - val_accuracy: 0.1230\n",
            "Epoch 2/15\n",
            "934/934 [==============================] - 2s 2ms/step - loss: 2.2904 - accuracy: 0.1482 - val_loss: 2.2616 - val_accuracy: 0.1868\n",
            "Epoch 3/15\n",
            "934/934 [==============================] - 2s 2ms/step - loss: 2.2379 - accuracy: 0.2374 - val_loss: 2.2188 - val_accuracy: 0.2701\n",
            "Epoch 4/15\n",
            "934/934 [==============================] - 2s 2ms/step - loss: 2.1991 - accuracy: 0.2989 - val_loss: 2.1828 - val_accuracy: 0.3148\n",
            "Epoch 5/15\n",
            "934/934 [==============================] - 2s 2ms/step - loss: 2.1634 - accuracy: 0.3345 - val_loss: 2.1473 - val_accuracy: 0.3443\n",
            "Epoch 6/15\n",
            "934/934 [==============================] - 2s 2ms/step - loss: 2.1277 - accuracy: 0.3629 - val_loss: 2.1114 - val_accuracy: 0.3720\n",
            "Epoch 7/15\n",
            "934/934 [==============================] - 2s 2ms/step - loss: 2.0920 - accuracy: 0.3883 - val_loss: 2.0763 - val_accuracy: 0.3953\n",
            "Epoch 8/15\n",
            "934/934 [==============================] - 2s 2ms/step - loss: 2.0567 - accuracy: 0.4085 - val_loss: 2.0413 - val_accuracy: 0.4120\n",
            "Epoch 9/15\n",
            "934/934 [==============================] - 2s 2ms/step - loss: 2.0217 - accuracy: 0.4252 - val_loss: 2.0062 - val_accuracy: 0.4269\n",
            "Epoch 10/15\n",
            "934/934 [==============================] - 2s 2ms/step - loss: 1.9868 - accuracy: 0.4365 - val_loss: 1.9716 - val_accuracy: 0.4402\n",
            "Epoch 11/15\n",
            "934/934 [==============================] - 2s 2ms/step - loss: 1.9524 - accuracy: 0.4486 - val_loss: 1.9381 - val_accuracy: 0.4498\n",
            "Epoch 12/15\n",
            "934/934 [==============================] - 2s 2ms/step - loss: 1.9189 - accuracy: 0.4583 - val_loss: 1.9053 - val_accuracy: 0.4578\n",
            "Epoch 13/15\n",
            "934/934 [==============================] - 2s 2ms/step - loss: 1.8862 - accuracy: 0.4660 - val_loss: 1.8730 - val_accuracy: 0.4662\n",
            "Epoch 14/15\n",
            "934/934 [==============================] - 2s 2ms/step - loss: 1.8544 - accuracy: 0.4733 - val_loss: 1.8421 - val_accuracy: 0.4721\n",
            "Epoch 15/15\n",
            "934/934 [==============================] - 2s 2ms/step - loss: 1.8236 - accuracy: 0.4805 - val_loss: 1.8121 - val_accuracy: 0.4778\n"
          ],
          "name": "stdout"
        }
      ]
    },
    {
      "cell_type": "code",
      "metadata": {
        "id": "ScDzqPb6_clw",
        "outputId": "835492ba-ca7c-4f4a-a436-00c7965c59f0",
        "colab": {
          "base_uri": "https://localhost:8080/",
          "height": 527
        }
      },
      "source": [
        "from tensorflow.keras.optimizers import Ftrl\n",
        "\n",
        "ftrl = create_model(optimizer=Ftrl).fit(X_train, y_train, \n",
        "                                        epochs=15, \n",
        "                                        batch_size=75, \n",
        "                                        validation_data=(X_test, y_test))"
      ],
      "execution_count": 25,
      "outputs": [
        {
          "output_type": "stream",
          "text": [
            "Epoch 1/15\n",
            "934/934 [==============================] - 3s 3ms/step - loss: 2.3033 - accuracy: 0.0999 - val_loss: 2.3029 - val_accuracy: 0.0993\n",
            "Epoch 2/15\n",
            "934/934 [==============================] - 2s 3ms/step - loss: 2.2911 - accuracy: 0.1355 - val_loss: 2.2420 - val_accuracy: 0.1897\n",
            "Epoch 3/15\n",
            "934/934 [==============================] - 2s 3ms/step - loss: 2.0694 - accuracy: 0.1961 - val_loss: 1.9396 - val_accuracy: 0.2123\n",
            "Epoch 4/15\n",
            "934/934 [==============================] - 2s 2ms/step - loss: 1.8929 - accuracy: 0.2339 - val_loss: 1.8615 - val_accuracy: 0.2557\n",
            "Epoch 5/15\n",
            "934/934 [==============================] - 2s 3ms/step - loss: 1.8282 - accuracy: 0.2760 - val_loss: 1.8030 - val_accuracy: 0.3011\n",
            "Epoch 6/15\n",
            "934/934 [==============================] - 2s 3ms/step - loss: 1.7742 - accuracy: 0.3141 - val_loss: 1.7546 - val_accuracy: 0.3224\n",
            "Epoch 7/15\n",
            "934/934 [==============================] - 2s 3ms/step - loss: 1.7315 - accuracy: 0.3335 - val_loss: 1.7166 - val_accuracy: 0.3427\n",
            "Epoch 8/15\n",
            "934/934 [==============================] - 2s 3ms/step - loss: 1.6966 - accuracy: 0.3533 - val_loss: 1.6858 - val_accuracy: 0.3708\n",
            "Epoch 9/15\n",
            "934/934 [==============================] - 2s 3ms/step - loss: 1.6680 - accuracy: 0.3850 - val_loss: 1.6632 - val_accuracy: 0.4082\n",
            "Epoch 10/15\n",
            "934/934 [==============================] - 2s 3ms/step - loss: 1.6443 - accuracy: 0.4114 - val_loss: 1.6466 - val_accuracy: 0.4121\n",
            "Epoch 11/15\n",
            "934/934 [==============================] - 2s 3ms/step - loss: 1.6248 - accuracy: 0.4223 - val_loss: 1.6309 - val_accuracy: 0.4179\n",
            "Epoch 12/15\n",
            "934/934 [==============================] - 2s 3ms/step - loss: 1.6055 - accuracy: 0.4267 - val_loss: 1.6119 - val_accuracy: 0.4368\n",
            "Epoch 13/15\n",
            "934/934 [==============================] - 3s 3ms/step - loss: 1.5845 - accuracy: 0.4449 - val_loss: 1.5902 - val_accuracy: 0.4437\n",
            "Epoch 14/15\n",
            "934/934 [==============================] - 2s 3ms/step - loss: 1.5611 - accuracy: 0.4583 - val_loss: 1.5701 - val_accuracy: 0.4588\n",
            "Epoch 15/15\n",
            "934/934 [==============================] - 2s 3ms/step - loss: 1.5344 - accuracy: 0.4736 - val_loss: 1.5335 - val_accuracy: 0.4771\n"
          ],
          "name": "stdout"
        }
      ]
    },
    {
      "cell_type": "code",
      "metadata": {
        "id": "z1e3g7tA_hJi",
        "outputId": "bf589a8d-7973-44ca-fdcc-c3c2ed23375e",
        "colab": {
          "base_uri": "https://localhost:8080/",
          "height": 527
        }
      },
      "source": [
        "from tensorflow.keras.optimizers import RMSprop\n",
        "\n",
        "rmsprop = create_model(optimizer=RMSprop).fit(X_train, y_train, \n",
        "                                          epochs=15, \n",
        "                                          batch_size=75, \n",
        "                                          validation_data=(X_test, y_test))"
      ],
      "execution_count": 26,
      "outputs": [
        {
          "output_type": "stream",
          "text": [
            "Epoch 1/15\n",
            "934/934 [==============================] - 2s 2ms/step - loss: 1.3376 - accuracy: 0.5380 - val_loss: 1.1662 - val_accuracy: 0.5936\n",
            "Epoch 2/15\n",
            "934/934 [==============================] - 2s 2ms/step - loss: 1.0705 - accuracy: 0.6495 - val_loss: 0.9870 - val_accuracy: 0.6914\n",
            "Epoch 3/15\n",
            "934/934 [==============================] - 2s 2ms/step - loss: 0.9970 - accuracy: 0.6799 - val_loss: 1.0215 - val_accuracy: 0.6772\n",
            "Epoch 4/15\n",
            "934/934 [==============================] - 2s 2ms/step - loss: 0.9779 - accuracy: 0.6873 - val_loss: 0.9215 - val_accuracy: 0.7046\n",
            "Epoch 5/15\n",
            "934/934 [==============================] - 2s 2ms/step - loss: 0.9355 - accuracy: 0.6994 - val_loss: 0.9304 - val_accuracy: 0.7119\n",
            "Epoch 6/15\n",
            "934/934 [==============================] - 2s 2ms/step - loss: 0.9137 - accuracy: 0.7087 - val_loss: 0.9227 - val_accuracy: 0.7045\n",
            "Epoch 7/15\n",
            "934/934 [==============================] - 2s 2ms/step - loss: 0.9049 - accuracy: 0.7124 - val_loss: 0.9118 - val_accuracy: 0.7095\n",
            "Epoch 8/15\n",
            "934/934 [==============================] - 2s 2ms/step - loss: 0.8907 - accuracy: 0.7156 - val_loss: 0.8929 - val_accuracy: 0.7083\n",
            "Epoch 9/15\n",
            "934/934 [==============================] - 2s 2ms/step - loss: 0.8856 - accuracy: 0.7191 - val_loss: 0.8726 - val_accuracy: 0.7240\n",
            "Epoch 10/15\n",
            "934/934 [==============================] - 2s 2ms/step - loss: 0.8807 - accuracy: 0.7190 - val_loss: 0.8879 - val_accuracy: 0.7228\n",
            "Epoch 11/15\n",
            "934/934 [==============================] - 2s 2ms/step - loss: 0.8760 - accuracy: 0.7241 - val_loss: 0.8789 - val_accuracy: 0.7259\n",
            "Epoch 12/15\n",
            "934/934 [==============================] - 2s 2ms/step - loss: 0.8796 - accuracy: 0.7229 - val_loss: 0.9226 - val_accuracy: 0.7052\n",
            "Epoch 13/15\n",
            "934/934 [==============================] - 2s 2ms/step - loss: 0.8925 - accuracy: 0.7177 - val_loss: 0.8713 - val_accuracy: 0.7240\n",
            "Epoch 14/15\n",
            "934/934 [==============================] - 2s 2ms/step - loss: 0.8668 - accuracy: 0.7283 - val_loss: 0.8948 - val_accuracy: 0.7201\n",
            "Epoch 15/15\n",
            "934/934 [==============================] - 2s 2ms/step - loss: 0.8827 - accuracy: 0.7199 - val_loss: 0.8768 - val_accuracy: 0.7224\n"
          ],
          "name": "stdout"
        }
      ]
    },
    {
      "cell_type": "markdown",
      "metadata": {
        "id": "ydAqeY9S8uHA"
      },
      "source": [
        "### Additional Written Tasks\n",
        "\n",
        "1. Describe the process of backpropagation in your own words: \n",
        "```\n",
        "The process of updating the weights and bias of a Neural Network in order to get a batter accuracy rating\n",
        "```\n",
        "\n"
      ]
    },
    {
      "cell_type": "markdown",
      "metadata": {
        "id": "FwlRJSfBlCvy"
      },
      "source": [
        "## Stretch Goals: \n",
        "\n",
        "- Implement GridSearch on anyone of the experiments\n",
        "- On the learning rate experiments, implement [EarlyStopping](https://www.tensorflow.org/api_docs/python/tf/keras/callbacks/EarlyStopping)\n",
        "- Review material on the math behind gradient descent: \n",
        "\n",
        "  - Gradient Descent\n",
        "    - Gradient Descent, Step-by-Step  by StatQuest w/ Josh Starmer. This will help you understand the gradient descent based optimization that happens underneath the hood of neural networks. It uses a non-neural network example, which I believe is a gentler introduction. You will hear me refer to this technique as \"vanilla\" gradient descent. \n",
        "    - Stochastic Gradient Descent, Clearly Explained!!! by StatQuest w/ Josh Starmer. This builds on the techniques in the previous video.  This technique is the one that is actually implemented inside modern 'nets. \n",
        "These are great resources to help you understand tomorrow's material at a deeper level. I highly recommend watching these ahead of tomorrow.\n",
        "\n",
        "  - Background Math\n",
        "    - Dot products and duality by 3Blue1Brown. Explains the core linear algebra operation happening in today's perceptron.\n",
        "The paradox of the derivative by 3Blue1Brown. Does a great job explaining a derivative. \n",
        "    - Visualizing the chain rule and product rule by 3Blue1Brown. Explains the black magic that happens within Stochastic Gradient Descent. \n",
        "These math resources are very much optional. They can be very heady, but I encourage you to explore. Your understanding of neural networks will greatly increase if you understand this math background.\n",
        "\n",
        "\n"
      ]
    }
  ]
}