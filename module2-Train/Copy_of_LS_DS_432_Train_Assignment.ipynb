{
  "nbformat": 4,
  "nbformat_minor": 0,
  "metadata": {
    "colab": {
      "name": "Copy of LS_DS_432_Train_Assignment.ipynb",
      "provenance": [],
      "collapsed_sections": [],
      "include_colab_link": true
    },
    "kernelspec": {
      "display_name": "Python 3",
      "language": "python",
      "name": "python3"
    },
    "language_info": {
      "codemirror_mode": {
        "name": "ipython",
        "version": 3
      },
      "file_extension": ".py",
      "mimetype": "text/x-python",
      "name": "python",
      "nbconvert_exporter": "python",
      "pygments_lexer": "ipython3",
      "version": "3.7.3"
    },
    "nteract": {
      "version": "0.22.4"
    }
  },
  "cells": [
    {
      "cell_type": "markdown",
      "metadata": {
        "id": "view-in-github",
        "colab_type": "text"
      },
      "source": [
        "<a href=\"https://colab.research.google.com/github/evangrinalds/DS-Unit-4-Sprint-2-Neural-Networks/blob/main/module2-Train/Copy_of_LS_DS_432_Train_Assignment.ipynb\" target=\"_parent\"><img src=\"https://colab.research.google.com/assets/colab-badge.svg\" alt=\"Open In Colab\"/></a>"
      ]
    },
    {
      "cell_type": "markdown",
      "metadata": {
        "colab_type": "text",
        "id": "NGGrt9EYlCqY"
      },
      "source": [
        "<img align=\"left\" src=\"https://lever-client-logos.s3.amazonaws.com/864372b1-534c-480e-acd5-9711f850815c-1524247202159.png\" width=200>\n",
        "<br></br>\n",
        "<br></br>\n",
        "\n",
        "# Train Practice\n",
        "\n",
        "## *Data Science Unit 4 Sprint 2 Assignment 2*\n",
        "\n",
        "Continue to use TensorFlow Keras & a sample of the [Quickdraw dataset](https://github.com/googlecreativelab/quickdraw-dataset) to build a sketch classification model. The dataset has been sampled to only 10 classes and 10000 observations per class. Please build a baseline classification model then run a few experiments with different optimizers and learning rates. \n",
        "\n",
        "*Don't forgot to switch to GPU on Colab!*"
      ]
    },
    {
      "cell_type": "markdown",
      "metadata": {
        "id": "ptJ2b3wk62Ud",
        "colab_type": "text"
      },
      "source": [
        "### Write a function to load your data\n",
        "\n",
        "Wrap yesterday's preprocessing steps into a function that returns four items:\n",
        "* X_train\n",
        "* y_train\n",
        "* X_test\n",
        "* y_test\n",
        "\n",
        "Your function should accept a `path` to the data as a argument."
      ]
    },
    {
      "cell_type": "code",
      "metadata": {
        "id": "nJsIsrvp7O3e",
        "colab_type": "code",
        "colab": {}
      },
      "source": [
        "from sklearn.model_selection import train_test_split \n",
        "import numpy as np\n",
        "def load_quickdraw10(path):\n",
        "\n",
        "  data = np.load(path)\n",
        "  X = data['arr_0']\n",
        "  y = data['arr_1']\n",
        "\n",
        "  X_train, X_test, y_train, y_test = train_test_split(X, y, test_size=.3,\n",
        "                                                      random_state=42)\n",
        "\n",
        "  return X_train, X_test, y_train, y_test"
      ],
      "execution_count": 12,
      "outputs": []
    },
    {
      "cell_type": "code",
      "metadata": {
        "id": "djF7BCOWv758",
        "colab_type": "code",
        "colab": {}
      },
      "source": [
        "X_train, X_test, y_train, y_test = load_quickdraw10('sample_data/quickdraw10.npz')"
      ],
      "execution_count": 20,
      "outputs": []
    },
    {
      "cell_type": "code",
      "metadata": {
        "id": "iIxmcLe4weTo",
        "colab_type": "code",
        "colab": {
          "base_uri": "https://localhost:8080/",
          "height": 34
        },
        "outputId": "df5a8061-e807-4a07-c506-92309db3aafb"
      },
      "source": [
        "X_train.shape\n",
        "y_train.shape"
      ],
      "execution_count": 22,
      "outputs": [
        {
          "output_type": "execute_result",
          "data": {
            "text/plain": [
              "(70000,)"
            ]
          },
          "metadata": {
            "tags": []
          },
          "execution_count": 22
        }
      ]
    },
    {
      "cell_type": "markdown",
      "metadata": {
        "id": "l-6PxI6H5__2",
        "colab_type": "text"
      },
      "source": [
        "### Write a Model Function\n",
        "Using your model from yesterday, write a function called `create_model` which returns a compiled TensorFlow Keras Sequential Model suitable for classifying the QuickDraw-10 dataset. Include parameters for the following: \n",
        "* Learning Rate\n",
        "* Optimizer"
      ]
    },
    {
      "cell_type": "code",
      "metadata": {
        "colab_type": "code",
        "id": "nEREYT-3wI1f",
        "colab": {}
      },
      "source": [
        "# Imports\n",
        "from tensorflow.keras import Sequential\n",
        "from tensorflow.keras.layers import Dense\n",
        "from tensorflow.keras.optimizers import SGD, Adam\n",
        "\n",
        "def create_model(lr=.01, optimizer=SGD):\n",
        "  \n",
        "  opt = optimizer(learning_rate=lr)\n",
        "\n",
        "  model = Sequential(\n",
        "      [\n",
        "      Dense(32, activation='sigmoid', input_dim=784),\n",
        "      Dense(32, activation='sigmoid'), \n",
        "      Dense(10, activation='softmax')\n",
        "      ]\n",
        "  )\n",
        "\n",
        "  model.compile(optimizer=opt, loss='sparse_categorical_crossentropy', metrics=['accuracy'])\n",
        "  \n",
        "  return model"
      ],
      "execution_count": 28,
      "outputs": []
    },
    {
      "cell_type": "markdown",
      "metadata": {
        "id": "f0pCkh8C7eGL",
        "colab_type": "text"
      },
      "source": [
        "### Experiment with Batch Size\n",
        "* Run 5 experiments with various batch sizes of your choice. \n",
        "* Visualize the results\n",
        "* Write up an analysis of the experiments and select the \"best\" performing model among your experiments. Make sure to compare against your model's performance yesterday. \n",
        "\n",
        "Analysis: Higher batch size had better accuracy than lower batch size"
      ]
    },
    {
      "cell_type": "code",
      "metadata": {
        "id": "USXjs7Hk71Hy",
        "colab_type": "code",
        "colab": {
          "base_uri": "https://localhost:8080/",
          "height": 527
        },
        "outputId": "4083f82a-b760-4de3-8789-852c2b432afb"
      },
      "source": [
        "batch_32 = create_model()\n",
        "\n",
        "batch_default = batch_32.fit(X_train, y_train, \n",
        "                             epochs=15, \n",
        "                             batch_size=32, \n",
        "                             validation_data=(X_test, y_test))"
      ],
      "execution_count": 29,
      "outputs": [
        {
          "output_type": "stream",
          "text": [
            "Epoch 1/15\n",
            "2188/2188 [==============================] - 3s 2ms/step - loss: 1.8965 - accuracy: 0.4334 - val_loss: 1.5705 - val_accuracy: 0.5327\n",
            "Epoch 2/15\n",
            "2188/2188 [==============================] - 3s 1ms/step - loss: 1.4054 - accuracy: 0.5875 - val_loss: 1.2817 - val_accuracy: 0.6304\n",
            "Epoch 3/15\n",
            "2188/2188 [==============================] - 3s 2ms/step - loss: 1.1962 - accuracy: 0.6448 - val_loss: 1.1400 - val_accuracy: 0.6537\n",
            "Epoch 4/15\n",
            "2188/2188 [==============================] - 3s 1ms/step - loss: 1.0897 - accuracy: 0.6680 - val_loss: 1.0469 - val_accuracy: 0.6789\n",
            "Epoch 5/15\n",
            "2188/2188 [==============================] - 3s 1ms/step - loss: 1.0245 - accuracy: 0.6858 - val_loss: 1.0164 - val_accuracy: 0.6817\n",
            "Epoch 6/15\n",
            "2188/2188 [==============================] - 3s 1ms/step - loss: 0.9989 - accuracy: 0.6882 - val_loss: 0.9927 - val_accuracy: 0.6906\n",
            "Epoch 7/15\n",
            "2188/2188 [==============================] - 3s 1ms/step - loss: 0.9663 - accuracy: 0.7010 - val_loss: 0.9513 - val_accuracy: 0.7089\n",
            "Epoch 8/15\n",
            "2188/2188 [==============================] - 3s 2ms/step - loss: 0.9361 - accuracy: 0.7094 - val_loss: 0.9275 - val_accuracy: 0.7131\n",
            "Epoch 9/15\n",
            "2188/2188 [==============================] - 3s 2ms/step - loss: 0.9225 - accuracy: 0.7122 - val_loss: 0.9255 - val_accuracy: 0.7137\n",
            "Epoch 10/15\n",
            "2188/2188 [==============================] - 3s 2ms/step - loss: 0.9140 - accuracy: 0.7146 - val_loss: 0.9003 - val_accuracy: 0.7176\n",
            "Epoch 11/15\n",
            "2188/2188 [==============================] - 4s 2ms/step - loss: 0.8928 - accuracy: 0.7215 - val_loss: 0.8937 - val_accuracy: 0.7198\n",
            "Epoch 12/15\n",
            "2188/2188 [==============================] - 4s 2ms/step - loss: 0.8931 - accuracy: 0.7206 - val_loss: 0.9085 - val_accuracy: 0.7183\n",
            "Epoch 13/15\n",
            "2188/2188 [==============================] - 4s 2ms/step - loss: 0.8851 - accuracy: 0.7214 - val_loss: 0.8871 - val_accuracy: 0.7208\n",
            "Epoch 14/15\n",
            "2188/2188 [==============================] - 4s 2ms/step - loss: 0.8803 - accuracy: 0.7245 - val_loss: 0.8626 - val_accuracy: 0.7313\n",
            "Epoch 15/15\n",
            "2188/2188 [==============================] - 4s 2ms/step - loss: 0.8764 - accuracy: 0.7276 - val_loss: 0.8801 - val_accuracy: 0.7307\n"
          ],
          "name": "stdout"
        }
      ]
    },
    {
      "cell_type": "code",
      "metadata": {
        "id": "zvbRbFlM1jNV",
        "colab_type": "code",
        "colab": {
          "base_uri": "https://localhost:8080/",
          "height": 527
        },
        "outputId": "0a98fe11-58a5-4996-e912-399e8886f684"
      },
      "source": [
        "batch_10 = create_model()\n",
        "\n",
        "batch_10 = batch_10.fit(X_train, y_train,\n",
        "                              epochs=15,\n",
        "                              batch_size=10,\n",
        "                              validation_data=(X_test, y_test))"
      ],
      "execution_count": 30,
      "outputs": [
        {
          "output_type": "stream",
          "text": [
            "Epoch 1/15\n",
            "7000/7000 [==============================] - 9s 1ms/step - loss: 1.6095 - accuracy: 0.5130 - val_loss: 1.2851 - val_accuracy: 0.6167\n",
            "Epoch 2/15\n",
            "7000/7000 [==============================] - 9s 1ms/step - loss: 1.1974 - accuracy: 0.6263 - val_loss: 1.1269 - val_accuracy: 0.6520\n",
            "Epoch 3/15\n",
            "7000/7000 [==============================] - 9s 1ms/step - loss: 1.1349 - accuracy: 0.6375 - val_loss: 1.1451 - val_accuracy: 0.6278\n",
            "Epoch 4/15\n",
            "7000/7000 [==============================] - 9s 1ms/step - loss: 1.1147 - accuracy: 0.6439 - val_loss: 1.0758 - val_accuracy: 0.6609\n",
            "Epoch 5/15\n",
            "7000/7000 [==============================] - 9s 1ms/step - loss: 1.0857 - accuracy: 0.6547 - val_loss: 1.1071 - val_accuracy: 0.6356\n",
            "Epoch 6/15\n",
            "7000/7000 [==============================] - 9s 1ms/step - loss: 1.0821 - accuracy: 0.6575 - val_loss: 1.0637 - val_accuracy: 0.6724\n",
            "Epoch 7/15\n",
            "7000/7000 [==============================] - 9s 1ms/step - loss: 1.0433 - accuracy: 0.6746 - val_loss: 1.0845 - val_accuracy: 0.6437\n",
            "Epoch 8/15\n",
            "7000/7000 [==============================] - 9s 1ms/step - loss: 1.0280 - accuracy: 0.6648 - val_loss: 1.0055 - val_accuracy: 0.6773\n",
            "Epoch 9/15\n",
            "7000/7000 [==============================] - 9s 1ms/step - loss: 1.0110 - accuracy: 0.6812 - val_loss: 1.0056 - val_accuracy: 0.6784\n",
            "Epoch 10/15\n",
            "7000/7000 [==============================] - 9s 1ms/step - loss: 1.0153 - accuracy: 0.6761 - val_loss: 0.9909 - val_accuracy: 0.6825\n",
            "Epoch 11/15\n",
            "7000/7000 [==============================] - 9s 1ms/step - loss: 0.9856 - accuracy: 0.6839 - val_loss: 0.9384 - val_accuracy: 0.6988\n",
            "Epoch 12/15\n",
            "7000/7000 [==============================] - 9s 1ms/step - loss: 0.9767 - accuracy: 0.6891 - val_loss: 0.9711 - val_accuracy: 0.6922\n",
            "Epoch 13/15\n",
            "7000/7000 [==============================] - 9s 1ms/step - loss: 0.9661 - accuracy: 0.6965 - val_loss: 0.9513 - val_accuracy: 0.6991\n",
            "Epoch 14/15\n",
            "7000/7000 [==============================] - 9s 1ms/step - loss: 0.9651 - accuracy: 0.6938 - val_loss: 0.9942 - val_accuracy: 0.6784\n",
            "Epoch 15/15\n",
            "7000/7000 [==============================] - 9s 1ms/step - loss: 0.9642 - accuracy: 0.6924 - val_loss: 0.9606 - val_accuracy: 0.6938\n"
          ],
          "name": "stdout"
        }
      ]
    },
    {
      "cell_type": "code",
      "metadata": {
        "id": "hAP-7H4K11CJ",
        "colab_type": "code",
        "colab": {
          "base_uri": "https://localhost:8080/",
          "height": 527
        },
        "outputId": "7882657a-06c4-4c60-ee98-08ef2d466199"
      },
      "source": [
        "batch_6 = create_model().fit(X_train, y_train,\n",
        "                             epochs=15,\n",
        "                             batch_size=6,\n",
        "                             validation_data=(X_test, y_test))"
      ],
      "execution_count": 31,
      "outputs": [
        {
          "output_type": "stream",
          "text": [
            "Epoch 1/15\n",
            "11667/11667 [==============================] - 14s 1ms/step - loss: 1.5368 - accuracy: 0.5177 - val_loss: 1.3254 - val_accuracy: 0.5719\n",
            "Epoch 2/15\n",
            "11667/11667 [==============================] - 14s 1ms/step - loss: 1.2727 - accuracy: 0.5739 - val_loss: 1.2162 - val_accuracy: 0.5956\n",
            "Epoch 3/15\n",
            "11667/11667 [==============================] - 14s 1ms/step - loss: 1.2175 - accuracy: 0.5915 - val_loss: 1.2038 - val_accuracy: 0.5966\n",
            "Epoch 4/15\n",
            "11667/11667 [==============================] - 14s 1ms/step - loss: 1.2283 - accuracy: 0.5934 - val_loss: 1.1750 - val_accuracy: 0.6128\n",
            "Epoch 5/15\n",
            "11667/11667 [==============================] - 15s 1ms/step - loss: 1.2033 - accuracy: 0.5959 - val_loss: 1.2126 - val_accuracy: 0.5828\n",
            "Epoch 6/15\n",
            "11667/11667 [==============================] - 14s 1ms/step - loss: 1.1881 - accuracy: 0.6073 - val_loss: 1.1979 - val_accuracy: 0.6143\n",
            "Epoch 7/15\n",
            "11667/11667 [==============================] - 14s 1ms/step - loss: 1.1676 - accuracy: 0.6160 - val_loss: 1.1593 - val_accuracy: 0.6059\n",
            "Epoch 8/15\n",
            "11667/11667 [==============================] - 14s 1ms/step - loss: 1.1934 - accuracy: 0.6009 - val_loss: 1.1892 - val_accuracy: 0.6060\n",
            "Epoch 9/15\n",
            "11667/11667 [==============================] - 14s 1ms/step - loss: 1.1749 - accuracy: 0.6158 - val_loss: 1.1353 - val_accuracy: 0.6313\n",
            "Epoch 10/15\n",
            "11667/11667 [==============================] - 15s 1ms/step - loss: 1.1418 - accuracy: 0.6181 - val_loss: 1.1002 - val_accuracy: 0.6217\n",
            "Epoch 11/15\n",
            "11667/11667 [==============================] - 14s 1ms/step - loss: 1.1044 - accuracy: 0.6256 - val_loss: 1.0632 - val_accuracy: 0.6629\n",
            "Epoch 12/15\n",
            "11667/11667 [==============================] - 14s 1ms/step - loss: 1.0655 - accuracy: 0.6560 - val_loss: 1.0471 - val_accuracy: 0.6499\n",
            "Epoch 13/15\n",
            "11667/11667 [==============================] - 14s 1ms/step - loss: 1.0936 - accuracy: 0.6380 - val_loss: 1.1253 - val_accuracy: 0.6313\n",
            "Epoch 14/15\n",
            "11667/11667 [==============================] - 14s 1ms/step - loss: 1.0659 - accuracy: 0.6521 - val_loss: 1.0683 - val_accuracy: 0.6621\n",
            "Epoch 15/15\n",
            "11667/11667 [==============================] - 14s 1ms/step - loss: 1.0656 - accuracy: 0.6547 - val_loss: 1.1301 - val_accuracy: 0.6106\n"
          ],
          "name": "stdout"
        }
      ]
    },
    {
      "cell_type": "code",
      "metadata": {
        "id": "1ujEtwXa2ILI",
        "colab_type": "code",
        "colab": {
          "base_uri": "https://localhost:8080/",
          "height": 527
        },
        "outputId": "172ad403-93aa-4a36-8c39-99add3bee6b6"
      },
      "source": [
        "batch_40 = create_model().fit(X_train, y_train,\n",
        "                              epochs=15,\n",
        "                              batch_size=40,\n",
        "                              validation_data=(X_test, y_test))"
      ],
      "execution_count": 32,
      "outputs": [
        {
          "output_type": "stream",
          "text": [
            "Epoch 1/15\n",
            "1750/1750 [==============================] - 3s 2ms/step - loss: 1.9736 - accuracy: 0.4249 - val_loss: 1.6809 - val_accuracy: 0.5242\n",
            "Epoch 2/15\n",
            "1750/1750 [==============================] - 3s 2ms/step - loss: 1.4860 - accuracy: 0.5729 - val_loss: 1.3264 - val_accuracy: 0.6215\n",
            "Epoch 3/15\n",
            "1750/1750 [==============================] - 3s 2ms/step - loss: 1.2365 - accuracy: 0.6515 - val_loss: 1.1565 - val_accuracy: 0.6790\n",
            "Epoch 4/15\n",
            "1750/1750 [==============================] - 3s 2ms/step - loss: 1.1046 - accuracy: 0.6849 - val_loss: 1.0518 - val_accuracy: 0.6994\n",
            "Epoch 5/15\n",
            "1750/1750 [==============================] - 3s 2ms/step - loss: 1.0271 - accuracy: 0.7013 - val_loss: 0.9889 - val_accuracy: 0.7136\n",
            "Epoch 6/15\n",
            "1750/1750 [==============================] - 3s 2ms/step - loss: 0.9712 - accuracy: 0.7126 - val_loss: 0.9497 - val_accuracy: 0.7151\n",
            "Epoch 7/15\n",
            "1750/1750 [==============================] - 3s 2ms/step - loss: 0.9357 - accuracy: 0.7205 - val_loss: 0.9232 - val_accuracy: 0.7275\n",
            "Epoch 8/15\n",
            "1750/1750 [==============================] - 3s 2ms/step - loss: 0.9099 - accuracy: 0.7269 - val_loss: 0.9157 - val_accuracy: 0.7257\n",
            "Epoch 9/15\n",
            "1750/1750 [==============================] - 3s 2ms/step - loss: 0.8929 - accuracy: 0.7290 - val_loss: 0.8993 - val_accuracy: 0.7309\n",
            "Epoch 10/15\n",
            "1750/1750 [==============================] - 3s 2ms/step - loss: 0.8809 - accuracy: 0.7316 - val_loss: 0.8838 - val_accuracy: 0.7309\n",
            "Epoch 11/15\n",
            "1750/1750 [==============================] - 3s 2ms/step - loss: 0.8737 - accuracy: 0.7342 - val_loss: 0.8610 - val_accuracy: 0.7376\n",
            "Epoch 12/15\n",
            "1750/1750 [==============================] - 3s 2ms/step - loss: 0.8628 - accuracy: 0.7348 - val_loss: 0.8614 - val_accuracy: 0.7375\n",
            "Epoch 13/15\n",
            "1750/1750 [==============================] - 3s 2ms/step - loss: 0.8546 - accuracy: 0.7372 - val_loss: 0.8524 - val_accuracy: 0.7352\n",
            "Epoch 14/15\n",
            "1750/1750 [==============================] - 3s 2ms/step - loss: 0.8426 - accuracy: 0.7420 - val_loss: 0.8293 - val_accuracy: 0.7469\n",
            "Epoch 15/15\n",
            "1750/1750 [==============================] - 3s 2ms/step - loss: 0.8325 - accuracy: 0.7437 - val_loss: 0.8527 - val_accuracy: 0.7346\n"
          ],
          "name": "stdout"
        }
      ]
    },
    {
      "cell_type": "code",
      "metadata": {
        "id": "DfzMvtZS2VII",
        "colab_type": "code",
        "colab": {
          "base_uri": "https://localhost:8080/",
          "height": 527
        },
        "outputId": "3b6f349d-3aa0-4619-b054-3780ffaeb8ce"
      },
      "source": [
        "batch_70 = create_model().fit(X_train, y_train,\n",
        "                              epochs=15,\n",
        "                              batch_size=70,\n",
        "                              validation_data=(X_test, y_test))"
      ],
      "execution_count": 33,
      "outputs": [
        {
          "output_type": "stream",
          "text": [
            "Epoch 1/15\n",
            "1000/1000 [==============================] - 2s 2ms/step - loss: 2.0968 - accuracy: 0.3721 - val_loss: 1.8740 - val_accuracy: 0.5124\n",
            "Epoch 2/15\n",
            "1000/1000 [==============================] - 2s 2ms/step - loss: 1.7139 - accuracy: 0.5468 - val_loss: 1.5659 - val_accuracy: 0.5807\n",
            "Epoch 3/15\n",
            "1000/1000 [==============================] - 2s 2ms/step - loss: 1.4570 - accuracy: 0.6074 - val_loss: 1.3627 - val_accuracy: 0.6307\n",
            "Epoch 4/15\n",
            "1000/1000 [==============================] - 2s 2ms/step - loss: 1.2914 - accuracy: 0.6452 - val_loss: 1.2242 - val_accuracy: 0.6639\n",
            "Epoch 5/15\n",
            "1000/1000 [==============================] - 2s 2ms/step - loss: 1.1773 - accuracy: 0.6715 - val_loss: 1.1368 - val_accuracy: 0.6840\n",
            "Epoch 6/15\n",
            "1000/1000 [==============================] - 2s 2ms/step - loss: 1.0915 - accuracy: 0.6937 - val_loss: 1.0605 - val_accuracy: 0.7014\n",
            "Epoch 7/15\n",
            "1000/1000 [==============================] - 2s 2ms/step - loss: 1.0296 - accuracy: 0.7042 - val_loss: 1.0128 - val_accuracy: 0.7122\n",
            "Epoch 8/15\n",
            "1000/1000 [==============================] - 2s 2ms/step - loss: 0.9861 - accuracy: 0.7142 - val_loss: 0.9857 - val_accuracy: 0.7126\n",
            "Epoch 9/15\n",
            "1000/1000 [==============================] - 2s 2ms/step - loss: 0.9515 - accuracy: 0.7214 - val_loss: 0.9447 - val_accuracy: 0.7248\n",
            "Epoch 10/15\n",
            "1000/1000 [==============================] - 2s 2ms/step - loss: 0.9223 - accuracy: 0.7282 - val_loss: 0.9214 - val_accuracy: 0.7278\n",
            "Epoch 11/15\n",
            "1000/1000 [==============================] - 2s 2ms/step - loss: 0.9025 - accuracy: 0.7308 - val_loss: 0.9013 - val_accuracy: 0.7342\n",
            "Epoch 12/15\n",
            "1000/1000 [==============================] - 2s 2ms/step - loss: 0.8886 - accuracy: 0.7342 - val_loss: 0.8826 - val_accuracy: 0.7359\n",
            "Epoch 13/15\n",
            "1000/1000 [==============================] - 2s 2ms/step - loss: 0.8759 - accuracy: 0.7388 - val_loss: 0.8800 - val_accuracy: 0.7368\n",
            "Epoch 14/15\n",
            "1000/1000 [==============================] - 2s 2ms/step - loss: 0.8595 - accuracy: 0.7419 - val_loss: 0.8756 - val_accuracy: 0.7350\n",
            "Epoch 15/15\n",
            "1000/1000 [==============================] - 2s 2ms/step - loss: 0.8486 - accuracy: 0.7441 - val_loss: 0.8676 - val_accuracy: 0.7377\n"
          ],
          "name": "stdout"
        }
      ]
    },
    {
      "cell_type": "code",
      "metadata": {
        "id": "TxCu2Srh3-pd",
        "colab_type": "code",
        "colab": {
          "base_uri": "https://localhost:8080/",
          "height": 204
        },
        "outputId": "e2617593-b412-4800-985b-685453a3a48e"
      },
      "source": [
        "import seaborn as sns\n",
        "import pandas as pd\n",
        "\n",
        "batch_sizes = []\n",
        "\n",
        "for exp, result in zip([batch_default, batch_10, batch_6, batch_40, batch_70], [\"32_\", \"10_\", \"6_\", \"40_\", \"70_\"]):\n",
        "\n",
        "  df = pd.DataFrame.from_dict(exp.history)\n",
        "  df['epoch'] = df.index.values\n",
        "  df['Batch Size'] = result\n",
        "\n",
        "  batch_sizes.append(df)\n",
        "\n",
        "df = pd.concat(batch_sizes)\n",
        "df['Batch Size'] = df['Batch Size'].astype('str')\n",
        "df.head()"
      ],
      "execution_count": 37,
      "outputs": [
        {
          "output_type": "execute_result",
          "data": {
            "text/html": [
              "<div>\n",
              "<style scoped>\n",
              "    .dataframe tbody tr th:only-of-type {\n",
              "        vertical-align: middle;\n",
              "    }\n",
              "\n",
              "    .dataframe tbody tr th {\n",
              "        vertical-align: top;\n",
              "    }\n",
              "\n",
              "    .dataframe thead th {\n",
              "        text-align: right;\n",
              "    }\n",
              "</style>\n",
              "<table border=\"1\" class=\"dataframe\">\n",
              "  <thead>\n",
              "    <tr style=\"text-align: right;\">\n",
              "      <th></th>\n",
              "      <th>loss</th>\n",
              "      <th>accuracy</th>\n",
              "      <th>val_loss</th>\n",
              "      <th>val_accuracy</th>\n",
              "      <th>epoch</th>\n",
              "      <th>Batch Size</th>\n",
              "    </tr>\n",
              "  </thead>\n",
              "  <tbody>\n",
              "    <tr>\n",
              "      <th>0</th>\n",
              "      <td>1.896488</td>\n",
              "      <td>0.433429</td>\n",
              "      <td>1.570498</td>\n",
              "      <td>0.532733</td>\n",
              "      <td>0</td>\n",
              "      <td>32_</td>\n",
              "    </tr>\n",
              "    <tr>\n",
              "      <th>1</th>\n",
              "      <td>1.405362</td>\n",
              "      <td>0.587500</td>\n",
              "      <td>1.281669</td>\n",
              "      <td>0.630400</td>\n",
              "      <td>1</td>\n",
              "      <td>32_</td>\n",
              "    </tr>\n",
              "    <tr>\n",
              "      <th>2</th>\n",
              "      <td>1.196192</td>\n",
              "      <td>0.644786</td>\n",
              "      <td>1.139951</td>\n",
              "      <td>0.653700</td>\n",
              "      <td>2</td>\n",
              "      <td>32_</td>\n",
              "    </tr>\n",
              "    <tr>\n",
              "      <th>3</th>\n",
              "      <td>1.089710</td>\n",
              "      <td>0.667971</td>\n",
              "      <td>1.046904</td>\n",
              "      <td>0.678933</td>\n",
              "      <td>3</td>\n",
              "      <td>32_</td>\n",
              "    </tr>\n",
              "    <tr>\n",
              "      <th>4</th>\n",
              "      <td>1.024502</td>\n",
              "      <td>0.685757</td>\n",
              "      <td>1.016401</td>\n",
              "      <td>0.681733</td>\n",
              "      <td>4</td>\n",
              "      <td>32_</td>\n",
              "    </tr>\n",
              "  </tbody>\n",
              "</table>\n",
              "</div>"
            ],
            "text/plain": [
              "       loss  accuracy  val_loss  val_accuracy  epoch Batch Size\n",
              "0  1.896488  0.433429  1.570498      0.532733      0        32_\n",
              "1  1.405362  0.587500  1.281669      0.630400      1        32_\n",
              "2  1.196192  0.644786  1.139951      0.653700      2        32_\n",
              "3  1.089710  0.667971  1.046904      0.678933      3        32_\n",
              "4  1.024502  0.685757  1.016401      0.681733      4        32_"
            ]
          },
          "metadata": {
            "tags": []
          },
          "execution_count": 37
        }
      ]
    },
    {
      "cell_type": "code",
      "metadata": {
        "id": "2chZ7eh24_eb",
        "colab_type": "code",
        "colab": {
          "base_uri": "https://localhost:8080/",
          "height": 296
        },
        "outputId": "bbcf225f-25d8-4da0-dda7-7f61e2157adb"
      },
      "source": [
        "sns.lineplot(x='epoch', y='val_accuracy', hue='Batch Size', data=df)"
      ],
      "execution_count": 38,
      "outputs": [
        {
          "output_type": "execute_result",
          "data": {
            "text/plain": [
              "<matplotlib.axes._subplots.AxesSubplot at 0x7fccb9ff96d8>"
            ]
          },
          "metadata": {
            "tags": []
          },
          "execution_count": 38
        },
        {
          "output_type": "display_data",
          "data": {
            "image/png": "[encoded data removed]",
            "text/plain": [
              "<Figure size 432x288 with 1 Axes>"
            ]
          },
          "metadata": {
            "tags": [],
            "needs_background": "light"
          }
        }
      ]
    },
    {
      "cell_type": "code",
      "metadata": {
        "id": "_XSjMiAt6b2x",
        "colab_type": "code",
        "colab": {
          "base_uri": "https://localhost:8080/",
          "height": 296
        },
        "outputId": "40a6dbe5-5f9c-46ea-cbdb-411d5f6956d5"
      },
      "source": [
        "sns.lineplot(x='epoch', y='val_loss', hue='Batch Size', data=df)"
      ],
      "execution_count": 39,
      "outputs": [
        {
          "output_type": "execute_result",
          "data": {
            "text/plain": [
              "<matplotlib.axes._subplots.AxesSubplot at 0x7fccb9facc50>"
            ]
          },
          "metadata": {
            "tags": []
          },
          "execution_count": 39
        },
        {
          "output_type": "display_data",
          "data": {
            "image/png": "[encoded data removed]",
            "text/plain": [
              "<Figure size 432x288 with 1 Axes>"
            ]
          },
          "metadata": {
            "tags": [],
            "needs_background": "light"
          }
        }
      ]
    },
    {
      "cell_type": "markdown",
      "metadata": {
        "colab_type": "text",
        "id": "8b-r70o8p2Dm"
      },
      "source": [
        "### Experiment with Learning Rate\n",
        "* Run 5 experiments with various learning rate magnitudes: 1, .1, .01, .001, .0001.\n",
        "* Use the \"best\" batch size from the previous experiment\n",
        "* Visualize the results\n",
        "* Write up an analysis of the experiments and select the \"best\" performing model among your experiments. Make sure to compare against the previous experiments and your model's performance yesterday. \n",
        "\n",
        "\n",
        "*   Analysis = Learning rates seems to have a sweet spot\n",
        "\n"
      ]
    },
    {
      "cell_type": "code",
      "metadata": {
        "id": "_SA144xx8Luf",
        "colab_type": "code",
        "colab": {
          "base_uri": "https://localhost:8080/",
          "height": 527
        },
        "outputId": "e744bbf0-4adf-4d19-b1e3-bc9161ff3f46"
      },
      "source": [
        "lr_1 = create_model(lr=1).fit(X_train, y_train, \n",
        "                             epochs=15, \n",
        "                             batch_size=75, \n",
        "                             validation_data=(X_test, y_test))"
      ],
      "execution_count": 40,
      "outputs": [
        {
          "output_type": "stream",
          "text": [
            "Epoch 1/15\n",
            "934/934 [==============================] - 2s 2ms/step - loss: 1.8569 - accuracy: 0.3128 - val_loss: 1.8758 - val_accuracy: 0.2883\n",
            "Epoch 2/15\n",
            "934/934 [==============================] - 2s 2ms/step - loss: 1.7407 - accuracy: 0.3448 - val_loss: 1.7281 - val_accuracy: 0.3479\n",
            "Epoch 3/15\n",
            "934/934 [==============================] - 2s 2ms/step - loss: 1.6891 - accuracy: 0.3689 - val_loss: 1.6645 - val_accuracy: 0.3763\n",
            "Epoch 4/15\n",
            "934/934 [==============================] - 2s 2ms/step - loss: 1.6606 - accuracy: 0.3778 - val_loss: 1.6715 - val_accuracy: 0.4132\n",
            "Epoch 5/15\n",
            "934/934 [==============================] - 2s 2ms/step - loss: 1.5173 - accuracy: 0.4708 - val_loss: 1.4773 - val_accuracy: 0.4902\n",
            "Epoch 6/15\n",
            "934/934 [==============================] - 2s 2ms/step - loss: 1.4610 - accuracy: 0.4761 - val_loss: 1.4337 - val_accuracy: 0.4798\n",
            "Epoch 7/15\n",
            "934/934 [==============================] - 2s 2ms/step - loss: 1.4817 - accuracy: 0.4657 - val_loss: 1.4837 - val_accuracy: 0.4408\n",
            "Epoch 8/15\n",
            "934/934 [==============================] - 2s 2ms/step - loss: 1.4295 - accuracy: 0.4810 - val_loss: 1.4432 - val_accuracy: 0.4918\n",
            "Epoch 9/15\n",
            "934/934 [==============================] - 2s 2ms/step - loss: 1.4662 - accuracy: 0.4657 - val_loss: 1.5481 - val_accuracy: 0.3934\n",
            "Epoch 10/15\n",
            "934/934 [==============================] - 2s 2ms/step - loss: 1.5021 - accuracy: 0.4184 - val_loss: 1.4727 - val_accuracy: 0.4274\n",
            "Epoch 11/15\n",
            "934/934 [==============================] - 2s 2ms/step - loss: 1.4517 - accuracy: 0.4530 - val_loss: 1.5188 - val_accuracy: 0.4269\n",
            "Epoch 12/15\n",
            "934/934 [==============================] - 2s 2ms/step - loss: 1.4660 - accuracy: 0.4446 - val_loss: 1.5115 - val_accuracy: 0.4153\n",
            "Epoch 13/15\n",
            "934/934 [==============================] - 2s 2ms/step - loss: 1.4481 - accuracy: 0.4487 - val_loss: 1.4587 - val_accuracy: 0.4574\n",
            "Epoch 14/15\n",
            "934/934 [==============================] - 2s 2ms/step - loss: 1.4451 - accuracy: 0.4708 - val_loss: 1.4638 - val_accuracy: 0.4665\n",
            "Epoch 15/15\n",
            "934/934 [==============================] - 2s 2ms/step - loss: 1.4580 - accuracy: 0.4613 - val_loss: 1.5841 - val_accuracy: 0.4087\n"
          ],
          "name": "stdout"
        }
      ]
    },
    {
      "cell_type": "code",
      "metadata": {
        "id": "TjkxluD461q4",
        "colab_type": "code",
        "colab": {
          "base_uri": "https://localhost:8080/",
          "height": 527
        },
        "outputId": "36b7575b-52f3-4c58-a546-39cc52e8fcd3"
      },
      "source": [
        "lr_onetenth = create_model(lr=.1).fit(X_train, y_train, \n",
        "                             epochs=15, \n",
        "                             batch_size=75, \n",
        "                             validation_data=(X_test, y_test))"
      ],
      "execution_count": 41,
      "outputs": [
        {
          "output_type": "stream",
          "text": [
            "Epoch 1/15\n",
            "934/934 [==============================] - 2s 2ms/step - loss: 1.5538 - accuracy: 0.5095 - val_loss: 1.2960 - val_accuracy: 0.5801\n",
            "Epoch 2/15\n",
            "934/934 [==============================] - 2s 2ms/step - loss: 1.2124 - accuracy: 0.6075 - val_loss: 1.1833 - val_accuracy: 0.6242\n",
            "Epoch 3/15\n",
            "934/934 [==============================] - 2s 2ms/step - loss: 1.1474 - accuracy: 0.6295 - val_loss: 1.1682 - val_accuracy: 0.6086\n",
            "Epoch 4/15\n",
            "934/934 [==============================] - 2s 2ms/step - loss: 1.1454 - accuracy: 0.6217 - val_loss: 1.1812 - val_accuracy: 0.6132\n",
            "Epoch 5/15\n",
            "934/934 [==============================] - 2s 2ms/step - loss: 1.1436 - accuracy: 0.6240 - val_loss: 1.1142 - val_accuracy: 0.6463\n",
            "Epoch 6/15\n",
            "934/934 [==============================] - 2s 2ms/step - loss: 1.1362 - accuracy: 0.6235 - val_loss: 1.2010 - val_accuracy: 0.5990\n",
            "Epoch 7/15\n",
            "934/934 [==============================] - 2s 2ms/step - loss: 1.0636 - accuracy: 0.6526 - val_loss: 1.0454 - val_accuracy: 0.6575\n",
            "Epoch 8/15\n",
            "934/934 [==============================] - 2s 2ms/step - loss: 1.0545 - accuracy: 0.6552 - val_loss: 1.0350 - val_accuracy: 0.6599\n",
            "Epoch 9/15\n",
            "934/934 [==============================] - 2s 2ms/step - loss: 1.0062 - accuracy: 0.6766 - val_loss: 1.0022 - val_accuracy: 0.6755\n",
            "Epoch 10/15\n",
            "934/934 [==============================] - 2s 2ms/step - loss: 1.0095 - accuracy: 0.6779 - val_loss: 0.9907 - val_accuracy: 0.6838\n",
            "Epoch 11/15\n",
            "934/934 [==============================] - 2s 2ms/step - loss: 0.9969 - accuracy: 0.6811 - val_loss: 0.9870 - val_accuracy: 0.6782\n",
            "Epoch 12/15\n",
            "934/934 [==============================] - 2s 2ms/step - loss: 0.9895 - accuracy: 0.6819 - val_loss: 1.0091 - val_accuracy: 0.6788\n",
            "Epoch 13/15\n",
            "934/934 [==============================] - 2s 2ms/step - loss: 0.9884 - accuracy: 0.6791 - val_loss: 0.9678 - val_accuracy: 0.6891\n",
            "Epoch 14/15\n",
            "934/934 [==============================] - 2s 2ms/step - loss: 0.9870 - accuracy: 0.6710 - val_loss: 0.9781 - val_accuracy: 0.6710\n",
            "Epoch 15/15\n",
            "934/934 [==============================] - 2s 2ms/step - loss: 0.9782 - accuracy: 0.6796 - val_loss: 0.9644 - val_accuracy: 0.6833\n"
          ],
          "name": "stdout"
        }
      ]
    },
    {
      "cell_type": "code",
      "metadata": {
        "id": "IHyXnY2L63O2",
        "colab_type": "code",
        "colab": {
          "base_uri": "https://localhost:8080/",
          "height": 527
        },
        "outputId": "660a4071-1766-4e59-a769-27c4b61eefeb"
      },
      "source": [
        "lr_oneonehundreth = create_model(lr=.01).fit(X_train, y_train, \n",
        "                                             epochs=15, \n",
        "                                             batch_size=75, \n",
        "                                             validation_data=(X_test, y_test))"
      ],
      "execution_count": 42,
      "outputs": [
        {
          "output_type": "stream",
          "text": [
            "Epoch 1/15\n",
            "934/934 [==============================] - 2s 2ms/step - loss: 2.1223 - accuracy: 0.3559 - val_loss: 1.9165 - val_accuracy: 0.4829\n",
            "Epoch 2/15\n",
            "934/934 [==============================] - 2s 2ms/step - loss: 1.7659 - accuracy: 0.5143 - val_loss: 1.6284 - val_accuracy: 0.5424\n",
            "Epoch 3/15\n",
            "934/934 [==============================] - 2s 2ms/step - loss: 1.5225 - accuracy: 0.5712 - val_loss: 1.4248 - val_accuracy: 0.5965\n",
            "Epoch 4/15\n",
            "934/934 [==============================] - 2s 2ms/step - loss: 1.3518 - accuracy: 0.6189 - val_loss: 1.2839 - val_accuracy: 0.6419\n",
            "Epoch 5/15\n",
            "934/934 [==============================] - 2s 2ms/step - loss: 1.2260 - accuracy: 0.6557 - val_loss: 1.1879 - val_accuracy: 0.6606\n",
            "Epoch 6/15\n",
            "934/934 [==============================] - 2s 2ms/step - loss: 1.1435 - accuracy: 0.6752 - val_loss: 1.1094 - val_accuracy: 0.6886\n",
            "Epoch 7/15\n",
            "934/934 [==============================] - 2s 2ms/step - loss: 1.0828 - accuracy: 0.6881 - val_loss: 1.0660 - val_accuracy: 0.6936\n",
            "Epoch 8/15\n",
            "934/934 [==============================] - 2s 2ms/step - loss: 1.0309 - accuracy: 0.7033 - val_loss: 1.0092 - val_accuracy: 0.7101\n",
            "Epoch 9/15\n",
            "934/934 [==============================] - 2s 2ms/step - loss: 1.0004 - accuracy: 0.7096 - val_loss: 0.9939 - val_accuracy: 0.7050\n",
            "Epoch 10/15\n",
            "934/934 [==============================] - 2s 2ms/step - loss: 0.9739 - accuracy: 0.7158 - val_loss: 0.9652 - val_accuracy: 0.7176\n",
            "Epoch 11/15\n",
            "934/934 [==============================] - 2s 2ms/step - loss: 0.9469 - accuracy: 0.7229 - val_loss: 0.9521 - val_accuracy: 0.7161\n",
            "Epoch 12/15\n",
            "934/934 [==============================] - 2s 2ms/step - loss: 0.9310 - accuracy: 0.7252 - val_loss: 0.9306 - val_accuracy: 0.7281\n",
            "Epoch 13/15\n",
            "934/934 [==============================] - 2s 2ms/step - loss: 0.9105 - accuracy: 0.7326 - val_loss: 0.9069 - val_accuracy: 0.7328\n",
            "Epoch 14/15\n",
            "934/934 [==============================] - 2s 2ms/step - loss: 0.9036 - accuracy: 0.7324 - val_loss: 0.9098 - val_accuracy: 0.7309\n",
            "Epoch 15/15\n",
            "934/934 [==============================] - 2s 2ms/step - loss: 0.8868 - accuracy: 0.7356 - val_loss: 0.8919 - val_accuracy: 0.7323\n"
          ],
          "name": "stdout"
        }
      ]
    },
    {
      "cell_type": "code",
      "metadata": {
        "id": "z3A6-zq966GO",
        "colab_type": "code",
        "colab": {
          "base_uri": "https://localhost:8080/",
          "height": 527
        },
        "outputId": "acc76bc9-1982-4ef5-b3f9-8128e17b504f"
      },
      "source": [
        "lr_onethousandth = create_model(lr=.001).fit(X_train, y_train, \n",
        "                                             epochs=15, \n",
        "                                             batch_size=75, \n",
        "                                             validation_data=(X_test, y_test))"
      ],
      "execution_count": 43,
      "outputs": [
        {
          "output_type": "stream",
          "text": [
            "Epoch 1/15\n",
            "934/934 [==============================] - 2s 2ms/step - loss: 2.3622 - accuracy: 0.0963 - val_loss: 2.2751 - val_accuracy: 0.1187\n",
            "Epoch 2/15\n",
            "934/934 [==============================] - 2s 2ms/step - loss: 2.2359 - accuracy: 0.1928 - val_loss: 2.2041 - val_accuracy: 0.2614\n",
            "Epoch 3/15\n",
            "934/934 [==============================] - 2s 2ms/step - loss: 2.1803 - accuracy: 0.3107 - val_loss: 2.1576 - val_accuracy: 0.3400\n",
            "Epoch 4/15\n",
            "934/934 [==============================] - 2s 2ms/step - loss: 2.1376 - accuracy: 0.3623 - val_loss: 2.1178 - val_accuracy: 0.3752\n",
            "Epoch 5/15\n",
            "934/934 [==============================] - 2s 2ms/step - loss: 2.0986 - accuracy: 0.3860 - val_loss: 2.0799 - val_accuracy: 0.3954\n",
            "Epoch 6/15\n",
            "934/934 [==============================] - 2s 2ms/step - loss: 2.0603 - accuracy: 0.4037 - val_loss: 2.0417 - val_accuracy: 0.4134\n",
            "Epoch 7/15\n",
            "934/934 [==============================] - 2s 2ms/step - loss: 2.0232 - accuracy: 0.4170 - val_loss: 2.0055 - val_accuracy: 0.4247\n",
            "Epoch 8/15\n",
            "934/934 [==============================] - 2s 2ms/step - loss: 1.9873 - accuracy: 0.4292 - val_loss: 1.9710 - val_accuracy: 0.4385\n",
            "Epoch 9/15\n",
            "934/934 [==============================] - 2s 2ms/step - loss: 1.9529 - accuracy: 0.4414 - val_loss: 1.9370 - val_accuracy: 0.4491\n",
            "Epoch 10/15\n",
            "934/934 [==============================] - 2s 2ms/step - loss: 1.9190 - accuracy: 0.4556 - val_loss: 1.9038 - val_accuracy: 0.4634\n",
            "Epoch 11/15\n",
            "934/934 [==============================] - 2s 2ms/step - loss: 1.8862 - accuracy: 0.4665 - val_loss: 1.8724 - val_accuracy: 0.4716\n",
            "Epoch 12/15\n",
            "934/934 [==============================] - 2s 2ms/step - loss: 1.8548 - accuracy: 0.4791 - val_loss: 1.8419 - val_accuracy: 0.4824\n",
            "Epoch 13/15\n",
            "934/934 [==============================] - 2s 2ms/step - loss: 1.8245 - accuracy: 0.4895 - val_loss: 1.8125 - val_accuracy: 0.4902\n",
            "Epoch 14/15\n",
            "934/934 [==============================] - 2s 2ms/step - loss: 1.7954 - accuracy: 0.4993 - val_loss: 1.7848 - val_accuracy: 0.4979\n",
            "Epoch 15/15\n",
            "934/934 [==============================] - 2s 2ms/step - loss: 1.7676 - accuracy: 0.5085 - val_loss: 1.7580 - val_accuracy: 0.5081\n"
          ],
          "name": "stdout"
        }
      ]
    },
    {
      "cell_type": "code",
      "metadata": {
        "id": "dYBH0KqG6-w2",
        "colab_type": "code",
        "colab": {
          "base_uri": "https://localhost:8080/",
          "height": 527
        },
        "outputId": "a5870deb-b482-4800-b40a-617e06a5484a"
      },
      "source": [
        "lr_onetenthousandth = create_model(lr=.0001).fit(X_train, y_train, \n",
        "                                             epochs=15, \n",
        "                                             batch_size=75, \n",
        "                                             validation_data=(X_test, y_test))"
      ],
      "execution_count": 44,
      "outputs": [
        {
          "output_type": "stream",
          "text": [
            "Epoch 1/15\n",
            "934/934 [==============================] - 2s 2ms/step - loss: 2.4027 - accuracy: 0.0759 - val_loss: 2.3894 - val_accuracy: 0.0756\n",
            "Epoch 2/15\n",
            "934/934 [==============================] - 2s 2ms/step - loss: 2.3823 - accuracy: 0.0764 - val_loss: 2.3713 - val_accuracy: 0.0776\n",
            "Epoch 3/15\n",
            "934/934 [==============================] - 2s 2ms/step - loss: 2.3649 - accuracy: 0.0790 - val_loss: 2.3559 - val_accuracy: 0.0815\n",
            "Epoch 4/15\n",
            "934/934 [==============================] - 2s 2ms/step - loss: 2.3502 - accuracy: 0.0836 - val_loss: 2.3431 - val_accuracy: 0.0873\n",
            "Epoch 5/15\n",
            "934/934 [==============================] - 2s 2ms/step - loss: 2.3378 - accuracy: 0.0892 - val_loss: 2.3317 - val_accuracy: 0.0925\n",
            "Epoch 6/15\n",
            "934/934 [==============================] - 2s 2ms/step - loss: 2.3269 - accuracy: 0.0960 - val_loss: 2.3221 - val_accuracy: 0.0973\n",
            "Epoch 7/15\n",
            "934/934 [==============================] - 2s 2ms/step - loss: 2.3175 - accuracy: 0.1020 - val_loss: 2.3134 - val_accuracy: 0.1049\n",
            "Epoch 8/15\n",
            "934/934 [==============================] - 2s 2ms/step - loss: 2.3090 - accuracy: 0.1097 - val_loss: 2.3057 - val_accuracy: 0.1129\n",
            "Epoch 9/15\n",
            "934/934 [==============================] - 2s 2ms/step - loss: 2.3014 - accuracy: 0.1193 - val_loss: 2.2988 - val_accuracy: 0.1230\n",
            "Epoch 10/15\n",
            "934/934 [==============================] - 2s 2ms/step - loss: 2.2944 - accuracy: 0.1302 - val_loss: 2.2924 - val_accuracy: 0.1330\n",
            "Epoch 11/15\n",
            "934/934 [==============================] - 2s 2ms/step - loss: 2.2880 - accuracy: 0.1405 - val_loss: 2.2862 - val_accuracy: 0.1429\n",
            "Epoch 12/15\n",
            "934/934 [==============================] - 2s 2ms/step - loss: 2.2820 - accuracy: 0.1520 - val_loss: 2.2805 - val_accuracy: 0.1529\n",
            "Epoch 13/15\n",
            "934/934 [==============================] - 2s 2ms/step - loss: 2.2764 - accuracy: 0.1622 - val_loss: 2.2753 - val_accuracy: 0.1654\n",
            "Epoch 14/15\n",
            "934/934 [==============================] - 2s 2ms/step - loss: 2.2711 - accuracy: 0.1753 - val_loss: 2.2701 - val_accuracy: 0.1765\n",
            "Epoch 15/15\n",
            "934/934 [==============================] - 2s 2ms/step - loss: 2.2659 - accuracy: 0.1870 - val_loss: 2.2649 - val_accuracy: 0.1890\n"
          ],
          "name": "stdout"
        }
      ]
    },
    {
      "cell_type": "code",
      "metadata": {
        "id": "hMT6N4NK7ZeM",
        "colab_type": "code",
        "colab": {
          "base_uri": "https://localhost:8080/",
          "height": 204
        },
        "outputId": "4221fc74-a617-4b20-ee7b-f0e0ab3058f4"
      },
      "source": [
        "import seaborn as sns\n",
        "import pandas as pd\n",
        "\n",
        "learning_rates = []\n",
        "\n",
        "for exp, result in zip([lr_1, lr_onetenth, lr_oneonehundreth, lr_onethousandth, lr_onetenthousandth], [\"1.0_\", \"0.1\", \"0.01_\", \"0.001_\", \"0.0001_\"]):\n",
        "\n",
        "  df = pd.DataFrame.from_dict(exp.history)\n",
        "  df['epoch'] = df.index.values\n",
        "  df['Learning Rate'] = result\n",
        "\n",
        "  learning_rates.append(df)\n",
        "\n",
        "df = pd.concat(learning_rates)\n",
        "df['Learning Rate'] = df['Learning Rate'].astype('str')\n",
        "df.head()"
      ],
      "execution_count": 45,
      "outputs": [
        {
          "output_type": "execute_result",
          "data": {
            "text/html": [
              "<div>\n",
              "<style scoped>\n",
              "    .dataframe tbody tr th:only-of-type {\n",
              "        vertical-align: middle;\n",
              "    }\n",
              "\n",
              "    .dataframe tbody tr th {\n",
              "        vertical-align: top;\n",
              "    }\n",
              "\n",
              "    .dataframe thead th {\n",
              "        text-align: right;\n",
              "    }\n",
              "</style>\n",
              "<table border=\"1\" class=\"dataframe\">\n",
              "  <thead>\n",
              "    <tr style=\"text-align: right;\">\n",
              "      <th></th>\n",
              "      <th>loss</th>\n",
              "      <th>accuracy</th>\n",
              "      <th>val_loss</th>\n",
              "      <th>val_accuracy</th>\n",
              "      <th>epoch</th>\n",
              "      <th>Learning Rate</th>\n",
              "    </tr>\n",
              "  </thead>\n",
              "  <tbody>\n",
              "    <tr>\n",
              "      <th>0</th>\n",
              "      <td>1.856889</td>\n",
              "      <td>0.312771</td>\n",
              "      <td>1.875806</td>\n",
              "      <td>0.288267</td>\n",
              "      <td>0</td>\n",
              "      <td>1.0_</td>\n",
              "    </tr>\n",
              "    <tr>\n",
              "      <th>1</th>\n",
              "      <td>1.740698</td>\n",
              "      <td>0.344771</td>\n",
              "      <td>1.728112</td>\n",
              "      <td>0.347933</td>\n",
              "      <td>1</td>\n",
              "      <td>1.0_</td>\n",
              "    </tr>\n",
              "    <tr>\n",
              "      <th>2</th>\n",
              "      <td>1.689149</td>\n",
              "      <td>0.368943</td>\n",
              "      <td>1.664493</td>\n",
              "      <td>0.376300</td>\n",
              "      <td>2</td>\n",
              "      <td>1.0_</td>\n",
              "    </tr>\n",
              "    <tr>\n",
              "      <th>3</th>\n",
              "      <td>1.660638</td>\n",
              "      <td>0.377814</td>\n",
              "      <td>1.671451</td>\n",
              "      <td>0.413200</td>\n",
              "      <td>3</td>\n",
              "      <td>1.0_</td>\n",
              "    </tr>\n",
              "    <tr>\n",
              "      <th>4</th>\n",
              "      <td>1.517261</td>\n",
              "      <td>0.470814</td>\n",
              "      <td>1.477273</td>\n",
              "      <td>0.490167</td>\n",
              "      <td>4</td>\n",
              "      <td>1.0_</td>\n",
              "    </tr>\n",
              "  </tbody>\n",
              "</table>\n",
              "</div>"
            ],
            "text/plain": [
              "       loss  accuracy  val_loss  val_accuracy  epoch Learning Rate\n",
              "0  1.856889  0.312771  1.875806      0.288267      0          1.0_\n",
              "1  1.740698  0.344771  1.728112      0.347933      1          1.0_\n",
              "2  1.689149  0.368943  1.664493      0.376300      2          1.0_\n",
              "3  1.660638  0.377814  1.671451      0.413200      3          1.0_\n",
              "4  1.517261  0.470814  1.477273      0.490167      4          1.0_"
            ]
          },
          "metadata": {
            "tags": []
          },
          "execution_count": 45
        }
      ]
    },
    {
      "cell_type": "code",
      "metadata": {
        "id": "H5iUjs488TRJ",
        "colab_type": "code",
        "colab": {
          "base_uri": "https://localhost:8080/",
          "height": 279
        },
        "outputId": "73177e0a-c92a-41bc-bdec-a9fb69dfceea"
      },
      "source": [
        "sns.lineplot(x='epoch', y='val_accuracy', hue='Learning Rate', data=df);"
      ],
      "execution_count": 46,
      "outputs": [
        {
          "output_type": "display_data",
          "data": {
            "image/png": "[encoded data removed]",
            "text/plain": [
              "<Figure size 432x288 with 1 Axes>"
            ]
          },
          "metadata": {
            "tags": [],
            "needs_background": "light"
          }
        }
      ]
    },
    {
      "cell_type": "code",
      "metadata": {
        "id": "V89Vz2Tv8edS",
        "colab_type": "code",
        "colab": {
          "base_uri": "https://localhost:8080/",
          "height": 296
        },
        "outputId": "568686b8-7aee-4f09-d8fe-7e6b03c1ad40"
      },
      "source": [
        "sns.lineplot(x='epoch', y='val_loss', hue='Learning Rate', data=df)"
      ],
      "execution_count": 47,
      "outputs": [
        {
          "output_type": "execute_result",
          "data": {
            "text/plain": [
              "<matplotlib.axes._subplots.AxesSubplot at 0x7fccb2bc4f28>"
            ]
          },
          "metadata": {
            "tags": []
          },
          "execution_count": 47
        },
        {
          "output_type": "display_data",
          "data": {
            "image/png": "[encoded data removed]",
            "text/plain": [
              "<Figure size 432x288 with 1 Axes>"
            ]
          },
          "metadata": {
            "tags": [],
            "needs_background": "light"
          }
        }
      ]
    },
    {
      "cell_type": "markdown",
      "metadata": {
        "id": "gxMtSRhV9Q7I",
        "colab_type": "text"
      },
      "source": [
        "### Experiment with different Optimizers\n",
        "* Run 5 experiments with various optimizers available in TensorFlow. See list [here](https://www.tensorflow.org/api_docs/python/tf/keras/optimizers)\n",
        "* Visualize the results\n",
        "* Write up an analysis of the experiments and select the \"best\" performing model among your experiments. Make sure to compare against the previous experiments and your model's performance yesterday.\n",
        "* Repeat the experiment combining Learning Rate and different optimizers. Does the best performing model change? "
      ]
    },
    {
      "cell_type": "code",
      "metadata": {
        "id": "ujLuzdNA91ip",
        "colab_type": "code",
        "colab": {
          "base_uri": "https://localhost:8080/",
          "height": 527
        },
        "outputId": "2c4dc789-f2c0-4883-f09f-619e557004eb"
      },
      "source": [
        "sgd = create_model().fit(X_train, y_train, \n",
        "                        epochs=15, \n",
        "                        batch_size=75, \n",
        "                        validation_data=(X_test, y_test))"
      ],
      "execution_count": 48,
      "outputs": [
        {
          "output_type": "stream",
          "text": [
            "Epoch 1/15\n",
            "934/934 [==============================] - 2s 2ms/step - loss: 2.1379 - accuracy: 0.3619 - val_loss: 1.9579 - val_accuracy: 0.5019\n",
            "Epoch 2/15\n",
            "934/934 [==============================] - 2s 2ms/step - loss: 1.7976 - accuracy: 0.5356 - val_loss: 1.6470 - val_accuracy: 0.5633\n",
            "Epoch 3/15\n",
            "934/934 [==============================] - 2s 2ms/step - loss: 1.5220 - accuracy: 0.5849 - val_loss: 1.4147 - val_accuracy: 0.6047\n",
            "Epoch 4/15\n",
            "934/934 [==============================] - 2s 2ms/step - loss: 1.3356 - accuracy: 0.6171 - val_loss: 1.2740 - val_accuracy: 0.6266\n",
            "Epoch 5/15\n",
            "934/934 [==============================] - 2s 2ms/step - loss: 1.2176 - accuracy: 0.6516 - val_loss: 1.1755 - val_accuracy: 0.6632\n",
            "Epoch 6/15\n",
            "934/934 [==============================] - 2s 2ms/step - loss: 1.1350 - accuracy: 0.6771 - val_loss: 1.1001 - val_accuracy: 0.6908\n",
            "Epoch 7/15\n",
            "934/934 [==============================] - 2s 2ms/step - loss: 1.0725 - accuracy: 0.6952 - val_loss: 1.0562 - val_accuracy: 0.6942\n",
            "Epoch 8/15\n",
            "934/934 [==============================] - 2s 2ms/step - loss: 1.0279 - accuracy: 0.7047 - val_loss: 1.0136 - val_accuracy: 0.7070\n",
            "Epoch 9/15\n",
            "934/934 [==============================] - 2s 2ms/step - loss: 0.9924 - accuracy: 0.7115 - val_loss: 0.9824 - val_accuracy: 0.7092\n",
            "Epoch 10/15\n",
            "934/934 [==============================] - 2s 2ms/step - loss: 0.9636 - accuracy: 0.7179 - val_loss: 0.9651 - val_accuracy: 0.7173\n",
            "Epoch 11/15\n",
            "934/934 [==============================] - 2s 2ms/step - loss: 0.9356 - accuracy: 0.7249 - val_loss: 0.9380 - val_accuracy: 0.7234\n",
            "Epoch 12/15\n",
            "934/934 [==============================] - 2s 2ms/step - loss: 0.9190 - accuracy: 0.7294 - val_loss: 0.9153 - val_accuracy: 0.7317\n",
            "Epoch 13/15\n",
            "934/934 [==============================] - 2s 2ms/step - loss: 0.9026 - accuracy: 0.7330 - val_loss: 0.9125 - val_accuracy: 0.7286\n",
            "Epoch 14/15\n",
            "934/934 [==============================] - 2s 2ms/step - loss: 0.8859 - accuracy: 0.7362 - val_loss: 0.8992 - val_accuracy: 0.7318\n",
            "Epoch 15/15\n",
            "934/934 [==============================] - 2s 2ms/step - loss: 0.8732 - accuracy: 0.7403 - val_loss: 0.8731 - val_accuracy: 0.7394\n"
          ],
          "name": "stdout"
        }
      ]
    },
    {
      "cell_type": "code",
      "metadata": {
        "id": "nlfgN-3P_UJv",
        "colab_type": "code",
        "colab": {
          "base_uri": "https://localhost:8080/",
          "height": 527
        },
        "outputId": "5311e23f-a8d0-40d4-9075-3854b0db4358"
      },
      "source": [
        "adam = create_model(optimizer=Adam).fit(X_train, y_train, \n",
        "                                        epochs=15, \n",
        "                                        batch_size=75, \n",
        "                                        validation_data=(X_test, y_test))"
      ],
      "execution_count": 49,
      "outputs": [
        {
          "output_type": "stream",
          "text": [
            "Epoch 1/15\n",
            "934/934 [==============================] - 2s 2ms/step - loss: 1.5195 - accuracy: 0.4525 - val_loss: 1.4249 - val_accuracy: 0.4697\n",
            "Epoch 2/15\n",
            "934/934 [==============================] - 2s 2ms/step - loss: 1.3716 - accuracy: 0.5100 - val_loss: 1.2870 - val_accuracy: 0.5461\n",
            "Epoch 3/15\n",
            "934/934 [==============================] - 2s 2ms/step - loss: 1.3198 - accuracy: 0.5416 - val_loss: 1.3053 - val_accuracy: 0.5231\n",
            "Epoch 4/15\n",
            "934/934 [==============================] - 2s 2ms/step - loss: 1.2881 - accuracy: 0.5453 - val_loss: 1.2698 - val_accuracy: 0.5676\n",
            "Epoch 5/15\n",
            "934/934 [==============================] - 2s 2ms/step - loss: 1.2679 - accuracy: 0.5595 - val_loss: 1.2724 - val_accuracy: 0.5685\n",
            "Epoch 6/15\n",
            "934/934 [==============================] - 2s 2ms/step - loss: 1.2523 - accuracy: 0.5657 - val_loss: 1.2136 - val_accuracy: 0.5845\n",
            "Epoch 7/15\n",
            "934/934 [==============================] - 2s 2ms/step - loss: 1.2250 - accuracy: 0.5695 - val_loss: 1.2363 - val_accuracy: 0.5574\n",
            "Epoch 8/15\n",
            "934/934 [==============================] - 2s 2ms/step - loss: 1.2151 - accuracy: 0.5732 - val_loss: 1.2067 - val_accuracy: 0.5848\n",
            "Epoch 9/15\n",
            "934/934 [==============================] - 2s 2ms/step - loss: 1.2290 - accuracy: 0.5815 - val_loss: 1.1910 - val_accuracy: 0.6061\n",
            "Epoch 10/15\n",
            "934/934 [==============================] - 2s 2ms/step - loss: 1.2089 - accuracy: 0.5942 - val_loss: 1.2708 - val_accuracy: 0.5613\n",
            "Epoch 11/15\n",
            "934/934 [==============================] - 2s 2ms/step - loss: 1.2639 - accuracy: 0.5643 - val_loss: 1.2550 - val_accuracy: 0.5627\n",
            "Epoch 12/15\n",
            "934/934 [==============================] - 2s 2ms/step - loss: 1.2999 - accuracy: 0.5518 - val_loss: 1.2965 - val_accuracy: 0.5527\n",
            "Epoch 13/15\n",
            "934/934 [==============================] - 2s 2ms/step - loss: 1.2444 - accuracy: 0.5709 - val_loss: 1.1995 - val_accuracy: 0.5942\n",
            "Epoch 14/15\n",
            "934/934 [==============================] - 2s 2ms/step - loss: 1.1925 - accuracy: 0.5947 - val_loss: 1.1855 - val_accuracy: 0.5914\n",
            "Epoch 15/15\n",
            "934/934 [==============================] - 2s 2ms/step - loss: 1.1771 - accuracy: 0.5969 - val_loss: 1.1588 - val_accuracy: 0.6051\n"
          ],
          "name": "stdout"
        }
      ]
    },
    {
      "cell_type": "code",
      "metadata": {
        "id": "nLQQ9A_c_Zym",
        "colab_type": "code",
        "colab": {
          "base_uri": "https://localhost:8080/",
          "height": 527
        },
        "outputId": "43434dce-4ac9-4d6a-dab6-e0f03252fa11"
      },
      "source": [
        "from tensorflow.keras.optimizers import Adadelta\n",
        "\n",
        "adadelta = create_model(optimizer=Adadelta).fit(X_train, y_train, \n",
        "                                                epochs=15, \n",
        "                                                batch_size=75, \n",
        "                                                validation_data=(X_test, y_test))"
      ],
      "execution_count": 50,
      "outputs": [
        {
          "output_type": "stream",
          "text": [
            "Epoch 1/15\n",
            "934/934 [==============================] - 2s 2ms/step - loss: 2.3633 - accuracy: 0.1436 - val_loss: 2.3135 - val_accuracy: 0.1582\n",
            "Epoch 2/15\n",
            "934/934 [==============================] - 2s 2ms/step - loss: 2.2829 - accuracy: 0.1820 - val_loss: 2.2553 - val_accuracy: 0.2034\n",
            "Epoch 3/15\n",
            "934/934 [==============================] - 2s 2ms/step - loss: 2.2344 - accuracy: 0.2291 - val_loss: 2.2138 - val_accuracy: 0.2461\n",
            "Epoch 4/15\n",
            "934/934 [==============================] - 2s 2ms/step - loss: 2.1957 - accuracy: 0.2686 - val_loss: 2.1777 - val_accuracy: 0.2863\n",
            "Epoch 5/15\n",
            "934/934 [==============================] - 2s 2ms/step - loss: 2.1605 - accuracy: 0.3082 - val_loss: 2.1427 - val_accuracy: 0.3293\n",
            "Epoch 6/15\n",
            "934/934 [==============================] - 2s 2ms/step - loss: 2.1253 - accuracy: 0.3463 - val_loss: 2.1076 - val_accuracy: 0.3652\n",
            "Epoch 7/15\n",
            "934/934 [==============================] - 2s 2ms/step - loss: 2.0891 - accuracy: 0.3762 - val_loss: 2.0715 - val_accuracy: 0.3891\n",
            "Epoch 8/15\n",
            "934/934 [==============================] - 2s 2ms/step - loss: 2.0533 - accuracy: 0.3983 - val_loss: 2.0368 - val_accuracy: 0.4063\n",
            "Epoch 9/15\n",
            "934/934 [==============================] - 2s 2ms/step - loss: 2.0178 - accuracy: 0.4149 - val_loss: 2.0020 - val_accuracy: 0.4196\n",
            "Epoch 10/15\n",
            "934/934 [==============================] - 2s 2ms/step - loss: 1.9830 - accuracy: 0.4284 - val_loss: 1.9673 - val_accuracy: 0.4314\n",
            "Epoch 11/15\n",
            "934/934 [==============================] - 2s 2ms/step - loss: 1.9489 - accuracy: 0.4391 - val_loss: 1.9335 - val_accuracy: 0.4406\n",
            "Epoch 12/15\n",
            "934/934 [==============================] - 2s 2ms/step - loss: 1.9151 - accuracy: 0.4474 - val_loss: 1.9005 - val_accuracy: 0.4467\n",
            "Epoch 13/15\n",
            "934/934 [==============================] - 2s 2ms/step - loss: 1.8823 - accuracy: 0.4547 - val_loss: 1.8687 - val_accuracy: 0.4540\n",
            "Epoch 14/15\n",
            "934/934 [==============================] - 2s 2ms/step - loss: 1.8511 - accuracy: 0.4627 - val_loss: 1.8384 - val_accuracy: 0.4593\n",
            "Epoch 15/15\n",
            "934/934 [==============================] - 2s 2ms/step - loss: 1.8211 - accuracy: 0.4683 - val_loss: 1.8089 - val_accuracy: 0.4643\n"
          ],
          "name": "stdout"
        }
      ]
    },
    {
      "cell_type": "code",
      "metadata": {
        "id": "ScDzqPb6_clw",
        "colab_type": "code",
        "colab": {
          "base_uri": "https://localhost:8080/",
          "height": 527
        },
        "outputId": "12aebc6f-c1b5-4fc8-95b3-7a71cd632df4"
      },
      "source": [
        "from tensorflow.keras.optimizers import Ftrl\n",
        "\n",
        "ftrl = create_model(optimizer=Ftrl).fit(X_train, y_train, \n",
        "                                        epochs=15, \n",
        "                                        batch_size=75, \n",
        "                                        validation_data=(X_test, y_test))"
      ],
      "execution_count": 51,
      "outputs": [
        {
          "output_type": "stream",
          "text": [
            "Epoch 1/15\n",
            "934/934 [==============================] - 2s 2ms/step - loss: 2.3034 - accuracy: 0.0987 - val_loss: 2.3029 - val_accuracy: 0.1006\n",
            "Epoch 2/15\n",
            "934/934 [==============================] - 2s 2ms/step - loss: 2.3029 - accuracy: 0.1003 - val_loss: 2.3031 - val_accuracy: 0.0992\n",
            "Epoch 3/15\n",
            "934/934 [==============================] - 2s 2ms/step - loss: 2.3028 - accuracy: 0.1010 - val_loss: 2.3025 - val_accuracy: 0.1006\n",
            "Epoch 4/15\n",
            "934/934 [==============================] - 2s 2ms/step - loss: 2.2994 - accuracy: 0.1283 - val_loss: 2.2874 - val_accuracy: 0.0993\n",
            "Epoch 5/15\n",
            "934/934 [==============================] - 2s 2ms/step - loss: 2.1890 - accuracy: 0.1836 - val_loss: 2.0518 - val_accuracy: 0.1891\n",
            "Epoch 6/15\n",
            "934/934 [==============================] - 2s 2ms/step - loss: 1.9691 - accuracy: 0.2036 - val_loss: 1.9211 - val_accuracy: 0.2141\n",
            "Epoch 7/15\n",
            "934/934 [==============================] - 2s 2ms/step - loss: 1.8917 - accuracy: 0.2361 - val_loss: 1.8743 - val_accuracy: 0.2541\n",
            "Epoch 8/15\n",
            "934/934 [==============================] - 2s 2ms/step - loss: 1.8433 - accuracy: 0.2696 - val_loss: 1.8204 - val_accuracy: 0.2969\n",
            "Epoch 9/15\n",
            "934/934 [==============================] - 2s 2ms/step - loss: 1.7864 - accuracy: 0.3123 - val_loss: 1.7581 - val_accuracy: 0.3392\n",
            "Epoch 10/15\n",
            "934/934 [==============================] - 2s 2ms/step - loss: 1.7212 - accuracy: 0.3517 - val_loss: 1.6916 - val_accuracy: 0.3563\n",
            "Epoch 11/15\n",
            "934/934 [==============================] - 2s 2ms/step - loss: 1.6588 - accuracy: 0.3670 - val_loss: 1.6370 - val_accuracy: 0.3626\n",
            "Epoch 12/15\n",
            "934/934 [==============================] - 2s 2ms/step - loss: 1.6050 - accuracy: 0.3749 - val_loss: 1.5882 - val_accuracy: 0.3951\n",
            "Epoch 13/15\n",
            "934/934 [==============================] - 2s 2ms/step - loss: 1.5592 - accuracy: 0.3888 - val_loss: 1.5448 - val_accuracy: 0.3910\n",
            "Epoch 14/15\n",
            "934/934 [==============================] - 2s 2ms/step - loss: 1.5183 - accuracy: 0.4002 - val_loss: 1.5073 - val_accuracy: 0.4137\n",
            "Epoch 15/15\n",
            "934/934 [==============================] - 2s 2ms/step - loss: 1.4802 - accuracy: 0.4206 - val_loss: 1.4730 - val_accuracy: 0.4314\n"
          ],
          "name": "stdout"
        }
      ]
    },
    {
      "cell_type": "code",
      "metadata": {
        "id": "z1e3g7tA_hJi",
        "colab_type": "code",
        "colab": {
          "base_uri": "https://localhost:8080/",
          "height": 527
        },
        "outputId": "5a8e8500-d847-42bb-fe76-e0178c0af8fd"
      },
      "source": [
        "from tensorflow.keras.optimizers import RMSprop\n",
        "\n",
        "rmsprop = create_model(optimizer=RMSprop).fit(X_train, y_train, \n",
        "                                          epochs=15, \n",
        "                                          batch_size=75, \n",
        "                                          validation_data=(X_test, y_test))"
      ],
      "execution_count": 52,
      "outputs": [
        {
          "output_type": "stream",
          "text": [
            "Epoch 1/15\n",
            "934/934 [==============================] - 2s 2ms/step - loss: 1.2859 - accuracy: 0.5572 - val_loss: 1.1147 - val_accuracy: 0.6326\n",
            "Epoch 2/15\n",
            "934/934 [==============================] - 2s 2ms/step - loss: 1.0125 - accuracy: 0.6675 - val_loss: 0.9823 - val_accuracy: 0.6887\n",
            "Epoch 3/15\n",
            "934/934 [==============================] - 2s 2ms/step - loss: 0.9716 - accuracy: 0.6873 - val_loss: 0.9746 - val_accuracy: 0.6794\n",
            "Epoch 4/15\n",
            "934/934 [==============================] - 2s 2ms/step - loss: 0.9458 - accuracy: 0.6947 - val_loss: 0.9470 - val_accuracy: 0.6918\n",
            "Epoch 5/15\n",
            "934/934 [==============================] - 2s 2ms/step - loss: 0.9299 - accuracy: 0.7022 - val_loss: 0.9308 - val_accuracy: 0.7076\n",
            "Epoch 6/15\n",
            "934/934 [==============================] - 2s 2ms/step - loss: 0.8957 - accuracy: 0.7135 - val_loss: 0.9009 - val_accuracy: 0.7119\n",
            "Epoch 7/15\n",
            "934/934 [==============================] - 2s 2ms/step - loss: 0.8858 - accuracy: 0.7196 - val_loss: 0.8763 - val_accuracy: 0.7222\n",
            "Epoch 8/15\n",
            "934/934 [==============================] - 2s 2ms/step - loss: 0.8741 - accuracy: 0.7240 - val_loss: 0.8544 - val_accuracy: 0.7270\n",
            "Epoch 9/15\n",
            "934/934 [==============================] - 2s 2ms/step - loss: 0.8556 - accuracy: 0.7268 - val_loss: 0.8563 - val_accuracy: 0.7287\n",
            "Epoch 10/15\n",
            "934/934 [==============================] - 2s 2ms/step - loss: 0.8403 - accuracy: 0.7325 - val_loss: 0.8416 - val_accuracy: 0.7322\n",
            "Epoch 11/15\n",
            "934/934 [==============================] - 2s 2ms/step - loss: 0.8358 - accuracy: 0.7365 - val_loss: 0.8323 - val_accuracy: 0.7393\n",
            "Epoch 12/15\n",
            "934/934 [==============================] - 2s 2ms/step - loss: 0.8371 - accuracy: 0.7373 - val_loss: 0.8272 - val_accuracy: 0.7387\n",
            "Epoch 13/15\n",
            "934/934 [==============================] - 2s 2ms/step - loss: 0.8316 - accuracy: 0.7384 - val_loss: 0.8236 - val_accuracy: 0.7416\n",
            "Epoch 14/15\n",
            "934/934 [==============================] - 2s 2ms/step - loss: 0.8240 - accuracy: 0.7415 - val_loss: 0.8255 - val_accuracy: 0.7397\n",
            "Epoch 15/15\n",
            "934/934 [==============================] - 2s 2ms/step - loss: 0.8256 - accuracy: 0.7403 - val_loss: 0.8233 - val_accuracy: 0.7415\n"
          ],
          "name": "stdout"
        }
      ]
    },
    {
      "cell_type": "markdown",
      "metadata": {
        "id": "ydAqeY9S8uHA",
        "colab_type": "text"
      },
      "source": [
        "### Additional Written Tasks\n",
        "\n",
        "1. Describe the process of backpropagation in your own words: \n",
        "```\n",
        "The process of updating the weights and bias of a Neural Network in order to get a batter accuracy rating\n",
        "```\n",
        "\n"
      ]
    },
    {
      "cell_type": "markdown",
      "metadata": {
        "colab_type": "text",
        "id": "FwlRJSfBlCvy"
      },
      "source": [
        "## Stretch Goals: \n",
        "\n",
        "- Implement GridSearch on anyone of the experiments\n",
        "- On the learning rate experiments, implement [EarlyStopping](https://www.tensorflow.org/api_docs/python/tf/keras/callbacks/EarlyStopping)\n",
        "- Review material on the math behind gradient descent: \n",
        "\n",
        "  - Gradient Descent\n",
        "    - Gradient Descent, Step-by-Step  by StatQuest w/ Josh Starmer. This will help you understand the gradient descent based optimization that happens underneath the hood of neural networks. It uses a non-neural network example, which I believe is a gentler introduction. You will hear me refer to this technique as \"vanilla\" gradient descent. \n",
        "    - Stochastic Gradient Descent, Clearly Explained!!! by StatQuest w/ Josh Starmer. This builds on the techniques in the previous video.  This technique is the one that is actually implemented inside modern 'nets. \n",
        "These are great resources to help you understand tomorrow's material at a deeper level. I highly recommend watching these ahead of tomorrow.\n",
        "\n",
        "  - Background Math\n",
        "    - Dot products and duality by 3Blue1Brown. Explains the core linear algebra operation happening in today's perceptron.\n",
        "The paradox of the derivative by 3Blue1Brown. Does a great job explaining a derivative. \n",
        "    - Visualizing the chain rule and product rule by 3Blue1Brown. Explains the black magic that happens within Stochastic Gradient Descent. \n",
        "These math resources are very much optional. They can be very heady, but I encourage you to explore. Your understanding of neural networks will greatly increase if you understand this math background.\n",
        "\n",
        "\n"
      ]
    }
  ]
}