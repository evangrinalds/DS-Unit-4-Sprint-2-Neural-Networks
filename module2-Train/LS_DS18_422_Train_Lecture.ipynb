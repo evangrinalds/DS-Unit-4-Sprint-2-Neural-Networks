{
  "nbformat": 4,
  "nbformat_minor": 0,
  "metadata": {
    "colab": {
      "name": "LS_DS18_422_Train_Lecture.ipynb",
      "provenance": [],
      "collapsed_sections": [],
      "include_colab_link": true
    },
    "kernelspec": {
      "display_name": "Python 3",
      "language": "python",
      "name": "python3"
    },
    "language_info": {
      "codemirror_mode": {
        "name": "ipython",
        "version": 3
      },
      "file_extension": ".py",
      "mimetype": "text/x-python",
      "name": "python",
      "nbconvert_exporter": "python",
      "pygments_lexer": "ipython3",
      "version": "3.7.7"
    }
  },
  "cells": [
    {
      "cell_type": "markdown",
      "metadata": {
        "id": "view-in-github",
        "colab_type": "text"
      },
      "source": [
        "<a href=\"https://colab.research.google.com/github/evangrinalds/DS-Unit-4-Sprint-2-Neural-Networks/blob/main/module2-Train/LS_DS18_422_Train_Lecture.ipynb\" target=\"_parent\"><img src=\"https://colab.research.google.com/assets/colab-badge.svg\" alt=\"Open In Colab\"/></a>"
      ]
    },
    {
      "cell_type": "markdown",
      "metadata": {
        "id": "aS4GZ37Wgcjr"
      },
      "source": [
        "Lambda School Data Science\n",
        "\n",
        "*Unit 4, Sprint 2, Module 2*\n",
        "\n",
        "---"
      ]
    },
    {
      "cell_type": "markdown",
      "metadata": {
        "id": "etFf1WLWgcjt",
        "toc-hr-collapsed": false
      },
      "source": [
        "# Train (Prepare)\n",
        "__*Neural Network Foundations*__"
      ]
    },
    {
      "cell_type": "markdown",
      "metadata": {
        "id": "hXB80QOhgcju"
      },
      "source": [
        "## Learning Objectives\n",
        "* <a href=\"#p1\">Part 1</a>: Student should be able to explain the intuition behind backpropagation and gradient descent\n",
        "* <a href=\"#p2\">Part 2</a>: Student should be able to discuss the importance of batch size\n",
        "* <a href=\"#p3\">Part 3</a>: Student should be able to discuss the importance of learning rate"
      ]
    },
    {
      "cell_type": "markdown",
      "metadata": {
        "id": "8YuQu2lfgcju"
      },
      "source": [
        "## Summary of Yesterday\n",
        "\n",
        "Yesterday, we learned about some of the principal components of Neural Networks: Neurons, Weights, Activation Functions, and layers (input, output, & hidden). Today, we will reinforce our understanding of those components and introduce the mechanics of training a neural network. Feed-forward neural networks, such as multi-layer perceptrons (MLPs), are almost always trained using some variation of gradient descent where the gradient has been calculated by backpropagation.\n",
        "\n",
        "  <center><img src=\"https://raw.githubusercontent.com/LambdaSchool/DS-Unit-4-Sprint-2-Neural-Networks/main/module1-Architect/IMG_0167.jpeg\" width=400></center>\n",
        "\n",
        "- There are three kinds of layers: input, hidden, and output layers.\n",
        "- Each layer is made up of **n** individual neurons (aka activation units) which have a corresponding weight and bias.\n",
        "- Signal is passed from layer to layer through a network by:\n",
        " - Taking in inputs from the training data (or previous layer)\n",
        " - Multiplying each input by its corresponding weight (think arrow/connecting line)\n",
        " - Adding a bias to this weighted some of inputs and weights\n",
        " - Activating this weighted sum + bias by squishifying it with sigmoid or some other activation function. With a single perceptron with three inputs, calculating the output from the node is done like so:\n",
        "\\begin{align}\n",
        " y = sigmoid(\\sum(weight_{1}input_{1} + weight_{2}input_{2} + weight_{3}input_{3}) + bias)\n",
        "\\end{align}\n",
        " - this final activated value is the signal that gets passed onto the next layer of the network.\n",
        " "
      ]
    },
    {
      "cell_type": "markdown",
      "metadata": {
        "id": "bpi4R03rgcjv"
      },
      "source": [
        "## Training a Neural Network: *Formal Summary*\n",
        "\n",
        "0. Pick a network architecture\n",
        "   - No. of input units = No. of features\n",
        "   - No. of output units = Number of Classes (or expected targets)\n",
        "   - Select the number of hidden layers and number of neurons within each hidden layer\n",
        "1. Randomly initialize weights\n",
        "2. Implement forward propagation to get $h_{\\theta}(x^{(i)})$ for any $x^{(i)}$\n",
        "3. Implement code to compute a cost function $J(\\theta)$\n",
        "4. Implement backpropagation to compute partial derivatives $\\frac{\\delta}{\\delta\\theta_{jk}^{l}}{J(\\theta)}$\n",
        "5. Use gradient descent (or other advanced optimizer) with backpropagation to minimize $J(\\theta)$ as a function of parameters $\\theta\\$\n",
        "6. Repeat steps 2 - 5 until cost function is 'minimized' or some other stopping criteria is met. One pass over steps 2 - 5 is called an iteration or epoch."
      ]
    },
    {
      "cell_type": "markdown",
      "metadata": {
        "id": "aM4CK1IarId4",
        "toc-hr-collapsed": false
      },
      "source": [
        "# Backpropagation & Gradient Descent (Learn)\n",
        "<a id=\"p1\"></a>"
      ]
    },
    {
      "cell_type": "markdown",
      "metadata": {
        "id": "Ktm8Fmoagcjy",
        "toc-hr-collapsed": true
      },
      "source": [
        "## Overview\n",
        "\n",
        "Backpropagation is short for [\"Backwards Propagation of errors\"](https://en.wikipedia.org/wiki/Backpropagation) and refers to a specific (rather calculus intensive) algorithm for how weights in a neural network are updated in reverse order at the end of each training epoch. Our purpose today is to demonstrate the backpropagation algorithm on a simple Feedforward Neural Network and in so doing help you get a grasp on the main process. If you want to understand all of the underlying calculus of how the gradients are calculated then you'll need to dive into it yourself, [3Blue1Brown's video is a great starting place](https://www.youtube.com/watch?v=tIeHLnjs5U8). I also highly recommend this Welch Labs series [Neural Networks Demystified](https://www.youtube.com/watch?v=bxe2T-V8XRs) if you want a rapid yet orderly walk through of the main intuitions and math behind the backpropagation algorithm. "
      ]
    },
    {
      "cell_type": "markdown",
      "metadata": {
        "id": "NXI2tEO9gcjy"
      },
      "source": [
        "### What is a Gradient?\n",
        "\n",
        "> In vector calculus, the gradient is a multi-variable generalization of the derivative. \n",
        "\n",
        "The gradients that we will deal with today will be vector representations of the derivative of the activation function. "
      ]
    },
    {
      "cell_type": "markdown",
      "metadata": {
        "id": "UZY66kiUgcjz",
        "toc-hr-collapsed": true
      },
      "source": [
        "## Follow Along\n",
        "\n",
        "In this section, we will again a simple neural network using base TensorFlow. We'll focus on using a __Feed Forward Neural Network__ to predict test scores. "
      ]
    },
    {
      "cell_type": "markdown",
      "metadata": {
        "id": "Dm2HPETcrgy6",
        "toc-hr-collapsed": true
      },
      "source": [
        "<center><img src=\"https://raw.githubusercontent.com/LambdaSchool/DS-Unit-4-Sprint-2-Neural-Networks/main/module1-Architect/IMG_99C94113202D-1.jpeg\"width=500></center>"
      ]
    },
    {
      "cell_type": "markdown",
      "metadata": {
        "id": "4d4tzpwO6B47"
      },
      "source": [
        "### Generate some Fake Data"
      ]
    },
    {
      "cell_type": "code",
      "metadata": {
        "id": "ERyVgeO_IWyV"
      },
      "source": [
        "import tensorflow as tf\n",
        "\n",
        "# Imagine that our data is drawn from a linear function\n",
        "# y = 3*hours_studying + 50\n",
        "\n",
        "TRUE_W = 3.5\n",
        "TRUE_b = 50.0\n",
        "NUM_EXAMPLES = 1000\n",
        "\n",
        "inputs = tf.random.normal(shape=[NUM_EXAMPLES])\n",
        "noise = tf.random.normal(shape=[NUM_EXAMPLES])\n",
        "\n",
        "outputs = inputs * TRUE_W + TRUE_b + noise"
      ],
      "execution_count": null,
      "outputs": []
    },
    {
      "cell_type": "code",
      "metadata": {
        "id": "V7YDzCuMwyz0",
        "outputId": "c63a2e25-af79-429f-98fd-6f512678b41f",
        "colab": {
          "base_uri": "https://localhost:8080/",
          "height": 69
        }
      },
      "source": [
        "outputs[:10]"
      ],
      "execution_count": null,
      "outputs": [
        {
          "output_type": "execute_result",
          "data": {
            "text/plain": [
              "<tf.Tensor: shape=(10,), dtype=float32, numpy=\n",
              "array([47.847687, 53.644787, 46.36113 , 50.803284, 47.299168, 53.30744 ,\n",
              "       50.223858, 50.641045, 47.42235 , 54.397503], dtype=float32)>"
            ]
          },
          "metadata": {
            "tags": []
          },
          "execution_count": 3
        }
      ]
    },
    {
      "cell_type": "code",
      "metadata": {
        "id": "C1tAWzsgxH2M",
        "outputId": "4010bafe-6655-4901-ddda-2a12f48a119e",
        "colab": {
          "base_uri": "https://localhost:8080/",
          "height": 86
        }
      },
      "source": [
        "inputs[:10]"
      ],
      "execution_count": null,
      "outputs": [
        {
          "output_type": "execute_result",
          "data": {
            "text/plain": [
              "<tf.Tensor: shape=(10,), dtype=float32, numpy=\n",
              "array([-6.09841049e-01,  7.82421231e-01, -7.90602148e-01,  6.20084256e-03,\n",
              "       -6.88607991e-01,  1.17718327e+00, -6.18792488e-04, -1.14075705e-01,\n",
              "       -1.09092891e+00,  1.64275575e+00], dtype=float32)>"
            ]
          },
          "metadata": {
            "tags": []
          },
          "execution_count": 4
        }
      ]
    },
    {
      "cell_type": "code",
      "metadata": {
        "id": "n8kV877FxNxj",
        "outputId": "8e4c4720-65fd-4710-ea23-88670fd79ace",
        "colab": {
          "base_uri": "https://localhost:8080/",
          "height": 86
        }
      },
      "source": [
        "noise[:10]"
      ],
      "execution_count": null,
      "outputs": [
        {
          "output_type": "execute_result",
          "data": {
            "text/plain": [
              "<tf.Tensor: shape=(10,), dtype=float32, numpy=\n",
              "array([-0.01786951,  0.90631163, -0.8717594 ,  0.78158087, -0.2907014 ,\n",
              "       -0.8126976 ,  0.22602394,  1.0403105 ,  1.2406062 , -1.3521439 ],\n",
              "      dtype=float32)>"
            ]
          },
          "metadata": {
            "tags": []
          },
          "execution_count": 5
        }
      ]
    },
    {
      "cell_type": "markdown",
      "metadata": {
        "id": "bCJesGEUgcj4"
      },
      "source": [
        "### Loss Function\n",
        "Here we will use Mean Squared Error (MSE), because this is a regression problem. We are trying to predict a continuous target."
      ]
    },
    {
      "cell_type": "code",
      "metadata": {
        "id": "cDeUBW6k4Ri4"
      },
      "source": [
        "def loss(target_y, predicted_y):\n",
        "  \"\"\"MSE\"\"\"\n",
        "  return tf.reduce_mean(tf.square(target_y - predicted_y))"
      ],
      "execution_count": null,
      "outputs": []
    },
    {
      "cell_type": "markdown",
      "metadata": {
        "id": "bgTf6vTS69Sw"
      },
      "source": [
        "### Neural Network Architecture\n",
        "Lets create a Neural Network class called \"Model\" to contain this functionality. Note: This is essentially a linear regression whose coefficients are trained by gradient descent. In practice, gradient descent works on much more complex function like the multi-layer networks we constructed yesterday."
      ]
    },
    {
      "cell_type": "code",
      "metadata": {
        "id": "RUI8VSR5zyBv"
      },
      "source": [
        "class Model(object):\n",
        "\n",
        "  def __init__(self):\n",
        "    self.W = tf.Variable(8.0)\n",
        "    self.b = tf.Variable(40.0)\n",
        "\n",
        "  def __call__(self, x):\n",
        "    return self.W * x + self.b\n",
        "\n",
        "model = Model()\n",
        "\n",
        "assert model(3.0).numpy() == 64.0"
      ],
      "execution_count": null,
      "outputs": []
    },
    {
      "cell_type": "code",
      "metadata": {
        "id": "ADRqJVgNyB1A"
      },
      "source": [
        "print(model(-1.0).numpy())  # What should this be?"
      ],
      "execution_count": null,
      "outputs": []
    },
    {
      "cell_type": "markdown",
      "metadata": {
        "id": "gbyT_FJ88IlK"
      },
      "source": [
        "### Initial Weights\n",
        "The initial weights in our model were arbitrary. In practice, weights are initialized randomly. "
      ]
    },
    {
      "cell_type": "code",
      "metadata": {
        "id": "IreIDe6P8H0H",
        "outputId": "d803c14d-5b09-42a7-8989-375cbe208317",
        "colab": {
          "base_uri": "https://localhost:8080/",
          "height": 282
        }
      },
      "source": [
        "import matplotlib.pyplot as plt\n",
        "\n",
        "plt.scatter(inputs, outputs, c='b')\n",
        "plt.scatter(inputs, model(inputs), c='r')\n",
        "plt.show()\n",
        "\n",
        "print('Current loss: %1.6f' % loss(model(inputs), outputs).numpy())"
      ],
      "execution_count": null,
      "outputs": [
        {
          "output_type": "display_data",
          "data": {
            "image/png": "[encoded data removed]",
            "text/plain": [
              "<Figure size 432x288 with 1 Axes>"
            ]
          },
          "metadata": {
            "tags": [],
            "needs_background": "light"
          }
        },
        {
          "output_type": "stream",
          "text": [
            "Current loss: 119.086716\n"
          ],
          "name": "stdout"
        }
      ]
    },
    {
      "cell_type": "markdown",
      "metadata": {
        "id": "16Ujj6vNYQyX",
        "toc-hr-collapsed": true
      },
      "source": [
        "### Update Weights Based on Gradient\n",
        "\n",
        "> *Assigning blame for bad predictions and delivering justice - repeatedly and a little bit at a time*\n",
        "\n",
        "You should also know that with neural networks it is common to have gradients that are not convex (like what we saw when we applied gradient descent to linear regression). \n",
        "\n",
        "Due to the high complexity of these models and their nonlinearity, it is common for gradient descent to get stuck in a local minimum, but there are ways to combat this:\n",
        "\n",
        "1) Stochastic Gradient Descent\n",
        "\n",
        "2) More advanced Gradient-Descent-based \"Optimizers\" - See Stretch Goals on assignment."
      ]
    },
    {
      "cell_type": "code",
      "metadata": {
        "id": "ZgaGD6YlHoid"
      },
      "source": [
        "def train(model, inputs, outputs, learning_rate):\n",
        "  # \"Gradient tape\" TensorFlow magic to keep track of loss\n",
        "  with tf.GradientTape() as t:\n",
        "     current_loss = loss(outputs, model(inputs))\n",
        "  dW, db = t.gradient(current_loss, [model.W, model.b])\n",
        "  #print(dW, db)  # Will be very verbose\n",
        "  model.W.assign_sub(learning_rate * dW)\n",
        "  model.b.assign_sub(learning_rate * db)"
      ],
      "execution_count": null,
      "outputs": []
    },
    {
      "cell_type": "markdown",
      "metadata": {
        "id": "7iziWWURgck8"
      },
      "source": [
        "### Train the Network"
      ]
    },
    {
      "cell_type": "code",
      "metadata": {
        "id": "4zn_HgFuHhTr",
        "outputId": "b6894501-fcdc-45e0-d41b-8ed977f33b11",
        "colab": {
          "base_uri": "https://localhost:8080/",
          "height": 538
        }
      },
      "source": [
        "model = Model()\n",
        "\n",
        "# Store Some history of weights\n",
        "Ws, bs = [], []\n",
        "epochs = range(30)\n",
        "for epoch in epochs:\n",
        "  Ws.append(model.W.numpy())\n",
        "  bs.append(model.b.numpy())\n",
        "  current_loss = loss(outputs, model(inputs))\n",
        "\n",
        "  train(model, inputs, outputs, learning_rate=0.1)\n",
        "  print('Epoch %2d: W=%1.2f b=%1.2f loss=%2.5f' % (epoch, Ws[-1], bs[-1], current_loss))"
      ],
      "execution_count": null,
      "outputs": [
        {
          "output_type": "stream",
          "text": [
            "Epoch  0: W=8.00 b=40.00 loss=119.08672\n",
            "Epoch  1: W=7.16 b=41.98 loss=77.37471\n",
            "Epoch  2: W=6.47 b=43.57 loss=50.40117\n",
            "Epoch  3: W=5.92 b=44.84 loss=32.95627\n",
            "Epoch  4: W=5.46 b=45.86 loss=21.67259\n",
            "Epoch  5: W=5.09 b=46.68 loss=14.37323\n",
            "Epoch  6: W=4.79 b=47.34 loss=9.65078\n",
            "Epoch  7: W=4.55 b=47.87 loss=6.59513\n",
            "Epoch  8: W=4.35 b=48.29 loss=4.61777\n",
            "Epoch  9: W=4.18 b=48.63 loss=3.33804\n",
            "Epoch 10: W=4.05 b=48.90 loss=2.50974\n",
            "Epoch 11: W=3.95 b=49.12 loss=1.97355\n",
            "Epoch 12: W=3.86 b=49.30 loss=1.62642\n",
            "Epoch 13: W=3.79 b=49.44 loss=1.40167\n",
            "Epoch 14: W=3.73 b=49.55 loss=1.25613\n",
            "Epoch 15: W=3.68 b=49.64 loss=1.16189\n",
            "Epoch 16: W=3.65 b=49.72 loss=1.10085\n",
            "Epoch 17: W=3.61 b=49.78 loss=1.06131\n",
            "Epoch 18: W=3.59 b=49.82 loss=1.03570\n",
            "Epoch 19: W=3.57 b=49.86 loss=1.01911\n",
            "Epoch 20: W=3.55 b=49.89 loss=1.00836\n",
            "Epoch 21: W=3.54 b=49.92 loss=1.00139\n",
            "Epoch 22: W=3.53 b=49.93 loss=0.99688\n",
            "Epoch 23: W=3.52 b=49.95 loss=0.99396\n",
            "Epoch 24: W=3.51 b=49.96 loss=0.99206\n",
            "Epoch 25: W=3.51 b=49.97 loss=0.99083\n",
            "Epoch 26: W=3.50 b=49.98 loss=0.99003\n",
            "Epoch 27: W=3.50 b=49.99 loss=0.98952\n",
            "Epoch 28: W=3.49 b=49.99 loss=0.98918\n",
            "Epoch 29: W=3.49 b=50.00 loss=0.98897\n"
          ],
          "name": "stdout"
        }
      ]
    },
    {
      "cell_type": "code",
      "metadata": {
        "id": "FSEt07wdHvi2",
        "outputId": "6a2b6286-50a4-4250-8a34-33d99a166ed6",
        "colab": {
          "base_uri": "https://localhost:8080/",
          "height": 265
        }
      },
      "source": [
        "import matplotlib.pyplot as plt\n",
        "\n",
        "plt.plot(epochs, Ws, 'r', epochs, bs, 'b')\n",
        "plt.plot([TRUE_W] * len(epochs), 'r--',\n",
        "         [TRUE_b] * len(epochs), 'b--')\n",
        "plt.legend(['W', 'b', 'True W', 'True b'])\n",
        "plt.show()"
      ],
      "execution_count": null,
      "outputs": [
        {
          "output_type": "display_data",
          "data": {
            "image/png": "[encoded data removed]",
            "text/plain": [
              "<Figure size 432x288 with 1 Axes>"
            ]
          },
          "metadata": {
            "tags": [],
            "needs_background": "light"
          }
        }
      ]
    },
    {
      "cell_type": "markdown",
      "metadata": {
        "id": "iKUVGoRxgck_"
      },
      "source": [
        "## Challenge\n",
        "\n",
        "In the module project, you will be asked to explain the logic of backpropagation and gradient descent."
      ]
    },
    {
      "cell_type": "markdown",
      "metadata": {
        "id": "SxIypH8piMIX"
      },
      "source": [
        "### In the following two sections we'll look at batch size and learning rate hyperparameters in isolation. \n",
        "However, it's important to know that recent research found some interesting relationships between batch sizes and learning rates. The best available suggestion today is to scale batch size proportionally to a learning rate:\n",
        "- https://openreview.net/pdf?id=B1Yy1BxCZ\n",
        "- https://papers.nips.cc/paper/8398-control-batch-size-and-learning-rate-to-generalize-well-theoretical-and-empirical-evidence.pdf"
      ]
    },
    {
      "cell_type": "markdown",
      "metadata": {
        "id": "vTqZg-6igclA",
        "toc-hr-collapsed": true
      },
      "source": [
        "# Batch Size (Learn)"
      ]
    },
    {
      "cell_type": "markdown",
      "metadata": {
        "id": "0nrm-racgclA"
      },
      "source": [
        "## Overview\n",
        "\n",
        "The What - Stochastic Gradient Descent calculates an approximation of the gradient over the entire dataset by reviewing the predictions of a random sample. \n",
        "\n",
        "The Why - *Speed*. Calculating the gradient over the entire dataset is extremely expensive computationally. \n",
        "\n",
        "### Batch Size\n",
        "Batches are the number of observations our model is shown to make predictions and update the weights. Batches are selected randomly during epoch. All observations are considered when passing thru an epoch at some point."
      ]
    },
    {
      "cell_type": "markdown",
      "metadata": {
        "id": "oNQ2ZCi7I4i6"
      },
      "source": [
        "### Baseline Model"
      ]
    },
    {
      "cell_type": "code",
      "metadata": {
        "id": "mZjW2lYVI9Q2",
        "outputId": "f3b0da43-b9e1-44ce-adcd-4b3d17634e23",
        "colab": {
          "base_uri": "https://localhost:8080/",
          "height": 52
        }
      },
      "source": [
        "from tensorflow.keras.datasets import mnist\n",
        "\n",
        "(X_train, y_train), (X_test, y_test) = mnist.load_data()\n",
        "\n",
        "X_train = X_train / 255.\n",
        "X_test = X_test / 255.\n",
        "\n",
        "X_train = X_train.reshape((60000, 784))\n",
        "X_test = X_test.reshape((10000, 784))"
      ],
      "execution_count": null,
      "outputs": [
        {
          "output_type": "stream",
          "text": [
            "Downloading data from https://storage.googleapis.com/tensorflow/tf-keras-datasets/mnist.npz\n",
            "11493376/11490434 [==============================] - 0s 0us/step\n"
          ],
          "name": "stdout"
        }
      ]
    },
    {
      "cell_type": "code",
      "metadata": {
        "id": "o7x17kDKJSy5"
      },
      "source": [
        "# Our Model\n",
        "from tensorflow.keras import Sequential\n",
        "from tensorflow.keras.layers import Dense\n",
        "from tensorflow.keras.optimizers import SGD\n",
        "\n",
        "def create_model(lr=0.01):\n",
        "  opt = SGD(learning_rate=lr)\n",
        "\n",
        "  model = Sequential(\n",
        "      [Dense(32, activation='relu', input_dim=784),\n",
        "       Dense(32, activation='relu'),\n",
        "       Dense(10, activation='softmax')]\n",
        "  )\n",
        "\n",
        "  model.compile(optimizer=opt, loss='sparse_categorical_crossentropy',\n",
        "                metrics=['accuracy'])\n",
        "  return model"
      ],
      "execution_count": null,
      "outputs": []
    },
    {
      "cell_type": "code",
      "metadata": {
        "id": "nk-bM5eN4gJO",
        "outputId": "de393cfb-9c2d-44be-f349-5e48b70e244f",
        "colab": {
          "base_uri": "https://localhost:8080/",
          "height": 260
        }
      },
      "source": [
        "model = create_model()\n",
        "model.summary()"
      ],
      "execution_count": null,
      "outputs": [
        {
          "output_type": "stream",
          "text": [
            "Model: \"sequential\"\n",
            "_________________________________________________________________\n",
            "Layer (type)                 Output Shape              Param #   \n",
            "=================================================================\n",
            "dense (Dense)                (None, 32)                25120     \n",
            "_________________________________________________________________\n",
            "dense_1 (Dense)              (None, 32)                1056      \n",
            "_________________________________________________________________\n",
            "dense_2 (Dense)              (None, 10)                330       \n",
            "=================================================================\n",
            "Total params: 26,506\n",
            "Trainable params: 26,506\n",
            "Non-trainable params: 0\n",
            "_________________________________________________________________\n"
          ],
          "name": "stdout"
        }
      ]
    },
    {
      "cell_type": "markdown",
      "metadata": {
        "id": "ZF7UE-KluPsX"
      },
      "source": [
        "## Follow Along\n",
        "Let's run a series of experiments for a default, small, and large batch size."
      ]
    },
    {
      "cell_type": "markdown",
      "metadata": {
        "id": "VhpDaVFRJl3U"
      },
      "source": [
        "### Default\n",
        "Batch Size is 32"
      ]
    },
    {
      "cell_type": "code",
      "metadata": {
        "id": "P-ChVGikgclD",
        "outputId": "e7791f30-2dda-4e06-9e1d-40e95815acfb",
        "colab": {
          "base_uri": "https://localhost:8080/",
          "height": 384
        }
      },
      "source": [
        "model = create_model()\n",
        "bt_default = model.fit(X_train, y_train,\n",
        "                       epochs=10,\n",
        "                       batch_size=32,\n",
        "                       validation_data=(X_test, y_test))"
      ],
      "execution_count": null,
      "outputs": [
        {
          "output_type": "stream",
          "text": [
            "Epoch 1/10\n",
            "1875/1875 [==============================] - 3s 1ms/step - loss: 0.7626 - accuracy: 0.7900 - val_loss: 0.3497 - val_accuracy: 0.8969\n",
            "Epoch 2/10\n",
            "1875/1875 [==============================] - 3s 1ms/step - loss: 0.3265 - accuracy: 0.9068 - val_loss: 0.2849 - val_accuracy: 0.9189\n",
            "Epoch 3/10\n",
            "1875/1875 [==============================] - 3s 1ms/step - loss: 0.2727 - accuracy: 0.9214 - val_loss: 0.2544 - val_accuracy: 0.9256\n",
            "Epoch 4/10\n",
            "1875/1875 [==============================] - 3s 1ms/step - loss: 0.2412 - accuracy: 0.9309 - val_loss: 0.2236 - val_accuracy: 0.9347\n",
            "Epoch 5/10\n",
            "1875/1875 [==============================] - 3s 1ms/step - loss: 0.2171 - accuracy: 0.9373 - val_loss: 0.2069 - val_accuracy: 0.9385\n",
            "Epoch 6/10\n",
            "1875/1875 [==============================] - 3s 1ms/step - loss: 0.1983 - accuracy: 0.9439 - val_loss: 0.1924 - val_accuracy: 0.9435\n",
            "Epoch 7/10\n",
            "1875/1875 [==============================] - 3s 1ms/step - loss: 0.1823 - accuracy: 0.9476 - val_loss: 0.1812 - val_accuracy: 0.9459\n",
            "Epoch 8/10\n",
            "1875/1875 [==============================] - 2s 1ms/step - loss: 0.1695 - accuracy: 0.9511 - val_loss: 0.1703 - val_accuracy: 0.9502\n",
            "Epoch 9/10\n",
            "1875/1875 [==============================] - 3s 1ms/step - loss: 0.1591 - accuracy: 0.9545 - val_loss: 0.1626 - val_accuracy: 0.9529\n",
            "Epoch 10/10\n",
            "1875/1875 [==============================] - 3s 1ms/step - loss: 0.1501 - accuracy: 0.9567 - val_loss: 0.1586 - val_accuracy: 0.9509\n"
          ],
          "name": "stdout"
        }
      ]
    },
    {
      "cell_type": "markdown",
      "metadata": {
        "id": "KvsbOFnDJuG0"
      },
      "source": [
        "### Small Batch Size\n",
        "Batch Size is 8"
      ]
    },
    {
      "cell_type": "code",
      "metadata": {
        "id": "diDzvb-UJ1je",
        "outputId": "0b547ede-e4f5-4f8c-b251-242f05fa5f45",
        "colab": {
          "base_uri": "https://localhost:8080/",
          "height": 384
        }
      },
      "source": [
        "model = create_model()\n",
        "bt_small = model.fit(X_train, y_train,\n",
        "                     epochs=10,\n",
        "                     batch_size=8,\n",
        "                     validation_data=(X_test, y_test))"
      ],
      "execution_count": null,
      "outputs": [
        {
          "output_type": "stream",
          "text": [
            "Epoch 1/10\n",
            "7500/7500 [==============================] - 9s 1ms/step - loss: 0.4062 - accuracy: 0.8820 - val_loss: 0.2282 - val_accuracy: 0.9341\n",
            "Epoch 2/10\n",
            "7500/7500 [==============================] - 9s 1ms/step - loss: 0.2107 - accuracy: 0.9386 - val_loss: 0.1724 - val_accuracy: 0.9490\n",
            "Epoch 3/10\n",
            "7500/7500 [==============================] - 9s 1ms/step - loss: 0.1656 - accuracy: 0.9515 - val_loss: 0.1571 - val_accuracy: 0.9525\n",
            "Epoch 4/10\n",
            "7500/7500 [==============================] - 9s 1ms/step - loss: 0.1384 - accuracy: 0.9592 - val_loss: 0.1238 - val_accuracy: 0.9632\n",
            "Epoch 5/10\n",
            "7500/7500 [==============================] - 9s 1ms/step - loss: 0.1200 - accuracy: 0.9644 - val_loss: 0.1132 - val_accuracy: 0.9666\n",
            "Epoch 6/10\n",
            "7500/7500 [==============================] - 9s 1ms/step - loss: 0.1070 - accuracy: 0.9683 - val_loss: 0.1106 - val_accuracy: 0.9672\n",
            "Epoch 7/10\n",
            "7500/7500 [==============================] - 9s 1ms/step - loss: 0.0967 - accuracy: 0.9711 - val_loss: 0.1101 - val_accuracy: 0.9675\n",
            "Epoch 8/10\n",
            "7500/7500 [==============================] - 9s 1ms/step - loss: 0.0880 - accuracy: 0.9729 - val_loss: 0.1043 - val_accuracy: 0.9684\n",
            "Epoch 9/10\n",
            "7500/7500 [==============================] - 9s 1ms/step - loss: 0.0815 - accuracy: 0.9755 - val_loss: 0.1029 - val_accuracy: 0.9706\n",
            "Epoch 10/10\n",
            "7500/7500 [==============================] - 9s 1ms/step - loss: 0.0754 - accuracy: 0.9770 - val_loss: 0.0973 - val_accuracy: 0.9708\n"
          ],
          "name": "stdout"
        }
      ]
    },
    {
      "cell_type": "markdown",
      "metadata": {
        "id": "_iPvvvt5J2Xl"
      },
      "source": [
        "### Large Batch Size\n",
        "Batch Size is 512"
      ]
    },
    {
      "cell_type": "code",
      "metadata": {
        "id": "7h8Z5293KABT",
        "outputId": "58ebc548-8f2c-45d4-e400-8e78ea020b80",
        "colab": {
          "base_uri": "https://localhost:8080/",
          "height": 384
        }
      },
      "source": [
        "model = create_model()\n",
        "bt_large = model.fit(X_train, y_train,\n",
        "                     epochs=10,\n",
        "                     batch_size=512,\n",
        "                     validation_data=(X_test, y_test))"
      ],
      "execution_count": null,
      "outputs": [
        {
          "output_type": "stream",
          "text": [
            "Epoch 1/10\n",
            "118/118 [==============================] - 1s 6ms/step - loss: 2.2005 - accuracy: 0.2040 - val_loss: 2.0245 - val_accuracy: 0.3839\n",
            "Epoch 2/10\n",
            "118/118 [==============================] - 1s 5ms/step - loss: 1.7712 - accuracy: 0.5260 - val_loss: 1.4688 - val_accuracy: 0.6475\n",
            "Epoch 3/10\n",
            "118/118 [==============================] - 1s 5ms/step - loss: 1.2533 - accuracy: 0.7097 - val_loss: 1.0168 - val_accuracy: 0.7772\n",
            "Epoch 4/10\n",
            "118/118 [==============================] - 1s 5ms/step - loss: 0.9057 - accuracy: 0.7918 - val_loss: 0.7629 - val_accuracy: 0.8205\n",
            "Epoch 5/10\n",
            "118/118 [==============================] - 1s 5ms/step - loss: 0.7148 - accuracy: 0.8266 - val_loss: 0.6243 - val_accuracy: 0.8441\n",
            "Epoch 6/10\n",
            "118/118 [==============================] - 1s 5ms/step - loss: 0.6064 - accuracy: 0.8458 - val_loss: 0.5433 - val_accuracy: 0.8580\n",
            "Epoch 7/10\n",
            "118/118 [==============================] - 1s 5ms/step - loss: 0.5402 - accuracy: 0.8584 - val_loss: 0.4930 - val_accuracy: 0.8680\n",
            "Epoch 8/10\n",
            "118/118 [==============================] - 1s 5ms/step - loss: 0.4960 - accuracy: 0.8673 - val_loss: 0.4555 - val_accuracy: 0.8772\n",
            "Epoch 9/10\n",
            "118/118 [==============================] - 1s 5ms/step - loss: 0.4642 - accuracy: 0.8739 - val_loss: 0.4305 - val_accuracy: 0.8817\n",
            "Epoch 10/10\n",
            "118/118 [==============================] - 1s 5ms/step - loss: 0.4399 - accuracy: 0.8791 - val_loss: 0.4107 - val_accuracy: 0.8859\n"
          ],
          "name": "stdout"
        }
      ]
    },
    {
      "cell_type": "markdown",
      "metadata": {
        "id": "B0ujUz6BKUGz"
      },
      "source": [
        "### Visualization of Results"
      ]
    },
    {
      "cell_type": "code",
      "metadata": {
        "id": "o-5DOZNMKYt-",
        "outputId": "f3a8e35d-3e38-4aad-f486-a98a53bbab44",
        "colab": {
          "base_uri": "https://localhost:8080/",
          "height": 206
        }
      },
      "source": [
        "import seaborn as sns\n",
        "import pandas as pd\n",
        "\n",
        "batch_sizes = []\n",
        "\n",
        "for exp, result in zip([bt_default, bt_small, bt_large], [\"32_\", \"8_\", \"512_\"]):\n",
        "\n",
        "  df = pd.DataFrame.from_dict(exp.history)\n",
        "  df['epoch'] = df.index.values\n",
        "  df['Batch Size'] = result\n",
        "\n",
        "  batch_sizes.append(df)\n",
        "\n",
        "df = pd.concat(batch_sizes)\n",
        "df['Batch Size'] = df['Batch Size'].astype('str')\n",
        "df.head()"
      ],
      "execution_count": null,
      "outputs": [
        {
          "output_type": "execute_result",
          "data": {
            "text/html": [
              "<div>\n",
              "<style scoped>\n",
              "    .dataframe tbody tr th:only-of-type {\n",
              "        vertical-align: middle;\n",
              "    }\n",
              "\n",
              "    .dataframe tbody tr th {\n",
              "        vertical-align: top;\n",
              "    }\n",
              "\n",
              "    .dataframe thead th {\n",
              "        text-align: right;\n",
              "    }\n",
              "</style>\n",
              "<table border=\"1\" class=\"dataframe\">\n",
              "  <thead>\n",
              "    <tr style=\"text-align: right;\">\n",
              "      <th></th>\n",
              "      <th>loss</th>\n",
              "      <th>accuracy</th>\n",
              "      <th>val_loss</th>\n",
              "      <th>val_accuracy</th>\n",
              "      <th>epoch</th>\n",
              "      <th>Batch Size</th>\n",
              "    </tr>\n",
              "  </thead>\n",
              "  <tbody>\n",
              "    <tr>\n",
              "      <th>0</th>\n",
              "      <td>0.762634</td>\n",
              "      <td>0.790033</td>\n",
              "      <td>0.349656</td>\n",
              "      <td>0.8969</td>\n",
              "      <td>0</td>\n",
              "      <td>32_</td>\n",
              "    </tr>\n",
              "    <tr>\n",
              "      <th>1</th>\n",
              "      <td>0.326473</td>\n",
              "      <td>0.906750</td>\n",
              "      <td>0.284932</td>\n",
              "      <td>0.9189</td>\n",
              "      <td>1</td>\n",
              "      <td>32_</td>\n",
              "    </tr>\n",
              "    <tr>\n",
              "      <th>2</th>\n",
              "      <td>0.272740</td>\n",
              "      <td>0.921367</td>\n",
              "      <td>0.254405</td>\n",
              "      <td>0.9256</td>\n",
              "      <td>2</td>\n",
              "      <td>32_</td>\n",
              "    </tr>\n",
              "    <tr>\n",
              "      <th>3</th>\n",
              "      <td>0.241160</td>\n",
              "      <td>0.930883</td>\n",
              "      <td>0.223584</td>\n",
              "      <td>0.9347</td>\n",
              "      <td>3</td>\n",
              "      <td>32_</td>\n",
              "    </tr>\n",
              "    <tr>\n",
              "      <th>4</th>\n",
              "      <td>0.217136</td>\n",
              "      <td>0.937267</td>\n",
              "      <td>0.206883</td>\n",
              "      <td>0.9385</td>\n",
              "      <td>4</td>\n",
              "      <td>32_</td>\n",
              "    </tr>\n",
              "  </tbody>\n",
              "</table>\n",
              "</div>"
            ],
            "text/plain": [
              "       loss  accuracy  val_loss  val_accuracy  epoch Batch Size\n",
              "0  0.762634  0.790033  0.349656        0.8969      0        32_\n",
              "1  0.326473  0.906750  0.284932        0.9189      1        32_\n",
              "2  0.272740  0.921367  0.254405        0.9256      2        32_\n",
              "3  0.241160  0.930883  0.223584        0.9347      3        32_\n",
              "4  0.217136  0.937267  0.206883        0.9385      4        32_"
            ]
          },
          "metadata": {
            "tags": []
          },
          "execution_count": 30
        }
      ]
    },
    {
      "cell_type": "code",
      "metadata": {
        "id": "CeZsMweWA4od",
        "outputId": "32628d59-3149-4886-d94f-c2b5d2248e1c",
        "colab": {
          "base_uri": "https://localhost:8080/",
          "height": 283
        }
      },
      "source": [
        "sns.lineplot(x='epoch', y='val_accuracy', hue='Batch Size', data=df);"
      ],
      "execution_count": null,
      "outputs": [
        {
          "output_type": "display_data",
          "data": {
            "image/png": "[encoded data removed]",
            "text/plain": [
              "<Figure size 432x288 with 1 Axes>"
            ]
          },
          "metadata": {
            "tags": [],
            "needs_background": "light"
          }
        }
      ]
    },
    {
      "cell_type": "code",
      "metadata": {
        "id": "CLdpPW2aBP7-"
      },
      "source": [
        "# Exercise - rerun the above with 25 epochs\n",
        "# You may find that the 32 batch size converges/crosses over\n",
        "# in accuracy with the 8 batch size"
      ],
      "execution_count": null,
      "outputs": []
    },
    {
      "cell_type": "markdown",
      "metadata": {
        "id": "4kZ2vUYYgclS"
      },
      "source": [
        "## Challenge\n",
        "\n",
        "You will be expected to experiment with batch size on today's assignment."
      ]
    },
    {
      "cell_type": "markdown",
      "metadata": {
        "id": "46cP9Pm_gclS"
      },
      "source": [
        "# Learning Rate (Learn)"
      ]
    },
    {
      "cell_type": "markdown",
      "metadata": {
        "id": "Bna67ADZgclT",
        "toc-hr-collapsed": true
      },
      "source": [
        "## Overview\n",
        "\n",
        "Learning Rate controls the size of the update to our weights that the optimization algorithm makes. VERY IMPORTANT hyperparameter.\n",
        "\n",
        "* Too high of a learning rate causes unstable results\n",
        "* Too Low of a learning rate the model will underfit\n",
        "* Goldy Locks parameters - it needs be \"just right\"\n",
        "* Scale of 0-1"
      ]
    },
    {
      "cell_type": "markdown",
      "metadata": {
        "id": "gsVYOn7bgcle",
        "toc-hr-collapsed": true
      },
      "source": [
        "## Follow Along\n",
        "\n",
        "Same experiment with Batch but different learning rates:\n",
        "* High Learning = .75\n",
        "* Default Learning = .01\n",
        "* Low Learning Rate = .0001"
      ]
    },
    {
      "cell_type": "markdown",
      "metadata": {
        "id": "CI_H8Em1NOii"
      },
      "source": [
        "### Default Learning Rate"
      ]
    },
    {
      "cell_type": "code",
      "metadata": {
        "id": "Se8cb_ZUNVtL",
        "outputId": "7a6a6796-ed15-443a-cc89-4f01ce4edeac",
        "colab": {
          "base_uri": "https://localhost:8080/",
          "height": 905
        }
      },
      "source": [
        "model = create_model()\n",
        "# Default is 0.01\n",
        "lr_default = model.fit(X_train, y_train,\n",
        "                       epochs=25,\n",
        "                       validation_data=(X_test, y_test))"
      ],
      "execution_count": null,
      "outputs": [
        {
          "output_type": "stream",
          "text": [
            "Epoch 1/25\n",
            "1875/1875 [==============================] - 3s 1ms/step - loss: 0.7525 - accuracy: 0.7815 - val_loss: 0.3611 - val_accuracy: 0.8978\n",
            "Epoch 2/25\n",
            "1875/1875 [==============================] - 3s 1ms/step - loss: 0.3347 - accuracy: 0.9028 - val_loss: 0.3028 - val_accuracy: 0.9127\n",
            "Epoch 3/25\n",
            "1875/1875 [==============================] - 3s 2ms/step - loss: 0.2831 - accuracy: 0.9183 - val_loss: 0.2579 - val_accuracy: 0.9248\n",
            "Epoch 4/25\n",
            "1875/1875 [==============================] - 3s 2ms/step - loss: 0.2500 - accuracy: 0.9278 - val_loss: 0.2307 - val_accuracy: 0.9320\n",
            "Epoch 5/25\n",
            "1875/1875 [==============================] - 3s 2ms/step - loss: 0.2233 - accuracy: 0.9352 - val_loss: 0.2129 - val_accuracy: 0.9383\n",
            "Epoch 6/25\n",
            "1875/1875 [==============================] - 4s 2ms/step - loss: 0.2026 - accuracy: 0.9412 - val_loss: 0.1937 - val_accuracy: 0.9435\n",
            "Epoch 7/25\n",
            "1875/1875 [==============================] - 3s 2ms/step - loss: 0.1854 - accuracy: 0.9461 - val_loss: 0.1784 - val_accuracy: 0.9483\n",
            "Epoch 8/25\n",
            "1875/1875 [==============================] - 3s 2ms/step - loss: 0.1712 - accuracy: 0.9505 - val_loss: 0.1710 - val_accuracy: 0.9502\n",
            "Epoch 9/25\n",
            "1875/1875 [==============================] - 3s 2ms/step - loss: 0.1592 - accuracy: 0.9535 - val_loss: 0.1617 - val_accuracy: 0.9529\n",
            "Epoch 10/25\n",
            "1875/1875 [==============================] - 3s 1ms/step - loss: 0.1496 - accuracy: 0.9565 - val_loss: 0.1531 - val_accuracy: 0.9545\n",
            "Epoch 11/25\n",
            "1875/1875 [==============================] - 3s 1ms/step - loss: 0.1411 - accuracy: 0.9589 - val_loss: 0.1497 - val_accuracy: 0.9559\n",
            "Epoch 12/25\n",
            "1875/1875 [==============================] - 3s 1ms/step - loss: 0.1340 - accuracy: 0.9611 - val_loss: 0.1408 - val_accuracy: 0.9595\n",
            "Epoch 13/25\n",
            "1875/1875 [==============================] - 3s 1ms/step - loss: 0.1274 - accuracy: 0.9625 - val_loss: 0.1458 - val_accuracy: 0.9584\n",
            "Epoch 14/25\n",
            "1875/1875 [==============================] - 3s 1ms/step - loss: 0.1220 - accuracy: 0.9650 - val_loss: 0.1347 - val_accuracy: 0.9607\n",
            "Epoch 15/25\n",
            "1875/1875 [==============================] - 3s 1ms/step - loss: 0.1169 - accuracy: 0.9662 - val_loss: 0.1311 - val_accuracy: 0.9615\n",
            "Epoch 16/25\n",
            "1875/1875 [==============================] - 3s 2ms/step - loss: 0.1122 - accuracy: 0.9675 - val_loss: 0.1345 - val_accuracy: 0.9592\n",
            "Epoch 17/25\n",
            "1875/1875 [==============================] - 3s 1ms/step - loss: 0.1078 - accuracy: 0.9683 - val_loss: 0.1259 - val_accuracy: 0.9613\n",
            "Epoch 18/25\n",
            "1875/1875 [==============================] - 3s 1ms/step - loss: 0.1043 - accuracy: 0.9698 - val_loss: 0.1260 - val_accuracy: 0.9617\n",
            "Epoch 19/25\n",
            "1875/1875 [==============================] - 3s 1ms/step - loss: 0.1006 - accuracy: 0.9708 - val_loss: 0.1235 - val_accuracy: 0.9630\n",
            "Epoch 20/25\n",
            "1875/1875 [==============================] - 3s 2ms/step - loss: 0.0972 - accuracy: 0.9719 - val_loss: 0.1226 - val_accuracy: 0.9624\n",
            "Epoch 21/25\n",
            "1875/1875 [==============================] - 3s 1ms/step - loss: 0.0945 - accuracy: 0.9729 - val_loss: 0.1189 - val_accuracy: 0.9641\n",
            "Epoch 22/25\n",
            "1875/1875 [==============================] - 3s 1ms/step - loss: 0.0915 - accuracy: 0.9733 - val_loss: 0.1207 - val_accuracy: 0.9628\n",
            "Epoch 23/25\n",
            "1875/1875 [==============================] - 3s 1ms/step - loss: 0.0892 - accuracy: 0.9741 - val_loss: 0.1182 - val_accuracy: 0.9647\n",
            "Epoch 24/25\n",
            "1875/1875 [==============================] - 3s 1ms/step - loss: 0.0864 - accuracy: 0.9753 - val_loss: 0.1166 - val_accuracy: 0.9633\n",
            "Epoch 25/25\n",
            "1875/1875 [==============================] - 3s 1ms/step - loss: 0.0837 - accuracy: 0.9758 - val_loss: 0.1169 - val_accuracy: 0.9649\n"
          ],
          "name": "stdout"
        }
      ]
    },
    {
      "cell_type": "markdown",
      "metadata": {
        "id": "IQZ4SZdKNMRO"
      },
      "source": [
        "### High Learning Rate"
      ]
    },
    {
      "cell_type": "code",
      "metadata": {
        "id": "Ny72mU_dNWMR",
        "outputId": "9d1a2619-78f0-4c6d-b505-776473f1d821",
        "colab": {
          "base_uri": "https://localhost:8080/",
          "height": 905
        }
      },
      "source": [
        "model = create_model(lr=0.75)\n",
        "lr_high = model.fit(X_train, y_train,\n",
        "                    epochs=25,\n",
        "                    validation_data=(X_test, y_test))"
      ],
      "execution_count": null,
      "outputs": [
        {
          "output_type": "stream",
          "text": [
            "Epoch 1/25\n",
            "1875/1875 [==============================] - 3s 1ms/step - loss: 1.4053 - accuracy: 0.4062 - val_loss: 1.3498 - val_accuracy: 0.4082\n",
            "Epoch 2/25\n",
            "1875/1875 [==============================] - 3s 1ms/step - loss: 1.2172 - accuracy: 0.4770 - val_loss: 0.9655 - val_accuracy: 0.5694\n",
            "Epoch 3/25\n",
            "1875/1875 [==============================] - 3s 1ms/step - loss: 0.9788 - accuracy: 0.5855 - val_loss: 0.7753 - val_accuracy: 0.6536\n",
            "Epoch 4/25\n",
            "1875/1875 [==============================] - 3s 1ms/step - loss: 0.8851 - accuracy: 0.6244 - val_loss: 0.8718 - val_accuracy: 0.6369\n",
            "Epoch 5/25\n",
            "1875/1875 [==============================] - 3s 1ms/step - loss: 0.9196 - accuracy: 0.6207 - val_loss: 1.1244 - val_accuracy: 0.5441\n",
            "Epoch 6/25\n",
            "1875/1875 [==============================] - 3s 1ms/step - loss: 0.9451 - accuracy: 0.5993 - val_loss: 1.0381 - val_accuracy: 0.5436\n",
            "Epoch 7/25\n",
            "1875/1875 [==============================] - 3s 1ms/step - loss: 1.0406 - accuracy: 0.5467 - val_loss: 1.1058 - val_accuracy: 0.5323\n",
            "Epoch 8/25\n",
            "1875/1875 [==============================] - 3s 1ms/step - loss: 0.8774 - accuracy: 0.6257 - val_loss: 0.7818 - val_accuracy: 0.6587\n",
            "Epoch 9/25\n",
            "1875/1875 [==============================] - 3s 1ms/step - loss: 0.8364 - accuracy: 0.6387 - val_loss: 0.8502 - val_accuracy: 0.6459\n",
            "Epoch 10/25\n",
            "1875/1875 [==============================] - 3s 1ms/step - loss: 1.1397 - accuracy: 0.5088 - val_loss: 1.3048 - val_accuracy: 0.4214\n",
            "Epoch 11/25\n",
            "1875/1875 [==============================] - 3s 1ms/step - loss: 1.2788 - accuracy: 0.4430 - val_loss: 1.6849 - val_accuracy: 0.3061\n",
            "Epoch 12/25\n",
            "1875/1875 [==============================] - 3s 1ms/step - loss: 1.5066 - accuracy: 0.3568 - val_loss: 1.5982 - val_accuracy: 0.3009\n",
            "Epoch 13/25\n",
            "1875/1875 [==============================] - 3s 1ms/step - loss: 1.5870 - accuracy: 0.2981 - val_loss: 1.5327 - val_accuracy: 0.2974\n",
            "Epoch 14/25\n",
            "1875/1875 [==============================] - 3s 1ms/step - loss: 1.5509 - accuracy: 0.2972 - val_loss: 1.5466 - val_accuracy: 0.2938\n",
            "Epoch 15/25\n",
            "1875/1875 [==============================] - 3s 1ms/step - loss: 1.5598 - accuracy: 0.2946 - val_loss: 1.5679 - val_accuracy: 0.2940\n",
            "Epoch 16/25\n",
            "1875/1875 [==============================] - 3s 1ms/step - loss: 1.5788 - accuracy: 0.2935 - val_loss: 1.5509 - val_accuracy: 0.2910\n",
            "Epoch 17/25\n",
            "1875/1875 [==============================] - 3s 1ms/step - loss: 1.6876 - accuracy: 0.2536 - val_loss: 1.8516 - val_accuracy: 0.2073\n",
            "Epoch 18/25\n",
            "1875/1875 [==============================] - 3s 1ms/step - loss: 1.8237 - accuracy: 0.2009 - val_loss: 1.6438 - val_accuracy: 0.3022\n",
            "Epoch 19/25\n",
            "1875/1875 [==============================] - 3s 1ms/step - loss: 1.5743 - accuracy: 0.2956 - val_loss: 1.5736 - val_accuracy: 0.3061\n",
            "Epoch 20/25\n",
            "1875/1875 [==============================] - 3s 1ms/step - loss: 1.5829 - accuracy: 0.2928 - val_loss: 1.5216 - val_accuracy: 0.2999\n",
            "Epoch 21/25\n",
            "1875/1875 [==============================] - 3s 1ms/step - loss: 1.6820 - accuracy: 0.2648 - val_loss: 1.5565 - val_accuracy: 0.2893\n",
            "Epoch 22/25\n",
            "1875/1875 [==============================] - 3s 1ms/step - loss: 1.5441 - accuracy: 0.2973 - val_loss: 1.5720 - val_accuracy: 0.2943\n",
            "Epoch 23/25\n",
            "1875/1875 [==============================] - 3s 1ms/step - loss: 1.5440 - accuracy: 0.2978 - val_loss: 1.5603 - val_accuracy: 0.3019\n",
            "Epoch 24/25\n",
            "1875/1875 [==============================] - 3s 1ms/step - loss: 1.5499 - accuracy: 0.2989 - val_loss: 1.5679 - val_accuracy: 0.2909\n",
            "Epoch 25/25\n",
            "1875/1875 [==============================] - 3s 1ms/step - loss: 1.5821 - accuracy: 0.2877 - val_loss: 1.8005 - val_accuracy: 0.2073\n"
          ],
          "name": "stdout"
        }
      ]
    },
    {
      "cell_type": "markdown",
      "metadata": {
        "id": "kAqDmTVBNSMR"
      },
      "source": [
        "### Low Learning Rate"
      ]
    },
    {
      "cell_type": "code",
      "metadata": {
        "id": "Ech1ER64NXBn",
        "outputId": "e40924fd-6bc8-422f-d178-86f5862139fb",
        "colab": {
          "base_uri": "https://localhost:8080/",
          "height": 905
        }
      },
      "source": [
        "model = create_model(lr=0.0001)\n",
        "lr_low = model.fit(X_train, y_train,\n",
        "                   epochs=25,\n",
        "                   validation_data=(X_test, y_test))"
      ],
      "execution_count": null,
      "outputs": [
        {
          "output_type": "stream",
          "text": [
            "Epoch 1/25\n",
            "1875/1875 [==============================] - 3s 2ms/step - loss: 2.3297 - accuracy: 0.1663 - val_loss: 2.2839 - val_accuracy: 0.2039\n",
            "Epoch 2/25\n",
            "1875/1875 [==============================] - 3s 1ms/step - loss: 2.2524 - accuracy: 0.2287 - val_loss: 2.2192 - val_accuracy: 0.2563\n",
            "Epoch 3/25\n",
            "1875/1875 [==============================] - 4s 2ms/step - loss: 2.1928 - accuracy: 0.2715 - val_loss: 2.1597 - val_accuracy: 0.2884\n",
            "Epoch 4/25\n",
            "1875/1875 [==============================] - 4s 2ms/step - loss: 2.1341 - accuracy: 0.2997 - val_loss: 2.0988 - val_accuracy: 0.3164\n",
            "Epoch 5/25\n",
            "1875/1875 [==============================] - 3s 2ms/step - loss: 2.0734 - accuracy: 0.3216 - val_loss: 2.0355 - val_accuracy: 0.3387\n",
            "Epoch 6/25\n",
            "1875/1875 [==============================] - 3s 2ms/step - loss: 2.0100 - accuracy: 0.3435 - val_loss: 1.9691 - val_accuracy: 0.3643\n",
            "Epoch 7/25\n",
            "1875/1875 [==============================] - 3s 1ms/step - loss: 1.9433 - accuracy: 0.3676 - val_loss: 1.8998 - val_accuracy: 0.3903\n",
            "Epoch 8/25\n",
            "1875/1875 [==============================] - 3s 1ms/step - loss: 1.8735 - accuracy: 0.3982 - val_loss: 1.8274 - val_accuracy: 0.4223\n",
            "Epoch 9/25\n",
            "1875/1875 [==============================] - 3s 1ms/step - loss: 1.8006 - accuracy: 0.4313 - val_loss: 1.7529 - val_accuracy: 0.4575\n",
            "Epoch 10/25\n",
            "1875/1875 [==============================] - 3s 1ms/step - loss: 1.7258 - accuracy: 0.4687 - val_loss: 1.6772 - val_accuracy: 0.4940\n",
            "Epoch 11/25\n",
            "1875/1875 [==============================] - 3s 1ms/step - loss: 1.6503 - accuracy: 0.5082 - val_loss: 1.6016 - val_accuracy: 0.5364\n",
            "Epoch 12/25\n",
            "1875/1875 [==============================] - 3s 2ms/step - loss: 1.5750 - accuracy: 0.5488 - val_loss: 1.5266 - val_accuracy: 0.5778\n",
            "Epoch 13/25\n",
            "1875/1875 [==============================] - 3s 1ms/step - loss: 1.5010 - accuracy: 0.5843 - val_loss: 1.4533 - val_accuracy: 0.6125\n",
            "Epoch 14/25\n",
            "1875/1875 [==============================] - 3s 2ms/step - loss: 1.4290 - accuracy: 0.6145 - val_loss: 1.3823 - val_accuracy: 0.6378\n",
            "Epoch 15/25\n",
            "1875/1875 [==============================] - 3s 1ms/step - loss: 1.3597 - accuracy: 0.6365 - val_loss: 1.3142 - val_accuracy: 0.6545\n",
            "Epoch 16/25\n",
            "1875/1875 [==============================] - 3s 1ms/step - loss: 1.2939 - accuracy: 0.6532 - val_loss: 1.2499 - val_accuracy: 0.6720\n",
            "Epoch 17/25\n",
            "1875/1875 [==============================] - 3s 1ms/step - loss: 1.2322 - accuracy: 0.6685 - val_loss: 1.1898 - val_accuracy: 0.6855\n",
            "Epoch 18/25\n",
            "1875/1875 [==============================] - 3s 1ms/step - loss: 1.1749 - accuracy: 0.6828 - val_loss: 1.1342 - val_accuracy: 0.6982\n",
            "Epoch 19/25\n",
            "1875/1875 [==============================] - 3s 1ms/step - loss: 1.1221 - accuracy: 0.6967 - val_loss: 1.0828 - val_accuracy: 0.7096\n",
            "Epoch 20/25\n",
            "1875/1875 [==============================] - 3s 1ms/step - loss: 1.0736 - accuracy: 0.7090 - val_loss: 1.0358 - val_accuracy: 0.7237\n",
            "Epoch 21/25\n",
            "1875/1875 [==============================] - 3s 1ms/step - loss: 1.0291 - accuracy: 0.7201 - val_loss: 0.9928 - val_accuracy: 0.7346\n",
            "Epoch 22/25\n",
            "1875/1875 [==============================] - 3s 2ms/step - loss: 0.9884 - accuracy: 0.7311 - val_loss: 0.9536 - val_accuracy: 0.7427\n",
            "Epoch 23/25\n",
            "1875/1875 [==============================] - 3s 1ms/step - loss: 0.9512 - accuracy: 0.7407 - val_loss: 0.9176 - val_accuracy: 0.7517\n",
            "Epoch 24/25\n",
            "1875/1875 [==============================] - 3s 2ms/step - loss: 0.9171 - accuracy: 0.7492 - val_loss: 0.8848 - val_accuracy: 0.7597\n",
            "Epoch 25/25\n",
            "1875/1875 [==============================] - 3s 1ms/step - loss: 0.8859 - accuracy: 0.7572 - val_loss: 0.8548 - val_accuracy: 0.7661\n"
          ],
          "name": "stdout"
        }
      ]
    },
    {
      "cell_type": "markdown",
      "metadata": {
        "id": "sZe6DyhANXdU"
      },
      "source": [
        "### Visualization of Results"
      ]
    },
    {
      "cell_type": "code",
      "metadata": {
        "id": "Bn-BdFdMNph-",
        "outputId": "2da44059-d348-47ac-e454-74d74fa9948c",
        "colab": {
          "base_uri": "https://localhost:8080/",
          "height": 206
        }
      },
      "source": [
        "import seaborn as sns\n",
        "import pandas as pd\n",
        "\n",
        "batch_sizes = []\n",
        "\n",
        "for exp, result in zip([lr_default, lr_low, lr_high],\n",
        "                       [\".01_\", \".0001_\", \".75_\"]):\n",
        "\n",
        "  df = pd.DataFrame.from_dict(exp.history)\n",
        "  df['epoch'] = df.index.values\n",
        "  df['Learning Rate'] = result\n",
        "\n",
        "  batch_sizes.append(df)\n",
        "\n",
        "df = pd.concat(batch_sizes)\n",
        "df['Learning Rate'] = df['Learning Rate'].astype('str')\n",
        "df.head()"
      ],
      "execution_count": null,
      "outputs": [
        {
          "output_type": "execute_result",
          "data": {
            "text/html": [
              "<div>\n",
              "<style scoped>\n",
              "    .dataframe tbody tr th:only-of-type {\n",
              "        vertical-align: middle;\n",
              "    }\n",
              "\n",
              "    .dataframe tbody tr th {\n",
              "        vertical-align: top;\n",
              "    }\n",
              "\n",
              "    .dataframe thead th {\n",
              "        text-align: right;\n",
              "    }\n",
              "</style>\n",
              "<table border=\"1\" class=\"dataframe\">\n",
              "  <thead>\n",
              "    <tr style=\"text-align: right;\">\n",
              "      <th></th>\n",
              "      <th>loss</th>\n",
              "      <th>accuracy</th>\n",
              "      <th>val_loss</th>\n",
              "      <th>val_accuracy</th>\n",
              "      <th>epoch</th>\n",
              "      <th>Learning Rate</th>\n",
              "    </tr>\n",
              "  </thead>\n",
              "  <tbody>\n",
              "    <tr>\n",
              "      <th>0</th>\n",
              "      <td>0.752455</td>\n",
              "      <td>0.781550</td>\n",
              "      <td>0.361144</td>\n",
              "      <td>0.8978</td>\n",
              "      <td>0</td>\n",
              "      <td>.01_</td>\n",
              "    </tr>\n",
              "    <tr>\n",
              "      <th>1</th>\n",
              "      <td>0.334718</td>\n",
              "      <td>0.902783</td>\n",
              "      <td>0.302789</td>\n",
              "      <td>0.9127</td>\n",
              "      <td>1</td>\n",
              "      <td>.01_</td>\n",
              "    </tr>\n",
              "    <tr>\n",
              "      <th>2</th>\n",
              "      <td>0.283139</td>\n",
              "      <td>0.918250</td>\n",
              "      <td>0.257914</td>\n",
              "      <td>0.9248</td>\n",
              "      <td>2</td>\n",
              "      <td>.01_</td>\n",
              "    </tr>\n",
              "    <tr>\n",
              "      <th>3</th>\n",
              "      <td>0.249996</td>\n",
              "      <td>0.927783</td>\n",
              "      <td>0.230712</td>\n",
              "      <td>0.9320</td>\n",
              "      <td>3</td>\n",
              "      <td>.01_</td>\n",
              "    </tr>\n",
              "    <tr>\n",
              "      <th>4</th>\n",
              "      <td>0.223298</td>\n",
              "      <td>0.935250</td>\n",
              "      <td>0.212855</td>\n",
              "      <td>0.9383</td>\n",
              "      <td>4</td>\n",
              "      <td>.01_</td>\n",
              "    </tr>\n",
              "  </tbody>\n",
              "</table>\n",
              "</div>"
            ],
            "text/plain": [
              "       loss  accuracy  val_loss  val_accuracy  epoch Learning Rate\n",
              "0  0.752455  0.781550  0.361144        0.8978      0          .01_\n",
              "1  0.334718  0.902783  0.302789        0.9127      1          .01_\n",
              "2  0.283139  0.918250  0.257914        0.9248      2          .01_\n",
              "3  0.249996  0.927783  0.230712        0.9320      3          .01_\n",
              "4  0.223298  0.935250  0.212855        0.9383      4          .01_"
            ]
          },
          "metadata": {
            "tags": []
          },
          "execution_count": 35
        }
      ]
    },
    {
      "cell_type": "code",
      "metadata": {
        "id": "XFzTEAlaDu8s",
        "outputId": "b69c08f3-8dee-41a1-e227-8e728df61bb3",
        "colab": {
          "base_uri": "https://localhost:8080/",
          "height": 279
        }
      },
      "source": [
        "sns.lineplot(x='epoch', y='val_loss', hue='Learning Rate', data=df);"
      ],
      "execution_count": null,
      "outputs": [
        {
          "output_type": "display_data",
          "data": {
            "image/png": "[encoded data removed]",
            "text/plain": [
              "<Figure size 432x288 with 1 Axes>"
            ]
          },
          "metadata": {
            "tags": [],
            "needs_background": "light"
          }
        }
      ]
    },
    {
      "cell_type": "code",
      "metadata": {
        "id": "hI413J9-ENuj",
        "outputId": "dea9654b-3d34-4b95-8fe2-404422bbbffc",
        "colab": {
          "base_uri": "https://localhost:8080/",
          "height": 283
        }
      },
      "source": [
        "sns.lineplot(x='epoch', y='val_accuracy', hue='Learning Rate', data=df);"
      ],
      "execution_count": null,
      "outputs": [
        {
          "output_type": "display_data",
          "data": {
            "image/png": "[encoded data removed]",
            "text/plain": [
              "<Figure size 432x288 with 1 Axes>"
            ]
          },
          "metadata": {
            "tags": [],
            "needs_background": "light"
          }
        }
      ]
    },
    {
      "cell_type": "markdown",
      "metadata": {
        "id": "Kb2aiw_Sgcl7"
      },
      "source": [
        "## Challenge\n",
        "\n",
        "You will be expected to experiment with different learning rates today.\n",
        "\n",
        "---"
      ]
    }
  ]
}