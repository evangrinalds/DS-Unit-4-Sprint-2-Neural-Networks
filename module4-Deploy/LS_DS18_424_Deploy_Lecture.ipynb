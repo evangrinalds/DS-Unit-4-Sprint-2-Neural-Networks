{
  "nbformat": 4,
  "nbformat_minor": 0,
  "metadata": {
    "colab": {
      "name": "LS_DS18_424_Deploy_Lecture.ipynb",
      "provenance": [],
      "collapsed_sections": [],
      "include_colab_link": true
    },
    "kernelspec": {
      "display_name": "Python 3",
      "language": "python",
      "name": "python3"
    },
    "language_info": {
      "codemirror_mode": {
        "name": "ipython",
        "version": 3
      },
      "file_extension": ".py",
      "mimetype": "text/x-python",
      "name": "python",
      "nbconvert_exporter": "python",
      "pygments_lexer": "ipython3",
      "version": "3.7.7"
    },
    "toc-autonumbering": false,
    "toc-showmarkdowntxt": false
  },
  "cells": [
    {
      "cell_type": "markdown",
      "metadata": {
        "id": "view-in-github",
        "colab_type": "text"
      },
      "source": [
        "<a href=\"https://colab.research.google.com/github/evangrinalds/DS-Unit-4-Sprint-2-Neural-Networks/blob/main/module4-Deploy/LS_DS18_424_Deploy_Lecture.ipynb\" target=\"_parent\"><img src=\"https://colab.research.google.com/assets/colab-badge.svg\" alt=\"Open In Colab\"/></a>"
      ]
    },
    {
      "cell_type": "markdown",
      "metadata": {
        "id": "HJzTIkYAsLxw"
      },
      "source": [
        "Lambda School Data Science\n",
        "\n",
        "*Unit 4, Sprint 2, Module 4*\n",
        "\n",
        "---"
      ]
    },
    {
      "cell_type": "markdown",
      "metadata": {
        "id": "YCf3jDMVQHuI"
      },
      "source": [
        "# Neural Network Frameworks (Prepare)"
      ]
    },
    {
      "cell_type": "markdown",
      "metadata": {
        "id": "GR0XBF5HQHuI"
      },
      "source": [
        "## Learning Objectives\n",
        "* <a href=\"#p1\">Part 1</a>: Implement Regularization Strategies\n",
        "* <a href=\"#p2\">Part 2</a>: Deploy a Keras Model\n",
        "* <a href=\"#p3\">Part 3</a>: Write a Custom Callback Function (Optional)\n",
        "\n",
        "Today's class will also focus heavily on Callback objects. We will use a variety of callbacks to monitor and manipulate our models based on data that our model produces at the end of an epoch.\n",
        "\n",
        "> A callback is an object that can perform actions at various stages of training (e.g. at the start or end of an epoch, before or after a single batch, etc). -- [Keras Documentation](https://keras.io/api/callbacks/)"
      ]
    },
    {
      "cell_type": "markdown",
      "metadata": {
        "id": "TWuoXZCCKCI7"
      },
      "source": [
        "# Regularization Strategies (Learn)"
      ]
    },
    {
      "cell_type": "markdown",
      "metadata": {
        "id": "E3aMJZuPQHur"
      },
      "source": [
        "## Overview\n",
        "\n",
        "Neural Networks are highly parameterized models and can be easily overfit to the training data. The most salient way to combat this problem is with regularization strategies.  \n",
        "\n",
        "![](https://upload.wikimedia.org/wikipedia/commons/thumb/0/02/Regularization.svg/1920px-Regularization.svg.png)\n",
        "\n",
        "There are four common ways of regularization in neural networks which we cover briefly. Here's a quick summary of how to apply them: \n",
        "\n",
        "1. Always use EarlyStopping. This strategy will prevent your weights from being updated well past the point of their peak usefulness.\n",
        "2. Use EarlyStopping, L1/L2 regularization and Dropout\n",
        "3. Use EarlyStopping, Weight Constraint and Dropout\n",
        "\n",
        "Weight Decay and Weigh Constraint accomplish similar purposes - preventing over fitting the parameters by regularizing the values. The mechanics are just slightly different. That's why you would not necessary want to apply them together."
      ]
    },
    {
      "cell_type": "markdown",
      "metadata": {
        "id": "3FFhK0tLQHus"
      },
      "source": [
        "## Follow Along"
      ]
    },
    {
      "cell_type": "markdown",
      "metadata": {
        "id": "RO74ukb-QHus"
      },
      "source": [
        "### Early Stopping"
      ]
    },
    {
      "cell_type": "code",
      "metadata": {
        "id": "xgQR_iCHSF1x"
      },
      "source": [
        "%load_ext tensorboard"
      ],
      "execution_count": null,
      "outputs": []
    },
    {
      "cell_type": "code",
      "metadata": {
        "id": "sNQYuCARBCs4",
        "outputId": "ad5926d3-7fef-4b99-cc6e-a9c3de86dfc0",
        "colab": {
          "base_uri": "https://localhost:8080/",
          "height": 176
        }
      },
      "source": [
        "from tensorflow.keras.datasets import fashion_mnist\n",
        "\n",
        "(X_train, y_train), (X_test, y_test) = fashion_mnist.load_data()"
      ],
      "execution_count": null,
      "outputs": [
        {
          "output_type": "stream",
          "text": [
            "Downloading data from https://storage.googleapis.com/tensorflow/tf-keras-datasets/train-labels-idx1-ubyte.gz\n",
            "32768/29515 [=================================] - 0s 0us/step\n",
            "Downloading data from https://storage.googleapis.com/tensorflow/tf-keras-datasets/train-images-idx3-ubyte.gz\n",
            "26427392/26421880 [==============================] - 0s 0us/step\n",
            "Downloading data from https://storage.googleapis.com/tensorflow/tf-keras-datasets/t10k-labels-idx1-ubyte.gz\n",
            "8192/5148 [===============================================] - 0s 0us/step\n",
            "Downloading data from https://storage.googleapis.com/tensorflow/tf-keras-datasets/t10k-images-idx3-ubyte.gz\n",
            "4423680/4422102 [==============================] - 0s 0us/step\n"
          ],
          "name": "stdout"
        }
      ]
    },
    {
      "cell_type": "code",
      "metadata": {
        "id": "WJS0s76rBEgz",
        "outputId": "41aa73ae-b6f8-40cb-eef6-6119c68c083b",
        "colab": {
          "base_uri": "https://localhost:8080/",
          "height": 281
        }
      },
      "source": [
        "import matplotlib.pyplot as plt\n",
        "\n",
        "plt.title(y_train[15])\n",
        "plt.imshow(X_train[15]);"
      ],
      "execution_count": null,
      "outputs": [
        {
          "output_type": "display_data",
          "data": {
            "image/png": "[encoded data removed]",
            "text/plain": [
              "<Figure size 432x288 with 1 Axes>"
            ]
          },
          "metadata": {
            "tags": [],
            "needs_background": "light"
          }
        }
      ]
    },
    {
      "cell_type": "code",
      "metadata": {
        "id": "IAeFX9lpBGOu"
      },
      "source": [
        "X_train, X_test = X_train / 255., X_test / 255."
      ],
      "execution_count": null,
      "outputs": []
    },
    {
      "cell_type": "code",
      "metadata": {
        "id": "AY1HomhxQHus",
        "outputId": "d2633f9b-7954-4526-dd1c-51fd5b153d45",
        "colab": {
          "base_uri": "https://localhost:8080/",
          "height": 593
        }
      },
      "source": [
        "from tensorflow.keras.callbacks import EarlyStopping, TensorBoard\n",
        "from tensorflow.keras.layers import Flatten, Dense\n",
        "from tensorflow.keras.layers import ReLU\n",
        "import tensorflow as tf\n",
        "import os\n",
        "\n",
        "logdir = os.path.join(\"logs\", \"EarlyStopping-Loss\")\n",
        "\n",
        "tensorboard_callback = tf.keras.callbacks.TensorBoard(logdir, histogram_freq=1)\n",
        "stop = EarlyStopping(monitor='val_loss', min_delta=0.001, patience=5)\n",
        "\n",
        "model = tf.keras.Sequential([\n",
        "    Flatten(input_shape=(28,28)),\n",
        "    Dense(128),\n",
        "    ReLU(negative_slope=.01),\n",
        "    Dense(128),\n",
        "    ReLU(negative_slope=.01),\n",
        "    Dense(128),\n",
        "    ReLU(negative_slope=.01),\n",
        "    Dense(10, activation='softmax')\n",
        "])\n",
        "\n",
        "model.compile(loss='sparse_categorical_crossentropy', optimizer='nadam', metrics=['accuracy'])\n",
        "\n",
        "model.fit(X_train, y_train, epochs=99, \n",
        "          validation_data=(X_test,y_test),\n",
        "          callbacks=[tensorboard_callback, stop])"
      ],
      "execution_count": null,
      "outputs": [
        {
          "output_type": "stream",
          "text": [
            "Epoch 1/99\n",
            "   2/1875 [..............................] - ETA: 1:17 - loss: 2.3613 - accuracy: 0.2188WARNING:tensorflow:Callbacks method `on_train_batch_end` is slow compared to the batch time (batch time: 0.0090s vs `on_train_batch_end` time: 0.0748s). Check your callbacks.\n",
            "1875/1875 [==============================] - 9s 5ms/step - loss: 0.4750 - accuracy: 0.8263 - val_loss: 0.4017 - val_accuracy: 0.8550\n",
            "Epoch 2/99\n",
            "1875/1875 [==============================] - 9s 5ms/step - loss: 0.3550 - accuracy: 0.8699 - val_loss: 0.3697 - val_accuracy: 0.8680\n",
            "Epoch 3/99\n",
            "1875/1875 [==============================] - 9s 5ms/step - loss: 0.3212 - accuracy: 0.8810 - val_loss: 0.3608 - val_accuracy: 0.8744\n",
            "Epoch 4/99\n",
            "1875/1875 [==============================] - 8s 5ms/step - loss: 0.2983 - accuracy: 0.8903 - val_loss: 0.3768 - val_accuracy: 0.8624\n",
            "Epoch 5/99\n",
            "1875/1875 [==============================] - 9s 5ms/step - loss: 0.2843 - accuracy: 0.8941 - val_loss: 0.3528 - val_accuracy: 0.8710\n",
            "Epoch 6/99\n",
            "1875/1875 [==============================] - 9s 5ms/step - loss: 0.2694 - accuracy: 0.9002 - val_loss: 0.3462 - val_accuracy: 0.8779\n",
            "Epoch 7/99\n",
            "1875/1875 [==============================] - 9s 5ms/step - loss: 0.2580 - accuracy: 0.9022 - val_loss: 0.3450 - val_accuracy: 0.8770\n",
            "Epoch 8/99\n",
            "1875/1875 [==============================] - 9s 5ms/step - loss: 0.2481 - accuracy: 0.9060 - val_loss: 0.3343 - val_accuracy: 0.8820\n",
            "Epoch 9/99\n",
            "1875/1875 [==============================] - 9s 5ms/step - loss: 0.2401 - accuracy: 0.9089 - val_loss: 0.3375 - val_accuracy: 0.8871\n",
            "Epoch 10/99\n",
            "1875/1875 [==============================] - 9s 5ms/step - loss: 0.2293 - accuracy: 0.9136 - val_loss: 0.3310 - val_accuracy: 0.8886\n",
            "Epoch 11/99\n",
            "1875/1875 [==============================] - 8s 5ms/step - loss: 0.2246 - accuracy: 0.9145 - val_loss: 0.3436 - val_accuracy: 0.8803\n",
            "Epoch 12/99\n",
            "1875/1875 [==============================] - 8s 4ms/step - loss: 0.2151 - accuracy: 0.9178 - val_loss: 0.3468 - val_accuracy: 0.8825\n",
            "Epoch 13/99\n",
            "1875/1875 [==============================] - 8s 4ms/step - loss: 0.2101 - accuracy: 0.9192 - val_loss: 0.3489 - val_accuracy: 0.8853\n",
            "Epoch 14/99\n",
            "1875/1875 [==============================] - 8s 4ms/step - loss: 0.2022 - accuracy: 0.9216 - val_loss: 0.3531 - val_accuracy: 0.8868\n",
            "Epoch 15/99\n",
            "1875/1875 [==============================] - 8s 4ms/step - loss: 0.1956 - accuracy: 0.9259 - val_loss: 0.3483 - val_accuracy: 0.8858\n"
          ],
          "name": "stdout"
        },
        {
          "output_type": "execute_result",
          "data": {
            "text/plain": [
              "<tensorflow.python.keras.callbacks.History at 0x7f06af2a7668>"
            ]
          },
          "metadata": {
            "tags": []
          },
          "execution_count": 12
        }
      ]
    },
    {
      "cell_type": "code",
      "metadata": {
        "id": "mozi0GzYBQFe"
      },
      "source": [
        "%tensorboard --logdir logs"
      ],
      "execution_count": null,
      "outputs": []
    },
    {
      "cell_type": "markdown",
      "metadata": {
        "id": "Y7ScqKUzQHuv"
      },
      "source": [
        "### L1/L2 regularization\n",
        "\n",
        "```python\n",
        "Dense(64, input_dim=64, kernel_regularizer=regularizers.l2(0.01))\n",
        "Dense(64, input_dim=64, kernel_regularizer=regularizers.l1(0.01))\n",
        "```"
      ]
    },
    {
      "cell_type": "markdown",
      "metadata": {
        "id": "q2_6Yxmi3bqt"
      },
      "source": [
        "Note:\n",
        "\n",
        "The terms \"L2 regularization\" and \"weight decay\" are often used interchagebly, but they only mean the same thing for vanilla SGD optimization. \n",
        "\n",
        "They mean different things for all other optimizers based on SGD (Adam, AdamW, RSMProp, etc).\n",
        "See:\n",
        "- https://www.fast.ai/2018/07/02/adam-weight-decay/\n",
        "- https://arxiv.org/pdf/1711.05101.pdf\n",
        "- https://bbabenko.github.io/weight-decay/\n"
      ]
    },
    {
      "cell_type": "code",
      "metadata": {
        "id": "eQuacT-JQHuv",
        "outputId": "5cb27b64-0a1b-447e-f2f8-70e7d8b7cdca",
        "colab": {
          "base_uri": "https://localhost:8080/",
          "height": 766
        }
      },
      "source": [
        "from tensorflow.keras import regularizers\n",
        "\n",
        "logdir = os.path.join(\"logs\", \"EarlyStopping+L2_WeightDecay\")\n",
        "\n",
        "tensorboard_callback = tf.keras.callbacks.TensorBoard(logdir, histogram_freq=1)\n",
        "stop = EarlyStopping(monitor='val_loss', min_delta=0.001, patience=5)\n",
        "\n",
        "model = tf.keras.Sequential([\n",
        "    Flatten(input_shape=(28,28)),\n",
        "    Dense(256, kernel_regularizer=regularizers.l2(0.01)),\n",
        "    ReLU(negative_slope=.01),\n",
        "    Dense(256, kernel_regularizer=regularizers.l2(0.01)),\n",
        "    ReLU(negative_slope=.01),\n",
        "    Dense(256, kernel_regularizer=regularizers.l2(0.01)),\n",
        "    ReLU(negative_slope=.01),\n",
        "    Dense(10, activation='softmax')\n",
        "])\n",
        "\n",
        "model.compile(loss='sparse_categorical_crossentropy', optimizer='nadam',\n",
        "              metrics=['accuracy'])\n",
        "\n",
        "model.fit(X_train, y_train, epochs=99, \n",
        "          validation_data=(X_test,y_test),\n",
        "          callbacks=[tensorboard_callback, stop])"
      ],
      "execution_count": null,
      "outputs": [
        {
          "output_type": "stream",
          "text": [
            "Epoch 1/99\n",
            "   2/1875 [..............................] - ETA: 1:07 - loss: 11.1961 - accuracy: 0.1250WARNING:tensorflow:Callbacks method `on_train_batch_end` is slow compared to the batch time (batch time: 0.0172s vs `on_train_batch_end` time: 0.0546s). Check your callbacks.\n",
            "1875/1875 [==============================] - 19s 10ms/step - loss: 1.2573 - accuracy: 0.7791 - val_loss: 0.7508 - val_accuracy: 0.8066\n",
            "Epoch 2/99\n",
            "1875/1875 [==============================] - 18s 10ms/step - loss: 0.7141 - accuracy: 0.8132 - val_loss: 0.6956 - val_accuracy: 0.8119\n",
            "Epoch 3/99\n",
            "1875/1875 [==============================] - 19s 10ms/step - loss: 0.6599 - accuracy: 0.8249 - val_loss: 0.6596 - val_accuracy: 0.8281\n",
            "Epoch 4/99\n",
            "1875/1875 [==============================] - 18s 9ms/step - loss: 0.6265 - accuracy: 0.8329 - val_loss: 0.6232 - val_accuracy: 0.8291\n",
            "Epoch 5/99\n",
            "1875/1875 [==============================] - 18s 10ms/step - loss: 0.6101 - accuracy: 0.8350 - val_loss: 0.6394 - val_accuracy: 0.8309\n",
            "Epoch 6/99\n",
            "1875/1875 [==============================] - 18s 10ms/step - loss: 0.5959 - accuracy: 0.8403 - val_loss: 0.5873 - val_accuracy: 0.8393\n",
            "Epoch 7/99\n",
            "1875/1875 [==============================] - 18s 10ms/step - loss: 0.5869 - accuracy: 0.8407 - val_loss: 0.6030 - val_accuracy: 0.8340\n",
            "Epoch 8/99\n",
            "1875/1875 [==============================] - 18s 10ms/step - loss: 0.5804 - accuracy: 0.8401 - val_loss: 0.6215 - val_accuracy: 0.8173\n",
            "Epoch 9/99\n",
            "1875/1875 [==============================] - 17s 9ms/step - loss: 0.5719 - accuracy: 0.8431 - val_loss: 0.5868 - val_accuracy: 0.8343\n",
            "Epoch 10/99\n",
            "1875/1875 [==============================] - 18s 9ms/step - loss: 0.5683 - accuracy: 0.8429 - val_loss: 0.5771 - val_accuracy: 0.8379\n",
            "Epoch 11/99\n",
            "1875/1875 [==============================] - 18s 9ms/step - loss: 0.5697 - accuracy: 0.8431 - val_loss: 0.5793 - val_accuracy: 0.8400\n",
            "Epoch 12/99\n",
            "1875/1875 [==============================] - 18s 9ms/step - loss: 0.5569 - accuracy: 0.8447 - val_loss: 0.5672 - val_accuracy: 0.8425\n",
            "Epoch 13/99\n",
            "1875/1875 [==============================] - 18s 9ms/step - loss: 0.5570 - accuracy: 0.8451 - val_loss: 0.6170 - val_accuracy: 0.8221\n",
            "Epoch 14/99\n",
            "1875/1875 [==============================] - 18s 10ms/step - loss: 0.5553 - accuracy: 0.8444 - val_loss: 0.5762 - val_accuracy: 0.8331\n",
            "Epoch 15/99\n",
            "1875/1875 [==============================] - 18s 10ms/step - loss: 0.5537 - accuracy: 0.8444 - val_loss: 0.5626 - val_accuracy: 0.8370\n",
            "Epoch 16/99\n",
            "1875/1875 [==============================] - 17s 9ms/step - loss: 0.5510 - accuracy: 0.8443 - val_loss: 0.6089 - val_accuracy: 0.8222\n",
            "Epoch 17/99\n",
            "1875/1875 [==============================] - 18s 9ms/step - loss: 0.5453 - accuracy: 0.8456 - val_loss: 0.5790 - val_accuracy: 0.8378\n",
            "Epoch 18/99\n",
            "1875/1875 [==============================] - 18s 9ms/step - loss: 0.5471 - accuracy: 0.8473 - val_loss: 0.5712 - val_accuracy: 0.8361\n",
            "Epoch 19/99\n",
            "1875/1875 [==============================] - 17s 9ms/step - loss: 0.5485 - accuracy: 0.8461 - val_loss: 0.6052 - val_accuracy: 0.8364\n",
            "Epoch 20/99\n",
            "1875/1875 [==============================] - 19s 10ms/step - loss: 0.5430 - accuracy: 0.8456 - val_loss: 0.5817 - val_accuracy: 0.8312\n"
          ],
          "name": "stdout"
        },
        {
          "output_type": "execute_result",
          "data": {
            "text/plain": [
              "<tensorflow.python.keras.callbacks.History at 0x7f06ad4a55f8>"
            ]
          },
          "metadata": {
            "tags": []
          },
          "execution_count": 15
        }
      ]
    },
    {
      "cell_type": "markdown",
      "metadata": {
        "id": "aCJ1aUIfQHuy"
      },
      "source": [
        "### Weight Constraint\n",
        "\n",
        "```python\n",
        "tf.keras.constraints.MaxNorm(\n",
        "    max_value=2, axis=0\n",
        ")\n",
        "```"
      ]
    },
    {
      "cell_type": "code",
      "metadata": {
        "id": "gbXBxr1QQHuy",
        "outputId": "61f6f31b-e5c6-4db4-cfbb-8c04ac0b53f5",
        "colab": {
          "base_uri": "https://localhost:8080/",
          "height": 332
        }
      },
      "source": [
        "from tensorflow.keras.constraints import MaxNorm\n",
        "\n",
        "wc = MaxNorm(max_value=2)\n",
        "\n",
        "stop = EarlyStopping(monitor='val_loss', min_delta=0.001, patience=3)\n",
        "\n",
        "model = tf.keras.Sequential([\n",
        "    Flatten(input_shape=(28,28)),\n",
        "    Dense(256, kernel_constraint=wc),\n",
        "    ReLU(negative_slope=.01),\n",
        "    Dense(256, kernel_constraint=wc),\n",
        "    ReLU(negative_slope=.01),\n",
        "    Dense(256, kernel_constraint=wc),\n",
        "    ReLU(negative_slope=.01),\n",
        "    Dense(10, activation='softmax')\n",
        "])\n",
        "\n",
        "model.compile(loss='sparse_categorical_crossentropy', optimizer='nadam',\n",
        "              metrics=['accuracy'])\n",
        "\n",
        "model.fit(X_train, y_train, epochs=99,\n",
        "          validation_data=(X_test, y_test),\n",
        "          callbacks=[stop])"
      ],
      "execution_count": null,
      "outputs": [
        {
          "output_type": "stream",
          "text": [
            "Epoch 1/99\n",
            "1875/1875 [==============================] - 18s 10ms/step - loss: 0.4680 - accuracy: 0.8289 - val_loss: 0.3891 - val_accuracy: 0.8579\n",
            "Epoch 2/99\n",
            "1875/1875 [==============================] - 18s 10ms/step - loss: 0.3498 - accuracy: 0.8722 - val_loss: 0.3795 - val_accuracy: 0.8600\n",
            "Epoch 3/99\n",
            "1875/1875 [==============================] - 18s 10ms/step - loss: 0.3222 - accuracy: 0.8809 - val_loss: 0.3429 - val_accuracy: 0.8757\n",
            "Epoch 4/99\n",
            "1875/1875 [==============================] - 19s 10ms/step - loss: 0.3062 - accuracy: 0.8849 - val_loss: 0.3442 - val_accuracy: 0.8778\n",
            "Epoch 5/99\n",
            "1875/1875 [==============================] - 18s 10ms/step - loss: 0.2967 - accuracy: 0.8899 - val_loss: 0.3407 - val_accuracy: 0.8765\n",
            "Epoch 6/99\n",
            "1875/1875 [==============================] - 18s 10ms/step - loss: 0.2898 - accuracy: 0.8916 - val_loss: 0.3745 - val_accuracy: 0.8663\n",
            "Epoch 7/99\n",
            "1875/1875 [==============================] - 18s 10ms/step - loss: 0.2835 - accuracy: 0.8936 - val_loss: 0.3607 - val_accuracy: 0.8651\n",
            "Epoch 8/99\n",
            "1875/1875 [==============================] - 18s 10ms/step - loss: 0.2782 - accuracy: 0.8949 - val_loss: 0.3565 - val_accuracy: 0.8733\n"
          ],
          "name": "stdout"
        },
        {
          "output_type": "execute_result",
          "data": {
            "text/plain": [
              "<tensorflow.python.keras.callbacks.History at 0x7f06a28bf710>"
            ]
          },
          "metadata": {
            "tags": []
          },
          "execution_count": 16
        }
      ]
    },
    {
      "cell_type": "code",
      "metadata": {
        "id": "GNRGmIVNNYOa",
        "outputId": "cb422a04-537e-42b4-f88c-6c84f7b8c9ef",
        "colab": {
          "base_uri": "https://localhost:8080/",
          "height": 434
        }
      },
      "source": [
        "model.summary()"
      ],
      "execution_count": null,
      "outputs": [
        {
          "output_type": "stream",
          "text": [
            "Model: \"sequential_4\"\n",
            "_________________________________________________________________\n",
            "Layer (type)                 Output Shape              Param #   \n",
            "=================================================================\n",
            "flatten_4 (Flatten)          (None, 784)               0         \n",
            "_________________________________________________________________\n",
            "dense_16 (Dense)             (None, 256)               200960    \n",
            "_________________________________________________________________\n",
            "re_lu_12 (ReLU)              (None, 256)               0         \n",
            "_________________________________________________________________\n",
            "dense_17 (Dense)             (None, 256)               65792     \n",
            "_________________________________________________________________\n",
            "re_lu_13 (ReLU)              (None, 256)               0         \n",
            "_________________________________________________________________\n",
            "dense_18 (Dense)             (None, 256)               65792     \n",
            "_________________________________________________________________\n",
            "re_lu_14 (ReLU)              (None, 256)               0         \n",
            "_________________________________________________________________\n",
            "dense_19 (Dense)             (None, 10)                2570      \n",
            "=================================================================\n",
            "Total params: 335,114\n",
            "Trainable params: 335,114\n",
            "Non-trainable params: 0\n",
            "_________________________________________________________________\n"
          ],
          "name": "stdout"
        }
      ]
    },
    {
      "cell_type": "markdown",
      "metadata": {
        "id": "9-xMnXMsQHu0"
      },
      "source": [
        "### Dropout"
      ]
    },
    {
      "cell_type": "code",
      "metadata": {
        "id": "MCRL8SmgQHu0",
        "outputId": "ecf19581-1fa1-4cdd-9e70-cf2c7d6465a9",
        "colab": {
          "base_uri": "https://localhost:8080/",
          "height": 454
        }
      },
      "source": [
        "from tensorflow.keras.layers import Dropout\n",
        "\n",
        "from tensorflow.keras.constraints import MaxNorm\n",
        "\n",
        "wc = MaxNorm(max_value=2)\n",
        "\n",
        "logdir = os.path.join(\"logs\", \"EarlyStopping+WeightConstraint+Dropout\")\n",
        "\n",
        "tensorboard_callback = tf.keras.callbacks.TensorBoard(logdir, histogram_freq=1)\n",
        "stop = EarlyStopping(monitor='val_loss', min_delta=0.001, patience=3)\n",
        "\n",
        "model = tf.keras.Sequential([\n",
        "    Flatten(input_shape=(28, 28)),\n",
        "    Dense(512, kernel_constraint=wc),\n",
        "    ReLU(negative_slope=.01),\n",
        "    Dropout(.2),\n",
        "    Dense(512, kernel_constraint=wc),\n",
        "    ReLU(negative_slope=.01),\n",
        "    Dropout(.2),\n",
        "    Dense(512, kernel_constraint=wc),\n",
        "    ReLU(negative_slope=.01),\n",
        "    Dropout(.2),\n",
        "    Dense(10, activation='softmax')\n",
        "])\n",
        "\n",
        "model.compile(loss='sparse_categorical_crossentropy', optimizer='nadam',\n",
        "              metrics=['accuracy'])\n",
        "\n",
        "model.fit(X_train, y_train, epochs=99, \n",
        "          validation_data=(X_test,y_test),\n",
        "          callbacks=[tensorboard_callback, stop])"
      ],
      "execution_count": null,
      "outputs": [
        {
          "output_type": "stream",
          "text": [
            "Epoch 1/99\n",
            "   2/1875 [..............................] - ETA: 2:31 - loss: 2.2855 - accuracy: 0.1562WARNING:tensorflow:Callbacks method `on_train_batch_end` is slow compared to the batch time (batch time: 0.0274s vs `on_train_batch_end` time: 0.1341s). Check your callbacks.\n",
            "1875/1875 [==============================] - 45s 24ms/step - loss: 0.5171 - accuracy: 0.8117 - val_loss: 0.4905 - val_accuracy: 0.8266\n",
            "Epoch 2/99\n",
            "1875/1875 [==============================] - 45s 24ms/step - loss: 0.4001 - accuracy: 0.8551 - val_loss: 0.3879 - val_accuracy: 0.8634\n",
            "Epoch 3/99\n",
            "1875/1875 [==============================] - 46s 24ms/step - loss: 0.3758 - accuracy: 0.8634 - val_loss: 0.3728 - val_accuracy: 0.8659\n",
            "Epoch 4/99\n",
            "1875/1875 [==============================] - 45s 24ms/step - loss: 0.3615 - accuracy: 0.8666 - val_loss: 0.3817 - val_accuracy: 0.8579\n",
            "Epoch 5/99\n",
            "1875/1875 [==============================] - 45s 24ms/step - loss: 0.3566 - accuracy: 0.8702 - val_loss: 0.3690 - val_accuracy: 0.8641\n",
            "Epoch 6/99\n",
            "1875/1875 [==============================] - 45s 24ms/step - loss: 0.3501 - accuracy: 0.8717 - val_loss: 0.3664 - val_accuracy: 0.8656\n",
            "Epoch 7/99\n",
            "1875/1875 [==============================] - 45s 24ms/step - loss: 0.3463 - accuracy: 0.8730 - val_loss: 0.3651 - val_accuracy: 0.8662\n",
            "Epoch 8/99\n",
            "1875/1875 [==============================] - 45s 24ms/step - loss: 0.3452 - accuracy: 0.8731 - val_loss: 0.3512 - val_accuracy: 0.8717\n",
            "Epoch 9/99\n",
            "1875/1875 [==============================] - 45s 24ms/step - loss: 0.3434 - accuracy: 0.8736 - val_loss: 0.3660 - val_accuracy: 0.8696\n",
            "Epoch 10/99\n",
            "1875/1875 [==============================] - 46s 25ms/step - loss: 0.3427 - accuracy: 0.8754 - val_loss: 0.3506 - val_accuracy: 0.8709\n",
            "Epoch 11/99\n",
            "1875/1875 [==============================] - 46s 25ms/step - loss: 0.3423 - accuracy: 0.8751 - val_loss: 0.3543 - val_accuracy: 0.8715\n"
          ],
          "name": "stdout"
        },
        {
          "output_type": "execute_result",
          "data": {
            "text/plain": [
              "<tensorflow.python.keras.callbacks.History at 0x7f06a16656a0>"
            ]
          },
          "metadata": {
            "tags": []
          },
          "execution_count": 18
        }
      ]
    },
    {
      "cell_type": "code",
      "metadata": {
        "id": "0b48dUTOQkep",
        "outputId": "16a725aa-4584-48a9-ebb9-bccab4406647",
        "colab": {
          "base_uri": "https://localhost:8080/",
          "height": 538
        }
      },
      "source": [
        "model.summary()"
      ],
      "execution_count": null,
      "outputs": [
        {
          "output_type": "stream",
          "text": [
            "Model: \"sequential_5\"\n",
            "_________________________________________________________________\n",
            "Layer (type)                 Output Shape              Param #   \n",
            "=================================================================\n",
            "flatten_5 (Flatten)          (None, 784)               0         \n",
            "_________________________________________________________________\n",
            "dense_20 (Dense)             (None, 512)               401920    \n",
            "_________________________________________________________________\n",
            "re_lu_15 (ReLU)              (None, 512)               0         \n",
            "_________________________________________________________________\n",
            "dropout (Dropout)            (None, 512)               0         \n",
            "_________________________________________________________________\n",
            "dense_21 (Dense)             (None, 512)               262656    \n",
            "_________________________________________________________________\n",
            "re_lu_16 (ReLU)              (None, 512)               0         \n",
            "_________________________________________________________________\n",
            "dropout_1 (Dropout)          (None, 512)               0         \n",
            "_________________________________________________________________\n",
            "dense_22 (Dense)             (None, 512)               262656    \n",
            "_________________________________________________________________\n",
            "re_lu_17 (ReLU)              (None, 512)               0         \n",
            "_________________________________________________________________\n",
            "dropout_2 (Dropout)          (None, 512)               0         \n",
            "_________________________________________________________________\n",
            "dense_23 (Dense)             (None, 10)                5130      \n",
            "=================================================================\n",
            "Total params: 932,362\n",
            "Trainable params: 932,362\n",
            "Non-trainable params: 0\n",
            "_________________________________________________________________\n"
          ],
          "name": "stdout"
        }
      ]
    },
    {
      "cell_type": "code",
      "metadata": {
        "id": "RFAkmZbVQHu2"
      },
      "source": [
        "%tensorboard --logdir logs"
      ],
      "execution_count": null,
      "outputs": []
    },
    {
      "cell_type": "markdown",
      "metadata": {
        "id": "HbV6zsdQQHu4"
      },
      "source": [
        "## Challenge\n",
        "\n",
        "You will apply regularization strategies inside your neural network today, as you try to avoid overfitting it. \n",
        "\n",
        "---"
      ]
    },
    {
      "cell_type": "markdown",
      "metadata": {
        "id": "3MXbzdBdURod"
      },
      "source": [
        "# Deploy (Learn)"
      ]
    },
    {
      "cell_type": "markdown",
      "metadata": {
        "id": "11LJtU9MUVD5"
      },
      "source": [
        "## Overview\n",
        "\n",
        "You've built a dope image classification model, but it's just sitting your Jupyter Notebook. What now? Well you deploy to some down stream application. TensorFlow supports three ways of deploying it's models: \n",
        "\n",
        "- In-Browser with TensorFlow.js\n",
        "- API with TensorFlow Serving (TFX) or another Framework\n",
        "- On-Device with TensorFlow Lite\n",
        "\n",
        "You are already familiar with deploying a model as an API from Unit 3, so we will focus on deploying a model in browser. Both methods rely on the same core idea: save your weights and architecture information, load those parameters into application, and perform inference. \n",
        "\n"
      ]
    },
    {
      "cell_type": "markdown",
      "metadata": {
        "id": "IHca-4H2UU8p"
      },
      "source": [
        "## Follow Along"
      ]
    },
    {
      "cell_type": "markdown",
      "metadata": {
        "id": "LgqQfelzZTL1"
      },
      "source": [
        "### Train Your Model"
      ]
    },
    {
      "cell_type": "code",
      "metadata": {
        "id": "Neds_0D2ZR9g",
        "outputId": "45ec8ed4-b5d8-4dd2-c7f5-bc03d179e168",
        "colab": {
          "base_uri": "https://localhost:8080/",
          "height": 660
        }
      },
      "source": [
        "import tensorflow as tf\n",
        "\n",
        "# Save the latest (best) weights of your model at the end of each epoch\n",
        "cpoint = tf.keras.callbacks.ModelCheckpoint(\"weights_best.h5\",\n",
        "                                            verbose=1,\n",
        "                                            save_weights_only=True)\n",
        "stop = EarlyStopping(monitor='val_loss', min_delta=0.001, patience=3)\n",
        "\n",
        "def create_model():\n",
        "  model = tf.keras.Sequential([\n",
        "      Flatten(input_shape=(28, 28)),\n",
        "      Dense(128),\n",
        "      ReLU(negative_slope=.01),\n",
        "      Dense(128),\n",
        "      ReLU(negative_slope=.01),\n",
        "      Dense(128),\n",
        "      ReLU(negative_slope=.01),\n",
        "      Dense(10, activation='softmax')\n",
        "  ])\n",
        "\n",
        "  model.compile(loss='sparse_categorical_crossentropy', optimizer='nadam',\n",
        "                metrics=['accuracy'])\n",
        "\n",
        "  return model\n",
        "\n",
        "\n",
        "model = create_model()\n",
        "model.fit(X_train, y_train, epochs=10,\n",
        "          validation_data=(X_test, y_test),\n",
        "          verbose=2,\n",
        "          callbacks=[cpoint, stop])"
      ],
      "execution_count": null,
      "outputs": [
        {
          "output_type": "stream",
          "text": [
            "Epoch 1/10\n",
            "\n",
            "Epoch 00001: saving model to weights_best.h5\n",
            "1875/1875 - 7s - loss: 0.4724 - accuracy: 0.8291 - val_loss: 0.4045 - val_accuracy: 0.8531\n",
            "Epoch 2/10\n",
            "\n",
            "Epoch 00002: saving model to weights_best.h5\n",
            "1875/1875 - 7s - loss: 0.3519 - accuracy: 0.8707 - val_loss: 0.3965 - val_accuracy: 0.8554\n",
            "Epoch 3/10\n",
            "\n",
            "Epoch 00003: saving model to weights_best.h5\n",
            "1875/1875 - 7s - loss: 0.3181 - accuracy: 0.8827 - val_loss: 0.3516 - val_accuracy: 0.8760\n",
            "Epoch 4/10\n",
            "\n",
            "Epoch 00004: saving model to weights_best.h5\n",
            "1875/1875 - 7s - loss: 0.2957 - accuracy: 0.8894 - val_loss: 0.3580 - val_accuracy: 0.8698\n",
            "Epoch 5/10\n",
            "\n",
            "Epoch 00005: saving model to weights_best.h5\n",
            "1875/1875 - 7s - loss: 0.2793 - accuracy: 0.8954 - val_loss: 0.3358 - val_accuracy: 0.8823\n",
            "Epoch 6/10\n",
            "\n",
            "Epoch 00006: saving model to weights_best.h5\n",
            "1875/1875 - 7s - loss: 0.2664 - accuracy: 0.9007 - val_loss: 0.3247 - val_accuracy: 0.8828\n",
            "Epoch 7/10\n",
            "\n",
            "Epoch 00007: saving model to weights_best.h5\n",
            "1875/1875 - 7s - loss: 0.2541 - accuracy: 0.9046 - val_loss: 0.3295 - val_accuracy: 0.8846\n",
            "Epoch 8/10\n",
            "\n",
            "Epoch 00008: saving model to weights_best.h5\n",
            "1875/1875 - 7s - loss: 0.2447 - accuracy: 0.9071 - val_loss: 0.3401 - val_accuracy: 0.8801\n",
            "Epoch 9/10\n",
            "\n",
            "Epoch 00009: saving model to weights_best.h5\n",
            "1875/1875 - 7s - loss: 0.2355 - accuracy: 0.9106 - val_loss: 0.3343 - val_accuracy: 0.8831\n"
          ],
          "name": "stdout"
        },
        {
          "output_type": "execute_result",
          "data": {
            "text/plain": [
              "<tensorflow.python.keras.callbacks.History at 0x7f06a02ee748>"
            ]
          },
          "metadata": {
            "tags": []
          },
          "execution_count": 21
        }
      ]
    },
    {
      "cell_type": "code",
      "metadata": {
        "id": "A4AVoVB9TiLm",
        "outputId": "039b7735-22be-40ee-ce8d-cf447b582a48",
        "colab": {
          "base_uri": "https://localhost:8080/",
          "height": 434
        }
      },
      "source": [
        "model.summary()"
      ],
      "execution_count": null,
      "outputs": [
        {
          "output_type": "stream",
          "text": [
            "Model: \"sequential_6\"\n",
            "_________________________________________________________________\n",
            "Layer (type)                 Output Shape              Param #   \n",
            "=================================================================\n",
            "flatten_6 (Flatten)          (None, 784)               0         \n",
            "_________________________________________________________________\n",
            "dense_24 (Dense)             (None, 128)               100480    \n",
            "_________________________________________________________________\n",
            "re_lu_18 (ReLU)              (None, 128)               0         \n",
            "_________________________________________________________________\n",
            "dense_25 (Dense)             (None, 128)               16512     \n",
            "_________________________________________________________________\n",
            "re_lu_19 (ReLU)              (None, 128)               0         \n",
            "_________________________________________________________________\n",
            "dense_26 (Dense)             (None, 128)               16512     \n",
            "_________________________________________________________________\n",
            "re_lu_20 (ReLU)              (None, 128)               0         \n",
            "_________________________________________________________________\n",
            "dense_27 (Dense)             (None, 10)                1290      \n",
            "=================================================================\n",
            "Total params: 134,794\n",
            "Trainable params: 134,794\n",
            "Non-trainable params: 0\n",
            "_________________________________________________________________\n"
          ],
          "name": "stdout"
        }
      ]
    },
    {
      "cell_type": "code",
      "metadata": {
        "id": "-4_sz14rTl3h",
        "outputId": "8b45f0bf-6d63-4092-e270-609389b90e7b",
        "colab": {
          "base_uri": "https://localhost:8080/",
          "height": 52
        }
      },
      "source": [
        "model.evaluate(X_test, y_test)  # Model val metrics after full training"
      ],
      "execution_count": null,
      "outputs": [
        {
          "output_type": "stream",
          "text": [
            "313/313 [==============================] - 0s 1ms/step - loss: 0.3343 - accuracy: 0.8831\n"
          ],
          "name": "stdout"
        },
        {
          "output_type": "execute_result",
          "data": {
            "text/plain": [
              "[0.33429473638534546, 0.8830999732017517]"
            ]
          },
          "metadata": {
            "tags": []
          },
          "execution_count": 24
        }
      ]
    },
    {
      "cell_type": "markdown",
      "metadata": {
        "id": "SVSTU7UJZYI1"
      },
      "source": [
        "### Save / Export, Import Your Model"
      ]
    },
    {
      "cell_type": "code",
      "metadata": {
        "id": "kI8KHA87UUU1",
        "outputId": "0b9e77df-fad6-43a8-90e1-cb8d27b533ea",
        "colab": {
          "base_uri": "https://localhost:8080/",
          "height": 183
        }
      },
      "source": [
        "del model\n",
        "model"
      ],
      "execution_count": null,
      "outputs": [
        {
          "output_type": "error",
          "ename": "NameError",
          "evalue": "ignored",
          "traceback": [
            "\u001b[0;31m---------------------------------------------------------------------------\u001b[0m",
            "\u001b[0;31mNameError\u001b[0m                                 Traceback (most recent call last)",
            "\u001b[0;32m<ipython-input-25-9210fe420116>\u001b[0m in \u001b[0;36m<module>\u001b[0;34m()\u001b[0m\n\u001b[1;32m      1\u001b[0m \u001b[0;32mdel\u001b[0m \u001b[0mmodel\u001b[0m\u001b[0;34m\u001b[0m\u001b[0;34m\u001b[0m\u001b[0m\n\u001b[0;32m----> 2\u001b[0;31m \u001b[0mmodel\u001b[0m\u001b[0;34m\u001b[0m\u001b[0;34m\u001b[0m\u001b[0m\n\u001b[0m",
            "\u001b[0;31mNameError\u001b[0m: name 'model' is not defined"
          ]
        }
      ]
    },
    {
      "cell_type": "code",
      "metadata": {
        "id": "-ihVyx2LTydY",
        "outputId": "0e882c41-da99-4ce0-cb6b-1aaeb67c0f9a",
        "colab": {
          "base_uri": "https://localhost:8080/",
          "height": 434
        }
      },
      "source": [
        "model = create_model()  # Recreate basic model architecture (and compiling)\n",
        "# But we've not trained it, and that's the expensive step\n",
        "# Instead let's just load the best weights from last time\n",
        "model.load_weights('weights_best.h5')\n",
        "model.summary()"
      ],
      "execution_count": null,
      "outputs": [
        {
          "output_type": "stream",
          "text": [
            "Model: \"sequential_8\"\n",
            "_________________________________________________________________\n",
            "Layer (type)                 Output Shape              Param #   \n",
            "=================================================================\n",
            "flatten_8 (Flatten)          (None, 784)               0         \n",
            "_________________________________________________________________\n",
            "dense_32 (Dense)             (None, 128)               100480    \n",
            "_________________________________________________________________\n",
            "re_lu_24 (ReLU)              (None, 128)               0         \n",
            "_________________________________________________________________\n",
            "dense_33 (Dense)             (None, 128)               16512     \n",
            "_________________________________________________________________\n",
            "re_lu_25 (ReLU)              (None, 128)               0         \n",
            "_________________________________________________________________\n",
            "dense_34 (Dense)             (None, 128)               16512     \n",
            "_________________________________________________________________\n",
            "re_lu_26 (ReLU)              (None, 128)               0         \n",
            "_________________________________________________________________\n",
            "dense_35 (Dense)             (None, 10)                1290      \n",
            "=================================================================\n",
            "Total params: 134,794\n",
            "Trainable params: 134,794\n",
            "Non-trainable params: 0\n",
            "_________________________________________________________________\n"
          ],
          "name": "stdout"
        }
      ]
    },
    {
      "cell_type": "code",
      "metadata": {
        "id": "ba_iXOMdUKJP",
        "outputId": "f8aaf3b4-c120-478f-d28e-7c9e398077d6",
        "colab": {
          "base_uri": "https://localhost:8080/",
          "height": 52
        }
      },
      "source": [
        "model.evaluate(X_test, y_test)  # Model val metrics after full training"
      ],
      "execution_count": null,
      "outputs": [
        {
          "output_type": "stream",
          "text": [
            "313/313 [==============================] - 0s 1ms/step - loss: 0.3343 - accuracy: 0.8831\n"
          ],
          "name": "stdout"
        },
        {
          "output_type": "execute_result",
          "data": {
            "text/plain": [
              "[0.33429473638534546, 0.8830999732017517]"
            ]
          },
          "metadata": {
            "tags": []
          },
          "execution_count": 28
        }
      ]
    },
    {
      "cell_type": "code",
      "metadata": {
        "id": "oTccAaLFUR93",
        "outputId": "52442f42-59aa-43d0-a151-26d86927284f",
        "colab": {
          "base_uri": "https://localhost:8080/",
          "height": 54
        }
      },
      "source": [
        "model.predict"
      ],
      "execution_count": null,
      "outputs": [
        {
          "output_type": "execute_result",
          "data": {
            "text/plain": [
              "<bound method Model.predict of <tensorflow.python.keras.engine.sequential.Sequential object at 0x7f06a0131fd0>>"
            ]
          },
          "metadata": {
            "tags": []
          },
          "execution_count": 29
        }
      ]
    },
    {
      "cell_type": "code",
      "metadata": {
        "id": "OzX_yZuTUYYT",
        "outputId": "4750e934-9dc1-48dc-97e7-5645836411b9",
        "colab": {
          "base_uri": "https://localhost:8080/",
          "height": 332
        }
      },
      "source": [
        "# We can also save the entire model, not just weights\n",
        "# That way we don't need to create_model() function\n",
        "# Note - this saves architecture, but seems to lose some .compile details\n",
        "# i.e. you might still need to recompile to know which metrics to use, etc.\n",
        "\n",
        "# Create and train a new model instance.\n",
        "model = create_model()\n",
        "model.fit(X_train, y_train, epochs=5)\n",
        "\n",
        "# Save the entire model as a SavedModel. *Not* a callback, just save at the end.\n",
        "!mkdir -p saved_model\n",
        "model.save('saved_model/my_model') "
      ],
      "execution_count": null,
      "outputs": [
        {
          "output_type": "stream",
          "text": [
            "Epoch 1/5\n",
            "1875/1875 [==============================] - 9s 5ms/step - loss: 0.4763 - accuracy: 0.8280\n",
            "Epoch 2/5\n",
            "1875/1875 [==============================] - 8s 4ms/step - loss: 0.3514 - accuracy: 0.8692\n",
            "Epoch 3/5\n",
            "1875/1875 [==============================] - 9s 5ms/step - loss: 0.3193 - accuracy: 0.8814\n",
            "Epoch 4/5\n",
            "1875/1875 [==============================] - 9s 5ms/step - loss: 0.2964 - accuracy: 0.8896\n",
            "Epoch 5/5\n",
            "1875/1875 [==============================] - 9s 5ms/step - loss: 0.2825 - accuracy: 0.8936\n",
            "WARNING:tensorflow:From /usr/local/lib/python3.6/dist-packages/tensorflow/python/training/tracking/tracking.py:111: Model.state_updates (from tensorflow.python.keras.engine.training) is deprecated and will be removed in a future version.\n",
            "Instructions for updating:\n",
            "This property should not be used in TensorFlow 2.0, as updates are applied automatically.\n",
            "WARNING:tensorflow:From /usr/local/lib/python3.6/dist-packages/tensorflow/python/training/tracking/tracking.py:111: Layer.updates (from tensorflow.python.keras.engine.base_layer) is deprecated and will be removed in a future version.\n",
            "Instructions for updating:\n",
            "This property should not be used in TensorFlow 2.0, as updates are applied automatically.\n",
            "INFO:tensorflow:Assets written to: saved_model/my_model/assets\n"
          ],
          "name": "stdout"
        }
      ]
    },
    {
      "cell_type": "code",
      "metadata": {
        "id": "_Hixo7kuU7bD",
        "outputId": "0ea269a1-f81e-4a0f-ed27-2ea9b918b1b1",
        "colab": {
          "base_uri": "https://localhost:8080/",
          "height": 434
        }
      },
      "source": [
        "model.summary()  # Model as trained"
      ],
      "execution_count": null,
      "outputs": [
        {
          "output_type": "stream",
          "text": [
            "Model: \"sequential_9\"\n",
            "_________________________________________________________________\n",
            "Layer (type)                 Output Shape              Param #   \n",
            "=================================================================\n",
            "flatten_9 (Flatten)          (None, 784)               0         \n",
            "_________________________________________________________________\n",
            "dense_36 (Dense)             (None, 128)               100480    \n",
            "_________________________________________________________________\n",
            "re_lu_27 (ReLU)              (None, 128)               0         \n",
            "_________________________________________________________________\n",
            "dense_37 (Dense)             (None, 128)               16512     \n",
            "_________________________________________________________________\n",
            "re_lu_28 (ReLU)              (None, 128)               0         \n",
            "_________________________________________________________________\n",
            "dense_38 (Dense)             (None, 128)               16512     \n",
            "_________________________________________________________________\n",
            "re_lu_29 (ReLU)              (None, 128)               0         \n",
            "_________________________________________________________________\n",
            "dense_39 (Dense)             (None, 10)                1290      \n",
            "=================================================================\n",
            "Total params: 134,794\n",
            "Trainable params: 134,794\n",
            "Non-trainable params: 0\n",
            "_________________________________________________________________\n"
          ],
          "name": "stdout"
        }
      ]
    },
    {
      "cell_type": "code",
      "metadata": {
        "id": "CeqLYak0U_uk",
        "outputId": "6f58f961-10ca-4d33-ad24-4c182eb94d40",
        "colab": {
          "base_uri": "https://localhost:8080/",
          "height": 434
        }
      },
      "source": [
        "new_model = tf.keras.models.load_model('saved_model/my_model')\n",
        "\n",
        "# Check its architecture\n",
        "new_model.summary()"
      ],
      "execution_count": null,
      "outputs": [
        {
          "output_type": "stream",
          "text": [
            "Model: \"sequential_9\"\n",
            "_________________________________________________________________\n",
            "Layer (type)                 Output Shape              Param #   \n",
            "=================================================================\n",
            "flatten_9 (Flatten)          (None, 784)               0         \n",
            "_________________________________________________________________\n",
            "dense_36 (Dense)             (None, 128)               100480    \n",
            "_________________________________________________________________\n",
            "re_lu_27 (ReLU)              (None, 128)               0         \n",
            "_________________________________________________________________\n",
            "dense_37 (Dense)             (None, 128)               16512     \n",
            "_________________________________________________________________\n",
            "re_lu_28 (ReLU)              (None, 128)               0         \n",
            "_________________________________________________________________\n",
            "dense_38 (Dense)             (None, 128)               16512     \n",
            "_________________________________________________________________\n",
            "re_lu_29 (ReLU)              (None, 128)               0         \n",
            "_________________________________________________________________\n",
            "dense_39 (Dense)             (None, 10)                1290      \n",
            "=================================================================\n",
            "Total params: 134,794\n",
            "Trainable params: 134,794\n",
            "Non-trainable params: 0\n",
            "_________________________________________________________________\n"
          ],
          "name": "stdout"
        }
      ]
    },
    {
      "cell_type": "code",
      "metadata": {
        "id": "TiYjE1qvVR9w",
        "outputId": "d7d17796-77b1-42ae-b1b1-037753f8e416",
        "colab": {
          "base_uri": "https://localhost:8080/",
          "height": 52
        }
      },
      "source": [
        "model.evaluate(X_test, y_test)  # Trained model"
      ],
      "execution_count": null,
      "outputs": [
        {
          "output_type": "stream",
          "text": [
            "313/313 [==============================] - 0s 1ms/step - loss: 0.3410 - accuracy: 0.8783\n"
          ],
          "name": "stdout"
        },
        {
          "output_type": "execute_result",
          "data": {
            "text/plain": [
              "[0.34104838967323303, 0.8783000111579895]"
            ]
          },
          "metadata": {
            "tags": []
          },
          "execution_count": 33
        }
      ]
    },
    {
      "cell_type": "code",
      "metadata": {
        "id": "AAyR00D5VVNn",
        "outputId": "b783caa4-7e44-49b3-ceb9-be12cfeb99e5",
        "colab": {
          "base_uri": "https://localhost:8080/",
          "height": 52
        }
      },
      "source": [
        "new_model.evaluate(X_test, y_test)  # Saved/loaded model"
      ],
      "execution_count": null,
      "outputs": [
        {
          "output_type": "stream",
          "text": [
            "313/313 [==============================] - 0s 1ms/step - loss: 0.3410 - accuracy: 0.0875\n"
          ],
          "name": "stdout"
        },
        {
          "output_type": "execute_result",
          "data": {
            "text/plain": [
              "[0.34104838967323303, 0.08749999850988388]"
            ]
          },
          "metadata": {
            "tags": []
          },
          "execution_count": 34
        }
      ]
    },
    {
      "cell_type": "code",
      "metadata": {
        "id": "xImRtYcqVZJd",
        "outputId": "d6c6171c-e57b-4629-a65a-7271570c7f72",
        "colab": {
          "base_uri": "https://localhost:8080/",
          "height": 52
        }
      },
      "source": [
        "# Why is second number different? Because that metric is specified w/.compile!\n",
        "new_model.compile(loss='sparse_categorical_crossentropy', optimizer='nadam',\n",
        "                  metrics=['accuracy'])\n",
        "new_model.evaluate(X_test, y_test)"
      ],
      "execution_count": null,
      "outputs": [
        {
          "output_type": "stream",
          "text": [
            "313/313 [==============================] - 0s 1ms/step - loss: 0.3410 - accuracy: 0.8783\n"
          ],
          "name": "stdout"
        },
        {
          "output_type": "execute_result",
          "data": {
            "text/plain": [
              "[0.34104838967323303, 0.8783000111579895]"
            ]
          },
          "metadata": {
            "tags": []
          },
          "execution_count": 35
        }
      ]
    },
    {
      "cell_type": "markdown",
      "metadata": {
        "id": "d6mAg8tpZdzd"
      },
      "source": [
        "### Move Weights to Web Application\n",
        "\n",
        "Not all models are small enough to work well in-browser. Many neural networks are deploy as micro-service APIs. Micro-service APIs are the architecture you studied during Unit 3. "
      ]
    },
    {
      "cell_type": "code",
      "metadata": {
        "id": "0Iz_yr_7ZmGc"
      },
      "source": [
        ""
      ],
      "execution_count": null,
      "outputs": []
    },
    {
      "cell_type": "markdown",
      "metadata": {
        "id": "9i7OMOhzc6WT"
      },
      "source": [
        "## Challenge\n",
        "\n",
        "You will be expected to be able to export your model weights and architecture on the assignment."
      ]
    },
    {
      "cell_type": "markdown",
      "metadata": {
        "id": "rXnXxPCZiAb2"
      },
      "source": [
        "# Custom Callbacks (Learn)"
      ]
    },
    {
      "cell_type": "markdown",
      "metadata": {
        "id": "z6vO6xbkiFGb"
      },
      "source": [
        "## Overview\n",
        "\n",
        "Custom callbacks all you to access data at any point during the training: on batch end, on epoch end, on epoch start, on batch start. Our use case today is a simple one. Let's stop training once we reach a benchmark accuracy."
      ]
    },
    {
      "cell_type": "markdown",
      "metadata": {
        "id": "lCocRF5CiYG_"
      },
      "source": [
        "## Follow Along"
      ]
    },
    {
      "cell_type": "code",
      "metadata": {
        "id": "gmtMJBBriD2Q"
      },
      "source": [
        "# https://www.tensorflow.org/guide/keras/custom_callback"
      ],
      "execution_count": null,
      "outputs": []
    },
    {
      "cell_type": "markdown",
      "metadata": {
        "id": "bOisQxYlibOi"
      },
      "source": [
        "## Challenge\n",
        "\n",
        "Experiment with improving our custom callback function. "
      ]
    }
  ]
}