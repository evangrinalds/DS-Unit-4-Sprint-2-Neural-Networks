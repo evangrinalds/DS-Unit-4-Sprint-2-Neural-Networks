{
  "nbformat": 4,
  "nbformat_minor": 0,
  "metadata": {
    "colab": {
      "name": "Copy of LS_DS18_424_Deploy_Assignment.ipynb",
      "provenance": [],
      "collapsed_sections": [],
      "include_colab_link": true
    },
    "kernelspec": {
      "display_name": "Python 3",
      "language": "python",
      "name": "python3"
    },
    "language_info": {
      "codemirror_mode": {
        "name": "ipython",
        "version": 3
      },
      "file_extension": ".py",
      "mimetype": "text/x-python",
      "name": "python",
      "nbconvert_exporter": "python",
      "pygments_lexer": "ipython3",
      "version": "3.7.3"
    },
    "nteract": {
      "version": "0.22.4"
    }
  },
  "cells": [
    {
      "cell_type": "markdown",
      "metadata": {
        "id": "view-in-github",
        "colab_type": "text"
      },
      "source": [
        "<a href=\"https://colab.research.google.com/github/evangrinalds/DS-Unit-4-Sprint-2-Neural-Networks/blob/main/module4-Deploy/Copy_of_LS_DS18_424_Deploy_Assignment.ipynb\" target=\"_parent\"><img src=\"https://colab.research.google.com/assets/colab-badge.svg\" alt=\"Open In Colab\"/></a>"
      ]
    },
    {
      "cell_type": "markdown",
      "metadata": {
        "id": "NGGrt9EYlCqY"
      },
      "source": [
        "<img align=\"left\" src=\"https://lever-client-logos.s3.amazonaws.com/864372b1-534c-480e-acd5-9711f850815c-1524247202159.png\" width=200>\n",
        "<br></br>\n",
        "<br></br>\n",
        "\n",
        "# Train Practice\n",
        "\n",
        "## *Data Science Unit 4 Sprint 2 Assignment 4*\n",
        "\n",
        "Continue to use TensorFlow Keras & a sample of the [Quickdraw dataset](https://github.com/googlecreativelab/quickdraw-dataset) to build a sketch classification model. The dataset has been sampled to only 10 classes and 10000 observations per class. Apply regularization techniques to your model. \n",
        "\n",
        "*Don't forgot to switch to GPU on Colab!*"
      ]
    },
    {
      "cell_type": "markdown",
      "metadata": {
        "id": "E_d13SiggJrX"
      },
      "source": [
        "#### Write a function to load your data"
      ]
    },
    {
      "cell_type": "code",
      "metadata": {
        "id": "T2Nuzk5kgMwa",
        "outputId": "392742aa-742c-4a87-bc11-b2623b483e0c",
        "colab": {
          "base_uri": "https://localhost:8080/",
          "height": 289
        }
      },
      "source": [
        "!wget https://github.com/LambdaSchool/DS-Unit-4-Sprint-2-Neural-Networks/raw/main/quickdraw10.npz"
      ],
      "execution_count": 15,
      "outputs": [
        {
          "output_type": "stream",
          "text": [
            "--2020-10-08 21:16:01--  https://github.com/LambdaSchool/DS-Unit-4-Sprint-2-Neural-Networks/raw/main/quickdraw10.npz\n",
            "Resolving github.com (github.com)... 192.30.255.112\n",
            "Connecting to github.com (github.com)|192.30.255.112|:443... connected.\n",
            "HTTP request sent, awaiting response... 302 Found\n",
            "Location: https://raw.githubusercontent.com/LambdaSchool/DS-Unit-4-Sprint-2-Neural-Networks/main/quickdraw10.npz [following]\n",
            "--2020-10-08 21:16:01--  https://raw.githubusercontent.com/LambdaSchool/DS-Unit-4-Sprint-2-Neural-Networks/main/quickdraw10.npz\n",
            "Resolving raw.githubusercontent.com (raw.githubusercontent.com)... 151.101.0.133, 151.101.64.133, 151.101.128.133, ...\n",
            "Connecting to raw.githubusercontent.com (raw.githubusercontent.com)|151.101.0.133|:443... connected.\n",
            "HTTP request sent, awaiting response... 200 OK\n",
            "Length: 25421363 (24M) [application/octet-stream]\n",
            "Saving to: ‘quickdraw10.npz.1’\n",
            "\n",
            "quickdraw10.npz.1   100%[===================>]  24.24M  65.1MB/s    in 0.4s    \n",
            "\n",
            "2020-10-08 21:16:02 (65.1 MB/s) - ‘quickdraw10.npz.1’ saved [25421363/25421363]\n",
            "\n"
          ],
          "name": "stdout"
        }
      ]
    },
    {
      "cell_type": "code",
      "metadata": {
        "id": "eDMUNJ8jgS9I"
      },
      "source": [
        "from sklearn.model_selection import train_test_split\n",
        "import numpy as np\n",
        "def load_quickdraw10(path):\n",
        "\n",
        "  data = np.load(path)\n",
        "  X = data['arr_0']\n",
        "  y = data['arr_1']\n",
        "\n",
        "  X_train, X_test, y_train, y_test = train_test_split(X, y, test_size=.3,\n",
        "                                                      random_state=42)\n",
        "  \n",
        "  return X_train, X_test, y_train, y_test"
      ],
      "execution_count": 16,
      "outputs": []
    },
    {
      "cell_type": "code",
      "metadata": {
        "id": "_iKhGGGMgsE5"
      },
      "source": [
        "data = np.load('/content/quickdraw10.npz')"
      ],
      "execution_count": 17,
      "outputs": []
    },
    {
      "cell_type": "code",
      "metadata": {
        "id": "LykG775Yg1b1"
      },
      "source": [
        "X_train, X_test, y_train, y_test = load_quickdraw10('/content/quickdraw10.npz')"
      ],
      "execution_count": 18,
      "outputs": []
    },
    {
      "cell_type": "code",
      "metadata": {
        "id": "9Mz_rsGvg9RK",
        "outputId": "57abb741-a651-43ed-90b5-2144daa3930c",
        "colab": {
          "base_uri": "https://localhost:8080/",
          "height": 34
        }
      },
      "source": [
        "X_train.shape\n",
        "y_train.shape"
      ],
      "execution_count": 19,
      "outputs": [
        {
          "output_type": "execute_result",
          "data": {
            "text/plain": [
              "(70000,)"
            ]
          },
          "metadata": {
            "tags": []
          },
          "execution_count": 19
        }
      ]
    },
    {
      "cell_type": "code",
      "metadata": {
        "id": "X1oaMF4GheVT"
      },
      "source": [
        "# Imports\n",
        "from tensorflow.keras import Sequential\n",
        "from tensorflow.keras.layers import Dense\n",
        "from tensorflow.keras.optimizers import SGD, Adam\n",
        "\n",
        "def create_model(lr=.01, optimizer=SGD):\n",
        "\n",
        "  opt = optimizer(learning_rate=lr)\n",
        "\n",
        "  model = Sequential(\n",
        "      [\n",
        "      Dense(32, activation='sigmoid', input_dim=784),\n",
        "      Dense(32, activation='sigmoid'),\n",
        "      Dense(10, activation='softmax')\n",
        "      ]\n",
        "  )\n",
        "\n",
        "  model.compile(optimizer=opt, loss='sparse_categorical_crossentropy', metrics=['accuracy'])\n",
        "\n",
        "  return model"
      ],
      "execution_count": 20,
      "outputs": []
    },
    {
      "cell_type": "markdown",
      "metadata": {
        "id": "GdyuBfeRhMoo"
      },
      "source": [
        "#### Batch Size"
      ]
    },
    {
      "cell_type": "code",
      "metadata": {
        "id": "568N8we5hO_D",
        "outputId": "82fe3bb2-87c4-4253-ed46-d34388d6a166",
        "colab": {
          "base_uri": "https://localhost:8080/",
          "height": 527
        }
      },
      "source": [
        "batch_40 = create_model().fit(X_train, y_train,\n",
        "                              epochs=15,\n",
        "                              batch_size=40,\n",
        "                              validation_data=(X_test, y_test))"
      ],
      "execution_count": 21,
      "outputs": [
        {
          "output_type": "stream",
          "text": [
            "Epoch 1/15\n",
            "1750/1750 [==============================] - 3s 2ms/step - loss: 1.9987 - accuracy: 0.4214 - val_loss: 1.7213 - val_accuracy: 0.5353\n",
            "Epoch 2/15\n",
            "1750/1750 [==============================] - 3s 2ms/step - loss: 1.5359 - accuracy: 0.5791 - val_loss: 1.3917 - val_accuracy: 0.5962\n",
            "Epoch 3/15\n",
            "1750/1750 [==============================] - 3s 2ms/step - loss: 1.2974 - accuracy: 0.6329 - val_loss: 1.2170 - val_accuracy: 0.6477\n",
            "Epoch 4/15\n",
            "1750/1750 [==============================] - 3s 2ms/step - loss: 1.1524 - accuracy: 0.6711 - val_loss: 1.1020 - val_accuracy: 0.6809\n",
            "Epoch 5/15\n",
            "1750/1750 [==============================] - 3s 2ms/step - loss: 1.0605 - accuracy: 0.6920 - val_loss: 1.0423 - val_accuracy: 0.6976\n",
            "Epoch 6/15\n",
            "1750/1750 [==============================] - 3s 2ms/step - loss: 1.0055 - accuracy: 0.7036 - val_loss: 0.9775 - val_accuracy: 0.7080\n",
            "Epoch 7/15\n",
            "1750/1750 [==============================] - 3s 2ms/step - loss: 0.9672 - accuracy: 0.7100 - val_loss: 0.9622 - val_accuracy: 0.7111\n",
            "Epoch 8/15\n",
            "1750/1750 [==============================] - 3s 2ms/step - loss: 0.9551 - accuracy: 0.7131 - val_loss: 0.9507 - val_accuracy: 0.7175\n",
            "Epoch 9/15\n",
            "1750/1750 [==============================] - 3s 2ms/step - loss: 0.9233 - accuracy: 0.7202 - val_loss: 0.9161 - val_accuracy: 0.7249\n",
            "Epoch 10/15\n",
            "1750/1750 [==============================] - 3s 2ms/step - loss: 0.9059 - accuracy: 0.7231 - val_loss: 0.9008 - val_accuracy: 0.7266\n",
            "Epoch 11/15\n",
            "1750/1750 [==============================] - 3s 2ms/step - loss: 0.9040 - accuracy: 0.7232 - val_loss: 0.8983 - val_accuracy: 0.7233\n",
            "Epoch 12/15\n",
            "1750/1750 [==============================] - 3s 2ms/step - loss: 0.8825 - accuracy: 0.7274 - val_loss: 0.9005 - val_accuracy: 0.7220\n",
            "Epoch 13/15\n",
            "1750/1750 [==============================] - 3s 2ms/step - loss: 0.8697 - accuracy: 0.7314 - val_loss: 0.8771 - val_accuracy: 0.7292\n",
            "Epoch 14/15\n",
            "1750/1750 [==============================] - 3s 2ms/step - loss: 0.8499 - accuracy: 0.7386 - val_loss: 0.8552 - val_accuracy: 0.7378\n",
            "Epoch 15/15\n",
            "1750/1750 [==============================] - 3s 2ms/step - loss: 0.8594 - accuracy: 0.7354 - val_loss: 0.8752 - val_accuracy: 0.7284\n"
          ],
          "name": "stdout"
        }
      ]
    },
    {
      "cell_type": "markdown",
      "metadata": {
        "id": "G2u_z__hiUD7"
      },
      "source": [
        "#### Optimizer"
      ]
    },
    {
      "cell_type": "code",
      "metadata": {
        "id": "FjbG-SVwiVsb",
        "outputId": "4ac33da0-0efa-40a6-85ed-fff76adc431c",
        "colab": {
          "base_uri": "https://localhost:8080/",
          "height": 527
        }
      },
      "source": [
        "from tensorflow.keras.optimizers import RMSprop\n",
        "\n",
        "rmsprop = create_model(optimizer=RMSprop).fit(X_train, y_train, \n",
        "                                          epochs=15, \n",
        "                                          batch_size=75, \n",
        "                                          validation_data=(X_test, y_test))"
      ],
      "execution_count": 22,
      "outputs": [
        {
          "output_type": "stream",
          "text": [
            "Epoch 1/15\n",
            "934/934 [==============================] - 2s 3ms/step - loss: 1.3186 - accuracy: 0.5473 - val_loss: 1.1177 - val_accuracy: 0.6383\n",
            "Epoch 2/15\n",
            "934/934 [==============================] - 2s 3ms/step - loss: 1.0265 - accuracy: 0.6654 - val_loss: 0.9569 - val_accuracy: 0.6919\n",
            "Epoch 3/15\n",
            "934/934 [==============================] - 2s 2ms/step - loss: 0.9272 - accuracy: 0.7033 - val_loss: 0.9099 - val_accuracy: 0.7098\n",
            "Epoch 4/15\n",
            "934/934 [==============================] - 2s 2ms/step - loss: 0.9107 - accuracy: 0.7113 - val_loss: 0.8684 - val_accuracy: 0.7233\n",
            "Epoch 5/15\n",
            "934/934 [==============================] - 2s 2ms/step - loss: 0.8798 - accuracy: 0.7194 - val_loss: 0.8862 - val_accuracy: 0.7135\n",
            "Epoch 6/15\n",
            "934/934 [==============================] - 2s 2ms/step - loss: 0.8564 - accuracy: 0.7300 - val_loss: 0.8726 - val_accuracy: 0.7244\n",
            "Epoch 7/15\n",
            "934/934 [==============================] - 2s 2ms/step - loss: 0.8532 - accuracy: 0.7312 - val_loss: 0.8676 - val_accuracy: 0.7234\n",
            "Epoch 8/15\n",
            "934/934 [==============================] - 2s 2ms/step - loss: 0.8487 - accuracy: 0.7311 - val_loss: 0.8549 - val_accuracy: 0.7343\n",
            "Epoch 9/15\n",
            "934/934 [==============================] - 2s 2ms/step - loss: 0.8393 - accuracy: 0.7371 - val_loss: 0.8459 - val_accuracy: 0.7293\n",
            "Epoch 10/15\n",
            "934/934 [==============================] - 2s 3ms/step - loss: 0.8447 - accuracy: 0.7330 - val_loss: 0.8387 - val_accuracy: 0.7414\n",
            "Epoch 11/15\n",
            "934/934 [==============================] - 2s 3ms/step - loss: 0.8346 - accuracy: 0.7346 - val_loss: 0.8509 - val_accuracy: 0.7246\n",
            "Epoch 12/15\n",
            "934/934 [==============================] - 2s 2ms/step - loss: 0.8228 - accuracy: 0.7402 - val_loss: 0.8164 - val_accuracy: 0.7441\n",
            "Epoch 13/15\n",
            "934/934 [==============================] - 2s 2ms/step - loss: 0.8258 - accuracy: 0.7416 - val_loss: 0.8255 - val_accuracy: 0.7407\n",
            "Epoch 14/15\n",
            "934/934 [==============================] - 2s 2ms/step - loss: 0.8116 - accuracy: 0.7451 - val_loss: 0.8146 - val_accuracy: 0.7466\n",
            "Epoch 15/15\n",
            "934/934 [==============================] - 2s 2ms/step - loss: 0.8172 - accuracy: 0.7439 - val_loss: 0.8348 - val_accuracy: 0.7395\n"
          ],
          "name": "stdout"
        }
      ]
    },
    {
      "cell_type": "markdown",
      "metadata": {
        "id": "xyPZQNPeitXx"
      },
      "source": [
        "#### Learning Rate"
      ]
    },
    {
      "cell_type": "code",
      "metadata": {
        "id": "a_C3RSv6iujE",
        "outputId": "4261ce9e-1767-476d-fe8c-30df3049781a",
        "colab": {
          "base_uri": "https://localhost:8080/",
          "height": 527
        }
      },
      "source": [
        "lr_onethousandth = create_model(lr=.001).fit(X_train, y_train,\n",
        "                                             epochs=15,\n",
        "                                             batch_size=75,\n",
        "                                             validation_data=(X_test, y_test))"
      ],
      "execution_count": 24,
      "outputs": [
        {
          "output_type": "stream",
          "text": [
            "Epoch 1/15\n",
            "934/934 [==============================] - 2s 2ms/step - loss: 2.3710 - accuracy: 0.0993 - val_loss: 2.2919 - val_accuracy: 0.1313\n",
            "Epoch 2/15\n",
            "934/934 [==============================] - 2s 2ms/step - loss: 2.2544 - accuracy: 0.1988 - val_loss: 2.2235 - val_accuracy: 0.2579\n",
            "Epoch 3/15\n",
            "934/934 [==============================] - 2s 2ms/step - loss: 2.2014 - accuracy: 0.2997 - val_loss: 2.1808 - val_accuracy: 0.3389\n",
            "Epoch 4/15\n",
            "934/934 [==============================] - 2s 2ms/step - loss: 2.1613 - accuracy: 0.3735 - val_loss: 2.1436 - val_accuracy: 0.3992\n",
            "Epoch 5/15\n",
            "934/934 [==============================] - 2s 2ms/step - loss: 2.1256 - accuracy: 0.4232 - val_loss: 2.1098 - val_accuracy: 0.4367\n",
            "Epoch 6/15\n",
            "934/934 [==============================] - 2s 2ms/step - loss: 2.0916 - accuracy: 0.4519 - val_loss: 2.0758 - val_accuracy: 0.4616\n",
            "Epoch 7/15\n",
            "934/934 [==============================] - 2s 2ms/step - loss: 2.0580 - accuracy: 0.4736 - val_loss: 2.0435 - val_accuracy: 0.4795\n",
            "Epoch 8/15\n",
            "934/934 [==============================] - 2s 2ms/step - loss: 2.0255 - accuracy: 0.4915 - val_loss: 2.0112 - val_accuracy: 0.4915\n",
            "Epoch 9/15\n",
            "934/934 [==============================] - 2s 2ms/step - loss: 1.9930 - accuracy: 0.4997 - val_loss: 1.9785 - val_accuracy: 0.5042\n",
            "Epoch 10/15\n",
            "934/934 [==============================] - 2s 2ms/step - loss: 1.9606 - accuracy: 0.5128 - val_loss: 1.9462 - val_accuracy: 0.5118\n",
            "Epoch 11/15\n",
            "934/934 [==============================] - 2s 2ms/step - loss: 1.9280 - accuracy: 0.5215 - val_loss: 1.9133 - val_accuracy: 0.5202\n",
            "Epoch 12/15\n",
            "934/934 [==============================] - 2s 2ms/step - loss: 1.8950 - accuracy: 0.5285 - val_loss: 1.8803 - val_accuracy: 0.5262\n",
            "Epoch 13/15\n",
            "934/934 [==============================] - 2s 2ms/step - loss: 1.8625 - accuracy: 0.5346 - val_loss: 1.8484 - val_accuracy: 0.5302\n",
            "Epoch 14/15\n",
            "934/934 [==============================] - 2s 2ms/step - loss: 1.8307 - accuracy: 0.5383 - val_loss: 1.8170 - val_accuracy: 0.5382\n",
            "Epoch 15/15\n",
            "934/934 [==============================] - 2s 2ms/step - loss: 1.7990 - accuracy: 0.5451 - val_loss: 1.7859 - val_accuracy: 0.5450\n"
          ],
          "name": "stdout"
        }
      ]
    },
    {
      "cell_type": "markdown",
      "metadata": {
        "id": "ptJ2b3wk62Ud"
      },
      "source": [
        "#### Regularization\n",
        "\n",
        "Using your best performing model from the previous module, apply each of the following regularization strategies: \n",
        "* Early Stopping\n",
        "* Dropout\n",
        "* Weight Decay\n",
        "* Weight Constraint\n"
      ]
    },
    {
      "cell_type": "markdown",
      "metadata": {
        "id": "AzMMBjcSjtzN"
      },
      "source": [
        "#### Early Stopping"
      ]
    },
    {
      "cell_type": "code",
      "metadata": {
        "id": "USXjs7Hk71Hy",
        "outputId": "45c614d2-cbae-402d-e9e1-8b0c2f1f9026",
        "colab": {
          "base_uri": "https://localhost:8080/",
          "height": 683
        }
      },
      "source": [
        "from tensorflow.keras.callbacks import EarlyStopping, TensorBoard\n",
        "from tensorflow.keras.layers import Flatten, Dense\n",
        "from tensorflow.keras.layers import ReLU\n",
        "import tensorflow as tf\n",
        "import os\n",
        "\n",
        "logdir = os.path.join(\"logs\", \"EarlyStopping-Loss\")\n",
        "\n",
        "tensorboard_callback = tf.keras.callbacks.TensorBoard(logdir, histogram_freq=1)\n",
        "stop = EarlyStopping(monitor='val_loss', min_delta=0.001, patience=5)\n",
        "\n",
        "model = tf.keras.Sequential([\n",
        "    Flatten(input_shape=(28,28)),\n",
        "    Dense(128),\n",
        "    ReLU(negative_slope=.01),\n",
        "    Dense(128),\n",
        "    ReLU(negative_slope=.01),\n",
        "    Dense(128),\n",
        "    ReLU(negative_slope=.01),\n",
        "    Dense(10, activation='softmax')\n",
        "])\n",
        "\n",
        "model.compile(loss='sparse_categorical_crossentropy', optimizer='nadam', metrics=['accuracy'])\n",
        "\n",
        "model.fit(X_train, y_train, epochs=99, \n",
        "          validation_data=(X_test,y_test),\n",
        "          callbacks=[tensorboard_callback, stop])"
      ],
      "execution_count": 25,
      "outputs": [
        {
          "output_type": "stream",
          "text": [
            "Epoch 1/99\n",
            "WARNING:tensorflow:Model was constructed with shape (None, 28, 28) for input Tensor(\"flatten_input:0\", shape=(None, 28, 28), dtype=float32), but it was called on an input with incompatible shape (None, 784).\n",
            "WARNING:tensorflow:Model was constructed with shape (None, 28, 28) for input Tensor(\"flatten_input:0\", shape=(None, 28, 28), dtype=float32), but it was called on an input with incompatible shape (None, 784).\n",
            "   1/2188 [..............................] - ETA: 0s - loss: 88.7144 - accuracy: 0.0312WARNING:tensorflow:From /usr/local/lib/python3.6/dist-packages/tensorflow/python/ops/summary_ops_v2.py:1277: stop (from tensorflow.python.eager.profiler) is deprecated and will be removed after 2020-07-01.\n",
            "Instructions for updating:\n",
            "use `tf.profiler.experimental.stop` instead.\n",
            "   2/2188 [..............................] - ETA: 1:03 - loss: 70.7749 - accuracy: 0.0938WARNING:tensorflow:Callbacks method `on_train_batch_end` is slow compared to the batch time (batch time: 0.0112s vs `on_train_batch_end` time: 0.0526s). Check your callbacks.\n",
            "2180/2188 [============================>.] - ETA: 0s - loss: 1.5921 - accuracy: 0.6824WARNING:tensorflow:Model was constructed with shape (None, 28, 28) for input Tensor(\"flatten_input:0\", shape=(None, 28, 28), dtype=float32), but it was called on an input with incompatible shape (None, 784).\n",
            "2188/2188 [==============================] - 11s 5ms/step - loss: 1.5900 - accuracy: 0.6826 - val_loss: 0.7793 - val_accuracy: 0.7635\n",
            "Epoch 2/99\n",
            "2188/2188 [==============================] - 11s 5ms/step - loss: 0.6951 - accuracy: 0.7884 - val_loss: 0.6747 - val_accuracy: 0.7970\n",
            "Epoch 3/99\n",
            "2188/2188 [==============================] - 11s 5ms/step - loss: 0.6111 - accuracy: 0.8132 - val_loss: 0.6519 - val_accuracy: 0.8032\n",
            "Epoch 4/99\n",
            "2188/2188 [==============================] - 11s 5ms/step - loss: 0.5611 - accuracy: 0.8298 - val_loss: 0.5791 - val_accuracy: 0.8257\n",
            "Epoch 5/99\n",
            "2188/2188 [==============================] - 11s 5ms/step - loss: 0.5211 - accuracy: 0.8432 - val_loss: 0.5630 - val_accuracy: 0.8331\n",
            "Epoch 6/99\n",
            "2188/2188 [==============================] - 11s 5ms/step - loss: 0.4852 - accuracy: 0.8539 - val_loss: 0.5324 - val_accuracy: 0.8428\n",
            "Epoch 7/99\n",
            "2188/2188 [==============================] - 11s 5ms/step - loss: 0.4577 - accuracy: 0.8609 - val_loss: 0.5321 - val_accuracy: 0.8457\n",
            "Epoch 8/99\n",
            "2188/2188 [==============================] - 11s 5ms/step - loss: 0.4363 - accuracy: 0.8683 - val_loss: 0.5308 - val_accuracy: 0.8472\n",
            "Epoch 9/99\n",
            "2188/2188 [==============================] - 13s 6ms/step - loss: 0.4135 - accuracy: 0.8747 - val_loss: 0.5427 - val_accuracy: 0.8483\n",
            "Epoch 10/99\n",
            "2188/2188 [==============================] - 14s 6ms/step - loss: 0.3967 - accuracy: 0.8805 - val_loss: 0.5269 - val_accuracy: 0.8514\n",
            "Epoch 11/99\n",
            "2188/2188 [==============================] - 11s 5ms/step - loss: 0.3725 - accuracy: 0.8857 - val_loss: 0.5305 - val_accuracy: 0.8536\n",
            "Epoch 12/99\n",
            "2188/2188 [==============================] - 11s 5ms/step - loss: 0.3797 - accuracy: 0.8904 - val_loss: 0.5733 - val_accuracy: 0.8474\n",
            "Epoch 13/99\n",
            "2188/2188 [==============================] - 11s 5ms/step - loss: 0.3461 - accuracy: 0.8965 - val_loss: 0.5496 - val_accuracy: 0.8531\n",
            "Epoch 14/99\n",
            "2188/2188 [==============================] - 11s 5ms/step - loss: 0.3296 - accuracy: 0.8992 - val_loss: 0.5665 - val_accuracy: 0.8506\n",
            "Epoch 15/99\n",
            "2188/2188 [==============================] - 11s 5ms/step - loss: 0.3114 - accuracy: 0.9038 - val_loss: 0.5789 - val_accuracy: 0.8539\n"
          ],
          "name": "stdout"
        },
        {
          "output_type": "execute_result",
          "data": {
            "text/plain": [
              "<tensorflow.python.keras.callbacks.History at 0x7f431c6f32e8>"
            ]
          },
          "metadata": {
            "tags": []
          },
          "execution_count": 25
        }
      ]
    },
    {
      "cell_type": "code",
      "metadata": {
        "id": "vcWgsLElGd7t",
        "outputId": "15f0a4d6-cef4-4933-ce34-f8afe3648b32",
        "colab": {
          "base_uri": "https://localhost:8080/",
          "height": 34
        }
      },
      "source": [
        "%tensorboard --logdir logs"
      ],
      "execution_count": 26,
      "outputs": [
        {
          "output_type": "stream",
          "text": [
            "UsageError: Line magic function `%tensorboard` not found.\n"
          ],
          "name": "stderr"
        }
      ]
    },
    {
      "cell_type": "markdown",
      "metadata": {
        "id": "kYy8ouiqHS-p"
      },
      "source": [
        "#### Dropout"
      ]
    },
    {
      "cell_type": "code",
      "metadata": {
        "id": "H1rNxiqZHVTM",
        "outputId": "00ab47d4-021a-49a8-f26a-a4ea81f6965a",
        "colab": {
          "base_uri": "https://localhost:8080/",
          "height": 564
        }
      },
      "source": [
        "from tensorflow.keras.layers import Dropout\n",
        "\n",
        "from tensorflow.keras.constraints import MaxNorm\n",
        "\n",
        "wc = MaxNorm(max_value=2)\n",
        "\n",
        "logdir = os.path.join(\"logs\", \"EarlyStopping+WeightConstraint+Dropout\")\n",
        "\n",
        "tensorboard_callback = tf.keras.callbacks.TensorBoard(logdir, histogram_freq=1)\n",
        "stop = EarlyStopping(monitor='val_loss', min_delta=0.001, patience=3)\n",
        "\n",
        "model = tf.keras.Sequential([\n",
        "    Flatten(input_shape=(28, 28)),\n",
        "    Dense(512, kernel_constraint=wc),\n",
        "    ReLU(negative_slope=.01),\n",
        "    Dropout(.2),\n",
        "    Dense(512, kernel_constraint=wc),\n",
        "    ReLU(negative_slope=.01),\n",
        "    Dropout(.2),\n",
        "    Dense(512, kernel_constraint=wc),\n",
        "    ReLU(negative_slope=.01),\n",
        "    Dropout(.2),\n",
        "    Dense(10, activation='softmax')\n",
        "])\n",
        "\n",
        "model.compile(loss='sparse_categorical_crossentropy', optimizer='nadam',\n",
        "              metrics=['accuracy'])\n",
        "\n",
        "model.fit(X_train, y_train, epochs=99, \n",
        "          validation_data=(X_test,y_test),\n",
        "          callbacks=[tensorboard_callback, stop])"
      ],
      "execution_count": 28,
      "outputs": [
        {
          "output_type": "stream",
          "text": [
            "Epoch 1/99\n",
            "WARNING:tensorflow:Model was constructed with shape (None, 28, 28) for input Tensor(\"flatten_2_input:0\", shape=(None, 28, 28), dtype=float32), but it was called on an input with incompatible shape (None, 784).\n",
            "WARNING:tensorflow:Model was constructed with shape (None, 28, 28) for input Tensor(\"flatten_2_input:0\", shape=(None, 28, 28), dtype=float32), but it was called on an input with incompatible shape (None, 784).\n",
            "   2/2188 [..............................] - ETA: 2:17 - loss: 98.7823 - accuracy: 0.1406WARNING:tensorflow:Callbacks method `on_train_batch_end` is slow compared to the batch time (batch time: 0.0309s vs `on_train_batch_end` time: 0.0942s). Check your callbacks.\n",
            "2188/2188 [==============================] - ETA: 0s - loss: 2.0093 - accuracy: 0.6748WARNING:tensorflow:Model was constructed with shape (None, 28, 28) for input Tensor(\"flatten_2_input:0\", shape=(None, 28, 28), dtype=float32), but it was called on an input with incompatible shape (None, 784).\n",
            "2188/2188 [==============================] - 53s 24ms/step - loss: 2.0093 - accuracy: 0.6748 - val_loss: 0.6757 - val_accuracy: 0.7958\n",
            "Epoch 2/99\n",
            "2188/2188 [==============================] - 57s 26ms/step - loss: 0.7383 - accuracy: 0.7803 - val_loss: 0.6112 - val_accuracy: 0.8192\n",
            "Epoch 3/99\n",
            "2188/2188 [==============================] - 53s 24ms/step - loss: 0.6768 - accuracy: 0.8012 - val_loss: 0.5640 - val_accuracy: 0.8362\n",
            "Epoch 4/99\n",
            "2188/2188 [==============================] - 53s 24ms/step - loss: 0.6456 - accuracy: 0.8112 - val_loss: 0.5626 - val_accuracy: 0.8362\n",
            "Epoch 5/99\n",
            "2188/2188 [==============================] - 53s 24ms/step - loss: 0.6261 - accuracy: 0.8192 - val_loss: 0.5539 - val_accuracy: 0.8368\n",
            "Epoch 6/99\n",
            "2188/2188 [==============================] - 53s 24ms/step - loss: 0.6212 - accuracy: 0.8231 - val_loss: 0.5631 - val_accuracy: 0.8345\n",
            "Epoch 7/99\n",
            "2188/2188 [==============================] - 53s 24ms/step - loss: 0.5983 - accuracy: 0.8269 - val_loss: 0.5704 - val_accuracy: 0.8307\n",
            "Epoch 8/99\n",
            "2188/2188 [==============================] - 55s 25ms/step - loss: 0.5896 - accuracy: 0.8313 - val_loss: 0.5287 - val_accuracy: 0.8515\n",
            "Epoch 9/99\n",
            "2188/2188 [==============================] - 52s 24ms/step - loss: 0.5867 - accuracy: 0.8334 - val_loss: 0.5216 - val_accuracy: 0.8532\n",
            "Epoch 10/99\n",
            "2188/2188 [==============================] - 53s 24ms/step - loss: 0.5636 - accuracy: 0.8372 - val_loss: 0.5043 - val_accuracy: 0.8566\n",
            "Epoch 11/99\n",
            "2188/2188 [==============================] - 53s 24ms/step - loss: 0.5647 - accuracy: 0.8364 - val_loss: 0.5868 - val_accuracy: 0.8338\n",
            "Epoch 12/99\n",
            "2188/2188 [==============================] - 53s 24ms/step - loss: 0.5582 - accuracy: 0.8389 - val_loss: 0.5494 - val_accuracy: 0.8406\n",
            "Epoch 13/99\n",
            "2188/2188 [==============================] - 54s 25ms/step - loss: 0.5658 - accuracy: 0.8373 - val_loss: 0.5136 - val_accuracy: 0.8530\n"
          ],
          "name": "stdout"
        },
        {
          "output_type": "execute_result",
          "data": {
            "text/plain": [
              "<tensorflow.python.keras.callbacks.History at 0x7f43176815f8>"
            ]
          },
          "metadata": {
            "tags": []
          },
          "execution_count": 28
        }
      ]
    },
    {
      "cell_type": "markdown",
      "metadata": {
        "id": "DfSZuYCQGmBO"
      },
      "source": [
        "#### Weight Decay aka L1/L2 regularization"
      ]
    },
    {
      "cell_type": "code",
      "metadata": {
        "id": "p0rnZCjJGnnd",
        "outputId": "cd4c3ac9-e24e-42a3-e3c3-7824f0b1529a",
        "colab": {
          "base_uri": "https://localhost:8080/",
          "height": 938
        }
      },
      "source": [
        "from tensorflow.keras import regularizers\n",
        "\n",
        "logdir = os.path.join(\"logs\", \"EarlyStopping+L2_WeightDecay\")\n",
        "\n",
        "tensorboard_callback = tf.keras.callbacks.TensorBoard(logdir, histogram_freq=1)\n",
        "stop = EarlyStopping(monitor='val_loss', min_delta=0.001, patience=5)\n",
        "\n",
        "model = tf.keras.Sequential([\n",
        "    Flatten(input_shape=(28,28)),\n",
        "    Dense(256, kernel_regularizer=regularizers.l2(0.01)),\n",
        "    ReLU(negative_slope=.01),\n",
        "    Dense(256, kernel_regularizer=regularizers.l2(0.01)),\n",
        "    ReLU(negative_slope=.01),\n",
        "    Dense(256, kernel_regularizer=regularizers.l2(0.01)),\n",
        "    ReLU(negative_slope=.01),\n",
        "    Dense(10, activation='softmax')\n",
        "])\n",
        "\n",
        "model.compile(loss='sparse_categorical_crossentropy', optimizer='nadam',\n",
        "              metrics=['accuracy'])\n",
        "\n",
        "model.fit(X_train, y_train, epochs=99, \n",
        "          validation_data=(X_test,y_test),\n",
        "          callbacks=[tensorboard_callback, stop])"
      ],
      "execution_count": 27,
      "outputs": [
        {
          "output_type": "stream",
          "text": [
            "Epoch 1/99\n",
            "WARNING:tensorflow:Model was constructed with shape (None, 28, 28) for input Tensor(\"flatten_1_input:0\", shape=(None, 28, 28), dtype=float32), but it was called on an input with incompatible shape (None, 784).\n",
            "WARNING:tensorflow:Model was constructed with shape (None, 28, 28) for input Tensor(\"flatten_1_input:0\", shape=(None, 28, 28), dtype=float32), but it was called on an input with incompatible shape (None, 784).\n",
            "   2/2188 [..............................] - ETA: 1:42 - loss: 78.6343 - accuracy: 0.1250WARNING:tensorflow:Callbacks method `on_train_batch_end` is slow compared to the batch time (batch time: 0.0153s vs `on_train_batch_end` time: 0.0777s). Check your callbacks.\n",
            "2184/2188 [============================>.] - ETA: 0s - loss: 6.2319 - accuracy: 0.7348WARNING:tensorflow:Model was constructed with shape (None, 28, 28) for input Tensor(\"flatten_1_input:0\", shape=(None, 28, 28), dtype=float32), but it was called on an input with incompatible shape (None, 784).\n",
            "2188/2188 [==============================] - 22s 10ms/step - loss: 6.2260 - accuracy: 0.7350 - val_loss: 2.6148 - val_accuracy: 0.7993\n",
            "Epoch 2/99\n",
            "2188/2188 [==============================] - 21s 10ms/step - loss: 1.5061 - accuracy: 0.8174 - val_loss: 0.9629 - val_accuracy: 0.8194\n",
            "Epoch 3/99\n",
            "2188/2188 [==============================] - 21s 10ms/step - loss: 0.8680 - accuracy: 0.8191 - val_loss: 0.8720 - val_accuracy: 0.8015\n",
            "Epoch 4/99\n",
            "2188/2188 [==============================] - 21s 10ms/step - loss: 0.8056 - accuracy: 0.8197 - val_loss: 0.8152 - val_accuracy: 0.8104\n",
            "Epoch 5/99\n",
            "2188/2188 [==============================] - 21s 10ms/step - loss: 0.7905 - accuracy: 0.8221 - val_loss: 0.8531 - val_accuracy: 0.7997\n",
            "Epoch 6/99\n",
            "2188/2188 [==============================] - 22s 10ms/step - loss: 0.7937 - accuracy: 0.8250 - val_loss: 0.8200 - val_accuracy: 0.8209\n",
            "Epoch 7/99\n",
            "2188/2188 [==============================] - 21s 10ms/step - loss: 0.7746 - accuracy: 0.8260 - val_loss: 0.8383 - val_accuracy: 0.8059\n",
            "Epoch 8/99\n",
            "2188/2188 [==============================] - 25s 12ms/step - loss: 0.7688 - accuracy: 0.8279 - val_loss: 0.7952 - val_accuracy: 0.8240\n",
            "Epoch 9/99\n",
            "2188/2188 [==============================] - 21s 10ms/step - loss: 0.7641 - accuracy: 0.8274 - val_loss: 0.7737 - val_accuracy: 0.8277\n",
            "Epoch 10/99\n",
            "2188/2188 [==============================] - 21s 10ms/step - loss: 0.7595 - accuracy: 0.8286 - val_loss: 0.7503 - val_accuracy: 0.8330\n",
            "Epoch 11/99\n",
            "2188/2188 [==============================] - 21s 10ms/step - loss: 0.7592 - accuracy: 0.8298 - val_loss: 0.7607 - val_accuracy: 0.8252\n",
            "Epoch 12/99\n",
            "2188/2188 [==============================] - 21s 10ms/step - loss: 0.7527 - accuracy: 0.8304 - val_loss: 0.7481 - val_accuracy: 0.8271\n",
            "Epoch 13/99\n",
            "2188/2188 [==============================] - 21s 9ms/step - loss: 0.7494 - accuracy: 0.8308 - val_loss: 0.7604 - val_accuracy: 0.8278\n",
            "Epoch 14/99\n",
            "2188/2188 [==============================] - 21s 10ms/step - loss: 0.7440 - accuracy: 0.8294 - val_loss: 0.7560 - val_accuracy: 0.8282\n",
            "Epoch 15/99\n",
            "2188/2188 [==============================] - 21s 10ms/step - loss: 0.7384 - accuracy: 0.8294 - val_loss: 0.7485 - val_accuracy: 0.8220\n",
            "Epoch 16/99\n",
            "2188/2188 [==============================] - 21s 10ms/step - loss: 0.7417 - accuracy: 0.8297 - val_loss: 0.7184 - val_accuracy: 0.8313\n",
            "Epoch 17/99\n",
            "2188/2188 [==============================] - 21s 10ms/step - loss: 0.7326 - accuracy: 0.8316 - val_loss: 0.7609 - val_accuracy: 0.8263\n",
            "Epoch 18/99\n",
            "2188/2188 [==============================] - 21s 10ms/step - loss: 0.7360 - accuracy: 0.8306 - val_loss: 0.7500 - val_accuracy: 0.8207\n",
            "Epoch 19/99\n",
            "2188/2188 [==============================] - 21s 10ms/step - loss: 0.7373 - accuracy: 0.8306 - val_loss: 0.7072 - val_accuracy: 0.8349\n",
            "Epoch 20/99\n",
            "2188/2188 [==============================] - 21s 10ms/step - loss: 0.7314 - accuracy: 0.8304 - val_loss: 0.7494 - val_accuracy: 0.8218\n",
            "Epoch 21/99\n",
            "2188/2188 [==============================] - 21s 10ms/step - loss: 0.7280 - accuracy: 0.8308 - val_loss: 0.7614 - val_accuracy: 0.8191\n",
            "Epoch 22/99\n",
            "2188/2188 [==============================] - 21s 10ms/step - loss: 0.7265 - accuracy: 0.8312 - val_loss: 0.7378 - val_accuracy: 0.8205\n",
            "Epoch 23/99\n",
            "2188/2188 [==============================] - 23s 10ms/step - loss: 0.7298 - accuracy: 0.8304 - val_loss: 0.7149 - val_accuracy: 0.8324\n",
            "Epoch 24/99\n",
            "2188/2188 [==============================] - 21s 9ms/step - loss: 0.7241 - accuracy: 0.8315 - val_loss: 0.7595 - val_accuracy: 0.8227\n"
          ],
          "name": "stdout"
        },
        {
          "output_type": "execute_result",
          "data": {
            "text/plain": [
              "<tensorflow.python.keras.callbacks.History at 0x7f431b8f0e48>"
            ]
          },
          "metadata": {
            "tags": []
          },
          "execution_count": 27
        }
      ]
    },
    {
      "cell_type": "markdown",
      "metadata": {
        "id": "EL-MBGk8HlPW"
      },
      "source": [
        "#### Weight Constraint"
      ]
    },
    {
      "cell_type": "code",
      "metadata": {
        "id": "vAiG2KHlHm5p",
        "outputId": "147a7ce2-89b2-42cf-f25d-ffa1280969fb",
        "colab": {
          "base_uri": "https://localhost:8080/",
          "height": 547
        }
      },
      "source": [
        "from tensorflow.keras.constraints import MaxNorm\n",
        "\n",
        "wc = MaxNorm(max_value=2)\n",
        "\n",
        "stop = EarlyStopping(monitor='val_loss', min_delta=0.001, patience=3)\n",
        "\n",
        "model = tf.keras.Sequential([\n",
        "    Flatten(input_shape=(28,28)),\n",
        "    Dense(256, kernel_constraint=wc),\n",
        "    ReLU(negative_slope=.01),\n",
        "    Dense(256, kernel_constraint=wc),\n",
        "    ReLU(negative_slope=.01),\n",
        "    Dense(256, kernel_constraint=wc),\n",
        "    ReLU(negative_slope=.01),\n",
        "    Dense(10, activation='softmax')\n",
        "])\n",
        "\n",
        "model.compile(loss='sparse_categorical_crossentropy', optimizer='nadam',\n",
        "              metrics=['accuracy'])\n",
        "\n",
        "model.fit(X_train, y_train, epochs=99,\n",
        "          validation_data=(X_test, y_test),\n",
        "          callbacks=[stop])"
      ],
      "execution_count": 29,
      "outputs": [
        {
          "output_type": "stream",
          "text": [
            "Epoch 1/99\n",
            "WARNING:tensorflow:Model was constructed with shape (None, 28, 28) for input Tensor(\"flatten_3_input:0\", shape=(None, 28, 28), dtype=float32), but it was called on an input with incompatible shape (None, 784).\n",
            "WARNING:tensorflow:Model was constructed with shape (None, 28, 28) for input Tensor(\"flatten_3_input:0\", shape=(None, 28, 28), dtype=float32), but it was called on an input with incompatible shape (None, 784).\n",
            "2187/2188 [============================>.] - ETA: 0s - loss: 1.5791 - accuracy: 0.7250WARNING:tensorflow:Model was constructed with shape (None, 28, 28) for input Tensor(\"flatten_3_input:0\", shape=(None, 28, 28), dtype=float32), but it was called on an input with incompatible shape (None, 784).\n",
            "2188/2188 [==============================] - 24s 11ms/step - loss: 1.5789 - accuracy: 0.7250 - val_loss: 0.7129 - val_accuracy: 0.7825\n",
            "Epoch 2/99\n",
            "2188/2188 [==============================] - 21s 10ms/step - loss: 0.6070 - accuracy: 0.8161 - val_loss: 0.6233 - val_accuracy: 0.8109\n",
            "Epoch 3/99\n",
            "2188/2188 [==============================] - 20s 9ms/step - loss: 0.5370 - accuracy: 0.8375 - val_loss: 0.5595 - val_accuracy: 0.8328\n",
            "Epoch 4/99\n",
            "2188/2188 [==============================] - 20s 9ms/step - loss: 0.4970 - accuracy: 0.8514 - val_loss: 0.5172 - val_accuracy: 0.8443\n",
            "Epoch 5/99\n",
            "2188/2188 [==============================] - 20s 9ms/step - loss: 0.4614 - accuracy: 0.8621 - val_loss: 0.5356 - val_accuracy: 0.8483\n",
            "Epoch 6/99\n",
            "2188/2188 [==============================] - 19s 9ms/step - loss: 0.4333 - accuracy: 0.8695 - val_loss: 0.5379 - val_accuracy: 0.8417\n",
            "Epoch 7/99\n",
            "2188/2188 [==============================] - 19s 9ms/step - loss: 0.4100 - accuracy: 0.8767 - val_loss: 0.5108 - val_accuracy: 0.8467\n",
            "Epoch 8/99\n",
            "2188/2188 [==============================] - 20s 9ms/step - loss: 0.4021 - accuracy: 0.8811 - val_loss: 0.5149 - val_accuracy: 0.8517\n",
            "Epoch 9/99\n",
            "2188/2188 [==============================] - 20s 9ms/step - loss: 0.3776 - accuracy: 0.8860 - val_loss: 0.5573 - val_accuracy: 0.8534\n",
            "Epoch 10/99\n",
            "2188/2188 [==============================] - 20s 9ms/step - loss: 0.3740 - accuracy: 0.8881 - val_loss: 0.4929 - val_accuracy: 0.8642\n",
            "Epoch 11/99\n",
            "2188/2188 [==============================] - 20s 9ms/step - loss: 0.3715 - accuracy: 0.8916 - val_loss: 0.5221 - val_accuracy: 0.8597\n",
            "Epoch 12/99\n",
            "2188/2188 [==============================] - 20s 9ms/step - loss: 0.3503 - accuracy: 0.8947 - val_loss: 0.5399 - val_accuracy: 0.8539\n",
            "Epoch 13/99\n",
            "2188/2188 [==============================] - 20s 9ms/step - loss: 0.3502 - accuracy: 0.8944 - val_loss: 0.5978 - val_accuracy: 0.8517\n"
          ],
          "name": "stdout"
        },
        {
          "output_type": "execute_result",
          "data": {
            "text/plain": [
              "<tensorflow.python.keras.callbacks.History at 0x7f431740d630>"
            ]
          },
          "metadata": {
            "tags": []
          },
          "execution_count": 29
        }
      ]
    },
    {
      "cell_type": "markdown",
      "metadata": {
        "id": "kz6X_7t9H1pU"
      },
      "source": [
        "#### Model Summary"
      ]
    },
    {
      "cell_type": "code",
      "metadata": {
        "id": "gUZktVjaH2xG",
        "outputId": "0ba84398-5010-4a2b-c5f3-2cb854cedb1c",
        "colab": {
          "base_uri": "https://localhost:8080/",
          "height": 425
        }
      },
      "source": [
        "model.summary()"
      ],
      "execution_count": 30,
      "outputs": [
        {
          "output_type": "stream",
          "text": [
            "Model: \"sequential_10\"\n",
            "_________________________________________________________________\n",
            "Layer (type)                 Output Shape              Param #   \n",
            "=================================================================\n",
            "flatten_3 (Flatten)          (None, 784)               0         \n",
            "_________________________________________________________________\n",
            "dense_33 (Dense)             (None, 256)               200960    \n",
            "_________________________________________________________________\n",
            "re_lu_9 (ReLU)               (None, 256)               0         \n",
            "_________________________________________________________________\n",
            "dense_34 (Dense)             (None, 256)               65792     \n",
            "_________________________________________________________________\n",
            "re_lu_10 (ReLU)              (None, 256)               0         \n",
            "_________________________________________________________________\n",
            "dense_35 (Dense)             (None, 256)               65792     \n",
            "_________________________________________________________________\n",
            "re_lu_11 (ReLU)              (None, 256)               0         \n",
            "_________________________________________________________________\n",
            "dense_36 (Dense)             (None, 10)                2570      \n",
            "=================================================================\n",
            "Total params: 335,114\n",
            "Trainable params: 335,114\n",
            "Non-trainable params: 0\n",
            "_________________________________________________________________\n"
          ],
          "name": "stdout"
        }
      ]
    },
    {
      "cell_type": "markdown",
      "metadata": {
        "id": "pScpa3nRRxCN"
      },
      "source": [
        "## Deploy\n",
        "\n",
        "Save your model's weights using the Checkpoint function. Try reloading the model and making inference on your validation dataset."
      ]
    },
    {
      "cell_type": "code",
      "metadata": {
        "id": "3cqpHQt_SIbW",
        "outputId": "020f06a3-25d1-4d48-d731-56e1825296a8",
        "colab": {
          "base_uri": "https://localhost:8080/",
          "height": 717
        }
      },
      "source": [
        "import tensorflow as tf\n",
        "\n",
        "# Save the latest (best) weights of your model at the end of each epoch\n",
        "cpoint = tf.keras.callbacks.ModelCheckpoint(\"weights_best.h5\",\n",
        "                                            verbose=1,\n",
        "                                            save_weights_only=True)\n",
        "stop = EarlyStopping(monitor='val_loss', min_delta=0.001, patience=3)\n",
        "\n",
        "def create_model():\n",
        "  model = tf.keras.Sequential([\n",
        "      Flatten(input_shape=(28, 28)),\n",
        "      Dense(128),\n",
        "      ReLU(negative_slope=.01),\n",
        "      Dense(128),\n",
        "      ReLU(negative_slope=.01),\n",
        "      Dense(128),\n",
        "      ReLU(negative_slope=.01),\n",
        "      Dense(10, activation='softmax')\n",
        "  ])\n",
        "\n",
        "  model.compile(loss='sparse_categorical_crossentropy', optimizer='nadam',\n",
        "                metrics=['accuracy'])\n",
        "\n",
        "  return model\n",
        "\n",
        "\n",
        "model = create_model()\n",
        "model.fit(X_train, y_train, epochs=10,\n",
        "          validation_data=(X_test, y_test),\n",
        "          verbose=2,\n",
        "          callbacks=[cpoint, stop])"
      ],
      "execution_count": 31,
      "outputs": [
        {
          "output_type": "stream",
          "text": [
            "Epoch 1/10\n",
            "WARNING:tensorflow:Model was constructed with shape (None, 28, 28) for input Tensor(\"flatten_4_input:0\", shape=(None, 28, 28), dtype=float32), but it was called on an input with incompatible shape (None, 784).\n",
            "WARNING:tensorflow:Model was constructed with shape (None, 28, 28) for input Tensor(\"flatten_4_input:0\", shape=(None, 28, 28), dtype=float32), but it was called on an input with incompatible shape (None, 784).\n",
            "WARNING:tensorflow:Model was constructed with shape (None, 28, 28) for input Tensor(\"flatten_4_input:0\", shape=(None, 28, 28), dtype=float32), but it was called on an input with incompatible shape (None, 784).\n",
            "\n",
            "Epoch 00001: saving model to weights_best.h5\n",
            "2188/2188 - 9s - loss: 1.6751 - accuracy: 0.6937 - val_loss: 0.7868 - val_accuracy: 0.7580\n",
            "Epoch 2/10\n",
            "\n",
            "Epoch 00002: saving model to weights_best.h5\n",
            "2188/2188 - 9s - loss: 0.6623 - accuracy: 0.7983 - val_loss: 0.6478 - val_accuracy: 0.8000\n",
            "Epoch 3/10\n",
            "\n",
            "Epoch 00003: saving model to weights_best.h5\n",
            "2188/2188 - 9s - loss: 0.5844 - accuracy: 0.8237 - val_loss: 0.5913 - val_accuracy: 0.8234\n",
            "Epoch 4/10\n",
            "\n",
            "Epoch 00004: saving model to weights_best.h5\n",
            "2188/2188 - 9s - loss: 0.5331 - accuracy: 0.8378 - val_loss: 0.5464 - val_accuracy: 0.8357\n",
            "Epoch 5/10\n",
            "\n",
            "Epoch 00005: saving model to weights_best.h5\n",
            "2188/2188 - 9s - loss: 0.5001 - accuracy: 0.8486 - val_loss: 0.5391 - val_accuracy: 0.8377\n",
            "Epoch 6/10\n",
            "\n",
            "Epoch 00006: saving model to weights_best.h5\n",
            "2188/2188 - 9s - loss: 0.4631 - accuracy: 0.8607 - val_loss: 0.5116 - val_accuracy: 0.8482\n",
            "Epoch 7/10\n",
            "\n",
            "Epoch 00007: saving model to weights_best.h5\n",
            "2188/2188 - 9s - loss: 0.4362 - accuracy: 0.8690 - val_loss: 0.5339 - val_accuracy: 0.8471\n",
            "Epoch 8/10\n",
            "\n",
            "Epoch 00008: saving model to weights_best.h5\n",
            "2188/2188 - 9s - loss: 0.4112 - accuracy: 0.8747 - val_loss: 0.5306 - val_accuracy: 0.8464\n",
            "Epoch 9/10\n",
            "\n",
            "Epoch 00009: saving model to weights_best.h5\n",
            "2188/2188 - 9s - loss: 0.3871 - accuracy: 0.8832 - val_loss: 0.5226 - val_accuracy: 0.8450\n"
          ],
          "name": "stdout"
        },
        {
          "output_type": "execute_result",
          "data": {
            "text/plain": [
              "<tensorflow.python.keras.callbacks.History at 0x7f431716d828>"
            ]
          },
          "metadata": {
            "tags": []
          },
          "execution_count": 31
        }
      ]
    },
    {
      "cell_type": "code",
      "metadata": {
        "id": "K0LmetAYH8yE",
        "outputId": "627ed2d6-e97e-40fc-8dbb-e711663bcbac",
        "colab": {
          "base_uri": "https://localhost:8080/",
          "height": 425
        }
      },
      "source": [
        "model.summary()"
      ],
      "execution_count": 32,
      "outputs": [
        {
          "output_type": "stream",
          "text": [
            "Model: \"sequential_11\"\n",
            "_________________________________________________________________\n",
            "Layer (type)                 Output Shape              Param #   \n",
            "=================================================================\n",
            "flatten_4 (Flatten)          (None, 784)               0         \n",
            "_________________________________________________________________\n",
            "dense_37 (Dense)             (None, 128)               100480    \n",
            "_________________________________________________________________\n",
            "re_lu_12 (ReLU)              (None, 128)               0         \n",
            "_________________________________________________________________\n",
            "dense_38 (Dense)             (None, 128)               16512     \n",
            "_________________________________________________________________\n",
            "re_lu_13 (ReLU)              (None, 128)               0         \n",
            "_________________________________________________________________\n",
            "dense_39 (Dense)             (None, 128)               16512     \n",
            "_________________________________________________________________\n",
            "re_lu_14 (ReLU)              (None, 128)               0         \n",
            "_________________________________________________________________\n",
            "dense_40 (Dense)             (None, 10)                1290      \n",
            "=================================================================\n",
            "Total params: 134,794\n",
            "Trainable params: 134,794\n",
            "Non-trainable params: 0\n",
            "_________________________________________________________________\n"
          ],
          "name": "stdout"
        }
      ]
    },
    {
      "cell_type": "code",
      "metadata": {
        "id": "4JvW9n5LIAk-",
        "outputId": "5935606c-0262-478f-86b0-054c390bc1ed",
        "colab": {
          "base_uri": "https://localhost:8080/",
          "height": 51
        }
      },
      "source": [
        "model.evaluate(X_test, y_test)  # Model val metrics after full training"
      ],
      "execution_count": 33,
      "outputs": [
        {
          "output_type": "stream",
          "text": [
            "938/938 [==============================] - 1s 1ms/step - loss: 0.5226 - accuracy: 0.8450\n"
          ],
          "name": "stdout"
        },
        {
          "output_type": "execute_result",
          "data": {
            "text/plain": [
              "[0.5226046442985535, 0.8450333476066589]"
            ]
          },
          "metadata": {
            "tags": []
          },
          "execution_count": 33
        }
      ]
    },
    {
      "cell_type": "markdown",
      "metadata": {
        "id": "2V5OxyMmIC33"
      },
      "source": [
        "#### Save / Export your Model"
      ]
    },
    {
      "cell_type": "code",
      "metadata": {
        "id": "rh10zNl9IKHB",
        "outputId": "113d3699-8255-44f3-89e2-0586b9941fa1",
        "colab": {
          "base_uri": "https://localhost:8080/",
          "height": 425
        }
      },
      "source": [
        "model = create_model()  # Recreate basic model architecture (and compiling)\n",
        "# But we've not trained it, and that's the expensive step\n",
        "# Instead let's just load the best weights from last time\n",
        "model.load_weights('weights_best.h5')\n",
        "model.summary()"
      ],
      "execution_count": 35,
      "outputs": [
        {
          "output_type": "stream",
          "text": [
            "Model: \"sequential_12\"\n",
            "_________________________________________________________________\n",
            "Layer (type)                 Output Shape              Param #   \n",
            "=================================================================\n",
            "flatten_5 (Flatten)          (None, 784)               0         \n",
            "_________________________________________________________________\n",
            "dense_41 (Dense)             (None, 128)               100480    \n",
            "_________________________________________________________________\n",
            "re_lu_15 (ReLU)              (None, 128)               0         \n",
            "_________________________________________________________________\n",
            "dense_42 (Dense)             (None, 128)               16512     \n",
            "_________________________________________________________________\n",
            "re_lu_16 (ReLU)              (None, 128)               0         \n",
            "_________________________________________________________________\n",
            "dense_43 (Dense)             (None, 128)               16512     \n",
            "_________________________________________________________________\n",
            "re_lu_17 (ReLU)              (None, 128)               0         \n",
            "_________________________________________________________________\n",
            "dense_44 (Dense)             (None, 10)                1290      \n",
            "=================================================================\n",
            "Total params: 134,794\n",
            "Trainable params: 134,794\n",
            "Non-trainable params: 0\n",
            "_________________________________________________________________\n"
          ],
          "name": "stdout"
        }
      ]
    },
    {
      "cell_type": "code",
      "metadata": {
        "id": "IUIOaDZdIMxj",
        "outputId": "324853c7-a0f9-4925-c44e-5caa788ed66f",
        "colab": {
          "base_uri": "https://localhost:8080/",
          "height": 105
        }
      },
      "source": [
        "model.evaluate(X_test, y_test)  # Model val metrics after full training"
      ],
      "execution_count": 36,
      "outputs": [
        {
          "output_type": "stream",
          "text": [
            "WARNING:tensorflow:Model was constructed with shape (None, 28, 28) for input Tensor(\"flatten_5_input:0\", shape=(None, 28, 28), dtype=float32), but it was called on an input with incompatible shape (None, 784).\n",
            "WARNING:tensorflow:Model was constructed with shape (None, 28, 28) for input Tensor(\"flatten_5_input:0\", shape=(None, 28, 28), dtype=float32), but it was called on an input with incompatible shape (None, 784).\n",
            "938/938 [==============================] - 1s 1ms/step - loss: 0.5226 - accuracy: 0.8450\n"
          ],
          "name": "stdout"
        },
        {
          "output_type": "execute_result",
          "data": {
            "text/plain": [
              "[0.5226046442985535, 0.8450333476066589]"
            ]
          },
          "metadata": {
            "tags": []
          },
          "execution_count": 36
        }
      ]
    },
    {
      "cell_type": "code",
      "metadata": {
        "id": "Bm2U1Z_MIOpZ",
        "outputId": "d2f3ec63-25c4-4359-ceb1-e905f4ba3947",
        "colab": {
          "base_uri": "https://localhost:8080/",
          "height": 34
        }
      },
      "source": [
        "model.predict"
      ],
      "execution_count": 37,
      "outputs": [
        {
          "output_type": "execute_result",
          "data": {
            "text/plain": [
              "<bound method Model.predict of <tensorflow.python.keras.engine.sequential.Sequential object at 0x7f431b8da5f8>>"
            ]
          },
          "metadata": {
            "tags": []
          },
          "execution_count": 37
        }
      ]
    },
    {
      "cell_type": "code",
      "metadata": {
        "id": "y6Xrz29xISsu",
        "outputId": "29478eed-d603-452f-9d45-b5d1feb2943e",
        "colab": {
          "base_uri": "https://localhost:8080/",
          "height": 360
        }
      },
      "source": [
        "# We can also save the entire model, not just weights\n",
        "# That way we don't need to create_model() function\n",
        "# Note - this saves architecture, but seems to lose some .compile details\n",
        "# i.e. you might still need to recompile to know which metrics to use, etc.\n",
        "\n",
        "# Create and train a new model instance.\n",
        "model = create_model()\n",
        "model.fit(X_train, y_train, epochs=5)\n",
        "\n",
        "# Save the entire model as a SavedModel. *Not* a callback, just save at the end.\n",
        "!mkdir -p saved_model\n",
        "model.save('saved_model/my_model')"
      ],
      "execution_count": 38,
      "outputs": [
        {
          "output_type": "stream",
          "text": [
            "Epoch 1/5\n",
            "WARNING:tensorflow:Model was constructed with shape (None, 28, 28) for input Tensor(\"flatten_6_input:0\", shape=(None, 28, 28), dtype=float32), but it was called on an input with incompatible shape (None, 784).\n",
            "WARNING:tensorflow:Model was constructed with shape (None, 28, 28) for input Tensor(\"flatten_6_input:0\", shape=(None, 28, 28), dtype=float32), but it was called on an input with incompatible shape (None, 784).\n",
            "2188/2188 [==============================] - 9s 4ms/step - loss: 1.7216 - accuracy: 0.6839\n",
            "Epoch 2/5\n",
            "2188/2188 [==============================] - 9s 4ms/step - loss: 0.6988 - accuracy: 0.7861\n",
            "Epoch 3/5\n",
            "2188/2188 [==============================] - 9s 4ms/step - loss: 0.6095 - accuracy: 0.8145\n",
            "Epoch 4/5\n",
            "2188/2188 [==============================] - 10s 5ms/step - loss: 0.5572 - accuracy: 0.8304\n",
            "Epoch 5/5\n",
            "2188/2188 [==============================] - 9s 4ms/step - loss: 0.5200 - accuracy: 0.8432\n",
            "WARNING:tensorflow:From /usr/local/lib/python3.6/dist-packages/tensorflow/python/training/tracking/tracking.py:111: Model.state_updates (from tensorflow.python.keras.engine.training) is deprecated and will be removed in a future version.\n",
            "Instructions for updating:\n",
            "This property should not be used in TensorFlow 2.0, as updates are applied automatically.\n",
            "WARNING:tensorflow:From /usr/local/lib/python3.6/dist-packages/tensorflow/python/training/tracking/tracking.py:111: Layer.updates (from tensorflow.python.keras.engine.base_layer) is deprecated and will be removed in a future version.\n",
            "Instructions for updating:\n",
            "This property should not be used in TensorFlow 2.0, as updates are applied automatically.\n",
            "INFO:tensorflow:Assets written to: saved_model/my_model/assets\n"
          ],
          "name": "stdout"
        }
      ]
    },
    {
      "cell_type": "code",
      "metadata": {
        "id": "T1jULRiSIXP-",
        "outputId": "cca7d77f-7dee-4b91-d63b-663e35800c2f",
        "colab": {
          "base_uri": "https://localhost:8080/",
          "height": 425
        }
      },
      "source": [
        "model.summary()  # Model as trained"
      ],
      "execution_count": 39,
      "outputs": [
        {
          "output_type": "stream",
          "text": [
            "Model: \"sequential_13\"\n",
            "_________________________________________________________________\n",
            "Layer (type)                 Output Shape              Param #   \n",
            "=================================================================\n",
            "flatten_6 (Flatten)          (None, 784)               0         \n",
            "_________________________________________________________________\n",
            "dense_45 (Dense)             (None, 128)               100480    \n",
            "_________________________________________________________________\n",
            "re_lu_18 (ReLU)              (None, 128)               0         \n",
            "_________________________________________________________________\n",
            "dense_46 (Dense)             (None, 128)               16512     \n",
            "_________________________________________________________________\n",
            "re_lu_19 (ReLU)              (None, 128)               0         \n",
            "_________________________________________________________________\n",
            "dense_47 (Dense)             (None, 128)               16512     \n",
            "_________________________________________________________________\n",
            "re_lu_20 (ReLU)              (None, 128)               0         \n",
            "_________________________________________________________________\n",
            "dense_48 (Dense)             (None, 10)                1290      \n",
            "=================================================================\n",
            "Total params: 134,794\n",
            "Trainable params: 134,794\n",
            "Non-trainable params: 0\n",
            "_________________________________________________________________\n"
          ],
          "name": "stdout"
        }
      ]
    },
    {
      "cell_type": "code",
      "metadata": {
        "id": "BOS2G2q6IZz6",
        "outputId": "a4c54187-c5d8-4256-9258-2b0ad2aba9ff",
        "colab": {
          "base_uri": "https://localhost:8080/",
          "height": 425
        }
      },
      "source": [
        "new_model = tf.keras.models.load_model('saved_model/my_model')\n",
        "\n",
        "# Check its architecture\n",
        "new_model.summary()"
      ],
      "execution_count": 40,
      "outputs": [
        {
          "output_type": "stream",
          "text": [
            "Model: \"sequential_13\"\n",
            "_________________________________________________________________\n",
            "Layer (type)                 Output Shape              Param #   \n",
            "=================================================================\n",
            "flatten_6 (Flatten)          (None, 784)               0         \n",
            "_________________________________________________________________\n",
            "dense_45 (Dense)             (None, 128)               100480    \n",
            "_________________________________________________________________\n",
            "re_lu_18 (ReLU)              (None, 128)               0         \n",
            "_________________________________________________________________\n",
            "dense_46 (Dense)             (None, 128)               16512     \n",
            "_________________________________________________________________\n",
            "re_lu_19 (ReLU)              (None, 128)               0         \n",
            "_________________________________________________________________\n",
            "dense_47 (Dense)             (None, 128)               16512     \n",
            "_________________________________________________________________\n",
            "re_lu_20 (ReLU)              (None, 128)               0         \n",
            "_________________________________________________________________\n",
            "dense_48 (Dense)             (None, 10)                1290      \n",
            "=================================================================\n",
            "Total params: 134,794\n",
            "Trainable params: 134,794\n",
            "Non-trainable params: 0\n",
            "_________________________________________________________________\n"
          ],
          "name": "stdout"
        }
      ]
    },
    {
      "cell_type": "code",
      "metadata": {
        "id": "2eSFO0cVIZ71",
        "outputId": "09858c7d-1d29-4d2e-af8a-8a4c55618174",
        "colab": {
          "base_uri": "https://localhost:8080/",
          "height": 88
        }
      },
      "source": [
        "model.evaluate(X_test, y_test)  # Trained model"
      ],
      "execution_count": 41,
      "outputs": [
        {
          "output_type": "stream",
          "text": [
            "WARNING:tensorflow:Model was constructed with shape (None, 28, 28) for input Tensor(\"flatten_6_input:0\", shape=(None, 28, 28), dtype=float32), but it was called on an input with incompatible shape (None, 784).\n",
            "938/938 [==============================] - 1s 1ms/step - loss: 0.5914 - accuracy: 0.8253\n"
          ],
          "name": "stdout"
        },
        {
          "output_type": "execute_result",
          "data": {
            "text/plain": [
              "[0.5913529396057129, 0.8252666592597961]"
            ]
          },
          "metadata": {
            "tags": []
          },
          "execution_count": 41
        }
      ]
    },
    {
      "cell_type": "code",
      "metadata": {
        "id": "SyoaMOo-IZys",
        "outputId": "eca2dd84-ec77-444f-9bda-db5fbbe3420c",
        "colab": {
          "base_uri": "https://localhost:8080/",
          "height": 88
        }
      },
      "source": [
        "new_model.evaluate(X_test, y_test)  # Saved/loaded model"
      ],
      "execution_count": 42,
      "outputs": [
        {
          "output_type": "stream",
          "text": [
            "WARNING:tensorflow:Model was constructed with shape (None, 28, 28) for input Tensor(\"flatten_6_input_1:0\", shape=(None, 28, 28), dtype=float32), but it was called on an input with incompatible shape (None, 784).\n",
            "938/938 [==============================] - 1s 1ms/step - loss: 0.5914 - accuracy: 0.0954\n"
          ],
          "name": "stdout"
        },
        {
          "output_type": "execute_result",
          "data": {
            "text/plain": [
              "[0.5913529396057129, 0.09543333202600479]"
            ]
          },
          "metadata": {
            "tags": []
          },
          "execution_count": 42
        }
      ]
    },
    {
      "cell_type": "code",
      "metadata": {
        "id": "pef0mRkzIenS",
        "outputId": "27a66a1b-88c6-4c62-8939-0df61dbde058",
        "colab": {
          "base_uri": "https://localhost:8080/",
          "height": 105
        }
      },
      "source": [
        "# Why is second number different? Because that metric is specified w/.compile!\n",
        "new_model.compile(loss='sparse_categorical_crossentropy', optimizer='nadam',\n",
        "                  metrics=['accuracy'])\n",
        "new_model.evaluate(X_test, y_test)"
      ],
      "execution_count": 43,
      "outputs": [
        {
          "output_type": "stream",
          "text": [
            "WARNING:tensorflow:Model was constructed with shape (None, 28, 28) for input Tensor(\"flatten_6_input_1:0\", shape=(None, 28, 28), dtype=float32), but it was called on an input with incompatible shape (None, 784).\n",
            "WARNING:tensorflow:Model was constructed with shape (None, 28, 28) for input Tensor(\"flatten_6_input_1:0\", shape=(None, 28, 28), dtype=float32), but it was called on an input with incompatible shape (None, 784).\n",
            "938/938 [==============================] - 1s 1ms/step - loss: 0.5914 - accuracy: 0.8253\n"
          ],
          "name": "stdout"
        },
        {
          "output_type": "execute_result",
          "data": {
            "text/plain": [
              "[0.5913529396057129, 0.8252666592597961]"
            ]
          },
          "metadata": {
            "tags": []
          },
          "execution_count": 43
        }
      ]
    },
    {
      "cell_type": "markdown",
      "metadata": {
        "id": "LKbr1gRg9BXs"
      },
      "source": [
        "### Stretch Goals\n",
        "- Mount your Google Drive to Colab to persist your model checkpoint files. \n",
        "- Research L2 normalization (weight decay)\n",
        "- Write a custom callback function to stop training after you reach .88 validation accuracy. \n",
        "- Select a new dataset and apply a neural network to it.\n",
        "- Research TensorFlow Serving\n",
        "- Play [QuickDraw](https://quickdraw.withgoogle.com/data)\n",
        "- Create a static webpage using TensorFlow.js to serve a model. Check out [Teachable Machine Learning](https://teachablemachine.withgoogle.com/) for ideas. "
      ]
    }
  ]
}